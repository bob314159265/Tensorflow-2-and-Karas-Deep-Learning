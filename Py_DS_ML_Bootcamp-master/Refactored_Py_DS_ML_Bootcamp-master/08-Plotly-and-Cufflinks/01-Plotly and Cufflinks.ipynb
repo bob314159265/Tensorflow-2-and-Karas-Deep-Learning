{
 "cells": [
  {
   "cell_type": "markdown",
   "metadata": {},
   "source": [
    "___\n",
    "\n",
    "<a href='http://www.pieriandata.com'> <img src='../Pierian_Data_Logo.png' /></a>\n",
    "___\n",
    "# Plotly and Cufflinks"
   ]
  },
  {
   "cell_type": "markdown",
   "metadata": {},
   "source": [
    "Plotly is a library that allows you to create interactive plots that you can use in dashboards or websites (you can save them as html files or static images).\n",
    "\n",
    "## Installation\n",
    "\n",
    "In order for this all to work, you'll need to install plotly and cufflinks to call plots directly off of a pandas dataframe. These libraries are not currently available through **conda** but are available through **pip**. Install the libraries at your command line/terminal using:\n",
    "\n",
    "    pip install plotly\n",
    "    pip install cufflinks\n",
    "\n",
    "** NOTE: Make sure you only have one installation of Python on your computer when you do this, otherwise the installation may not work. **\n",
    "\n",
    "## Imports and Set-up"
   ]
  },
  {
   "cell_type": "code",
   "execution_count": 1,
   "metadata": {},
   "outputs": [],
   "source": [
    "import pandas as pd\n",
    "import numpy as np\n",
    "%matplotlib inline"
   ]
  },
  {
   "cell_type": "code",
   "execution_count": 2,
   "metadata": {},
   "outputs": [
    {
     "name": "stdout",
     "output_type": "stream",
     "text": [
      "5.9.0\n"
     ]
    }
   ],
   "source": [
    "from plotly import __version__\n",
    "from plotly.offline import download_plotlyjs, init_notebook_mode, plot, iplot\n",
    "\n",
    "print(__version__) # requires version >= 1.9.0"
   ]
  },
  {
   "cell_type": "code",
   "execution_count": 3,
   "metadata": {},
   "outputs": [],
   "source": [
    "import cufflinks as cf"
   ]
  },
  {
   "cell_type": "code",
   "execution_count": 4,
   "metadata": {},
   "outputs": [
    {
     "data": {
      "text/html": [
       "        <script type=\"text/javascript\">\n",
       "        window.PlotlyConfig = {MathJaxConfig: 'local'};\n",
       "        if (window.MathJax && window.MathJax.Hub && window.MathJax.Hub.Config) {window.MathJax.Hub.Config({SVG: {font: \"STIX-Web\"}});}\n",
       "        if (typeof require !== 'undefined') {\n",
       "        require.undef(\"plotly\");\n",
       "        requirejs.config({\n",
       "            paths: {\n",
       "                'plotly': ['https://cdn.plot.ly/plotly-2.12.1.min']\n",
       "            }\n",
       "        });\n",
       "        require(['plotly'], function(Plotly) {\n",
       "            window._Plotly = Plotly;\n",
       "        });\n",
       "        }\n",
       "        </script>\n",
       "        "
      ]
     },
     "metadata": {},
     "output_type": "display_data"
    }
   ],
   "source": [
    "# For Notebooks\n",
    "init_notebook_mode(connected=True)"
   ]
  },
  {
   "cell_type": "code",
   "execution_count": 5,
   "metadata": {},
   "outputs": [
    {
     "data": {
      "text/html": [
       "        <script type=\"text/javascript\">\n",
       "        window.PlotlyConfig = {MathJaxConfig: 'local'};\n",
       "        if (window.MathJax && window.MathJax.Hub && window.MathJax.Hub.Config) {window.MathJax.Hub.Config({SVG: {font: \"STIX-Web\"}});}\n",
       "        if (typeof require !== 'undefined') {\n",
       "        require.undef(\"plotly\");\n",
       "        requirejs.config({\n",
       "            paths: {\n",
       "                'plotly': ['https://cdn.plot.ly/plotly-2.12.1.min']\n",
       "            }\n",
       "        });\n",
       "        require(['plotly'], function(Plotly) {\n",
       "            window._Plotly = Plotly;\n",
       "        });\n",
       "        }\n",
       "        </script>\n",
       "        "
      ]
     },
     "metadata": {},
     "output_type": "display_data"
    }
   ],
   "source": [
    "# For offline use\n",
    "cf.go_offline()"
   ]
  },
  {
   "cell_type": "markdown",
   "metadata": {},
   "source": [
    "### Fake Data"
   ]
  },
  {
   "cell_type": "code",
   "execution_count": 6,
   "metadata": {},
   "outputs": [],
   "source": [
    "df = pd.DataFrame(np.random.randn(100,4),columns='A B C D'.split())"
   ]
  },
  {
   "cell_type": "code",
   "execution_count": 7,
   "metadata": {},
   "outputs": [
    {
     "data": {
      "text/html": [
       "<div>\n",
       "<style scoped>\n",
       "    .dataframe tbody tr th:only-of-type {\n",
       "        vertical-align: middle;\n",
       "    }\n",
       "\n",
       "    .dataframe tbody tr th {\n",
       "        vertical-align: top;\n",
       "    }\n",
       "\n",
       "    .dataframe thead th {\n",
       "        text-align: right;\n",
       "    }\n",
       "</style>\n",
       "<table border=\"1\" class=\"dataframe\">\n",
       "  <thead>\n",
       "    <tr style=\"text-align: right;\">\n",
       "      <th></th>\n",
       "      <th>A</th>\n",
       "      <th>B</th>\n",
       "      <th>C</th>\n",
       "      <th>D</th>\n",
       "    </tr>\n",
       "  </thead>\n",
       "  <tbody>\n",
       "    <tr>\n",
       "      <th>0</th>\n",
       "      <td>0.460447</td>\n",
       "      <td>-2.056901</td>\n",
       "      <td>1.258367</td>\n",
       "      <td>0.334167</td>\n",
       "    </tr>\n",
       "    <tr>\n",
       "      <th>1</th>\n",
       "      <td>-0.632781</td>\n",
       "      <td>1.615414</td>\n",
       "      <td>0.625040</td>\n",
       "      <td>1.234680</td>\n",
       "    </tr>\n",
       "    <tr>\n",
       "      <th>2</th>\n",
       "      <td>0.195549</td>\n",
       "      <td>-0.499710</td>\n",
       "      <td>-1.494984</td>\n",
       "      <td>-1.000276</td>\n",
       "    </tr>\n",
       "    <tr>\n",
       "      <th>3</th>\n",
       "      <td>-0.816668</td>\n",
       "      <td>0.110446</td>\n",
       "      <td>-1.339792</td>\n",
       "      <td>-0.278791</td>\n",
       "    </tr>\n",
       "    <tr>\n",
       "      <th>4</th>\n",
       "      <td>-3.048081</td>\n",
       "      <td>2.145111</td>\n",
       "      <td>0.972788</td>\n",
       "      <td>0.010827</td>\n",
       "    </tr>\n",
       "  </tbody>\n",
       "</table>\n",
       "</div>"
      ],
      "text/plain": [
       "          A         B         C         D\n",
       "0  0.460447 -2.056901  1.258367  0.334167\n",
       "1 -0.632781  1.615414  0.625040  1.234680\n",
       "2  0.195549 -0.499710 -1.494984 -1.000276\n",
       "3 -0.816668  0.110446 -1.339792 -0.278791\n",
       "4 -3.048081  2.145111  0.972788  0.010827"
      ]
     },
     "execution_count": 7,
     "metadata": {},
     "output_type": "execute_result"
    }
   ],
   "source": [
    "df.head()"
   ]
  },
  {
   "cell_type": "code",
   "execution_count": 8,
   "metadata": {},
   "outputs": [],
   "source": [
    "df2 = pd.DataFrame({'Category':['A','B','C'],'Values':[32,43,50]})"
   ]
  },
  {
   "cell_type": "code",
   "execution_count": 9,
   "metadata": {},
   "outputs": [
    {
     "data": {
      "text/html": [
       "<div>\n",
       "<style scoped>\n",
       "    .dataframe tbody tr th:only-of-type {\n",
       "        vertical-align: middle;\n",
       "    }\n",
       "\n",
       "    .dataframe tbody tr th {\n",
       "        vertical-align: top;\n",
       "    }\n",
       "\n",
       "    .dataframe thead th {\n",
       "        text-align: right;\n",
       "    }\n",
       "</style>\n",
       "<table border=\"1\" class=\"dataframe\">\n",
       "  <thead>\n",
       "    <tr style=\"text-align: right;\">\n",
       "      <th></th>\n",
       "      <th>Category</th>\n",
       "      <th>Values</th>\n",
       "    </tr>\n",
       "  </thead>\n",
       "  <tbody>\n",
       "    <tr>\n",
       "      <th>0</th>\n",
       "      <td>A</td>\n",
       "      <td>32</td>\n",
       "    </tr>\n",
       "    <tr>\n",
       "      <th>1</th>\n",
       "      <td>B</td>\n",
       "      <td>43</td>\n",
       "    </tr>\n",
       "    <tr>\n",
       "      <th>2</th>\n",
       "      <td>C</td>\n",
       "      <td>50</td>\n",
       "    </tr>\n",
       "  </tbody>\n",
       "</table>\n",
       "</div>"
      ],
      "text/plain": [
       "  Category  Values\n",
       "0        A      32\n",
       "1        B      43\n",
       "2        C      50"
      ]
     },
     "execution_count": 9,
     "metadata": {},
     "output_type": "execute_result"
    }
   ],
   "source": [
    "df2.head()"
   ]
  },
  {
   "cell_type": "markdown",
   "metadata": {},
   "source": [
    "## Using Cufflinks and iplot()\n",
    "\n",
    "* scatter\n",
    "* bar\n",
    "* box\n",
    "* spread\n",
    "* ratio\n",
    "* heatmap\n",
    "* surface\n",
    "* histogram\n",
    "* bubble"
   ]
  },
  {
   "cell_type": "markdown",
   "metadata": {},
   "source": [
    "## Scatter"
   ]
  },
  {
   "cell_type": "code",
   "execution_count": 11,
   "metadata": {},
   "outputs": [
    {
     "data": {
      "application/vnd.plotly.v1+json": {
       "config": {
        "linkText": "Export to plot.ly",
        "plotlyServerURL": "https://plot.ly",
        "showLink": true
       },
       "data": [
        {
         "line": {
          "color": "rgba(255, 153, 51, 1.0)",
          "dash": "solid",
          "shape": "linear",
          "width": 1.3
         },
         "marker": {
          "size": 10,
          "symbol": "circle"
         },
         "mode": "markers",
         "name": "B",
         "text": "",
         "type": "scatter",
         "x": [
          0.46044745595994646,
          -0.6327809816156542,
          0.19554865241212666,
          -0.8166676322767404,
          -3.0480808845906178,
          -0.3323764051335626,
          -0.2148018805663531,
          1.232919450428307,
          0.6990755453765485,
          -0.07222450852302355,
          0.9399928794576881,
          -1.6463845664115169,
          0.03866486247030078,
          1.3364309820906208,
          -0.41773911095129385,
          -1.3024561407978907,
          -1.7286428623651386,
          0.3041091737654156,
          -0.21841640624264147,
          -1.7782872619905046,
          -0.40755357437244555,
          1.4958510483328458,
          0.8691336955209565,
          -0.18954864268340946,
          1.4519376760235432,
          2.0070003818130537,
          -1.2343080333782328,
          -0.10472198473220974,
          -0.7075791627199393,
          -1.1250934794890421,
          -0.13122135545318075,
          -0.13325973630464638,
          -0.5219214423795748,
          -0.9399178338858662,
          -1.09293858338073,
          0.49421085222862693,
          0.8587307775944033,
          -0.008637916423998566,
          -2.3821054800247006,
          -0.33844292997234127,
          -1.3309454621475598,
          -0.6635753199127982,
          -0.4976940119383044,
          -0.19188337325859992,
          0.20403415342732897,
          0.6259349350540958,
          0.6806382450638427,
          -0.8334799949518075,
          0.13330741871923463,
          -0.8861367944020956,
          0.2522280347219456,
          1.74673112983397,
          0.0454195700224562,
          0.42431725838635165,
          0.46313945287402886,
          -0.036393397401551376,
          1.3996176623363892,
          -0.13451776843046795,
          -0.4429820748677036,
          -0.12519287551839783,
          0.1575345124703861,
          -1.1105079278597803,
          -0.7058793221245989,
          -0.5012182934909218,
          -1.237071738798001,
          -1.0374989938657437,
          0.9155202837847133,
          -1.9428455687837543,
          -1.300046598231422,
          -0.5788116808049193,
          2.164153910466163,
          2.024587158637168,
          -1.007376053165701,
          -1.4239537916994478,
          -0.027442271397530714,
          1.226059571563095,
          -0.37859063265946036,
          0.4739827862947617,
          -0.29817015052032186,
          -0.022420299523822088,
          0.8820268232137013,
          -0.5971793574885587,
          -0.5817035390746108,
          2.5423745595273224,
          -1.2240180609353126,
          1.8389577502955554,
          0.3789039734403663,
          -0.48703539030345416,
          -0.16303158180059313,
          -0.10186237655352284,
          -0.2557481695898708,
          0.32933712978369617,
          0.5308260194258264,
          0.1945955717812178,
          -1.3784653517201384,
          -0.3744721210833509,
          -0.16685921033310522,
          0.28178221826104694,
          1.3029837125498993,
          0.5655780866709391
         ],
         "y": [
          -2.0569014999715436,
          1.615413548570715,
          -0.4997096328929657,
          0.11044613459696011,
          2.14511071229813,
          0.12415558426069487,
          -0.18144855534171273,
          1.414504104188126,
          -1.0304690519553825,
          -0.11964407338170355,
          -1.872637047828862,
          0.3620192874855286,
          0.4024843260421167,
          -0.5086118655061668,
          -0.6241445406565573,
          1.360501842674482,
          -0.5383761007222295,
          0.11972608663364732,
          0.17908323460823522,
          0.18020973968654264,
          -1.3040735484199573,
          0.9035679353745257,
          0.5694677836183335,
          0.7789742531088888,
          -0.9761704827403509,
          0.2577788988640685,
          -0.9595820700521839,
          0.8913477599711915,
          -0.314622458164726,
          -0.42070577358846917,
          0.3003621489513765,
          -0.28361482796139226,
          0.20557205327331282,
          1.265296414392654,
          0.797172596483356,
          0.2406258030989973,
          1.4904085926260502,
          0.48821431095903245,
          0.14285530769432864,
          0.15707426612148362,
          -1.5170250115610526,
          0.7232292624556415,
          0.017602377806937356,
          0.3392998205962441,
          -1.981993932273325,
          -0.7311875792507156,
          1.0339581426574087,
          -0.8983981916176419,
          -0.21142894289193542,
          0.9860753694884673,
          1.6760993673766653,
          0.40445436681779856,
          0.228241752395754,
          0.21885947037232967,
          -0.2957949714078914,
          0.8029039858086703,
          -0.1258575515219575,
          -0.28462531300795485,
          -0.40711122540301453,
          1.1255480396449078,
          -0.04465283832238067,
          2.4606701071930766,
          1.2471229619009705,
          0.9684030255368693,
          -0.4967278612777565,
          1.1191519124145068,
          1.5393166944970227,
          0.3879656896286978,
          -0.23528168158661425,
          1.0570141419777914,
          -1.4192686252266147,
          -0.40495888179058614,
          -0.8053476811731931,
          -0.5956182729671423,
          0.15126692096238561,
          1.479938082547736,
          -0.07860579543133894,
          0.2884171368354939,
          -1.042282395744949,
          1.319871462771553,
          0.7666438421160171,
          -1.2599103779414045,
          -1.598279835414223,
          -0.761714368148162,
          -0.4197439992098943,
          0.8330065367647513,
          -0.3447653731659813,
          -1.6405242860622138,
          -0.24583445748044494,
          0.06867470537503659,
          -0.24309546675279925,
          -0.035768828097635506,
          -2.108777478604998,
          -0.17135169344361806,
          -0.3440568930717429,
          -0.4288781273324487,
          0.3615263101485928,
          0.215362306583839,
          -1.0880421818281014,
          -0.7441306187110783
         ]
        }
       ],
       "layout": {
        "legend": {
         "bgcolor": "#F5F6F9",
         "font": {
          "color": "#4D5663"
         }
        },
        "paper_bgcolor": "#F5F6F9",
        "plot_bgcolor": "#F5F6F9",
        "template": {
         "data": {
          "bar": [
           {
            "error_x": {
             "color": "#2a3f5f"
            },
            "error_y": {
             "color": "#2a3f5f"
            },
            "marker": {
             "line": {
              "color": "#E5ECF6",
              "width": 0.5
             },
             "pattern": {
              "fillmode": "overlay",
              "size": 10,
              "solidity": 0.2
             }
            },
            "type": "bar"
           }
          ],
          "barpolar": [
           {
            "marker": {
             "line": {
              "color": "#E5ECF6",
              "width": 0.5
             },
             "pattern": {
              "fillmode": "overlay",
              "size": 10,
              "solidity": 0.2
             }
            },
            "type": "barpolar"
           }
          ],
          "carpet": [
           {
            "aaxis": {
             "endlinecolor": "#2a3f5f",
             "gridcolor": "white",
             "linecolor": "white",
             "minorgridcolor": "white",
             "startlinecolor": "#2a3f5f"
            },
            "baxis": {
             "endlinecolor": "#2a3f5f",
             "gridcolor": "white",
             "linecolor": "white",
             "minorgridcolor": "white",
             "startlinecolor": "#2a3f5f"
            },
            "type": "carpet"
           }
          ],
          "choropleth": [
           {
            "colorbar": {
             "outlinewidth": 0,
             "ticks": ""
            },
            "type": "choropleth"
           }
          ],
          "contour": [
           {
            "colorbar": {
             "outlinewidth": 0,
             "ticks": ""
            },
            "colorscale": [
             [
              0,
              "#0d0887"
             ],
             [
              0.1111111111111111,
              "#46039f"
             ],
             [
              0.2222222222222222,
              "#7201a8"
             ],
             [
              0.3333333333333333,
              "#9c179e"
             ],
             [
              0.4444444444444444,
              "#bd3786"
             ],
             [
              0.5555555555555556,
              "#d8576b"
             ],
             [
              0.6666666666666666,
              "#ed7953"
             ],
             [
              0.7777777777777778,
              "#fb9f3a"
             ],
             [
              0.8888888888888888,
              "#fdca26"
             ],
             [
              1,
              "#f0f921"
             ]
            ],
            "type": "contour"
           }
          ],
          "contourcarpet": [
           {
            "colorbar": {
             "outlinewidth": 0,
             "ticks": ""
            },
            "type": "contourcarpet"
           }
          ],
          "heatmap": [
           {
            "colorbar": {
             "outlinewidth": 0,
             "ticks": ""
            },
            "colorscale": [
             [
              0,
              "#0d0887"
             ],
             [
              0.1111111111111111,
              "#46039f"
             ],
             [
              0.2222222222222222,
              "#7201a8"
             ],
             [
              0.3333333333333333,
              "#9c179e"
             ],
             [
              0.4444444444444444,
              "#bd3786"
             ],
             [
              0.5555555555555556,
              "#d8576b"
             ],
             [
              0.6666666666666666,
              "#ed7953"
             ],
             [
              0.7777777777777778,
              "#fb9f3a"
             ],
             [
              0.8888888888888888,
              "#fdca26"
             ],
             [
              1,
              "#f0f921"
             ]
            ],
            "type": "heatmap"
           }
          ],
          "heatmapgl": [
           {
            "colorbar": {
             "outlinewidth": 0,
             "ticks": ""
            },
            "colorscale": [
             [
              0,
              "#0d0887"
             ],
             [
              0.1111111111111111,
              "#46039f"
             ],
             [
              0.2222222222222222,
              "#7201a8"
             ],
             [
              0.3333333333333333,
              "#9c179e"
             ],
             [
              0.4444444444444444,
              "#bd3786"
             ],
             [
              0.5555555555555556,
              "#d8576b"
             ],
             [
              0.6666666666666666,
              "#ed7953"
             ],
             [
              0.7777777777777778,
              "#fb9f3a"
             ],
             [
              0.8888888888888888,
              "#fdca26"
             ],
             [
              1,
              "#f0f921"
             ]
            ],
            "type": "heatmapgl"
           }
          ],
          "histogram": [
           {
            "marker": {
             "pattern": {
              "fillmode": "overlay",
              "size": 10,
              "solidity": 0.2
             }
            },
            "type": "histogram"
           }
          ],
          "histogram2d": [
           {
            "colorbar": {
             "outlinewidth": 0,
             "ticks": ""
            },
            "colorscale": [
             [
              0,
              "#0d0887"
             ],
             [
              0.1111111111111111,
              "#46039f"
             ],
             [
              0.2222222222222222,
              "#7201a8"
             ],
             [
              0.3333333333333333,
              "#9c179e"
             ],
             [
              0.4444444444444444,
              "#bd3786"
             ],
             [
              0.5555555555555556,
              "#d8576b"
             ],
             [
              0.6666666666666666,
              "#ed7953"
             ],
             [
              0.7777777777777778,
              "#fb9f3a"
             ],
             [
              0.8888888888888888,
              "#fdca26"
             ],
             [
              1,
              "#f0f921"
             ]
            ],
            "type": "histogram2d"
           }
          ],
          "histogram2dcontour": [
           {
            "colorbar": {
             "outlinewidth": 0,
             "ticks": ""
            },
            "colorscale": [
             [
              0,
              "#0d0887"
             ],
             [
              0.1111111111111111,
              "#46039f"
             ],
             [
              0.2222222222222222,
              "#7201a8"
             ],
             [
              0.3333333333333333,
              "#9c179e"
             ],
             [
              0.4444444444444444,
              "#bd3786"
             ],
             [
              0.5555555555555556,
              "#d8576b"
             ],
             [
              0.6666666666666666,
              "#ed7953"
             ],
             [
              0.7777777777777778,
              "#fb9f3a"
             ],
             [
              0.8888888888888888,
              "#fdca26"
             ],
             [
              1,
              "#f0f921"
             ]
            ],
            "type": "histogram2dcontour"
           }
          ],
          "mesh3d": [
           {
            "colorbar": {
             "outlinewidth": 0,
             "ticks": ""
            },
            "type": "mesh3d"
           }
          ],
          "parcoords": [
           {
            "line": {
             "colorbar": {
              "outlinewidth": 0,
              "ticks": ""
             }
            },
            "type": "parcoords"
           }
          ],
          "pie": [
           {
            "automargin": true,
            "type": "pie"
           }
          ],
          "scatter": [
           {
            "fillpattern": {
             "fillmode": "overlay",
             "size": 10,
             "solidity": 0.2
            },
            "type": "scatter"
           }
          ],
          "scatter3d": [
           {
            "line": {
             "colorbar": {
              "outlinewidth": 0,
              "ticks": ""
             }
            },
            "marker": {
             "colorbar": {
              "outlinewidth": 0,
              "ticks": ""
             }
            },
            "type": "scatter3d"
           }
          ],
          "scattercarpet": [
           {
            "marker": {
             "colorbar": {
              "outlinewidth": 0,
              "ticks": ""
             }
            },
            "type": "scattercarpet"
           }
          ],
          "scattergeo": [
           {
            "marker": {
             "colorbar": {
              "outlinewidth": 0,
              "ticks": ""
             }
            },
            "type": "scattergeo"
           }
          ],
          "scattergl": [
           {
            "marker": {
             "colorbar": {
              "outlinewidth": 0,
              "ticks": ""
             }
            },
            "type": "scattergl"
           }
          ],
          "scattermapbox": [
           {
            "marker": {
             "colorbar": {
              "outlinewidth": 0,
              "ticks": ""
             }
            },
            "type": "scattermapbox"
           }
          ],
          "scatterpolar": [
           {
            "marker": {
             "colorbar": {
              "outlinewidth": 0,
              "ticks": ""
             }
            },
            "type": "scatterpolar"
           }
          ],
          "scatterpolargl": [
           {
            "marker": {
             "colorbar": {
              "outlinewidth": 0,
              "ticks": ""
             }
            },
            "type": "scatterpolargl"
           }
          ],
          "scatterternary": [
           {
            "marker": {
             "colorbar": {
              "outlinewidth": 0,
              "ticks": ""
             }
            },
            "type": "scatterternary"
           }
          ],
          "surface": [
           {
            "colorbar": {
             "outlinewidth": 0,
             "ticks": ""
            },
            "colorscale": [
             [
              0,
              "#0d0887"
             ],
             [
              0.1111111111111111,
              "#46039f"
             ],
             [
              0.2222222222222222,
              "#7201a8"
             ],
             [
              0.3333333333333333,
              "#9c179e"
             ],
             [
              0.4444444444444444,
              "#bd3786"
             ],
             [
              0.5555555555555556,
              "#d8576b"
             ],
             [
              0.6666666666666666,
              "#ed7953"
             ],
             [
              0.7777777777777778,
              "#fb9f3a"
             ],
             [
              0.8888888888888888,
              "#fdca26"
             ],
             [
              1,
              "#f0f921"
             ]
            ],
            "type": "surface"
           }
          ],
          "table": [
           {
            "cells": {
             "fill": {
              "color": "#EBF0F8"
             },
             "line": {
              "color": "white"
             }
            },
            "header": {
             "fill": {
              "color": "#C8D4E3"
             },
             "line": {
              "color": "white"
             }
            },
            "type": "table"
           }
          ]
         },
         "layout": {
          "annotationdefaults": {
           "arrowcolor": "#2a3f5f",
           "arrowhead": 0,
           "arrowwidth": 1
          },
          "autotypenumbers": "strict",
          "coloraxis": {
           "colorbar": {
            "outlinewidth": 0,
            "ticks": ""
           }
          },
          "colorscale": {
           "diverging": [
            [
             0,
             "#8e0152"
            ],
            [
             0.1,
             "#c51b7d"
            ],
            [
             0.2,
             "#de77ae"
            ],
            [
             0.3,
             "#f1b6da"
            ],
            [
             0.4,
             "#fde0ef"
            ],
            [
             0.5,
             "#f7f7f7"
            ],
            [
             0.6,
             "#e6f5d0"
            ],
            [
             0.7,
             "#b8e186"
            ],
            [
             0.8,
             "#7fbc41"
            ],
            [
             0.9,
             "#4d9221"
            ],
            [
             1,
             "#276419"
            ]
           ],
           "sequential": [
            [
             0,
             "#0d0887"
            ],
            [
             0.1111111111111111,
             "#46039f"
            ],
            [
             0.2222222222222222,
             "#7201a8"
            ],
            [
             0.3333333333333333,
             "#9c179e"
            ],
            [
             0.4444444444444444,
             "#bd3786"
            ],
            [
             0.5555555555555556,
             "#d8576b"
            ],
            [
             0.6666666666666666,
             "#ed7953"
            ],
            [
             0.7777777777777778,
             "#fb9f3a"
            ],
            [
             0.8888888888888888,
             "#fdca26"
            ],
            [
             1,
             "#f0f921"
            ]
           ],
           "sequentialminus": [
            [
             0,
             "#0d0887"
            ],
            [
             0.1111111111111111,
             "#46039f"
            ],
            [
             0.2222222222222222,
             "#7201a8"
            ],
            [
             0.3333333333333333,
             "#9c179e"
            ],
            [
             0.4444444444444444,
             "#bd3786"
            ],
            [
             0.5555555555555556,
             "#d8576b"
            ],
            [
             0.6666666666666666,
             "#ed7953"
            ],
            [
             0.7777777777777778,
             "#fb9f3a"
            ],
            [
             0.8888888888888888,
             "#fdca26"
            ],
            [
             1,
             "#f0f921"
            ]
           ]
          },
          "colorway": [
           "#636efa",
           "#EF553B",
           "#00cc96",
           "#ab63fa",
           "#FFA15A",
           "#19d3f3",
           "#FF6692",
           "#B6E880",
           "#FF97FF",
           "#FECB52"
          ],
          "font": {
           "color": "#2a3f5f"
          },
          "geo": {
           "bgcolor": "white",
           "lakecolor": "white",
           "landcolor": "#E5ECF6",
           "showlakes": true,
           "showland": true,
           "subunitcolor": "white"
          },
          "hoverlabel": {
           "align": "left"
          },
          "hovermode": "closest",
          "mapbox": {
           "style": "light"
          },
          "paper_bgcolor": "white",
          "plot_bgcolor": "#E5ECF6",
          "polar": {
           "angularaxis": {
            "gridcolor": "white",
            "linecolor": "white",
            "ticks": ""
           },
           "bgcolor": "#E5ECF6",
           "radialaxis": {
            "gridcolor": "white",
            "linecolor": "white",
            "ticks": ""
           }
          },
          "scene": {
           "xaxis": {
            "backgroundcolor": "#E5ECF6",
            "gridcolor": "white",
            "gridwidth": 2,
            "linecolor": "white",
            "showbackground": true,
            "ticks": "",
            "zerolinecolor": "white"
           },
           "yaxis": {
            "backgroundcolor": "#E5ECF6",
            "gridcolor": "white",
            "gridwidth": 2,
            "linecolor": "white",
            "showbackground": true,
            "ticks": "",
            "zerolinecolor": "white"
           },
           "zaxis": {
            "backgroundcolor": "#E5ECF6",
            "gridcolor": "white",
            "gridwidth": 2,
            "linecolor": "white",
            "showbackground": true,
            "ticks": "",
            "zerolinecolor": "white"
           }
          },
          "shapedefaults": {
           "line": {
            "color": "#2a3f5f"
           }
          },
          "ternary": {
           "aaxis": {
            "gridcolor": "white",
            "linecolor": "white",
            "ticks": ""
           },
           "baxis": {
            "gridcolor": "white",
            "linecolor": "white",
            "ticks": ""
           },
           "bgcolor": "#E5ECF6",
           "caxis": {
            "gridcolor": "white",
            "linecolor": "white",
            "ticks": ""
           }
          },
          "title": {
           "x": 0.05
          },
          "xaxis": {
           "automargin": true,
           "gridcolor": "white",
           "linecolor": "white",
           "ticks": "",
           "title": {
            "standoff": 15
           },
           "zerolinecolor": "white",
           "zerolinewidth": 2
          },
          "yaxis": {
           "automargin": true,
           "gridcolor": "white",
           "linecolor": "white",
           "ticks": "",
           "title": {
            "standoff": 15
           },
           "zerolinecolor": "white",
           "zerolinewidth": 2
          }
         }
        },
        "title": {
         "font": {
          "color": "#4D5663"
         }
        },
        "xaxis": {
         "gridcolor": "#E1E5ED",
         "showgrid": true,
         "tickfont": {
          "color": "#4D5663"
         },
         "title": {
          "font": {
           "color": "#4D5663"
          },
          "text": ""
         },
         "zerolinecolor": "#E1E5ED"
        },
        "yaxis": {
         "gridcolor": "#E1E5ED",
         "showgrid": true,
         "tickfont": {
          "color": "#4D5663"
         },
         "title": {
          "font": {
           "color": "#4D5663"
          },
          "text": ""
         },
         "zerolinecolor": "#E1E5ED"
        }
       }
      },
      "text/html": [
       "<div>                            <div id=\"56a07a07-05f8-4a00-b2ea-50252c3c339a\" class=\"plotly-graph-div\" style=\"height:525px; width:100%;\"></div>            <script type=\"text/javascript\">                require([\"plotly\"], function(Plotly) {                    window.PLOTLYENV=window.PLOTLYENV || {};\n",
       "                    window.PLOTLYENV.BASE_URL='https://plot.ly';                                    if (document.getElementById(\"56a07a07-05f8-4a00-b2ea-50252c3c339a\")) {                    Plotly.newPlot(                        \"56a07a07-05f8-4a00-b2ea-50252c3c339a\",                        [{\"line\":{\"color\":\"rgba(255, 153, 51, 1.0)\",\"dash\":\"solid\",\"shape\":\"linear\",\"width\":1.3},\"marker\":{\"size\":10,\"symbol\":\"circle\"},\"mode\":\"markers\",\"name\":\"B\",\"text\":\"\",\"x\":[0.46044745595994646,-0.6327809816156542,0.19554865241212666,-0.8166676322767404,-3.0480808845906178,-0.3323764051335626,-0.2148018805663531,1.232919450428307,0.6990755453765485,-0.07222450852302355,0.9399928794576881,-1.6463845664115169,0.03866486247030078,1.3364309820906208,-0.41773911095129385,-1.3024561407978907,-1.7286428623651386,0.3041091737654156,-0.21841640624264147,-1.7782872619905046,-0.40755357437244555,1.4958510483328458,0.8691336955209565,-0.18954864268340946,1.4519376760235432,2.0070003818130537,-1.2343080333782328,-0.10472198473220974,-0.7075791627199393,-1.1250934794890421,-0.13122135545318075,-0.13325973630464638,-0.5219214423795748,-0.9399178338858662,-1.09293858338073,0.49421085222862693,0.8587307775944033,-0.008637916423998566,-2.3821054800247006,-0.33844292997234127,-1.3309454621475598,-0.6635753199127982,-0.4976940119383044,-0.19188337325859992,0.20403415342732897,0.6259349350540958,0.6806382450638427,-0.8334799949518075,0.13330741871923463,-0.8861367944020956,0.2522280347219456,1.74673112983397,0.0454195700224562,0.42431725838635165,0.46313945287402886,-0.036393397401551376,1.3996176623363892,-0.13451776843046795,-0.4429820748677036,-0.12519287551839783,0.1575345124703861,-1.1105079278597803,-0.7058793221245989,-0.5012182934909218,-1.237071738798001,-1.0374989938657437,0.9155202837847133,-1.9428455687837543,-1.300046598231422,-0.5788116808049193,2.164153910466163,2.024587158637168,-1.007376053165701,-1.4239537916994478,-0.027442271397530714,1.226059571563095,-0.37859063265946036,0.4739827862947617,-0.29817015052032186,-0.022420299523822088,0.8820268232137013,-0.5971793574885587,-0.5817035390746108,2.5423745595273224,-1.2240180609353126,1.8389577502955554,0.3789039734403663,-0.48703539030345416,-0.16303158180059313,-0.10186237655352284,-0.2557481695898708,0.32933712978369617,0.5308260194258264,0.1945955717812178,-1.3784653517201384,-0.3744721210833509,-0.16685921033310522,0.28178221826104694,1.3029837125498993,0.5655780866709391],\"y\":[-2.0569014999715436,1.615413548570715,-0.4997096328929657,0.11044613459696011,2.14511071229813,0.12415558426069487,-0.18144855534171273,1.414504104188126,-1.0304690519553825,-0.11964407338170355,-1.872637047828862,0.3620192874855286,0.4024843260421167,-0.5086118655061668,-0.6241445406565573,1.360501842674482,-0.5383761007222295,0.11972608663364732,0.17908323460823522,0.18020973968654264,-1.3040735484199573,0.9035679353745257,0.5694677836183335,0.7789742531088888,-0.9761704827403509,0.2577788988640685,-0.9595820700521839,0.8913477599711915,-0.314622458164726,-0.42070577358846917,0.3003621489513765,-0.28361482796139226,0.20557205327331282,1.265296414392654,0.797172596483356,0.2406258030989973,1.4904085926260502,0.48821431095903245,0.14285530769432864,0.15707426612148362,-1.5170250115610526,0.7232292624556415,0.017602377806937356,0.3392998205962441,-1.981993932273325,-0.7311875792507156,1.0339581426574087,-0.8983981916176419,-0.21142894289193542,0.9860753694884673,1.6760993673766653,0.40445436681779856,0.228241752395754,0.21885947037232967,-0.2957949714078914,0.8029039858086703,-0.1258575515219575,-0.28462531300795485,-0.40711122540301453,1.1255480396449078,-0.04465283832238067,2.4606701071930766,1.2471229619009705,0.9684030255368693,-0.4967278612777565,1.1191519124145068,1.5393166944970227,0.3879656896286978,-0.23528168158661425,1.0570141419777914,-1.4192686252266147,-0.40495888179058614,-0.8053476811731931,-0.5956182729671423,0.15126692096238561,1.479938082547736,-0.07860579543133894,0.2884171368354939,-1.042282395744949,1.319871462771553,0.7666438421160171,-1.2599103779414045,-1.598279835414223,-0.761714368148162,-0.4197439992098943,0.8330065367647513,-0.3447653731659813,-1.6405242860622138,-0.24583445748044494,0.06867470537503659,-0.24309546675279925,-0.035768828097635506,-2.108777478604998,-0.17135169344361806,-0.3440568930717429,-0.4288781273324487,0.3615263101485928,0.215362306583839,-1.0880421818281014,-0.7441306187110783],\"type\":\"scatter\"}],                        {\"legend\":{\"bgcolor\":\"#F5F6F9\",\"font\":{\"color\":\"#4D5663\"}},\"paper_bgcolor\":\"#F5F6F9\",\"plot_bgcolor\":\"#F5F6F9\",\"template\":{\"data\":{\"barpolar\":[{\"marker\":{\"line\":{\"color\":\"#E5ECF6\",\"width\":0.5},\"pattern\":{\"fillmode\":\"overlay\",\"size\":10,\"solidity\":0.2}},\"type\":\"barpolar\"}],\"bar\":[{\"error_x\":{\"color\":\"#2a3f5f\"},\"error_y\":{\"color\":\"#2a3f5f\"},\"marker\":{\"line\":{\"color\":\"#E5ECF6\",\"width\":0.5},\"pattern\":{\"fillmode\":\"overlay\",\"size\":10,\"solidity\":0.2}},\"type\":\"bar\"}],\"carpet\":[{\"aaxis\":{\"endlinecolor\":\"#2a3f5f\",\"gridcolor\":\"white\",\"linecolor\":\"white\",\"minorgridcolor\":\"white\",\"startlinecolor\":\"#2a3f5f\"},\"baxis\":{\"endlinecolor\":\"#2a3f5f\",\"gridcolor\":\"white\",\"linecolor\":\"white\",\"minorgridcolor\":\"white\",\"startlinecolor\":\"#2a3f5f\"},\"type\":\"carpet\"}],\"choropleth\":[{\"colorbar\":{\"outlinewidth\":0,\"ticks\":\"\"},\"type\":\"choropleth\"}],\"contourcarpet\":[{\"colorbar\":{\"outlinewidth\":0,\"ticks\":\"\"},\"type\":\"contourcarpet\"}],\"contour\":[{\"colorbar\":{\"outlinewidth\":0,\"ticks\":\"\"},\"colorscale\":[[0.0,\"#0d0887\"],[0.1111111111111111,\"#46039f\"],[0.2222222222222222,\"#7201a8\"],[0.3333333333333333,\"#9c179e\"],[0.4444444444444444,\"#bd3786\"],[0.5555555555555556,\"#d8576b\"],[0.6666666666666666,\"#ed7953\"],[0.7777777777777778,\"#fb9f3a\"],[0.8888888888888888,\"#fdca26\"],[1.0,\"#f0f921\"]],\"type\":\"contour\"}],\"heatmapgl\":[{\"colorbar\":{\"outlinewidth\":0,\"ticks\":\"\"},\"colorscale\":[[0.0,\"#0d0887\"],[0.1111111111111111,\"#46039f\"],[0.2222222222222222,\"#7201a8\"],[0.3333333333333333,\"#9c179e\"],[0.4444444444444444,\"#bd3786\"],[0.5555555555555556,\"#d8576b\"],[0.6666666666666666,\"#ed7953\"],[0.7777777777777778,\"#fb9f3a\"],[0.8888888888888888,\"#fdca26\"],[1.0,\"#f0f921\"]],\"type\":\"heatmapgl\"}],\"heatmap\":[{\"colorbar\":{\"outlinewidth\":0,\"ticks\":\"\"},\"colorscale\":[[0.0,\"#0d0887\"],[0.1111111111111111,\"#46039f\"],[0.2222222222222222,\"#7201a8\"],[0.3333333333333333,\"#9c179e\"],[0.4444444444444444,\"#bd3786\"],[0.5555555555555556,\"#d8576b\"],[0.6666666666666666,\"#ed7953\"],[0.7777777777777778,\"#fb9f3a\"],[0.8888888888888888,\"#fdca26\"],[1.0,\"#f0f921\"]],\"type\":\"heatmap\"}],\"histogram2dcontour\":[{\"colorbar\":{\"outlinewidth\":0,\"ticks\":\"\"},\"colorscale\":[[0.0,\"#0d0887\"],[0.1111111111111111,\"#46039f\"],[0.2222222222222222,\"#7201a8\"],[0.3333333333333333,\"#9c179e\"],[0.4444444444444444,\"#bd3786\"],[0.5555555555555556,\"#d8576b\"],[0.6666666666666666,\"#ed7953\"],[0.7777777777777778,\"#fb9f3a\"],[0.8888888888888888,\"#fdca26\"],[1.0,\"#f0f921\"]],\"type\":\"histogram2dcontour\"}],\"histogram2d\":[{\"colorbar\":{\"outlinewidth\":0,\"ticks\":\"\"},\"colorscale\":[[0.0,\"#0d0887\"],[0.1111111111111111,\"#46039f\"],[0.2222222222222222,\"#7201a8\"],[0.3333333333333333,\"#9c179e\"],[0.4444444444444444,\"#bd3786\"],[0.5555555555555556,\"#d8576b\"],[0.6666666666666666,\"#ed7953\"],[0.7777777777777778,\"#fb9f3a\"],[0.8888888888888888,\"#fdca26\"],[1.0,\"#f0f921\"]],\"type\":\"histogram2d\"}],\"histogram\":[{\"marker\":{\"pattern\":{\"fillmode\":\"overlay\",\"size\":10,\"solidity\":0.2}},\"type\":\"histogram\"}],\"mesh3d\":[{\"colorbar\":{\"outlinewidth\":0,\"ticks\":\"\"},\"type\":\"mesh3d\"}],\"parcoords\":[{\"line\":{\"colorbar\":{\"outlinewidth\":0,\"ticks\":\"\"}},\"type\":\"parcoords\"}],\"pie\":[{\"automargin\":true,\"type\":\"pie\"}],\"scatter3d\":[{\"line\":{\"colorbar\":{\"outlinewidth\":0,\"ticks\":\"\"}},\"marker\":{\"colorbar\":{\"outlinewidth\":0,\"ticks\":\"\"}},\"type\":\"scatter3d\"}],\"scattercarpet\":[{\"marker\":{\"colorbar\":{\"outlinewidth\":0,\"ticks\":\"\"}},\"type\":\"scattercarpet\"}],\"scattergeo\":[{\"marker\":{\"colorbar\":{\"outlinewidth\":0,\"ticks\":\"\"}},\"type\":\"scattergeo\"}],\"scattergl\":[{\"marker\":{\"colorbar\":{\"outlinewidth\":0,\"ticks\":\"\"}},\"type\":\"scattergl\"}],\"scattermapbox\":[{\"marker\":{\"colorbar\":{\"outlinewidth\":0,\"ticks\":\"\"}},\"type\":\"scattermapbox\"}],\"scatterpolargl\":[{\"marker\":{\"colorbar\":{\"outlinewidth\":0,\"ticks\":\"\"}},\"type\":\"scatterpolargl\"}],\"scatterpolar\":[{\"marker\":{\"colorbar\":{\"outlinewidth\":0,\"ticks\":\"\"}},\"type\":\"scatterpolar\"}],\"scatter\":[{\"fillpattern\":{\"fillmode\":\"overlay\",\"size\":10,\"solidity\":0.2},\"type\":\"scatter\"}],\"scatterternary\":[{\"marker\":{\"colorbar\":{\"outlinewidth\":0,\"ticks\":\"\"}},\"type\":\"scatterternary\"}],\"surface\":[{\"colorbar\":{\"outlinewidth\":0,\"ticks\":\"\"},\"colorscale\":[[0.0,\"#0d0887\"],[0.1111111111111111,\"#46039f\"],[0.2222222222222222,\"#7201a8\"],[0.3333333333333333,\"#9c179e\"],[0.4444444444444444,\"#bd3786\"],[0.5555555555555556,\"#d8576b\"],[0.6666666666666666,\"#ed7953\"],[0.7777777777777778,\"#fb9f3a\"],[0.8888888888888888,\"#fdca26\"],[1.0,\"#f0f921\"]],\"type\":\"surface\"}],\"table\":[{\"cells\":{\"fill\":{\"color\":\"#EBF0F8\"},\"line\":{\"color\":\"white\"}},\"header\":{\"fill\":{\"color\":\"#C8D4E3\"},\"line\":{\"color\":\"white\"}},\"type\":\"table\"}]},\"layout\":{\"annotationdefaults\":{\"arrowcolor\":\"#2a3f5f\",\"arrowhead\":0,\"arrowwidth\":1},\"autotypenumbers\":\"strict\",\"coloraxis\":{\"colorbar\":{\"outlinewidth\":0,\"ticks\":\"\"}},\"colorscale\":{\"diverging\":[[0,\"#8e0152\"],[0.1,\"#c51b7d\"],[0.2,\"#de77ae\"],[0.3,\"#f1b6da\"],[0.4,\"#fde0ef\"],[0.5,\"#f7f7f7\"],[0.6,\"#e6f5d0\"],[0.7,\"#b8e186\"],[0.8,\"#7fbc41\"],[0.9,\"#4d9221\"],[1,\"#276419\"]],\"sequential\":[[0.0,\"#0d0887\"],[0.1111111111111111,\"#46039f\"],[0.2222222222222222,\"#7201a8\"],[0.3333333333333333,\"#9c179e\"],[0.4444444444444444,\"#bd3786\"],[0.5555555555555556,\"#d8576b\"],[0.6666666666666666,\"#ed7953\"],[0.7777777777777778,\"#fb9f3a\"],[0.8888888888888888,\"#fdca26\"],[1.0,\"#f0f921\"]],\"sequentialminus\":[[0.0,\"#0d0887\"],[0.1111111111111111,\"#46039f\"],[0.2222222222222222,\"#7201a8\"],[0.3333333333333333,\"#9c179e\"],[0.4444444444444444,\"#bd3786\"],[0.5555555555555556,\"#d8576b\"],[0.6666666666666666,\"#ed7953\"],[0.7777777777777778,\"#fb9f3a\"],[0.8888888888888888,\"#fdca26\"],[1.0,\"#f0f921\"]]},\"colorway\":[\"#636efa\",\"#EF553B\",\"#00cc96\",\"#ab63fa\",\"#FFA15A\",\"#19d3f3\",\"#FF6692\",\"#B6E880\",\"#FF97FF\",\"#FECB52\"],\"font\":{\"color\":\"#2a3f5f\"},\"geo\":{\"bgcolor\":\"white\",\"lakecolor\":\"white\",\"landcolor\":\"#E5ECF6\",\"showlakes\":true,\"showland\":true,\"subunitcolor\":\"white\"},\"hoverlabel\":{\"align\":\"left\"},\"hovermode\":\"closest\",\"mapbox\":{\"style\":\"light\"},\"paper_bgcolor\":\"white\",\"plot_bgcolor\":\"#E5ECF6\",\"polar\":{\"angularaxis\":{\"gridcolor\":\"white\",\"linecolor\":\"white\",\"ticks\":\"\"},\"bgcolor\":\"#E5ECF6\",\"radialaxis\":{\"gridcolor\":\"white\",\"linecolor\":\"white\",\"ticks\":\"\"}},\"scene\":{\"xaxis\":{\"backgroundcolor\":\"#E5ECF6\",\"gridcolor\":\"white\",\"gridwidth\":2,\"linecolor\":\"white\",\"showbackground\":true,\"ticks\":\"\",\"zerolinecolor\":\"white\"},\"yaxis\":{\"backgroundcolor\":\"#E5ECF6\",\"gridcolor\":\"white\",\"gridwidth\":2,\"linecolor\":\"white\",\"showbackground\":true,\"ticks\":\"\",\"zerolinecolor\":\"white\"},\"zaxis\":{\"backgroundcolor\":\"#E5ECF6\",\"gridcolor\":\"white\",\"gridwidth\":2,\"linecolor\":\"white\",\"showbackground\":true,\"ticks\":\"\",\"zerolinecolor\":\"white\"}},\"shapedefaults\":{\"line\":{\"color\":\"#2a3f5f\"}},\"ternary\":{\"aaxis\":{\"gridcolor\":\"white\",\"linecolor\":\"white\",\"ticks\":\"\"},\"baxis\":{\"gridcolor\":\"white\",\"linecolor\":\"white\",\"ticks\":\"\"},\"bgcolor\":\"#E5ECF6\",\"caxis\":{\"gridcolor\":\"white\",\"linecolor\":\"white\",\"ticks\":\"\"}},\"title\":{\"x\":0.05},\"xaxis\":{\"automargin\":true,\"gridcolor\":\"white\",\"linecolor\":\"white\",\"ticks\":\"\",\"title\":{\"standoff\":15},\"zerolinecolor\":\"white\",\"zerolinewidth\":2},\"yaxis\":{\"automargin\":true,\"gridcolor\":\"white\",\"linecolor\":\"white\",\"ticks\":\"\",\"title\":{\"standoff\":15},\"zerolinecolor\":\"white\",\"zerolinewidth\":2}}},\"title\":{\"font\":{\"color\":\"#4D5663\"}},\"xaxis\":{\"gridcolor\":\"#E1E5ED\",\"showgrid\":true,\"tickfont\":{\"color\":\"#4D5663\"},\"title\":{\"font\":{\"color\":\"#4D5663\"},\"text\":\"\"},\"zerolinecolor\":\"#E1E5ED\"},\"yaxis\":{\"gridcolor\":\"#E1E5ED\",\"showgrid\":true,\"tickfont\":{\"color\":\"#4D5663\"},\"title\":{\"font\":{\"color\":\"#4D5663\"},\"text\":\"\"},\"zerolinecolor\":\"#E1E5ED\"}},                        {\"showLink\": true, \"linkText\": \"Export to plot.ly\", \"plotlyServerURL\": \"https://plot.ly\", \"responsive\": true}                    ).then(function(){\n",
       "                            \n",
       "var gd = document.getElementById('56a07a07-05f8-4a00-b2ea-50252c3c339a');\n",
       "var x = new MutationObserver(function (mutations, observer) {{\n",
       "        var display = window.getComputedStyle(gd).display;\n",
       "        if (!display || display === 'none') {{\n",
       "            console.log([gd, 'removed!']);\n",
       "            Plotly.purge(gd);\n",
       "            observer.disconnect();\n",
       "        }}\n",
       "}});\n",
       "\n",
       "// Listen for the removal of the full notebook cells\n",
       "var notebookContainer = gd.closest('#notebook-container');\n",
       "if (notebookContainer) {{\n",
       "    x.observe(notebookContainer, {childList: true});\n",
       "}}\n",
       "\n",
       "// Listen for the clearing of the current output cell\n",
       "var outputEl = gd.closest('.output');\n",
       "if (outputEl) {{\n",
       "    x.observe(outputEl, {childList: true});\n",
       "}}\n",
       "\n",
       "                        })                };                });            </script>        </div>"
      ]
     },
     "metadata": {},
     "output_type": "display_data"
    }
   ],
   "source": [
    "df.iplot(kind='scatter',x='A',y='B',mode='markers',size=10)"
   ]
  },
  {
   "cell_type": "markdown",
   "metadata": {},
   "source": [
    "## Bar Plots"
   ]
  },
  {
   "cell_type": "code",
   "execution_count": 12,
   "metadata": {},
   "outputs": [
    {
     "data": {
      "application/vnd.plotly.v1+json": {
       "config": {
        "linkText": "Export to plot.ly",
        "plotlyServerURL": "https://plot.ly",
        "showLink": true
       },
       "data": [
        {
         "marker": {
          "color": "rgba(255, 153, 51, 0.6)",
          "line": {
           "color": "rgba(255, 153, 51, 1.0)",
           "width": 1
          }
         },
         "name": "Values",
         "orientation": "v",
         "text": "",
         "type": "bar",
         "x": [
          "A",
          "B",
          "C"
         ],
         "y": [
          32,
          43,
          50
         ]
        }
       ],
       "layout": {
        "legend": {
         "bgcolor": "#F5F6F9",
         "font": {
          "color": "#4D5663"
         }
        },
        "paper_bgcolor": "#F5F6F9",
        "plot_bgcolor": "#F5F6F9",
        "template": {
         "data": {
          "bar": [
           {
            "error_x": {
             "color": "#2a3f5f"
            },
            "error_y": {
             "color": "#2a3f5f"
            },
            "marker": {
             "line": {
              "color": "#E5ECF6",
              "width": 0.5
             },
             "pattern": {
              "fillmode": "overlay",
              "size": 10,
              "solidity": 0.2
             }
            },
            "type": "bar"
           }
          ],
          "barpolar": [
           {
            "marker": {
             "line": {
              "color": "#E5ECF6",
              "width": 0.5
             },
             "pattern": {
              "fillmode": "overlay",
              "size": 10,
              "solidity": 0.2
             }
            },
            "type": "barpolar"
           }
          ],
          "carpet": [
           {
            "aaxis": {
             "endlinecolor": "#2a3f5f",
             "gridcolor": "white",
             "linecolor": "white",
             "minorgridcolor": "white",
             "startlinecolor": "#2a3f5f"
            },
            "baxis": {
             "endlinecolor": "#2a3f5f",
             "gridcolor": "white",
             "linecolor": "white",
             "minorgridcolor": "white",
             "startlinecolor": "#2a3f5f"
            },
            "type": "carpet"
           }
          ],
          "choropleth": [
           {
            "colorbar": {
             "outlinewidth": 0,
             "ticks": ""
            },
            "type": "choropleth"
           }
          ],
          "contour": [
           {
            "colorbar": {
             "outlinewidth": 0,
             "ticks": ""
            },
            "colorscale": [
             [
              0,
              "#0d0887"
             ],
             [
              0.1111111111111111,
              "#46039f"
             ],
             [
              0.2222222222222222,
              "#7201a8"
             ],
             [
              0.3333333333333333,
              "#9c179e"
             ],
             [
              0.4444444444444444,
              "#bd3786"
             ],
             [
              0.5555555555555556,
              "#d8576b"
             ],
             [
              0.6666666666666666,
              "#ed7953"
             ],
             [
              0.7777777777777778,
              "#fb9f3a"
             ],
             [
              0.8888888888888888,
              "#fdca26"
             ],
             [
              1,
              "#f0f921"
             ]
            ],
            "type": "contour"
           }
          ],
          "contourcarpet": [
           {
            "colorbar": {
             "outlinewidth": 0,
             "ticks": ""
            },
            "type": "contourcarpet"
           }
          ],
          "heatmap": [
           {
            "colorbar": {
             "outlinewidth": 0,
             "ticks": ""
            },
            "colorscale": [
             [
              0,
              "#0d0887"
             ],
             [
              0.1111111111111111,
              "#46039f"
             ],
             [
              0.2222222222222222,
              "#7201a8"
             ],
             [
              0.3333333333333333,
              "#9c179e"
             ],
             [
              0.4444444444444444,
              "#bd3786"
             ],
             [
              0.5555555555555556,
              "#d8576b"
             ],
             [
              0.6666666666666666,
              "#ed7953"
             ],
             [
              0.7777777777777778,
              "#fb9f3a"
             ],
             [
              0.8888888888888888,
              "#fdca26"
             ],
             [
              1,
              "#f0f921"
             ]
            ],
            "type": "heatmap"
           }
          ],
          "heatmapgl": [
           {
            "colorbar": {
             "outlinewidth": 0,
             "ticks": ""
            },
            "colorscale": [
             [
              0,
              "#0d0887"
             ],
             [
              0.1111111111111111,
              "#46039f"
             ],
             [
              0.2222222222222222,
              "#7201a8"
             ],
             [
              0.3333333333333333,
              "#9c179e"
             ],
             [
              0.4444444444444444,
              "#bd3786"
             ],
             [
              0.5555555555555556,
              "#d8576b"
             ],
             [
              0.6666666666666666,
              "#ed7953"
             ],
             [
              0.7777777777777778,
              "#fb9f3a"
             ],
             [
              0.8888888888888888,
              "#fdca26"
             ],
             [
              1,
              "#f0f921"
             ]
            ],
            "type": "heatmapgl"
           }
          ],
          "histogram": [
           {
            "marker": {
             "pattern": {
              "fillmode": "overlay",
              "size": 10,
              "solidity": 0.2
             }
            },
            "type": "histogram"
           }
          ],
          "histogram2d": [
           {
            "colorbar": {
             "outlinewidth": 0,
             "ticks": ""
            },
            "colorscale": [
             [
              0,
              "#0d0887"
             ],
             [
              0.1111111111111111,
              "#46039f"
             ],
             [
              0.2222222222222222,
              "#7201a8"
             ],
             [
              0.3333333333333333,
              "#9c179e"
             ],
             [
              0.4444444444444444,
              "#bd3786"
             ],
             [
              0.5555555555555556,
              "#d8576b"
             ],
             [
              0.6666666666666666,
              "#ed7953"
             ],
             [
              0.7777777777777778,
              "#fb9f3a"
             ],
             [
              0.8888888888888888,
              "#fdca26"
             ],
             [
              1,
              "#f0f921"
             ]
            ],
            "type": "histogram2d"
           }
          ],
          "histogram2dcontour": [
           {
            "colorbar": {
             "outlinewidth": 0,
             "ticks": ""
            },
            "colorscale": [
             [
              0,
              "#0d0887"
             ],
             [
              0.1111111111111111,
              "#46039f"
             ],
             [
              0.2222222222222222,
              "#7201a8"
             ],
             [
              0.3333333333333333,
              "#9c179e"
             ],
             [
              0.4444444444444444,
              "#bd3786"
             ],
             [
              0.5555555555555556,
              "#d8576b"
             ],
             [
              0.6666666666666666,
              "#ed7953"
             ],
             [
              0.7777777777777778,
              "#fb9f3a"
             ],
             [
              0.8888888888888888,
              "#fdca26"
             ],
             [
              1,
              "#f0f921"
             ]
            ],
            "type": "histogram2dcontour"
           }
          ],
          "mesh3d": [
           {
            "colorbar": {
             "outlinewidth": 0,
             "ticks": ""
            },
            "type": "mesh3d"
           }
          ],
          "parcoords": [
           {
            "line": {
             "colorbar": {
              "outlinewidth": 0,
              "ticks": ""
             }
            },
            "type": "parcoords"
           }
          ],
          "pie": [
           {
            "automargin": true,
            "type": "pie"
           }
          ],
          "scatter": [
           {
            "fillpattern": {
             "fillmode": "overlay",
             "size": 10,
             "solidity": 0.2
            },
            "type": "scatter"
           }
          ],
          "scatter3d": [
           {
            "line": {
             "colorbar": {
              "outlinewidth": 0,
              "ticks": ""
             }
            },
            "marker": {
             "colorbar": {
              "outlinewidth": 0,
              "ticks": ""
             }
            },
            "type": "scatter3d"
           }
          ],
          "scattercarpet": [
           {
            "marker": {
             "colorbar": {
              "outlinewidth": 0,
              "ticks": ""
             }
            },
            "type": "scattercarpet"
           }
          ],
          "scattergeo": [
           {
            "marker": {
             "colorbar": {
              "outlinewidth": 0,
              "ticks": ""
             }
            },
            "type": "scattergeo"
           }
          ],
          "scattergl": [
           {
            "marker": {
             "colorbar": {
              "outlinewidth": 0,
              "ticks": ""
             }
            },
            "type": "scattergl"
           }
          ],
          "scattermapbox": [
           {
            "marker": {
             "colorbar": {
              "outlinewidth": 0,
              "ticks": ""
             }
            },
            "type": "scattermapbox"
           }
          ],
          "scatterpolar": [
           {
            "marker": {
             "colorbar": {
              "outlinewidth": 0,
              "ticks": ""
             }
            },
            "type": "scatterpolar"
           }
          ],
          "scatterpolargl": [
           {
            "marker": {
             "colorbar": {
              "outlinewidth": 0,
              "ticks": ""
             }
            },
            "type": "scatterpolargl"
           }
          ],
          "scatterternary": [
           {
            "marker": {
             "colorbar": {
              "outlinewidth": 0,
              "ticks": ""
             }
            },
            "type": "scatterternary"
           }
          ],
          "surface": [
           {
            "colorbar": {
             "outlinewidth": 0,
             "ticks": ""
            },
            "colorscale": [
             [
              0,
              "#0d0887"
             ],
             [
              0.1111111111111111,
              "#46039f"
             ],
             [
              0.2222222222222222,
              "#7201a8"
             ],
             [
              0.3333333333333333,
              "#9c179e"
             ],
             [
              0.4444444444444444,
              "#bd3786"
             ],
             [
              0.5555555555555556,
              "#d8576b"
             ],
             [
              0.6666666666666666,
              "#ed7953"
             ],
             [
              0.7777777777777778,
              "#fb9f3a"
             ],
             [
              0.8888888888888888,
              "#fdca26"
             ],
             [
              1,
              "#f0f921"
             ]
            ],
            "type": "surface"
           }
          ],
          "table": [
           {
            "cells": {
             "fill": {
              "color": "#EBF0F8"
             },
             "line": {
              "color": "white"
             }
            },
            "header": {
             "fill": {
              "color": "#C8D4E3"
             },
             "line": {
              "color": "white"
             }
            },
            "type": "table"
           }
          ]
         },
         "layout": {
          "annotationdefaults": {
           "arrowcolor": "#2a3f5f",
           "arrowhead": 0,
           "arrowwidth": 1
          },
          "autotypenumbers": "strict",
          "coloraxis": {
           "colorbar": {
            "outlinewidth": 0,
            "ticks": ""
           }
          },
          "colorscale": {
           "diverging": [
            [
             0,
             "#8e0152"
            ],
            [
             0.1,
             "#c51b7d"
            ],
            [
             0.2,
             "#de77ae"
            ],
            [
             0.3,
             "#f1b6da"
            ],
            [
             0.4,
             "#fde0ef"
            ],
            [
             0.5,
             "#f7f7f7"
            ],
            [
             0.6,
             "#e6f5d0"
            ],
            [
             0.7,
             "#b8e186"
            ],
            [
             0.8,
             "#7fbc41"
            ],
            [
             0.9,
             "#4d9221"
            ],
            [
             1,
             "#276419"
            ]
           ],
           "sequential": [
            [
             0,
             "#0d0887"
            ],
            [
             0.1111111111111111,
             "#46039f"
            ],
            [
             0.2222222222222222,
             "#7201a8"
            ],
            [
             0.3333333333333333,
             "#9c179e"
            ],
            [
             0.4444444444444444,
             "#bd3786"
            ],
            [
             0.5555555555555556,
             "#d8576b"
            ],
            [
             0.6666666666666666,
             "#ed7953"
            ],
            [
             0.7777777777777778,
             "#fb9f3a"
            ],
            [
             0.8888888888888888,
             "#fdca26"
            ],
            [
             1,
             "#f0f921"
            ]
           ],
           "sequentialminus": [
            [
             0,
             "#0d0887"
            ],
            [
             0.1111111111111111,
             "#46039f"
            ],
            [
             0.2222222222222222,
             "#7201a8"
            ],
            [
             0.3333333333333333,
             "#9c179e"
            ],
            [
             0.4444444444444444,
             "#bd3786"
            ],
            [
             0.5555555555555556,
             "#d8576b"
            ],
            [
             0.6666666666666666,
             "#ed7953"
            ],
            [
             0.7777777777777778,
             "#fb9f3a"
            ],
            [
             0.8888888888888888,
             "#fdca26"
            ],
            [
             1,
             "#f0f921"
            ]
           ]
          },
          "colorway": [
           "#636efa",
           "#EF553B",
           "#00cc96",
           "#ab63fa",
           "#FFA15A",
           "#19d3f3",
           "#FF6692",
           "#B6E880",
           "#FF97FF",
           "#FECB52"
          ],
          "font": {
           "color": "#2a3f5f"
          },
          "geo": {
           "bgcolor": "white",
           "lakecolor": "white",
           "landcolor": "#E5ECF6",
           "showlakes": true,
           "showland": true,
           "subunitcolor": "white"
          },
          "hoverlabel": {
           "align": "left"
          },
          "hovermode": "closest",
          "mapbox": {
           "style": "light"
          },
          "paper_bgcolor": "white",
          "plot_bgcolor": "#E5ECF6",
          "polar": {
           "angularaxis": {
            "gridcolor": "white",
            "linecolor": "white",
            "ticks": ""
           },
           "bgcolor": "#E5ECF6",
           "radialaxis": {
            "gridcolor": "white",
            "linecolor": "white",
            "ticks": ""
           }
          },
          "scene": {
           "xaxis": {
            "backgroundcolor": "#E5ECF6",
            "gridcolor": "white",
            "gridwidth": 2,
            "linecolor": "white",
            "showbackground": true,
            "ticks": "",
            "zerolinecolor": "white"
           },
           "yaxis": {
            "backgroundcolor": "#E5ECF6",
            "gridcolor": "white",
            "gridwidth": 2,
            "linecolor": "white",
            "showbackground": true,
            "ticks": "",
            "zerolinecolor": "white"
           },
           "zaxis": {
            "backgroundcolor": "#E5ECF6",
            "gridcolor": "white",
            "gridwidth": 2,
            "linecolor": "white",
            "showbackground": true,
            "ticks": "",
            "zerolinecolor": "white"
           }
          },
          "shapedefaults": {
           "line": {
            "color": "#2a3f5f"
           }
          },
          "ternary": {
           "aaxis": {
            "gridcolor": "white",
            "linecolor": "white",
            "ticks": ""
           },
           "baxis": {
            "gridcolor": "white",
            "linecolor": "white",
            "ticks": ""
           },
           "bgcolor": "#E5ECF6",
           "caxis": {
            "gridcolor": "white",
            "linecolor": "white",
            "ticks": ""
           }
          },
          "title": {
           "x": 0.05
          },
          "xaxis": {
           "automargin": true,
           "gridcolor": "white",
           "linecolor": "white",
           "ticks": "",
           "title": {
            "standoff": 15
           },
           "zerolinecolor": "white",
           "zerolinewidth": 2
          },
          "yaxis": {
           "automargin": true,
           "gridcolor": "white",
           "linecolor": "white",
           "ticks": "",
           "title": {
            "standoff": 15
           },
           "zerolinecolor": "white",
           "zerolinewidth": 2
          }
         }
        },
        "title": {
         "font": {
          "color": "#4D5663"
         }
        },
        "xaxis": {
         "gridcolor": "#E1E5ED",
         "showgrid": true,
         "tickfont": {
          "color": "#4D5663"
         },
         "title": {
          "font": {
           "color": "#4D5663"
          },
          "text": ""
         },
         "zerolinecolor": "#E1E5ED"
        },
        "yaxis": {
         "gridcolor": "#E1E5ED",
         "showgrid": true,
         "tickfont": {
          "color": "#4D5663"
         },
         "title": {
          "font": {
           "color": "#4D5663"
          },
          "text": ""
         },
         "zerolinecolor": "#E1E5ED"
        }
       }
      },
      "text/html": [
       "<div>                            <div id=\"d00a574b-7bdb-402c-a7e9-cbe429a116d6\" class=\"plotly-graph-div\" style=\"height:525px; width:100%;\"></div>            <script type=\"text/javascript\">                require([\"plotly\"], function(Plotly) {                    window.PLOTLYENV=window.PLOTLYENV || {};\n",
       "                    window.PLOTLYENV.BASE_URL='https://plot.ly';                                    if (document.getElementById(\"d00a574b-7bdb-402c-a7e9-cbe429a116d6\")) {                    Plotly.newPlot(                        \"d00a574b-7bdb-402c-a7e9-cbe429a116d6\",                        [{\"marker\":{\"color\":\"rgba(255, 153, 51, 0.6)\",\"line\":{\"color\":\"rgba(255, 153, 51, 1.0)\",\"width\":1}},\"name\":\"Values\",\"orientation\":\"v\",\"text\":\"\",\"x\":[\"A\",\"B\",\"C\"],\"y\":[32,43,50],\"type\":\"bar\"}],                        {\"legend\":{\"bgcolor\":\"#F5F6F9\",\"font\":{\"color\":\"#4D5663\"}},\"paper_bgcolor\":\"#F5F6F9\",\"plot_bgcolor\":\"#F5F6F9\",\"template\":{\"data\":{\"barpolar\":[{\"marker\":{\"line\":{\"color\":\"#E5ECF6\",\"width\":0.5},\"pattern\":{\"fillmode\":\"overlay\",\"size\":10,\"solidity\":0.2}},\"type\":\"barpolar\"}],\"bar\":[{\"error_x\":{\"color\":\"#2a3f5f\"},\"error_y\":{\"color\":\"#2a3f5f\"},\"marker\":{\"line\":{\"color\":\"#E5ECF6\",\"width\":0.5},\"pattern\":{\"fillmode\":\"overlay\",\"size\":10,\"solidity\":0.2}},\"type\":\"bar\"}],\"carpet\":[{\"aaxis\":{\"endlinecolor\":\"#2a3f5f\",\"gridcolor\":\"white\",\"linecolor\":\"white\",\"minorgridcolor\":\"white\",\"startlinecolor\":\"#2a3f5f\"},\"baxis\":{\"endlinecolor\":\"#2a3f5f\",\"gridcolor\":\"white\",\"linecolor\":\"white\",\"minorgridcolor\":\"white\",\"startlinecolor\":\"#2a3f5f\"},\"type\":\"carpet\"}],\"choropleth\":[{\"colorbar\":{\"outlinewidth\":0,\"ticks\":\"\"},\"type\":\"choropleth\"}],\"contourcarpet\":[{\"colorbar\":{\"outlinewidth\":0,\"ticks\":\"\"},\"type\":\"contourcarpet\"}],\"contour\":[{\"colorbar\":{\"outlinewidth\":0,\"ticks\":\"\"},\"colorscale\":[[0.0,\"#0d0887\"],[0.1111111111111111,\"#46039f\"],[0.2222222222222222,\"#7201a8\"],[0.3333333333333333,\"#9c179e\"],[0.4444444444444444,\"#bd3786\"],[0.5555555555555556,\"#d8576b\"],[0.6666666666666666,\"#ed7953\"],[0.7777777777777778,\"#fb9f3a\"],[0.8888888888888888,\"#fdca26\"],[1.0,\"#f0f921\"]],\"type\":\"contour\"}],\"heatmapgl\":[{\"colorbar\":{\"outlinewidth\":0,\"ticks\":\"\"},\"colorscale\":[[0.0,\"#0d0887\"],[0.1111111111111111,\"#46039f\"],[0.2222222222222222,\"#7201a8\"],[0.3333333333333333,\"#9c179e\"],[0.4444444444444444,\"#bd3786\"],[0.5555555555555556,\"#d8576b\"],[0.6666666666666666,\"#ed7953\"],[0.7777777777777778,\"#fb9f3a\"],[0.8888888888888888,\"#fdca26\"],[1.0,\"#f0f921\"]],\"type\":\"heatmapgl\"}],\"heatmap\":[{\"colorbar\":{\"outlinewidth\":0,\"ticks\":\"\"},\"colorscale\":[[0.0,\"#0d0887\"],[0.1111111111111111,\"#46039f\"],[0.2222222222222222,\"#7201a8\"],[0.3333333333333333,\"#9c179e\"],[0.4444444444444444,\"#bd3786\"],[0.5555555555555556,\"#d8576b\"],[0.6666666666666666,\"#ed7953\"],[0.7777777777777778,\"#fb9f3a\"],[0.8888888888888888,\"#fdca26\"],[1.0,\"#f0f921\"]],\"type\":\"heatmap\"}],\"histogram2dcontour\":[{\"colorbar\":{\"outlinewidth\":0,\"ticks\":\"\"},\"colorscale\":[[0.0,\"#0d0887\"],[0.1111111111111111,\"#46039f\"],[0.2222222222222222,\"#7201a8\"],[0.3333333333333333,\"#9c179e\"],[0.4444444444444444,\"#bd3786\"],[0.5555555555555556,\"#d8576b\"],[0.6666666666666666,\"#ed7953\"],[0.7777777777777778,\"#fb9f3a\"],[0.8888888888888888,\"#fdca26\"],[1.0,\"#f0f921\"]],\"type\":\"histogram2dcontour\"}],\"histogram2d\":[{\"colorbar\":{\"outlinewidth\":0,\"ticks\":\"\"},\"colorscale\":[[0.0,\"#0d0887\"],[0.1111111111111111,\"#46039f\"],[0.2222222222222222,\"#7201a8\"],[0.3333333333333333,\"#9c179e\"],[0.4444444444444444,\"#bd3786\"],[0.5555555555555556,\"#d8576b\"],[0.6666666666666666,\"#ed7953\"],[0.7777777777777778,\"#fb9f3a\"],[0.8888888888888888,\"#fdca26\"],[1.0,\"#f0f921\"]],\"type\":\"histogram2d\"}],\"histogram\":[{\"marker\":{\"pattern\":{\"fillmode\":\"overlay\",\"size\":10,\"solidity\":0.2}},\"type\":\"histogram\"}],\"mesh3d\":[{\"colorbar\":{\"outlinewidth\":0,\"ticks\":\"\"},\"type\":\"mesh3d\"}],\"parcoords\":[{\"line\":{\"colorbar\":{\"outlinewidth\":0,\"ticks\":\"\"}},\"type\":\"parcoords\"}],\"pie\":[{\"automargin\":true,\"type\":\"pie\"}],\"scatter3d\":[{\"line\":{\"colorbar\":{\"outlinewidth\":0,\"ticks\":\"\"}},\"marker\":{\"colorbar\":{\"outlinewidth\":0,\"ticks\":\"\"}},\"type\":\"scatter3d\"}],\"scattercarpet\":[{\"marker\":{\"colorbar\":{\"outlinewidth\":0,\"ticks\":\"\"}},\"type\":\"scattercarpet\"}],\"scattergeo\":[{\"marker\":{\"colorbar\":{\"outlinewidth\":0,\"ticks\":\"\"}},\"type\":\"scattergeo\"}],\"scattergl\":[{\"marker\":{\"colorbar\":{\"outlinewidth\":0,\"ticks\":\"\"}},\"type\":\"scattergl\"}],\"scattermapbox\":[{\"marker\":{\"colorbar\":{\"outlinewidth\":0,\"ticks\":\"\"}},\"type\":\"scattermapbox\"}],\"scatterpolargl\":[{\"marker\":{\"colorbar\":{\"outlinewidth\":0,\"ticks\":\"\"}},\"type\":\"scatterpolargl\"}],\"scatterpolar\":[{\"marker\":{\"colorbar\":{\"outlinewidth\":0,\"ticks\":\"\"}},\"type\":\"scatterpolar\"}],\"scatter\":[{\"fillpattern\":{\"fillmode\":\"overlay\",\"size\":10,\"solidity\":0.2},\"type\":\"scatter\"}],\"scatterternary\":[{\"marker\":{\"colorbar\":{\"outlinewidth\":0,\"ticks\":\"\"}},\"type\":\"scatterternary\"}],\"surface\":[{\"colorbar\":{\"outlinewidth\":0,\"ticks\":\"\"},\"colorscale\":[[0.0,\"#0d0887\"],[0.1111111111111111,\"#46039f\"],[0.2222222222222222,\"#7201a8\"],[0.3333333333333333,\"#9c179e\"],[0.4444444444444444,\"#bd3786\"],[0.5555555555555556,\"#d8576b\"],[0.6666666666666666,\"#ed7953\"],[0.7777777777777778,\"#fb9f3a\"],[0.8888888888888888,\"#fdca26\"],[1.0,\"#f0f921\"]],\"type\":\"surface\"}],\"table\":[{\"cells\":{\"fill\":{\"color\":\"#EBF0F8\"},\"line\":{\"color\":\"white\"}},\"header\":{\"fill\":{\"color\":\"#C8D4E3\"},\"line\":{\"color\":\"white\"}},\"type\":\"table\"}]},\"layout\":{\"annotationdefaults\":{\"arrowcolor\":\"#2a3f5f\",\"arrowhead\":0,\"arrowwidth\":1},\"autotypenumbers\":\"strict\",\"coloraxis\":{\"colorbar\":{\"outlinewidth\":0,\"ticks\":\"\"}},\"colorscale\":{\"diverging\":[[0,\"#8e0152\"],[0.1,\"#c51b7d\"],[0.2,\"#de77ae\"],[0.3,\"#f1b6da\"],[0.4,\"#fde0ef\"],[0.5,\"#f7f7f7\"],[0.6,\"#e6f5d0\"],[0.7,\"#b8e186\"],[0.8,\"#7fbc41\"],[0.9,\"#4d9221\"],[1,\"#276419\"]],\"sequential\":[[0.0,\"#0d0887\"],[0.1111111111111111,\"#46039f\"],[0.2222222222222222,\"#7201a8\"],[0.3333333333333333,\"#9c179e\"],[0.4444444444444444,\"#bd3786\"],[0.5555555555555556,\"#d8576b\"],[0.6666666666666666,\"#ed7953\"],[0.7777777777777778,\"#fb9f3a\"],[0.8888888888888888,\"#fdca26\"],[1.0,\"#f0f921\"]],\"sequentialminus\":[[0.0,\"#0d0887\"],[0.1111111111111111,\"#46039f\"],[0.2222222222222222,\"#7201a8\"],[0.3333333333333333,\"#9c179e\"],[0.4444444444444444,\"#bd3786\"],[0.5555555555555556,\"#d8576b\"],[0.6666666666666666,\"#ed7953\"],[0.7777777777777778,\"#fb9f3a\"],[0.8888888888888888,\"#fdca26\"],[1.0,\"#f0f921\"]]},\"colorway\":[\"#636efa\",\"#EF553B\",\"#00cc96\",\"#ab63fa\",\"#FFA15A\",\"#19d3f3\",\"#FF6692\",\"#B6E880\",\"#FF97FF\",\"#FECB52\"],\"font\":{\"color\":\"#2a3f5f\"},\"geo\":{\"bgcolor\":\"white\",\"lakecolor\":\"white\",\"landcolor\":\"#E5ECF6\",\"showlakes\":true,\"showland\":true,\"subunitcolor\":\"white\"},\"hoverlabel\":{\"align\":\"left\"},\"hovermode\":\"closest\",\"mapbox\":{\"style\":\"light\"},\"paper_bgcolor\":\"white\",\"plot_bgcolor\":\"#E5ECF6\",\"polar\":{\"angularaxis\":{\"gridcolor\":\"white\",\"linecolor\":\"white\",\"ticks\":\"\"},\"bgcolor\":\"#E5ECF6\",\"radialaxis\":{\"gridcolor\":\"white\",\"linecolor\":\"white\",\"ticks\":\"\"}},\"scene\":{\"xaxis\":{\"backgroundcolor\":\"#E5ECF6\",\"gridcolor\":\"white\",\"gridwidth\":2,\"linecolor\":\"white\",\"showbackground\":true,\"ticks\":\"\",\"zerolinecolor\":\"white\"},\"yaxis\":{\"backgroundcolor\":\"#E5ECF6\",\"gridcolor\":\"white\",\"gridwidth\":2,\"linecolor\":\"white\",\"showbackground\":true,\"ticks\":\"\",\"zerolinecolor\":\"white\"},\"zaxis\":{\"backgroundcolor\":\"#E5ECF6\",\"gridcolor\":\"white\",\"gridwidth\":2,\"linecolor\":\"white\",\"showbackground\":true,\"ticks\":\"\",\"zerolinecolor\":\"white\"}},\"shapedefaults\":{\"line\":{\"color\":\"#2a3f5f\"}},\"ternary\":{\"aaxis\":{\"gridcolor\":\"white\",\"linecolor\":\"white\",\"ticks\":\"\"},\"baxis\":{\"gridcolor\":\"white\",\"linecolor\":\"white\",\"ticks\":\"\"},\"bgcolor\":\"#E5ECF6\",\"caxis\":{\"gridcolor\":\"white\",\"linecolor\":\"white\",\"ticks\":\"\"}},\"title\":{\"x\":0.05},\"xaxis\":{\"automargin\":true,\"gridcolor\":\"white\",\"linecolor\":\"white\",\"ticks\":\"\",\"title\":{\"standoff\":15},\"zerolinecolor\":\"white\",\"zerolinewidth\":2},\"yaxis\":{\"automargin\":true,\"gridcolor\":\"white\",\"linecolor\":\"white\",\"ticks\":\"\",\"title\":{\"standoff\":15},\"zerolinecolor\":\"white\",\"zerolinewidth\":2}}},\"title\":{\"font\":{\"color\":\"#4D5663\"}},\"xaxis\":{\"gridcolor\":\"#E1E5ED\",\"showgrid\":true,\"tickfont\":{\"color\":\"#4D5663\"},\"title\":{\"font\":{\"color\":\"#4D5663\"},\"text\":\"\"},\"zerolinecolor\":\"#E1E5ED\"},\"yaxis\":{\"gridcolor\":\"#E1E5ED\",\"showgrid\":true,\"tickfont\":{\"color\":\"#4D5663\"},\"title\":{\"font\":{\"color\":\"#4D5663\"},\"text\":\"\"},\"zerolinecolor\":\"#E1E5ED\"}},                        {\"showLink\": true, \"linkText\": \"Export to plot.ly\", \"plotlyServerURL\": \"https://plot.ly\", \"responsive\": true}                    ).then(function(){\n",
       "                            \n",
       "var gd = document.getElementById('d00a574b-7bdb-402c-a7e9-cbe429a116d6');\n",
       "var x = new MutationObserver(function (mutations, observer) {{\n",
       "        var display = window.getComputedStyle(gd).display;\n",
       "        if (!display || display === 'none') {{\n",
       "            console.log([gd, 'removed!']);\n",
       "            Plotly.purge(gd);\n",
       "            observer.disconnect();\n",
       "        }}\n",
       "}});\n",
       "\n",
       "// Listen for the removal of the full notebook cells\n",
       "var notebookContainer = gd.closest('#notebook-container');\n",
       "if (notebookContainer) {{\n",
       "    x.observe(notebookContainer, {childList: true});\n",
       "}}\n",
       "\n",
       "// Listen for the clearing of the current output cell\n",
       "var outputEl = gd.closest('.output');\n",
       "if (outputEl) {{\n",
       "    x.observe(outputEl, {childList: true});\n",
       "}}\n",
       "\n",
       "                        })                };                });            </script>        </div>"
      ]
     },
     "metadata": {},
     "output_type": "display_data"
    }
   ],
   "source": [
    "df2.iplot(kind='bar',x='Category',y='Values')"
   ]
  },
  {
   "cell_type": "code",
   "execution_count": 13,
   "metadata": {},
   "outputs": [
    {
     "data": {
      "application/vnd.plotly.v1+json": {
       "config": {
        "linkText": "Export to plot.ly",
        "plotlyServerURL": "https://plot.ly",
        "showLink": true
       },
       "data": [
        {
         "marker": {
          "color": "rgba(255, 153, 51, 0.6)",
          "line": {
           "color": "rgba(255, 153, 51, 1.0)",
           "width": 1
          }
         },
         "name": "None",
         "orientation": "v",
         "text": "",
         "type": "bar",
         "x": [
          "A",
          "B",
          "C",
          "D"
         ],
         "y": [
          100,
          100,
          100,
          100
         ]
        }
       ],
       "layout": {
        "legend": {
         "bgcolor": "#F5F6F9",
         "font": {
          "color": "#4D5663"
         }
        },
        "paper_bgcolor": "#F5F6F9",
        "plot_bgcolor": "#F5F6F9",
        "template": {
         "data": {
          "bar": [
           {
            "error_x": {
             "color": "#2a3f5f"
            },
            "error_y": {
             "color": "#2a3f5f"
            },
            "marker": {
             "line": {
              "color": "#E5ECF6",
              "width": 0.5
             },
             "pattern": {
              "fillmode": "overlay",
              "size": 10,
              "solidity": 0.2
             }
            },
            "type": "bar"
           }
          ],
          "barpolar": [
           {
            "marker": {
             "line": {
              "color": "#E5ECF6",
              "width": 0.5
             },
             "pattern": {
              "fillmode": "overlay",
              "size": 10,
              "solidity": 0.2
             }
            },
            "type": "barpolar"
           }
          ],
          "carpet": [
           {
            "aaxis": {
             "endlinecolor": "#2a3f5f",
             "gridcolor": "white",
             "linecolor": "white",
             "minorgridcolor": "white",
             "startlinecolor": "#2a3f5f"
            },
            "baxis": {
             "endlinecolor": "#2a3f5f",
             "gridcolor": "white",
             "linecolor": "white",
             "minorgridcolor": "white",
             "startlinecolor": "#2a3f5f"
            },
            "type": "carpet"
           }
          ],
          "choropleth": [
           {
            "colorbar": {
             "outlinewidth": 0,
             "ticks": ""
            },
            "type": "choropleth"
           }
          ],
          "contour": [
           {
            "colorbar": {
             "outlinewidth": 0,
             "ticks": ""
            },
            "colorscale": [
             [
              0,
              "#0d0887"
             ],
             [
              0.1111111111111111,
              "#46039f"
             ],
             [
              0.2222222222222222,
              "#7201a8"
             ],
             [
              0.3333333333333333,
              "#9c179e"
             ],
             [
              0.4444444444444444,
              "#bd3786"
             ],
             [
              0.5555555555555556,
              "#d8576b"
             ],
             [
              0.6666666666666666,
              "#ed7953"
             ],
             [
              0.7777777777777778,
              "#fb9f3a"
             ],
             [
              0.8888888888888888,
              "#fdca26"
             ],
             [
              1,
              "#f0f921"
             ]
            ],
            "type": "contour"
           }
          ],
          "contourcarpet": [
           {
            "colorbar": {
             "outlinewidth": 0,
             "ticks": ""
            },
            "type": "contourcarpet"
           }
          ],
          "heatmap": [
           {
            "colorbar": {
             "outlinewidth": 0,
             "ticks": ""
            },
            "colorscale": [
             [
              0,
              "#0d0887"
             ],
             [
              0.1111111111111111,
              "#46039f"
             ],
             [
              0.2222222222222222,
              "#7201a8"
             ],
             [
              0.3333333333333333,
              "#9c179e"
             ],
             [
              0.4444444444444444,
              "#bd3786"
             ],
             [
              0.5555555555555556,
              "#d8576b"
             ],
             [
              0.6666666666666666,
              "#ed7953"
             ],
             [
              0.7777777777777778,
              "#fb9f3a"
             ],
             [
              0.8888888888888888,
              "#fdca26"
             ],
             [
              1,
              "#f0f921"
             ]
            ],
            "type": "heatmap"
           }
          ],
          "heatmapgl": [
           {
            "colorbar": {
             "outlinewidth": 0,
             "ticks": ""
            },
            "colorscale": [
             [
              0,
              "#0d0887"
             ],
             [
              0.1111111111111111,
              "#46039f"
             ],
             [
              0.2222222222222222,
              "#7201a8"
             ],
             [
              0.3333333333333333,
              "#9c179e"
             ],
             [
              0.4444444444444444,
              "#bd3786"
             ],
             [
              0.5555555555555556,
              "#d8576b"
             ],
             [
              0.6666666666666666,
              "#ed7953"
             ],
             [
              0.7777777777777778,
              "#fb9f3a"
             ],
             [
              0.8888888888888888,
              "#fdca26"
             ],
             [
              1,
              "#f0f921"
             ]
            ],
            "type": "heatmapgl"
           }
          ],
          "histogram": [
           {
            "marker": {
             "pattern": {
              "fillmode": "overlay",
              "size": 10,
              "solidity": 0.2
             }
            },
            "type": "histogram"
           }
          ],
          "histogram2d": [
           {
            "colorbar": {
             "outlinewidth": 0,
             "ticks": ""
            },
            "colorscale": [
             [
              0,
              "#0d0887"
             ],
             [
              0.1111111111111111,
              "#46039f"
             ],
             [
              0.2222222222222222,
              "#7201a8"
             ],
             [
              0.3333333333333333,
              "#9c179e"
             ],
             [
              0.4444444444444444,
              "#bd3786"
             ],
             [
              0.5555555555555556,
              "#d8576b"
             ],
             [
              0.6666666666666666,
              "#ed7953"
             ],
             [
              0.7777777777777778,
              "#fb9f3a"
             ],
             [
              0.8888888888888888,
              "#fdca26"
             ],
             [
              1,
              "#f0f921"
             ]
            ],
            "type": "histogram2d"
           }
          ],
          "histogram2dcontour": [
           {
            "colorbar": {
             "outlinewidth": 0,
             "ticks": ""
            },
            "colorscale": [
             [
              0,
              "#0d0887"
             ],
             [
              0.1111111111111111,
              "#46039f"
             ],
             [
              0.2222222222222222,
              "#7201a8"
             ],
             [
              0.3333333333333333,
              "#9c179e"
             ],
             [
              0.4444444444444444,
              "#bd3786"
             ],
             [
              0.5555555555555556,
              "#d8576b"
             ],
             [
              0.6666666666666666,
              "#ed7953"
             ],
             [
              0.7777777777777778,
              "#fb9f3a"
             ],
             [
              0.8888888888888888,
              "#fdca26"
             ],
             [
              1,
              "#f0f921"
             ]
            ],
            "type": "histogram2dcontour"
           }
          ],
          "mesh3d": [
           {
            "colorbar": {
             "outlinewidth": 0,
             "ticks": ""
            },
            "type": "mesh3d"
           }
          ],
          "parcoords": [
           {
            "line": {
             "colorbar": {
              "outlinewidth": 0,
              "ticks": ""
             }
            },
            "type": "parcoords"
           }
          ],
          "pie": [
           {
            "automargin": true,
            "type": "pie"
           }
          ],
          "scatter": [
           {
            "fillpattern": {
             "fillmode": "overlay",
             "size": 10,
             "solidity": 0.2
            },
            "type": "scatter"
           }
          ],
          "scatter3d": [
           {
            "line": {
             "colorbar": {
              "outlinewidth": 0,
              "ticks": ""
             }
            },
            "marker": {
             "colorbar": {
              "outlinewidth": 0,
              "ticks": ""
             }
            },
            "type": "scatter3d"
           }
          ],
          "scattercarpet": [
           {
            "marker": {
             "colorbar": {
              "outlinewidth": 0,
              "ticks": ""
             }
            },
            "type": "scattercarpet"
           }
          ],
          "scattergeo": [
           {
            "marker": {
             "colorbar": {
              "outlinewidth": 0,
              "ticks": ""
             }
            },
            "type": "scattergeo"
           }
          ],
          "scattergl": [
           {
            "marker": {
             "colorbar": {
              "outlinewidth": 0,
              "ticks": ""
             }
            },
            "type": "scattergl"
           }
          ],
          "scattermapbox": [
           {
            "marker": {
             "colorbar": {
              "outlinewidth": 0,
              "ticks": ""
             }
            },
            "type": "scattermapbox"
           }
          ],
          "scatterpolar": [
           {
            "marker": {
             "colorbar": {
              "outlinewidth": 0,
              "ticks": ""
             }
            },
            "type": "scatterpolar"
           }
          ],
          "scatterpolargl": [
           {
            "marker": {
             "colorbar": {
              "outlinewidth": 0,
              "ticks": ""
             }
            },
            "type": "scatterpolargl"
           }
          ],
          "scatterternary": [
           {
            "marker": {
             "colorbar": {
              "outlinewidth": 0,
              "ticks": ""
             }
            },
            "type": "scatterternary"
           }
          ],
          "surface": [
           {
            "colorbar": {
             "outlinewidth": 0,
             "ticks": ""
            },
            "colorscale": [
             [
              0,
              "#0d0887"
             ],
             [
              0.1111111111111111,
              "#46039f"
             ],
             [
              0.2222222222222222,
              "#7201a8"
             ],
             [
              0.3333333333333333,
              "#9c179e"
             ],
             [
              0.4444444444444444,
              "#bd3786"
             ],
             [
              0.5555555555555556,
              "#d8576b"
             ],
             [
              0.6666666666666666,
              "#ed7953"
             ],
             [
              0.7777777777777778,
              "#fb9f3a"
             ],
             [
              0.8888888888888888,
              "#fdca26"
             ],
             [
              1,
              "#f0f921"
             ]
            ],
            "type": "surface"
           }
          ],
          "table": [
           {
            "cells": {
             "fill": {
              "color": "#EBF0F8"
             },
             "line": {
              "color": "white"
             }
            },
            "header": {
             "fill": {
              "color": "#C8D4E3"
             },
             "line": {
              "color": "white"
             }
            },
            "type": "table"
           }
          ]
         },
         "layout": {
          "annotationdefaults": {
           "arrowcolor": "#2a3f5f",
           "arrowhead": 0,
           "arrowwidth": 1
          },
          "autotypenumbers": "strict",
          "coloraxis": {
           "colorbar": {
            "outlinewidth": 0,
            "ticks": ""
           }
          },
          "colorscale": {
           "diverging": [
            [
             0,
             "#8e0152"
            ],
            [
             0.1,
             "#c51b7d"
            ],
            [
             0.2,
             "#de77ae"
            ],
            [
             0.3,
             "#f1b6da"
            ],
            [
             0.4,
             "#fde0ef"
            ],
            [
             0.5,
             "#f7f7f7"
            ],
            [
             0.6,
             "#e6f5d0"
            ],
            [
             0.7,
             "#b8e186"
            ],
            [
             0.8,
             "#7fbc41"
            ],
            [
             0.9,
             "#4d9221"
            ],
            [
             1,
             "#276419"
            ]
           ],
           "sequential": [
            [
             0,
             "#0d0887"
            ],
            [
             0.1111111111111111,
             "#46039f"
            ],
            [
             0.2222222222222222,
             "#7201a8"
            ],
            [
             0.3333333333333333,
             "#9c179e"
            ],
            [
             0.4444444444444444,
             "#bd3786"
            ],
            [
             0.5555555555555556,
             "#d8576b"
            ],
            [
             0.6666666666666666,
             "#ed7953"
            ],
            [
             0.7777777777777778,
             "#fb9f3a"
            ],
            [
             0.8888888888888888,
             "#fdca26"
            ],
            [
             1,
             "#f0f921"
            ]
           ],
           "sequentialminus": [
            [
             0,
             "#0d0887"
            ],
            [
             0.1111111111111111,
             "#46039f"
            ],
            [
             0.2222222222222222,
             "#7201a8"
            ],
            [
             0.3333333333333333,
             "#9c179e"
            ],
            [
             0.4444444444444444,
             "#bd3786"
            ],
            [
             0.5555555555555556,
             "#d8576b"
            ],
            [
             0.6666666666666666,
             "#ed7953"
            ],
            [
             0.7777777777777778,
             "#fb9f3a"
            ],
            [
             0.8888888888888888,
             "#fdca26"
            ],
            [
             1,
             "#f0f921"
            ]
           ]
          },
          "colorway": [
           "#636efa",
           "#EF553B",
           "#00cc96",
           "#ab63fa",
           "#FFA15A",
           "#19d3f3",
           "#FF6692",
           "#B6E880",
           "#FF97FF",
           "#FECB52"
          ],
          "font": {
           "color": "#2a3f5f"
          },
          "geo": {
           "bgcolor": "white",
           "lakecolor": "white",
           "landcolor": "#E5ECF6",
           "showlakes": true,
           "showland": true,
           "subunitcolor": "white"
          },
          "hoverlabel": {
           "align": "left"
          },
          "hovermode": "closest",
          "mapbox": {
           "style": "light"
          },
          "paper_bgcolor": "white",
          "plot_bgcolor": "#E5ECF6",
          "polar": {
           "angularaxis": {
            "gridcolor": "white",
            "linecolor": "white",
            "ticks": ""
           },
           "bgcolor": "#E5ECF6",
           "radialaxis": {
            "gridcolor": "white",
            "linecolor": "white",
            "ticks": ""
           }
          },
          "scene": {
           "xaxis": {
            "backgroundcolor": "#E5ECF6",
            "gridcolor": "white",
            "gridwidth": 2,
            "linecolor": "white",
            "showbackground": true,
            "ticks": "",
            "zerolinecolor": "white"
           },
           "yaxis": {
            "backgroundcolor": "#E5ECF6",
            "gridcolor": "white",
            "gridwidth": 2,
            "linecolor": "white",
            "showbackground": true,
            "ticks": "",
            "zerolinecolor": "white"
           },
           "zaxis": {
            "backgroundcolor": "#E5ECF6",
            "gridcolor": "white",
            "gridwidth": 2,
            "linecolor": "white",
            "showbackground": true,
            "ticks": "",
            "zerolinecolor": "white"
           }
          },
          "shapedefaults": {
           "line": {
            "color": "#2a3f5f"
           }
          },
          "ternary": {
           "aaxis": {
            "gridcolor": "white",
            "linecolor": "white",
            "ticks": ""
           },
           "baxis": {
            "gridcolor": "white",
            "linecolor": "white",
            "ticks": ""
           },
           "bgcolor": "#E5ECF6",
           "caxis": {
            "gridcolor": "white",
            "linecolor": "white",
            "ticks": ""
           }
          },
          "title": {
           "x": 0.05
          },
          "xaxis": {
           "automargin": true,
           "gridcolor": "white",
           "linecolor": "white",
           "ticks": "",
           "title": {
            "standoff": 15
           },
           "zerolinecolor": "white",
           "zerolinewidth": 2
          },
          "yaxis": {
           "automargin": true,
           "gridcolor": "white",
           "linecolor": "white",
           "ticks": "",
           "title": {
            "standoff": 15
           },
           "zerolinecolor": "white",
           "zerolinewidth": 2
          }
         }
        },
        "title": {
         "font": {
          "color": "#4D5663"
         }
        },
        "xaxis": {
         "gridcolor": "#E1E5ED",
         "showgrid": true,
         "tickfont": {
          "color": "#4D5663"
         },
         "title": {
          "font": {
           "color": "#4D5663"
          },
          "text": ""
         },
         "zerolinecolor": "#E1E5ED"
        },
        "yaxis": {
         "gridcolor": "#E1E5ED",
         "showgrid": true,
         "tickfont": {
          "color": "#4D5663"
         },
         "title": {
          "font": {
           "color": "#4D5663"
          },
          "text": ""
         },
         "zerolinecolor": "#E1E5ED"
        }
       }
      },
      "text/html": [
       "<div>                            <div id=\"bcd1efe3-5690-48b7-be46-2f9634b84c5d\" class=\"plotly-graph-div\" style=\"height:525px; width:100%;\"></div>            <script type=\"text/javascript\">                require([\"plotly\"], function(Plotly) {                    window.PLOTLYENV=window.PLOTLYENV || {};\n",
       "                    window.PLOTLYENV.BASE_URL='https://plot.ly';                                    if (document.getElementById(\"bcd1efe3-5690-48b7-be46-2f9634b84c5d\")) {                    Plotly.newPlot(                        \"bcd1efe3-5690-48b7-be46-2f9634b84c5d\",                        [{\"marker\":{\"color\":\"rgba(255, 153, 51, 0.6)\",\"line\":{\"color\":\"rgba(255, 153, 51, 1.0)\",\"width\":1}},\"name\":\"None\",\"orientation\":\"v\",\"text\":\"\",\"x\":[\"A\",\"B\",\"C\",\"D\"],\"y\":[100,100,100,100],\"type\":\"bar\"}],                        {\"legend\":{\"bgcolor\":\"#F5F6F9\",\"font\":{\"color\":\"#4D5663\"}},\"paper_bgcolor\":\"#F5F6F9\",\"plot_bgcolor\":\"#F5F6F9\",\"template\":{\"data\":{\"barpolar\":[{\"marker\":{\"line\":{\"color\":\"#E5ECF6\",\"width\":0.5},\"pattern\":{\"fillmode\":\"overlay\",\"size\":10,\"solidity\":0.2}},\"type\":\"barpolar\"}],\"bar\":[{\"error_x\":{\"color\":\"#2a3f5f\"},\"error_y\":{\"color\":\"#2a3f5f\"},\"marker\":{\"line\":{\"color\":\"#E5ECF6\",\"width\":0.5},\"pattern\":{\"fillmode\":\"overlay\",\"size\":10,\"solidity\":0.2}},\"type\":\"bar\"}],\"carpet\":[{\"aaxis\":{\"endlinecolor\":\"#2a3f5f\",\"gridcolor\":\"white\",\"linecolor\":\"white\",\"minorgridcolor\":\"white\",\"startlinecolor\":\"#2a3f5f\"},\"baxis\":{\"endlinecolor\":\"#2a3f5f\",\"gridcolor\":\"white\",\"linecolor\":\"white\",\"minorgridcolor\":\"white\",\"startlinecolor\":\"#2a3f5f\"},\"type\":\"carpet\"}],\"choropleth\":[{\"colorbar\":{\"outlinewidth\":0,\"ticks\":\"\"},\"type\":\"choropleth\"}],\"contourcarpet\":[{\"colorbar\":{\"outlinewidth\":0,\"ticks\":\"\"},\"type\":\"contourcarpet\"}],\"contour\":[{\"colorbar\":{\"outlinewidth\":0,\"ticks\":\"\"},\"colorscale\":[[0.0,\"#0d0887\"],[0.1111111111111111,\"#46039f\"],[0.2222222222222222,\"#7201a8\"],[0.3333333333333333,\"#9c179e\"],[0.4444444444444444,\"#bd3786\"],[0.5555555555555556,\"#d8576b\"],[0.6666666666666666,\"#ed7953\"],[0.7777777777777778,\"#fb9f3a\"],[0.8888888888888888,\"#fdca26\"],[1.0,\"#f0f921\"]],\"type\":\"contour\"}],\"heatmapgl\":[{\"colorbar\":{\"outlinewidth\":0,\"ticks\":\"\"},\"colorscale\":[[0.0,\"#0d0887\"],[0.1111111111111111,\"#46039f\"],[0.2222222222222222,\"#7201a8\"],[0.3333333333333333,\"#9c179e\"],[0.4444444444444444,\"#bd3786\"],[0.5555555555555556,\"#d8576b\"],[0.6666666666666666,\"#ed7953\"],[0.7777777777777778,\"#fb9f3a\"],[0.8888888888888888,\"#fdca26\"],[1.0,\"#f0f921\"]],\"type\":\"heatmapgl\"}],\"heatmap\":[{\"colorbar\":{\"outlinewidth\":0,\"ticks\":\"\"},\"colorscale\":[[0.0,\"#0d0887\"],[0.1111111111111111,\"#46039f\"],[0.2222222222222222,\"#7201a8\"],[0.3333333333333333,\"#9c179e\"],[0.4444444444444444,\"#bd3786\"],[0.5555555555555556,\"#d8576b\"],[0.6666666666666666,\"#ed7953\"],[0.7777777777777778,\"#fb9f3a\"],[0.8888888888888888,\"#fdca26\"],[1.0,\"#f0f921\"]],\"type\":\"heatmap\"}],\"histogram2dcontour\":[{\"colorbar\":{\"outlinewidth\":0,\"ticks\":\"\"},\"colorscale\":[[0.0,\"#0d0887\"],[0.1111111111111111,\"#46039f\"],[0.2222222222222222,\"#7201a8\"],[0.3333333333333333,\"#9c179e\"],[0.4444444444444444,\"#bd3786\"],[0.5555555555555556,\"#d8576b\"],[0.6666666666666666,\"#ed7953\"],[0.7777777777777778,\"#fb9f3a\"],[0.8888888888888888,\"#fdca26\"],[1.0,\"#f0f921\"]],\"type\":\"histogram2dcontour\"}],\"histogram2d\":[{\"colorbar\":{\"outlinewidth\":0,\"ticks\":\"\"},\"colorscale\":[[0.0,\"#0d0887\"],[0.1111111111111111,\"#46039f\"],[0.2222222222222222,\"#7201a8\"],[0.3333333333333333,\"#9c179e\"],[0.4444444444444444,\"#bd3786\"],[0.5555555555555556,\"#d8576b\"],[0.6666666666666666,\"#ed7953\"],[0.7777777777777778,\"#fb9f3a\"],[0.8888888888888888,\"#fdca26\"],[1.0,\"#f0f921\"]],\"type\":\"histogram2d\"}],\"histogram\":[{\"marker\":{\"pattern\":{\"fillmode\":\"overlay\",\"size\":10,\"solidity\":0.2}},\"type\":\"histogram\"}],\"mesh3d\":[{\"colorbar\":{\"outlinewidth\":0,\"ticks\":\"\"},\"type\":\"mesh3d\"}],\"parcoords\":[{\"line\":{\"colorbar\":{\"outlinewidth\":0,\"ticks\":\"\"}},\"type\":\"parcoords\"}],\"pie\":[{\"automargin\":true,\"type\":\"pie\"}],\"scatter3d\":[{\"line\":{\"colorbar\":{\"outlinewidth\":0,\"ticks\":\"\"}},\"marker\":{\"colorbar\":{\"outlinewidth\":0,\"ticks\":\"\"}},\"type\":\"scatter3d\"}],\"scattercarpet\":[{\"marker\":{\"colorbar\":{\"outlinewidth\":0,\"ticks\":\"\"}},\"type\":\"scattercarpet\"}],\"scattergeo\":[{\"marker\":{\"colorbar\":{\"outlinewidth\":0,\"ticks\":\"\"}},\"type\":\"scattergeo\"}],\"scattergl\":[{\"marker\":{\"colorbar\":{\"outlinewidth\":0,\"ticks\":\"\"}},\"type\":\"scattergl\"}],\"scattermapbox\":[{\"marker\":{\"colorbar\":{\"outlinewidth\":0,\"ticks\":\"\"}},\"type\":\"scattermapbox\"}],\"scatterpolargl\":[{\"marker\":{\"colorbar\":{\"outlinewidth\":0,\"ticks\":\"\"}},\"type\":\"scatterpolargl\"}],\"scatterpolar\":[{\"marker\":{\"colorbar\":{\"outlinewidth\":0,\"ticks\":\"\"}},\"type\":\"scatterpolar\"}],\"scatter\":[{\"fillpattern\":{\"fillmode\":\"overlay\",\"size\":10,\"solidity\":0.2},\"type\":\"scatter\"}],\"scatterternary\":[{\"marker\":{\"colorbar\":{\"outlinewidth\":0,\"ticks\":\"\"}},\"type\":\"scatterternary\"}],\"surface\":[{\"colorbar\":{\"outlinewidth\":0,\"ticks\":\"\"},\"colorscale\":[[0.0,\"#0d0887\"],[0.1111111111111111,\"#46039f\"],[0.2222222222222222,\"#7201a8\"],[0.3333333333333333,\"#9c179e\"],[0.4444444444444444,\"#bd3786\"],[0.5555555555555556,\"#d8576b\"],[0.6666666666666666,\"#ed7953\"],[0.7777777777777778,\"#fb9f3a\"],[0.8888888888888888,\"#fdca26\"],[1.0,\"#f0f921\"]],\"type\":\"surface\"}],\"table\":[{\"cells\":{\"fill\":{\"color\":\"#EBF0F8\"},\"line\":{\"color\":\"white\"}},\"header\":{\"fill\":{\"color\":\"#C8D4E3\"},\"line\":{\"color\":\"white\"}},\"type\":\"table\"}]},\"layout\":{\"annotationdefaults\":{\"arrowcolor\":\"#2a3f5f\",\"arrowhead\":0,\"arrowwidth\":1},\"autotypenumbers\":\"strict\",\"coloraxis\":{\"colorbar\":{\"outlinewidth\":0,\"ticks\":\"\"}},\"colorscale\":{\"diverging\":[[0,\"#8e0152\"],[0.1,\"#c51b7d\"],[0.2,\"#de77ae\"],[0.3,\"#f1b6da\"],[0.4,\"#fde0ef\"],[0.5,\"#f7f7f7\"],[0.6,\"#e6f5d0\"],[0.7,\"#b8e186\"],[0.8,\"#7fbc41\"],[0.9,\"#4d9221\"],[1,\"#276419\"]],\"sequential\":[[0.0,\"#0d0887\"],[0.1111111111111111,\"#46039f\"],[0.2222222222222222,\"#7201a8\"],[0.3333333333333333,\"#9c179e\"],[0.4444444444444444,\"#bd3786\"],[0.5555555555555556,\"#d8576b\"],[0.6666666666666666,\"#ed7953\"],[0.7777777777777778,\"#fb9f3a\"],[0.8888888888888888,\"#fdca26\"],[1.0,\"#f0f921\"]],\"sequentialminus\":[[0.0,\"#0d0887\"],[0.1111111111111111,\"#46039f\"],[0.2222222222222222,\"#7201a8\"],[0.3333333333333333,\"#9c179e\"],[0.4444444444444444,\"#bd3786\"],[0.5555555555555556,\"#d8576b\"],[0.6666666666666666,\"#ed7953\"],[0.7777777777777778,\"#fb9f3a\"],[0.8888888888888888,\"#fdca26\"],[1.0,\"#f0f921\"]]},\"colorway\":[\"#636efa\",\"#EF553B\",\"#00cc96\",\"#ab63fa\",\"#FFA15A\",\"#19d3f3\",\"#FF6692\",\"#B6E880\",\"#FF97FF\",\"#FECB52\"],\"font\":{\"color\":\"#2a3f5f\"},\"geo\":{\"bgcolor\":\"white\",\"lakecolor\":\"white\",\"landcolor\":\"#E5ECF6\",\"showlakes\":true,\"showland\":true,\"subunitcolor\":\"white\"},\"hoverlabel\":{\"align\":\"left\"},\"hovermode\":\"closest\",\"mapbox\":{\"style\":\"light\"},\"paper_bgcolor\":\"white\",\"plot_bgcolor\":\"#E5ECF6\",\"polar\":{\"angularaxis\":{\"gridcolor\":\"white\",\"linecolor\":\"white\",\"ticks\":\"\"},\"bgcolor\":\"#E5ECF6\",\"radialaxis\":{\"gridcolor\":\"white\",\"linecolor\":\"white\",\"ticks\":\"\"}},\"scene\":{\"xaxis\":{\"backgroundcolor\":\"#E5ECF6\",\"gridcolor\":\"white\",\"gridwidth\":2,\"linecolor\":\"white\",\"showbackground\":true,\"ticks\":\"\",\"zerolinecolor\":\"white\"},\"yaxis\":{\"backgroundcolor\":\"#E5ECF6\",\"gridcolor\":\"white\",\"gridwidth\":2,\"linecolor\":\"white\",\"showbackground\":true,\"ticks\":\"\",\"zerolinecolor\":\"white\"},\"zaxis\":{\"backgroundcolor\":\"#E5ECF6\",\"gridcolor\":\"white\",\"gridwidth\":2,\"linecolor\":\"white\",\"showbackground\":true,\"ticks\":\"\",\"zerolinecolor\":\"white\"}},\"shapedefaults\":{\"line\":{\"color\":\"#2a3f5f\"}},\"ternary\":{\"aaxis\":{\"gridcolor\":\"white\",\"linecolor\":\"white\",\"ticks\":\"\"},\"baxis\":{\"gridcolor\":\"white\",\"linecolor\":\"white\",\"ticks\":\"\"},\"bgcolor\":\"#E5ECF6\",\"caxis\":{\"gridcolor\":\"white\",\"linecolor\":\"white\",\"ticks\":\"\"}},\"title\":{\"x\":0.05},\"xaxis\":{\"automargin\":true,\"gridcolor\":\"white\",\"linecolor\":\"white\",\"ticks\":\"\",\"title\":{\"standoff\":15},\"zerolinecolor\":\"white\",\"zerolinewidth\":2},\"yaxis\":{\"automargin\":true,\"gridcolor\":\"white\",\"linecolor\":\"white\",\"ticks\":\"\",\"title\":{\"standoff\":15},\"zerolinecolor\":\"white\",\"zerolinewidth\":2}}},\"title\":{\"font\":{\"color\":\"#4D5663\"}},\"xaxis\":{\"gridcolor\":\"#E1E5ED\",\"showgrid\":true,\"tickfont\":{\"color\":\"#4D5663\"},\"title\":{\"font\":{\"color\":\"#4D5663\"},\"text\":\"\"},\"zerolinecolor\":\"#E1E5ED\"},\"yaxis\":{\"gridcolor\":\"#E1E5ED\",\"showgrid\":true,\"tickfont\":{\"color\":\"#4D5663\"},\"title\":{\"font\":{\"color\":\"#4D5663\"},\"text\":\"\"},\"zerolinecolor\":\"#E1E5ED\"}},                        {\"showLink\": true, \"linkText\": \"Export to plot.ly\", \"plotlyServerURL\": \"https://plot.ly\", \"responsive\": true}                    ).then(function(){\n",
       "                            \n",
       "var gd = document.getElementById('bcd1efe3-5690-48b7-be46-2f9634b84c5d');\n",
       "var x = new MutationObserver(function (mutations, observer) {{\n",
       "        var display = window.getComputedStyle(gd).display;\n",
       "        if (!display || display === 'none') {{\n",
       "            console.log([gd, 'removed!']);\n",
       "            Plotly.purge(gd);\n",
       "            observer.disconnect();\n",
       "        }}\n",
       "}});\n",
       "\n",
       "// Listen for the removal of the full notebook cells\n",
       "var notebookContainer = gd.closest('#notebook-container');\n",
       "if (notebookContainer) {{\n",
       "    x.observe(notebookContainer, {childList: true});\n",
       "}}\n",
       "\n",
       "// Listen for the clearing of the current output cell\n",
       "var outputEl = gd.closest('.output');\n",
       "if (outputEl) {{\n",
       "    x.observe(outputEl, {childList: true});\n",
       "}}\n",
       "\n",
       "                        })                };                });            </script>        </div>"
      ]
     },
     "metadata": {},
     "output_type": "display_data"
    }
   ],
   "source": [
    "df.count().iplot(kind='bar')"
   ]
  },
  {
   "cell_type": "markdown",
   "metadata": {},
   "source": [
    "## Boxplots"
   ]
  },
  {
   "cell_type": "code",
   "execution_count": 14,
   "metadata": {},
   "outputs": [
    {
     "data": {
      "application/vnd.plotly.v1+json": {
       "config": {
        "linkText": "Export to plot.ly",
        "plotlyServerURL": "https://plot.ly",
        "showLink": true
       },
       "data": [
        {
         "boxpoints": false,
         "line": {
          "width": 1.3
         },
         "marker": {
          "color": "rgba(255, 153, 51, 1.0)"
         },
         "name": "A",
         "orientation": "v",
         "type": "box",
         "y": [
          0.46044745595994646,
          -0.6327809816156542,
          0.19554865241212666,
          -0.8166676322767404,
          -3.0480808845906178,
          -0.3323764051335626,
          -0.2148018805663531,
          1.232919450428307,
          0.6990755453765485,
          -0.07222450852302355,
          0.9399928794576881,
          -1.6463845664115169,
          0.03866486247030078,
          1.3364309820906208,
          -0.41773911095129385,
          -1.3024561407978907,
          -1.7286428623651386,
          0.3041091737654156,
          -0.21841640624264147,
          -1.7782872619905046,
          -0.40755357437244555,
          1.4958510483328458,
          0.8691336955209565,
          -0.18954864268340946,
          1.4519376760235432,
          2.0070003818130537,
          -1.2343080333782328,
          -0.10472198473220974,
          -0.7075791627199393,
          -1.1250934794890421,
          -0.13122135545318075,
          -0.13325973630464638,
          -0.5219214423795748,
          -0.9399178338858662,
          -1.09293858338073,
          0.49421085222862693,
          0.8587307775944033,
          -0.008637916423998566,
          -2.3821054800247006,
          -0.33844292997234127,
          -1.3309454621475598,
          -0.6635753199127982,
          -0.4976940119383044,
          -0.19188337325859992,
          0.20403415342732897,
          0.6259349350540958,
          0.6806382450638427,
          -0.8334799949518075,
          0.13330741871923463,
          -0.8861367944020956,
          0.2522280347219456,
          1.74673112983397,
          0.0454195700224562,
          0.42431725838635165,
          0.46313945287402886,
          -0.036393397401551376,
          1.3996176623363892,
          -0.13451776843046795,
          -0.4429820748677036,
          -0.12519287551839783,
          0.1575345124703861,
          -1.1105079278597803,
          -0.7058793221245989,
          -0.5012182934909218,
          -1.237071738798001,
          -1.0374989938657437,
          0.9155202837847133,
          -1.9428455687837543,
          -1.300046598231422,
          -0.5788116808049193,
          2.164153910466163,
          2.024587158637168,
          -1.007376053165701,
          -1.4239537916994478,
          -0.027442271397530714,
          1.226059571563095,
          -0.37859063265946036,
          0.4739827862947617,
          -0.29817015052032186,
          -0.022420299523822088,
          0.8820268232137013,
          -0.5971793574885587,
          -0.5817035390746108,
          2.5423745595273224,
          -1.2240180609353126,
          1.8389577502955554,
          0.3789039734403663,
          -0.48703539030345416,
          -0.16303158180059313,
          -0.10186237655352284,
          -0.2557481695898708,
          0.32933712978369617,
          0.5308260194258264,
          0.1945955717812178,
          -1.3784653517201384,
          -0.3744721210833509,
          -0.16685921033310522,
          0.28178221826104694,
          1.3029837125498993,
          0.5655780866709391
         ]
        },
        {
         "boxpoints": false,
         "line": {
          "width": 1.3
         },
         "marker": {
          "color": "rgba(55, 128, 191, 1.0)"
         },
         "name": "B",
         "orientation": "v",
         "type": "box",
         "y": [
          -2.0569014999715436,
          1.615413548570715,
          -0.4997096328929657,
          0.11044613459696011,
          2.14511071229813,
          0.12415558426069487,
          -0.18144855534171273,
          1.414504104188126,
          -1.0304690519553825,
          -0.11964407338170355,
          -1.872637047828862,
          0.3620192874855286,
          0.4024843260421167,
          -0.5086118655061668,
          -0.6241445406565573,
          1.360501842674482,
          -0.5383761007222295,
          0.11972608663364732,
          0.17908323460823522,
          0.18020973968654264,
          -1.3040735484199573,
          0.9035679353745257,
          0.5694677836183335,
          0.7789742531088888,
          -0.9761704827403509,
          0.2577788988640685,
          -0.9595820700521839,
          0.8913477599711915,
          -0.314622458164726,
          -0.42070577358846917,
          0.3003621489513765,
          -0.28361482796139226,
          0.20557205327331282,
          1.265296414392654,
          0.797172596483356,
          0.2406258030989973,
          1.4904085926260502,
          0.48821431095903245,
          0.14285530769432864,
          0.15707426612148362,
          -1.5170250115610526,
          0.7232292624556415,
          0.017602377806937356,
          0.3392998205962441,
          -1.981993932273325,
          -0.7311875792507156,
          1.0339581426574087,
          -0.8983981916176419,
          -0.21142894289193542,
          0.9860753694884673,
          1.6760993673766653,
          0.40445436681779856,
          0.228241752395754,
          0.21885947037232967,
          -0.2957949714078914,
          0.8029039858086703,
          -0.1258575515219575,
          -0.28462531300795485,
          -0.40711122540301453,
          1.1255480396449078,
          -0.04465283832238067,
          2.4606701071930766,
          1.2471229619009705,
          0.9684030255368693,
          -0.4967278612777565,
          1.1191519124145068,
          1.5393166944970227,
          0.3879656896286978,
          -0.23528168158661425,
          1.0570141419777914,
          -1.4192686252266147,
          -0.40495888179058614,
          -0.8053476811731931,
          -0.5956182729671423,
          0.15126692096238561,
          1.479938082547736,
          -0.07860579543133894,
          0.2884171368354939,
          -1.042282395744949,
          1.319871462771553,
          0.7666438421160171,
          -1.2599103779414045,
          -1.598279835414223,
          -0.761714368148162,
          -0.4197439992098943,
          0.8330065367647513,
          -0.3447653731659813,
          -1.6405242860622138,
          -0.24583445748044494,
          0.06867470537503659,
          -0.24309546675279925,
          -0.035768828097635506,
          -2.108777478604998,
          -0.17135169344361806,
          -0.3440568930717429,
          -0.4288781273324487,
          0.3615263101485928,
          0.215362306583839,
          -1.0880421818281014,
          -0.7441306187110783
         ]
        },
        {
         "boxpoints": false,
         "line": {
          "width": 1.3
         },
         "marker": {
          "color": "rgba(50, 171, 96, 1.0)"
         },
         "name": "C",
         "orientation": "v",
         "type": "box",
         "y": [
          1.258367277130209,
          0.6250397795659117,
          -1.4949838602904135,
          -1.3397922820844121,
          0.9727879158186832,
          -0.4554213022489134,
          -0.42080481600229896,
          -1.4853056419661856,
          0.35014602970076164,
          -2.0875819598764154,
          1.9679497263424548,
          -0.2165470821065552,
          0.048313146154102024,
          -0.14348925798393644,
          -0.4831198203892947,
          0.7696246027372764,
          0.22303953790248174,
          -0.2836208113564564,
          0.06450005435836742,
          1.470099013136937,
          0.3989041891142819,
          -0.6812805165644358,
          0.2384043544619515,
          2.628992741503464,
          0.023217384164083695,
          1.2120927227206528,
          -0.7757413256402388,
          0.19635120517340784,
          -2.317188785184941,
          0.053768279270851906,
          1.288283754305875,
          0.42377926702237273,
          -0.5365014437573917,
          0.042972317087237304,
          -0.13493305230632946,
          -2.614756421734982,
          -0.5574380974609379,
          -1.3142614432062012,
          -0.6019810740761499,
          -0.7398390708008258,
          -1.9792167880440694,
          0.9855956275960852,
          1.4477935829011255,
          -0.4301483492582045,
          1.7644819321153604,
          -0.25695534161124267,
          1.1909349837698766,
          0.872362949410945,
          1.832257989667077,
          -0.8025470479510924,
          0.46021645650879456,
          -0.14318959801362832,
          -0.8556229610450181,
          -1.3501340259705716,
          -0.7296816940951176,
          1.2758271068986329,
          -0.5141029898148345,
          0.17006975609686314,
          0.6222875341376517,
          -0.04140218889555548,
          -0.9691873818702071,
          0.9976177146155699,
          -1.4103282599503064,
          -0.1486620261027917,
          -1.1715152337379773,
          0.14554756457952964,
          -0.7553310046446255,
          0.06603159298383995,
          0.4924127164414456,
          0.03175277330060168,
          0.21753462173966653,
          0.8743071806095163,
          2.3058517403156187,
          1.5515608391802713,
          -0.7972159046015269,
          -0.499436164297288,
          -0.9441469783699104,
          2.546512095592558,
          0.23223307761152515,
          -0.5298093345406708,
          0.12149402735716536,
          -0.38491023443504546,
          -0.750262225032363,
          -0.45640839544619716,
          -0.5259937757112418,
          -1.4772523816311194,
          -0.5932331674407063,
          -0.3879174298983722,
          0.7899007936721997,
          0.32335274403848085,
          0.7885005181279469,
          2.2434732307405834,
          0.7235521075755361,
          0.2527889251678213,
          -0.019007569973219403,
          -0.34415568827748244,
          -0.15941757602514936,
          -0.5415015757098923,
          0.28455927292361183,
          -0.7240936402643037
         ]
        },
        {
         "boxpoints": false,
         "line": {
          "width": 1.3
         },
         "marker": {
          "color": "rgba(128, 0, 128, 1.0)"
         },
         "name": "D",
         "orientation": "v",
         "type": "box",
         "y": [
          0.3341668193955641,
          1.2346802398675587,
          -1.0002760877046792,
          -0.2787912566595758,
          0.010827301505861494,
          0.22799231708424078,
          -0.990501276257658,
          -0.752731522042225,
          0.5236130963855112,
          1.0275718125055953,
          0.8298946566053327,
          2.6844143369151356,
          1.6717798169748932,
          -1.081249723803137,
          0.9493770889517787,
          -0.5085101668286357,
          -0.26673231749828874,
          -0.8013869062575656,
          -0.7053198840310353,
          1.9188100067967713,
          1.4639158670641665,
          1.092906626404955,
          -0.49668243610573193,
          -0.5167234565532182,
          -0.08812919307166601,
          0.12192849513220796,
          0.4904923084918218,
          0.7311734555217336,
          -0.6690603581302017,
          2.4228558916794083,
          0.9750020252491011,
          -1.5154082771115112,
          0.6783664811253927,
          -0.6120402487612214,
          0.6209581099540071,
          1.1649184750535193,
          0.19375768977482102,
          0.7169971772718559,
          -0.11197463830869983,
          1.2257173821940857,
          0.8635300892296991,
          -2.2523746153879727,
          -0.22875254690231805,
          -0.74309287291503,
          0.020218822992205846,
          1.8583732221069171,
          -0.13900140504026426,
          -1.0383503893718338,
          -0.40925152332858206,
          -0.8518160257655871,
          -0.032616269743148484,
          -0.42271446760062636,
          1.1062096140267768,
          0.2809399600556132,
          0.05805140849617546,
          -0.9511009210338658,
          -0.5050697264089341,
          0.5825950306281149,
          1.9085819881972002,
          1.7422324673412783,
          -0.21374350904019213,
          0.5652825202130883,
          0.2054461559026082,
          0.41858489452371095,
          2.28021738613473,
          -0.17857004584255118,
          0.2001122106046136,
          -0.09054524788882383,
          0.2367883681788306,
          -1.8972603182189944,
          1.0007299479797491,
          -0.6705799683158304,
          0.3160740100806071,
          -0.5745992932121634,
          0.172927714063369,
          0.11707489213050855,
          0.8104401076244758,
          -0.5504553257425672,
          -0.3366861629048067,
          0.07936900812497623,
          0.4069868172393904,
          -1.2299867230125026,
          0.1567323196069663,
          0.4741532690489794,
          -0.34057527686698874,
          -0.5259374474667857,
          0.24546743786126834,
          0.03794835441857078,
          0.9462026071983898,
          1.0755349646288088,
          -1.5587482216839013,
          1.0940588169511027,
          -0.20586946100185324,
          -0.9087002207941971,
          0.8860882977651031,
          -1.7447423028152123,
          1.467690104133777,
          -0.01237543558596083,
          0.3540159707418616,
          0.5798846899921254
         ]
        }
       ],
       "layout": {
        "legend": {
         "bgcolor": "#F5F6F9",
         "font": {
          "color": "#4D5663"
         }
        },
        "paper_bgcolor": "#F5F6F9",
        "plot_bgcolor": "#F5F6F9",
        "template": {
         "data": {
          "bar": [
           {
            "error_x": {
             "color": "#2a3f5f"
            },
            "error_y": {
             "color": "#2a3f5f"
            },
            "marker": {
             "line": {
              "color": "#E5ECF6",
              "width": 0.5
             },
             "pattern": {
              "fillmode": "overlay",
              "size": 10,
              "solidity": 0.2
             }
            },
            "type": "bar"
           }
          ],
          "barpolar": [
           {
            "marker": {
             "line": {
              "color": "#E5ECF6",
              "width": 0.5
             },
             "pattern": {
              "fillmode": "overlay",
              "size": 10,
              "solidity": 0.2
             }
            },
            "type": "barpolar"
           }
          ],
          "carpet": [
           {
            "aaxis": {
             "endlinecolor": "#2a3f5f",
             "gridcolor": "white",
             "linecolor": "white",
             "minorgridcolor": "white",
             "startlinecolor": "#2a3f5f"
            },
            "baxis": {
             "endlinecolor": "#2a3f5f",
             "gridcolor": "white",
             "linecolor": "white",
             "minorgridcolor": "white",
             "startlinecolor": "#2a3f5f"
            },
            "type": "carpet"
           }
          ],
          "choropleth": [
           {
            "colorbar": {
             "outlinewidth": 0,
             "ticks": ""
            },
            "type": "choropleth"
           }
          ],
          "contour": [
           {
            "colorbar": {
             "outlinewidth": 0,
             "ticks": ""
            },
            "colorscale": [
             [
              0,
              "#0d0887"
             ],
             [
              0.1111111111111111,
              "#46039f"
             ],
             [
              0.2222222222222222,
              "#7201a8"
             ],
             [
              0.3333333333333333,
              "#9c179e"
             ],
             [
              0.4444444444444444,
              "#bd3786"
             ],
             [
              0.5555555555555556,
              "#d8576b"
             ],
             [
              0.6666666666666666,
              "#ed7953"
             ],
             [
              0.7777777777777778,
              "#fb9f3a"
             ],
             [
              0.8888888888888888,
              "#fdca26"
             ],
             [
              1,
              "#f0f921"
             ]
            ],
            "type": "contour"
           }
          ],
          "contourcarpet": [
           {
            "colorbar": {
             "outlinewidth": 0,
             "ticks": ""
            },
            "type": "contourcarpet"
           }
          ],
          "heatmap": [
           {
            "colorbar": {
             "outlinewidth": 0,
             "ticks": ""
            },
            "colorscale": [
             [
              0,
              "#0d0887"
             ],
             [
              0.1111111111111111,
              "#46039f"
             ],
             [
              0.2222222222222222,
              "#7201a8"
             ],
             [
              0.3333333333333333,
              "#9c179e"
             ],
             [
              0.4444444444444444,
              "#bd3786"
             ],
             [
              0.5555555555555556,
              "#d8576b"
             ],
             [
              0.6666666666666666,
              "#ed7953"
             ],
             [
              0.7777777777777778,
              "#fb9f3a"
             ],
             [
              0.8888888888888888,
              "#fdca26"
             ],
             [
              1,
              "#f0f921"
             ]
            ],
            "type": "heatmap"
           }
          ],
          "heatmapgl": [
           {
            "colorbar": {
             "outlinewidth": 0,
             "ticks": ""
            },
            "colorscale": [
             [
              0,
              "#0d0887"
             ],
             [
              0.1111111111111111,
              "#46039f"
             ],
             [
              0.2222222222222222,
              "#7201a8"
             ],
             [
              0.3333333333333333,
              "#9c179e"
             ],
             [
              0.4444444444444444,
              "#bd3786"
             ],
             [
              0.5555555555555556,
              "#d8576b"
             ],
             [
              0.6666666666666666,
              "#ed7953"
             ],
             [
              0.7777777777777778,
              "#fb9f3a"
             ],
             [
              0.8888888888888888,
              "#fdca26"
             ],
             [
              1,
              "#f0f921"
             ]
            ],
            "type": "heatmapgl"
           }
          ],
          "histogram": [
           {
            "marker": {
             "pattern": {
              "fillmode": "overlay",
              "size": 10,
              "solidity": 0.2
             }
            },
            "type": "histogram"
           }
          ],
          "histogram2d": [
           {
            "colorbar": {
             "outlinewidth": 0,
             "ticks": ""
            },
            "colorscale": [
             [
              0,
              "#0d0887"
             ],
             [
              0.1111111111111111,
              "#46039f"
             ],
             [
              0.2222222222222222,
              "#7201a8"
             ],
             [
              0.3333333333333333,
              "#9c179e"
             ],
             [
              0.4444444444444444,
              "#bd3786"
             ],
             [
              0.5555555555555556,
              "#d8576b"
             ],
             [
              0.6666666666666666,
              "#ed7953"
             ],
             [
              0.7777777777777778,
              "#fb9f3a"
             ],
             [
              0.8888888888888888,
              "#fdca26"
             ],
             [
              1,
              "#f0f921"
             ]
            ],
            "type": "histogram2d"
           }
          ],
          "histogram2dcontour": [
           {
            "colorbar": {
             "outlinewidth": 0,
             "ticks": ""
            },
            "colorscale": [
             [
              0,
              "#0d0887"
             ],
             [
              0.1111111111111111,
              "#46039f"
             ],
             [
              0.2222222222222222,
              "#7201a8"
             ],
             [
              0.3333333333333333,
              "#9c179e"
             ],
             [
              0.4444444444444444,
              "#bd3786"
             ],
             [
              0.5555555555555556,
              "#d8576b"
             ],
             [
              0.6666666666666666,
              "#ed7953"
             ],
             [
              0.7777777777777778,
              "#fb9f3a"
             ],
             [
              0.8888888888888888,
              "#fdca26"
             ],
             [
              1,
              "#f0f921"
             ]
            ],
            "type": "histogram2dcontour"
           }
          ],
          "mesh3d": [
           {
            "colorbar": {
             "outlinewidth": 0,
             "ticks": ""
            },
            "type": "mesh3d"
           }
          ],
          "parcoords": [
           {
            "line": {
             "colorbar": {
              "outlinewidth": 0,
              "ticks": ""
             }
            },
            "type": "parcoords"
           }
          ],
          "pie": [
           {
            "automargin": true,
            "type": "pie"
           }
          ],
          "scatter": [
           {
            "fillpattern": {
             "fillmode": "overlay",
             "size": 10,
             "solidity": 0.2
            },
            "type": "scatter"
           }
          ],
          "scatter3d": [
           {
            "line": {
             "colorbar": {
              "outlinewidth": 0,
              "ticks": ""
             }
            },
            "marker": {
             "colorbar": {
              "outlinewidth": 0,
              "ticks": ""
             }
            },
            "type": "scatter3d"
           }
          ],
          "scattercarpet": [
           {
            "marker": {
             "colorbar": {
              "outlinewidth": 0,
              "ticks": ""
             }
            },
            "type": "scattercarpet"
           }
          ],
          "scattergeo": [
           {
            "marker": {
             "colorbar": {
              "outlinewidth": 0,
              "ticks": ""
             }
            },
            "type": "scattergeo"
           }
          ],
          "scattergl": [
           {
            "marker": {
             "colorbar": {
              "outlinewidth": 0,
              "ticks": ""
             }
            },
            "type": "scattergl"
           }
          ],
          "scattermapbox": [
           {
            "marker": {
             "colorbar": {
              "outlinewidth": 0,
              "ticks": ""
             }
            },
            "type": "scattermapbox"
           }
          ],
          "scatterpolar": [
           {
            "marker": {
             "colorbar": {
              "outlinewidth": 0,
              "ticks": ""
             }
            },
            "type": "scatterpolar"
           }
          ],
          "scatterpolargl": [
           {
            "marker": {
             "colorbar": {
              "outlinewidth": 0,
              "ticks": ""
             }
            },
            "type": "scatterpolargl"
           }
          ],
          "scatterternary": [
           {
            "marker": {
             "colorbar": {
              "outlinewidth": 0,
              "ticks": ""
             }
            },
            "type": "scatterternary"
           }
          ],
          "surface": [
           {
            "colorbar": {
             "outlinewidth": 0,
             "ticks": ""
            },
            "colorscale": [
             [
              0,
              "#0d0887"
             ],
             [
              0.1111111111111111,
              "#46039f"
             ],
             [
              0.2222222222222222,
              "#7201a8"
             ],
             [
              0.3333333333333333,
              "#9c179e"
             ],
             [
              0.4444444444444444,
              "#bd3786"
             ],
             [
              0.5555555555555556,
              "#d8576b"
             ],
             [
              0.6666666666666666,
              "#ed7953"
             ],
             [
              0.7777777777777778,
              "#fb9f3a"
             ],
             [
              0.8888888888888888,
              "#fdca26"
             ],
             [
              1,
              "#f0f921"
             ]
            ],
            "type": "surface"
           }
          ],
          "table": [
           {
            "cells": {
             "fill": {
              "color": "#EBF0F8"
             },
             "line": {
              "color": "white"
             }
            },
            "header": {
             "fill": {
              "color": "#C8D4E3"
             },
             "line": {
              "color": "white"
             }
            },
            "type": "table"
           }
          ]
         },
         "layout": {
          "annotationdefaults": {
           "arrowcolor": "#2a3f5f",
           "arrowhead": 0,
           "arrowwidth": 1
          },
          "autotypenumbers": "strict",
          "coloraxis": {
           "colorbar": {
            "outlinewidth": 0,
            "ticks": ""
           }
          },
          "colorscale": {
           "diverging": [
            [
             0,
             "#8e0152"
            ],
            [
             0.1,
             "#c51b7d"
            ],
            [
             0.2,
             "#de77ae"
            ],
            [
             0.3,
             "#f1b6da"
            ],
            [
             0.4,
             "#fde0ef"
            ],
            [
             0.5,
             "#f7f7f7"
            ],
            [
             0.6,
             "#e6f5d0"
            ],
            [
             0.7,
             "#b8e186"
            ],
            [
             0.8,
             "#7fbc41"
            ],
            [
             0.9,
             "#4d9221"
            ],
            [
             1,
             "#276419"
            ]
           ],
           "sequential": [
            [
             0,
             "#0d0887"
            ],
            [
             0.1111111111111111,
             "#46039f"
            ],
            [
             0.2222222222222222,
             "#7201a8"
            ],
            [
             0.3333333333333333,
             "#9c179e"
            ],
            [
             0.4444444444444444,
             "#bd3786"
            ],
            [
             0.5555555555555556,
             "#d8576b"
            ],
            [
             0.6666666666666666,
             "#ed7953"
            ],
            [
             0.7777777777777778,
             "#fb9f3a"
            ],
            [
             0.8888888888888888,
             "#fdca26"
            ],
            [
             1,
             "#f0f921"
            ]
           ],
           "sequentialminus": [
            [
             0,
             "#0d0887"
            ],
            [
             0.1111111111111111,
             "#46039f"
            ],
            [
             0.2222222222222222,
             "#7201a8"
            ],
            [
             0.3333333333333333,
             "#9c179e"
            ],
            [
             0.4444444444444444,
             "#bd3786"
            ],
            [
             0.5555555555555556,
             "#d8576b"
            ],
            [
             0.6666666666666666,
             "#ed7953"
            ],
            [
             0.7777777777777778,
             "#fb9f3a"
            ],
            [
             0.8888888888888888,
             "#fdca26"
            ],
            [
             1,
             "#f0f921"
            ]
           ]
          },
          "colorway": [
           "#636efa",
           "#EF553B",
           "#00cc96",
           "#ab63fa",
           "#FFA15A",
           "#19d3f3",
           "#FF6692",
           "#B6E880",
           "#FF97FF",
           "#FECB52"
          ],
          "font": {
           "color": "#2a3f5f"
          },
          "geo": {
           "bgcolor": "white",
           "lakecolor": "white",
           "landcolor": "#E5ECF6",
           "showlakes": true,
           "showland": true,
           "subunitcolor": "white"
          },
          "hoverlabel": {
           "align": "left"
          },
          "hovermode": "closest",
          "mapbox": {
           "style": "light"
          },
          "paper_bgcolor": "white",
          "plot_bgcolor": "#E5ECF6",
          "polar": {
           "angularaxis": {
            "gridcolor": "white",
            "linecolor": "white",
            "ticks": ""
           },
           "bgcolor": "#E5ECF6",
           "radialaxis": {
            "gridcolor": "white",
            "linecolor": "white",
            "ticks": ""
           }
          },
          "scene": {
           "xaxis": {
            "backgroundcolor": "#E5ECF6",
            "gridcolor": "white",
            "gridwidth": 2,
            "linecolor": "white",
            "showbackground": true,
            "ticks": "",
            "zerolinecolor": "white"
           },
           "yaxis": {
            "backgroundcolor": "#E5ECF6",
            "gridcolor": "white",
            "gridwidth": 2,
            "linecolor": "white",
            "showbackground": true,
            "ticks": "",
            "zerolinecolor": "white"
           },
           "zaxis": {
            "backgroundcolor": "#E5ECF6",
            "gridcolor": "white",
            "gridwidth": 2,
            "linecolor": "white",
            "showbackground": true,
            "ticks": "",
            "zerolinecolor": "white"
           }
          },
          "shapedefaults": {
           "line": {
            "color": "#2a3f5f"
           }
          },
          "ternary": {
           "aaxis": {
            "gridcolor": "white",
            "linecolor": "white",
            "ticks": ""
           },
           "baxis": {
            "gridcolor": "white",
            "linecolor": "white",
            "ticks": ""
           },
           "bgcolor": "#E5ECF6",
           "caxis": {
            "gridcolor": "white",
            "linecolor": "white",
            "ticks": ""
           }
          },
          "title": {
           "x": 0.05
          },
          "xaxis": {
           "automargin": true,
           "gridcolor": "white",
           "linecolor": "white",
           "ticks": "",
           "title": {
            "standoff": 15
           },
           "zerolinecolor": "white",
           "zerolinewidth": 2
          },
          "yaxis": {
           "automargin": true,
           "gridcolor": "white",
           "linecolor": "white",
           "ticks": "",
           "title": {
            "standoff": 15
           },
           "zerolinecolor": "white",
           "zerolinewidth": 2
          }
         }
        },
        "title": {
         "font": {
          "color": "#4D5663"
         }
        },
        "xaxis": {
         "gridcolor": "#E1E5ED",
         "showgrid": true,
         "tickfont": {
          "color": "#4D5663"
         },
         "title": {
          "font": {
           "color": "#4D5663"
          },
          "text": ""
         },
         "zerolinecolor": "#E1E5ED"
        },
        "yaxis": {
         "gridcolor": "#E1E5ED",
         "showgrid": true,
         "tickfont": {
          "color": "#4D5663"
         },
         "title": {
          "font": {
           "color": "#4D5663"
          },
          "text": ""
         },
         "zerolinecolor": "#E1E5ED"
        }
       }
      },
      "text/html": [
       "<div>                            <div id=\"e1290e03-f2ad-4d04-b23a-c69c22674eda\" class=\"plotly-graph-div\" style=\"height:525px; width:100%;\"></div>            <script type=\"text/javascript\">                require([\"plotly\"], function(Plotly) {                    window.PLOTLYENV=window.PLOTLYENV || {};\n",
       "                    window.PLOTLYENV.BASE_URL='https://plot.ly';                                    if (document.getElementById(\"e1290e03-f2ad-4d04-b23a-c69c22674eda\")) {                    Plotly.newPlot(                        \"e1290e03-f2ad-4d04-b23a-c69c22674eda\",                        [{\"boxpoints\":false,\"line\":{\"width\":1.3},\"marker\":{\"color\":\"rgba(255, 153, 51, 1.0)\"},\"name\":\"A\",\"orientation\":\"v\",\"y\":[0.46044745595994646,-0.6327809816156542,0.19554865241212666,-0.8166676322767404,-3.0480808845906178,-0.3323764051335626,-0.2148018805663531,1.232919450428307,0.6990755453765485,-0.07222450852302355,0.9399928794576881,-1.6463845664115169,0.03866486247030078,1.3364309820906208,-0.41773911095129385,-1.3024561407978907,-1.7286428623651386,0.3041091737654156,-0.21841640624264147,-1.7782872619905046,-0.40755357437244555,1.4958510483328458,0.8691336955209565,-0.18954864268340946,1.4519376760235432,2.0070003818130537,-1.2343080333782328,-0.10472198473220974,-0.7075791627199393,-1.1250934794890421,-0.13122135545318075,-0.13325973630464638,-0.5219214423795748,-0.9399178338858662,-1.09293858338073,0.49421085222862693,0.8587307775944033,-0.008637916423998566,-2.3821054800247006,-0.33844292997234127,-1.3309454621475598,-0.6635753199127982,-0.4976940119383044,-0.19188337325859992,0.20403415342732897,0.6259349350540958,0.6806382450638427,-0.8334799949518075,0.13330741871923463,-0.8861367944020956,0.2522280347219456,1.74673112983397,0.0454195700224562,0.42431725838635165,0.46313945287402886,-0.036393397401551376,1.3996176623363892,-0.13451776843046795,-0.4429820748677036,-0.12519287551839783,0.1575345124703861,-1.1105079278597803,-0.7058793221245989,-0.5012182934909218,-1.237071738798001,-1.0374989938657437,0.9155202837847133,-1.9428455687837543,-1.300046598231422,-0.5788116808049193,2.164153910466163,2.024587158637168,-1.007376053165701,-1.4239537916994478,-0.027442271397530714,1.226059571563095,-0.37859063265946036,0.4739827862947617,-0.29817015052032186,-0.022420299523822088,0.8820268232137013,-0.5971793574885587,-0.5817035390746108,2.5423745595273224,-1.2240180609353126,1.8389577502955554,0.3789039734403663,-0.48703539030345416,-0.16303158180059313,-0.10186237655352284,-0.2557481695898708,0.32933712978369617,0.5308260194258264,0.1945955717812178,-1.3784653517201384,-0.3744721210833509,-0.16685921033310522,0.28178221826104694,1.3029837125498993,0.5655780866709391],\"type\":\"box\"},{\"boxpoints\":false,\"line\":{\"width\":1.3},\"marker\":{\"color\":\"rgba(55, 128, 191, 1.0)\"},\"name\":\"B\",\"orientation\":\"v\",\"y\":[-2.0569014999715436,1.615413548570715,-0.4997096328929657,0.11044613459696011,2.14511071229813,0.12415558426069487,-0.18144855534171273,1.414504104188126,-1.0304690519553825,-0.11964407338170355,-1.872637047828862,0.3620192874855286,0.4024843260421167,-0.5086118655061668,-0.6241445406565573,1.360501842674482,-0.5383761007222295,0.11972608663364732,0.17908323460823522,0.18020973968654264,-1.3040735484199573,0.9035679353745257,0.5694677836183335,0.7789742531088888,-0.9761704827403509,0.2577788988640685,-0.9595820700521839,0.8913477599711915,-0.314622458164726,-0.42070577358846917,0.3003621489513765,-0.28361482796139226,0.20557205327331282,1.265296414392654,0.797172596483356,0.2406258030989973,1.4904085926260502,0.48821431095903245,0.14285530769432864,0.15707426612148362,-1.5170250115610526,0.7232292624556415,0.017602377806937356,0.3392998205962441,-1.981993932273325,-0.7311875792507156,1.0339581426574087,-0.8983981916176419,-0.21142894289193542,0.9860753694884673,1.6760993673766653,0.40445436681779856,0.228241752395754,0.21885947037232967,-0.2957949714078914,0.8029039858086703,-0.1258575515219575,-0.28462531300795485,-0.40711122540301453,1.1255480396449078,-0.04465283832238067,2.4606701071930766,1.2471229619009705,0.9684030255368693,-0.4967278612777565,1.1191519124145068,1.5393166944970227,0.3879656896286978,-0.23528168158661425,1.0570141419777914,-1.4192686252266147,-0.40495888179058614,-0.8053476811731931,-0.5956182729671423,0.15126692096238561,1.479938082547736,-0.07860579543133894,0.2884171368354939,-1.042282395744949,1.319871462771553,0.7666438421160171,-1.2599103779414045,-1.598279835414223,-0.761714368148162,-0.4197439992098943,0.8330065367647513,-0.3447653731659813,-1.6405242860622138,-0.24583445748044494,0.06867470537503659,-0.24309546675279925,-0.035768828097635506,-2.108777478604998,-0.17135169344361806,-0.3440568930717429,-0.4288781273324487,0.3615263101485928,0.215362306583839,-1.0880421818281014,-0.7441306187110783],\"type\":\"box\"},{\"boxpoints\":false,\"line\":{\"width\":1.3},\"marker\":{\"color\":\"rgba(50, 171, 96, 1.0)\"},\"name\":\"C\",\"orientation\":\"v\",\"y\":[1.258367277130209,0.6250397795659117,-1.4949838602904135,-1.3397922820844121,0.9727879158186832,-0.4554213022489134,-0.42080481600229896,-1.4853056419661856,0.35014602970076164,-2.0875819598764154,1.9679497263424548,-0.2165470821065552,0.048313146154102024,-0.14348925798393644,-0.4831198203892947,0.7696246027372764,0.22303953790248174,-0.2836208113564564,0.06450005435836742,1.470099013136937,0.3989041891142819,-0.6812805165644358,0.2384043544619515,2.628992741503464,0.023217384164083695,1.2120927227206528,-0.7757413256402388,0.19635120517340784,-2.317188785184941,0.053768279270851906,1.288283754305875,0.42377926702237273,-0.5365014437573917,0.042972317087237304,-0.13493305230632946,-2.614756421734982,-0.5574380974609379,-1.3142614432062012,-0.6019810740761499,-0.7398390708008258,-1.9792167880440694,0.9855956275960852,1.4477935829011255,-0.4301483492582045,1.7644819321153604,-0.25695534161124267,1.1909349837698766,0.872362949410945,1.832257989667077,-0.8025470479510924,0.46021645650879456,-0.14318959801362832,-0.8556229610450181,-1.3501340259705716,-0.7296816940951176,1.2758271068986329,-0.5141029898148345,0.17006975609686314,0.6222875341376517,-0.04140218889555548,-0.9691873818702071,0.9976177146155699,-1.4103282599503064,-0.1486620261027917,-1.1715152337379773,0.14554756457952964,-0.7553310046446255,0.06603159298383995,0.4924127164414456,0.03175277330060168,0.21753462173966653,0.8743071806095163,2.3058517403156187,1.5515608391802713,-0.7972159046015269,-0.499436164297288,-0.9441469783699104,2.546512095592558,0.23223307761152515,-0.5298093345406708,0.12149402735716536,-0.38491023443504546,-0.750262225032363,-0.45640839544619716,-0.5259937757112418,-1.4772523816311194,-0.5932331674407063,-0.3879174298983722,0.7899007936721997,0.32335274403848085,0.7885005181279469,2.2434732307405834,0.7235521075755361,0.2527889251678213,-0.019007569973219403,-0.34415568827748244,-0.15941757602514936,-0.5415015757098923,0.28455927292361183,-0.7240936402643037],\"type\":\"box\"},{\"boxpoints\":false,\"line\":{\"width\":1.3},\"marker\":{\"color\":\"rgba(128, 0, 128, 1.0)\"},\"name\":\"D\",\"orientation\":\"v\",\"y\":[0.3341668193955641,1.2346802398675587,-1.0002760877046792,-0.2787912566595758,0.010827301505861494,0.22799231708424078,-0.990501276257658,-0.752731522042225,0.5236130963855112,1.0275718125055953,0.8298946566053327,2.6844143369151356,1.6717798169748932,-1.081249723803137,0.9493770889517787,-0.5085101668286357,-0.26673231749828874,-0.8013869062575656,-0.7053198840310353,1.9188100067967713,1.4639158670641665,1.092906626404955,-0.49668243610573193,-0.5167234565532182,-0.08812919307166601,0.12192849513220796,0.4904923084918218,0.7311734555217336,-0.6690603581302017,2.4228558916794083,0.9750020252491011,-1.5154082771115112,0.6783664811253927,-0.6120402487612214,0.6209581099540071,1.1649184750535193,0.19375768977482102,0.7169971772718559,-0.11197463830869983,1.2257173821940857,0.8635300892296991,-2.2523746153879727,-0.22875254690231805,-0.74309287291503,0.020218822992205846,1.8583732221069171,-0.13900140504026426,-1.0383503893718338,-0.40925152332858206,-0.8518160257655871,-0.032616269743148484,-0.42271446760062636,1.1062096140267768,0.2809399600556132,0.05805140849617546,-0.9511009210338658,-0.5050697264089341,0.5825950306281149,1.9085819881972002,1.7422324673412783,-0.21374350904019213,0.5652825202130883,0.2054461559026082,0.41858489452371095,2.28021738613473,-0.17857004584255118,0.2001122106046136,-0.09054524788882383,0.2367883681788306,-1.8972603182189944,1.0007299479797491,-0.6705799683158304,0.3160740100806071,-0.5745992932121634,0.172927714063369,0.11707489213050855,0.8104401076244758,-0.5504553257425672,-0.3366861629048067,0.07936900812497623,0.4069868172393904,-1.2299867230125026,0.1567323196069663,0.4741532690489794,-0.34057527686698874,-0.5259374474667857,0.24546743786126834,0.03794835441857078,0.9462026071983898,1.0755349646288088,-1.5587482216839013,1.0940588169511027,-0.20586946100185324,-0.9087002207941971,0.8860882977651031,-1.7447423028152123,1.467690104133777,-0.01237543558596083,0.3540159707418616,0.5798846899921254],\"type\":\"box\"}],                        {\"legend\":{\"bgcolor\":\"#F5F6F9\",\"font\":{\"color\":\"#4D5663\"}},\"paper_bgcolor\":\"#F5F6F9\",\"plot_bgcolor\":\"#F5F6F9\",\"template\":{\"data\":{\"barpolar\":[{\"marker\":{\"line\":{\"color\":\"#E5ECF6\",\"width\":0.5},\"pattern\":{\"fillmode\":\"overlay\",\"size\":10,\"solidity\":0.2}},\"type\":\"barpolar\"}],\"bar\":[{\"error_x\":{\"color\":\"#2a3f5f\"},\"error_y\":{\"color\":\"#2a3f5f\"},\"marker\":{\"line\":{\"color\":\"#E5ECF6\",\"width\":0.5},\"pattern\":{\"fillmode\":\"overlay\",\"size\":10,\"solidity\":0.2}},\"type\":\"bar\"}],\"carpet\":[{\"aaxis\":{\"endlinecolor\":\"#2a3f5f\",\"gridcolor\":\"white\",\"linecolor\":\"white\",\"minorgridcolor\":\"white\",\"startlinecolor\":\"#2a3f5f\"},\"baxis\":{\"endlinecolor\":\"#2a3f5f\",\"gridcolor\":\"white\",\"linecolor\":\"white\",\"minorgridcolor\":\"white\",\"startlinecolor\":\"#2a3f5f\"},\"type\":\"carpet\"}],\"choropleth\":[{\"colorbar\":{\"outlinewidth\":0,\"ticks\":\"\"},\"type\":\"choropleth\"}],\"contourcarpet\":[{\"colorbar\":{\"outlinewidth\":0,\"ticks\":\"\"},\"type\":\"contourcarpet\"}],\"contour\":[{\"colorbar\":{\"outlinewidth\":0,\"ticks\":\"\"},\"colorscale\":[[0.0,\"#0d0887\"],[0.1111111111111111,\"#46039f\"],[0.2222222222222222,\"#7201a8\"],[0.3333333333333333,\"#9c179e\"],[0.4444444444444444,\"#bd3786\"],[0.5555555555555556,\"#d8576b\"],[0.6666666666666666,\"#ed7953\"],[0.7777777777777778,\"#fb9f3a\"],[0.8888888888888888,\"#fdca26\"],[1.0,\"#f0f921\"]],\"type\":\"contour\"}],\"heatmapgl\":[{\"colorbar\":{\"outlinewidth\":0,\"ticks\":\"\"},\"colorscale\":[[0.0,\"#0d0887\"],[0.1111111111111111,\"#46039f\"],[0.2222222222222222,\"#7201a8\"],[0.3333333333333333,\"#9c179e\"],[0.4444444444444444,\"#bd3786\"],[0.5555555555555556,\"#d8576b\"],[0.6666666666666666,\"#ed7953\"],[0.7777777777777778,\"#fb9f3a\"],[0.8888888888888888,\"#fdca26\"],[1.0,\"#f0f921\"]],\"type\":\"heatmapgl\"}],\"heatmap\":[{\"colorbar\":{\"outlinewidth\":0,\"ticks\":\"\"},\"colorscale\":[[0.0,\"#0d0887\"],[0.1111111111111111,\"#46039f\"],[0.2222222222222222,\"#7201a8\"],[0.3333333333333333,\"#9c179e\"],[0.4444444444444444,\"#bd3786\"],[0.5555555555555556,\"#d8576b\"],[0.6666666666666666,\"#ed7953\"],[0.7777777777777778,\"#fb9f3a\"],[0.8888888888888888,\"#fdca26\"],[1.0,\"#f0f921\"]],\"type\":\"heatmap\"}],\"histogram2dcontour\":[{\"colorbar\":{\"outlinewidth\":0,\"ticks\":\"\"},\"colorscale\":[[0.0,\"#0d0887\"],[0.1111111111111111,\"#46039f\"],[0.2222222222222222,\"#7201a8\"],[0.3333333333333333,\"#9c179e\"],[0.4444444444444444,\"#bd3786\"],[0.5555555555555556,\"#d8576b\"],[0.6666666666666666,\"#ed7953\"],[0.7777777777777778,\"#fb9f3a\"],[0.8888888888888888,\"#fdca26\"],[1.0,\"#f0f921\"]],\"type\":\"histogram2dcontour\"}],\"histogram2d\":[{\"colorbar\":{\"outlinewidth\":0,\"ticks\":\"\"},\"colorscale\":[[0.0,\"#0d0887\"],[0.1111111111111111,\"#46039f\"],[0.2222222222222222,\"#7201a8\"],[0.3333333333333333,\"#9c179e\"],[0.4444444444444444,\"#bd3786\"],[0.5555555555555556,\"#d8576b\"],[0.6666666666666666,\"#ed7953\"],[0.7777777777777778,\"#fb9f3a\"],[0.8888888888888888,\"#fdca26\"],[1.0,\"#f0f921\"]],\"type\":\"histogram2d\"}],\"histogram\":[{\"marker\":{\"pattern\":{\"fillmode\":\"overlay\",\"size\":10,\"solidity\":0.2}},\"type\":\"histogram\"}],\"mesh3d\":[{\"colorbar\":{\"outlinewidth\":0,\"ticks\":\"\"},\"type\":\"mesh3d\"}],\"parcoords\":[{\"line\":{\"colorbar\":{\"outlinewidth\":0,\"ticks\":\"\"}},\"type\":\"parcoords\"}],\"pie\":[{\"automargin\":true,\"type\":\"pie\"}],\"scatter3d\":[{\"line\":{\"colorbar\":{\"outlinewidth\":0,\"ticks\":\"\"}},\"marker\":{\"colorbar\":{\"outlinewidth\":0,\"ticks\":\"\"}},\"type\":\"scatter3d\"}],\"scattercarpet\":[{\"marker\":{\"colorbar\":{\"outlinewidth\":0,\"ticks\":\"\"}},\"type\":\"scattercarpet\"}],\"scattergeo\":[{\"marker\":{\"colorbar\":{\"outlinewidth\":0,\"ticks\":\"\"}},\"type\":\"scattergeo\"}],\"scattergl\":[{\"marker\":{\"colorbar\":{\"outlinewidth\":0,\"ticks\":\"\"}},\"type\":\"scattergl\"}],\"scattermapbox\":[{\"marker\":{\"colorbar\":{\"outlinewidth\":0,\"ticks\":\"\"}},\"type\":\"scattermapbox\"}],\"scatterpolargl\":[{\"marker\":{\"colorbar\":{\"outlinewidth\":0,\"ticks\":\"\"}},\"type\":\"scatterpolargl\"}],\"scatterpolar\":[{\"marker\":{\"colorbar\":{\"outlinewidth\":0,\"ticks\":\"\"}},\"type\":\"scatterpolar\"}],\"scatter\":[{\"fillpattern\":{\"fillmode\":\"overlay\",\"size\":10,\"solidity\":0.2},\"type\":\"scatter\"}],\"scatterternary\":[{\"marker\":{\"colorbar\":{\"outlinewidth\":0,\"ticks\":\"\"}},\"type\":\"scatterternary\"}],\"surface\":[{\"colorbar\":{\"outlinewidth\":0,\"ticks\":\"\"},\"colorscale\":[[0.0,\"#0d0887\"],[0.1111111111111111,\"#46039f\"],[0.2222222222222222,\"#7201a8\"],[0.3333333333333333,\"#9c179e\"],[0.4444444444444444,\"#bd3786\"],[0.5555555555555556,\"#d8576b\"],[0.6666666666666666,\"#ed7953\"],[0.7777777777777778,\"#fb9f3a\"],[0.8888888888888888,\"#fdca26\"],[1.0,\"#f0f921\"]],\"type\":\"surface\"}],\"table\":[{\"cells\":{\"fill\":{\"color\":\"#EBF0F8\"},\"line\":{\"color\":\"white\"}},\"header\":{\"fill\":{\"color\":\"#C8D4E3\"},\"line\":{\"color\":\"white\"}},\"type\":\"table\"}]},\"layout\":{\"annotationdefaults\":{\"arrowcolor\":\"#2a3f5f\",\"arrowhead\":0,\"arrowwidth\":1},\"autotypenumbers\":\"strict\",\"coloraxis\":{\"colorbar\":{\"outlinewidth\":0,\"ticks\":\"\"}},\"colorscale\":{\"diverging\":[[0,\"#8e0152\"],[0.1,\"#c51b7d\"],[0.2,\"#de77ae\"],[0.3,\"#f1b6da\"],[0.4,\"#fde0ef\"],[0.5,\"#f7f7f7\"],[0.6,\"#e6f5d0\"],[0.7,\"#b8e186\"],[0.8,\"#7fbc41\"],[0.9,\"#4d9221\"],[1,\"#276419\"]],\"sequential\":[[0.0,\"#0d0887\"],[0.1111111111111111,\"#46039f\"],[0.2222222222222222,\"#7201a8\"],[0.3333333333333333,\"#9c179e\"],[0.4444444444444444,\"#bd3786\"],[0.5555555555555556,\"#d8576b\"],[0.6666666666666666,\"#ed7953\"],[0.7777777777777778,\"#fb9f3a\"],[0.8888888888888888,\"#fdca26\"],[1.0,\"#f0f921\"]],\"sequentialminus\":[[0.0,\"#0d0887\"],[0.1111111111111111,\"#46039f\"],[0.2222222222222222,\"#7201a8\"],[0.3333333333333333,\"#9c179e\"],[0.4444444444444444,\"#bd3786\"],[0.5555555555555556,\"#d8576b\"],[0.6666666666666666,\"#ed7953\"],[0.7777777777777778,\"#fb9f3a\"],[0.8888888888888888,\"#fdca26\"],[1.0,\"#f0f921\"]]},\"colorway\":[\"#636efa\",\"#EF553B\",\"#00cc96\",\"#ab63fa\",\"#FFA15A\",\"#19d3f3\",\"#FF6692\",\"#B6E880\",\"#FF97FF\",\"#FECB52\"],\"font\":{\"color\":\"#2a3f5f\"},\"geo\":{\"bgcolor\":\"white\",\"lakecolor\":\"white\",\"landcolor\":\"#E5ECF6\",\"showlakes\":true,\"showland\":true,\"subunitcolor\":\"white\"},\"hoverlabel\":{\"align\":\"left\"},\"hovermode\":\"closest\",\"mapbox\":{\"style\":\"light\"},\"paper_bgcolor\":\"white\",\"plot_bgcolor\":\"#E5ECF6\",\"polar\":{\"angularaxis\":{\"gridcolor\":\"white\",\"linecolor\":\"white\",\"ticks\":\"\"},\"bgcolor\":\"#E5ECF6\",\"radialaxis\":{\"gridcolor\":\"white\",\"linecolor\":\"white\",\"ticks\":\"\"}},\"scene\":{\"xaxis\":{\"backgroundcolor\":\"#E5ECF6\",\"gridcolor\":\"white\",\"gridwidth\":2,\"linecolor\":\"white\",\"showbackground\":true,\"ticks\":\"\",\"zerolinecolor\":\"white\"},\"yaxis\":{\"backgroundcolor\":\"#E5ECF6\",\"gridcolor\":\"white\",\"gridwidth\":2,\"linecolor\":\"white\",\"showbackground\":true,\"ticks\":\"\",\"zerolinecolor\":\"white\"},\"zaxis\":{\"backgroundcolor\":\"#E5ECF6\",\"gridcolor\":\"white\",\"gridwidth\":2,\"linecolor\":\"white\",\"showbackground\":true,\"ticks\":\"\",\"zerolinecolor\":\"white\"}},\"shapedefaults\":{\"line\":{\"color\":\"#2a3f5f\"}},\"ternary\":{\"aaxis\":{\"gridcolor\":\"white\",\"linecolor\":\"white\",\"ticks\":\"\"},\"baxis\":{\"gridcolor\":\"white\",\"linecolor\":\"white\",\"ticks\":\"\"},\"bgcolor\":\"#E5ECF6\",\"caxis\":{\"gridcolor\":\"white\",\"linecolor\":\"white\",\"ticks\":\"\"}},\"title\":{\"x\":0.05},\"xaxis\":{\"automargin\":true,\"gridcolor\":\"white\",\"linecolor\":\"white\",\"ticks\":\"\",\"title\":{\"standoff\":15},\"zerolinecolor\":\"white\",\"zerolinewidth\":2},\"yaxis\":{\"automargin\":true,\"gridcolor\":\"white\",\"linecolor\":\"white\",\"ticks\":\"\",\"title\":{\"standoff\":15},\"zerolinecolor\":\"white\",\"zerolinewidth\":2}}},\"title\":{\"font\":{\"color\":\"#4D5663\"}},\"xaxis\":{\"gridcolor\":\"#E1E5ED\",\"showgrid\":true,\"tickfont\":{\"color\":\"#4D5663\"},\"title\":{\"font\":{\"color\":\"#4D5663\"},\"text\":\"\"},\"zerolinecolor\":\"#E1E5ED\"},\"yaxis\":{\"gridcolor\":\"#E1E5ED\",\"showgrid\":true,\"tickfont\":{\"color\":\"#4D5663\"},\"title\":{\"font\":{\"color\":\"#4D5663\"},\"text\":\"\"},\"zerolinecolor\":\"#E1E5ED\"}},                        {\"showLink\": true, \"linkText\": \"Export to plot.ly\", \"plotlyServerURL\": \"https://plot.ly\", \"responsive\": true}                    ).then(function(){\n",
       "                            \n",
       "var gd = document.getElementById('e1290e03-f2ad-4d04-b23a-c69c22674eda');\n",
       "var x = new MutationObserver(function (mutations, observer) {{\n",
       "        var display = window.getComputedStyle(gd).display;\n",
       "        if (!display || display === 'none') {{\n",
       "            console.log([gd, 'removed!']);\n",
       "            Plotly.purge(gd);\n",
       "            observer.disconnect();\n",
       "        }}\n",
       "}});\n",
       "\n",
       "// Listen for the removal of the full notebook cells\n",
       "var notebookContainer = gd.closest('#notebook-container');\n",
       "if (notebookContainer) {{\n",
       "    x.observe(notebookContainer, {childList: true});\n",
       "}}\n",
       "\n",
       "// Listen for the clearing of the current output cell\n",
       "var outputEl = gd.closest('.output');\n",
       "if (outputEl) {{\n",
       "    x.observe(outputEl, {childList: true});\n",
       "}}\n",
       "\n",
       "                        })                };                });            </script>        </div>"
      ]
     },
     "metadata": {},
     "output_type": "display_data"
    }
   ],
   "source": [
    "df.iplot(kind='box')"
   ]
  },
  {
   "cell_type": "markdown",
   "metadata": {},
   "source": [
    "## 3d Surface"
   ]
  },
  {
   "cell_type": "code",
   "execution_count": 15,
   "metadata": {},
   "outputs": [
    {
     "data": {
      "application/vnd.plotly.v1+json": {
       "config": {
        "linkText": "Export to plot.ly",
        "plotlyServerURL": "https://plot.ly",
        "showLink": true
       },
       "data": [
        {
         "colorscale": [
          [
           0,
           "rgb(165,0,38)"
          ],
          [
           0.1,
           "rgb(215,48,39)"
          ],
          [
           0.2,
           "rgb(244,109,67)"
          ],
          [
           0.3,
           "rgb(253,174,97)"
          ],
          [
           0.4,
           "rgb(254,224,144)"
          ],
          [
           0.5,
           "rgb(255,255,191)"
          ],
          [
           0.6,
           "rgb(224,243,248)"
          ],
          [
           0.7,
           "rgb(171,217,233)"
          ],
          [
           0.8,
           "rgb(116,173,209)"
          ],
          [
           0.9,
           "rgb(69,117,180)"
          ],
          [
           1,
           "rgb(49,54,149)"
          ]
         ],
         "type": "surface",
         "x": [
          0,
          1,
          2,
          3,
          4
         ],
         "y": [
          "x",
          "y",
          "z"
         ],
         "z": [
          [
           1,
           2,
           3,
           4,
           5
          ],
          [
           10,
           20,
           30,
           20,
           10
          ],
          [
           5,
           4,
           3,
           2,
           1
          ]
         ]
        }
       ],
       "layout": {
        "legend": {
         "bgcolor": "#F5F6F9",
         "font": {
          "color": "#4D5663"
         }
        },
        "paper_bgcolor": "#F5F6F9",
        "plot_bgcolor": "#F5F6F9",
        "template": {
         "data": {
          "bar": [
           {
            "error_x": {
             "color": "#2a3f5f"
            },
            "error_y": {
             "color": "#2a3f5f"
            },
            "marker": {
             "line": {
              "color": "#E5ECF6",
              "width": 0.5
             },
             "pattern": {
              "fillmode": "overlay",
              "size": 10,
              "solidity": 0.2
             }
            },
            "type": "bar"
           }
          ],
          "barpolar": [
           {
            "marker": {
             "line": {
              "color": "#E5ECF6",
              "width": 0.5
             },
             "pattern": {
              "fillmode": "overlay",
              "size": 10,
              "solidity": 0.2
             }
            },
            "type": "barpolar"
           }
          ],
          "carpet": [
           {
            "aaxis": {
             "endlinecolor": "#2a3f5f",
             "gridcolor": "white",
             "linecolor": "white",
             "minorgridcolor": "white",
             "startlinecolor": "#2a3f5f"
            },
            "baxis": {
             "endlinecolor": "#2a3f5f",
             "gridcolor": "white",
             "linecolor": "white",
             "minorgridcolor": "white",
             "startlinecolor": "#2a3f5f"
            },
            "type": "carpet"
           }
          ],
          "choropleth": [
           {
            "colorbar": {
             "outlinewidth": 0,
             "ticks": ""
            },
            "type": "choropleth"
           }
          ],
          "contour": [
           {
            "colorbar": {
             "outlinewidth": 0,
             "ticks": ""
            },
            "colorscale": [
             [
              0,
              "#0d0887"
             ],
             [
              0.1111111111111111,
              "#46039f"
             ],
             [
              0.2222222222222222,
              "#7201a8"
             ],
             [
              0.3333333333333333,
              "#9c179e"
             ],
             [
              0.4444444444444444,
              "#bd3786"
             ],
             [
              0.5555555555555556,
              "#d8576b"
             ],
             [
              0.6666666666666666,
              "#ed7953"
             ],
             [
              0.7777777777777778,
              "#fb9f3a"
             ],
             [
              0.8888888888888888,
              "#fdca26"
             ],
             [
              1,
              "#f0f921"
             ]
            ],
            "type": "contour"
           }
          ],
          "contourcarpet": [
           {
            "colorbar": {
             "outlinewidth": 0,
             "ticks": ""
            },
            "type": "contourcarpet"
           }
          ],
          "heatmap": [
           {
            "colorbar": {
             "outlinewidth": 0,
             "ticks": ""
            },
            "colorscale": [
             [
              0,
              "#0d0887"
             ],
             [
              0.1111111111111111,
              "#46039f"
             ],
             [
              0.2222222222222222,
              "#7201a8"
             ],
             [
              0.3333333333333333,
              "#9c179e"
             ],
             [
              0.4444444444444444,
              "#bd3786"
             ],
             [
              0.5555555555555556,
              "#d8576b"
             ],
             [
              0.6666666666666666,
              "#ed7953"
             ],
             [
              0.7777777777777778,
              "#fb9f3a"
             ],
             [
              0.8888888888888888,
              "#fdca26"
             ],
             [
              1,
              "#f0f921"
             ]
            ],
            "type": "heatmap"
           }
          ],
          "heatmapgl": [
           {
            "colorbar": {
             "outlinewidth": 0,
             "ticks": ""
            },
            "colorscale": [
             [
              0,
              "#0d0887"
             ],
             [
              0.1111111111111111,
              "#46039f"
             ],
             [
              0.2222222222222222,
              "#7201a8"
             ],
             [
              0.3333333333333333,
              "#9c179e"
             ],
             [
              0.4444444444444444,
              "#bd3786"
             ],
             [
              0.5555555555555556,
              "#d8576b"
             ],
             [
              0.6666666666666666,
              "#ed7953"
             ],
             [
              0.7777777777777778,
              "#fb9f3a"
             ],
             [
              0.8888888888888888,
              "#fdca26"
             ],
             [
              1,
              "#f0f921"
             ]
            ],
            "type": "heatmapgl"
           }
          ],
          "histogram": [
           {
            "marker": {
             "pattern": {
              "fillmode": "overlay",
              "size": 10,
              "solidity": 0.2
             }
            },
            "type": "histogram"
           }
          ],
          "histogram2d": [
           {
            "colorbar": {
             "outlinewidth": 0,
             "ticks": ""
            },
            "colorscale": [
             [
              0,
              "#0d0887"
             ],
             [
              0.1111111111111111,
              "#46039f"
             ],
             [
              0.2222222222222222,
              "#7201a8"
             ],
             [
              0.3333333333333333,
              "#9c179e"
             ],
             [
              0.4444444444444444,
              "#bd3786"
             ],
             [
              0.5555555555555556,
              "#d8576b"
             ],
             [
              0.6666666666666666,
              "#ed7953"
             ],
             [
              0.7777777777777778,
              "#fb9f3a"
             ],
             [
              0.8888888888888888,
              "#fdca26"
             ],
             [
              1,
              "#f0f921"
             ]
            ],
            "type": "histogram2d"
           }
          ],
          "histogram2dcontour": [
           {
            "colorbar": {
             "outlinewidth": 0,
             "ticks": ""
            },
            "colorscale": [
             [
              0,
              "#0d0887"
             ],
             [
              0.1111111111111111,
              "#46039f"
             ],
             [
              0.2222222222222222,
              "#7201a8"
             ],
             [
              0.3333333333333333,
              "#9c179e"
             ],
             [
              0.4444444444444444,
              "#bd3786"
             ],
             [
              0.5555555555555556,
              "#d8576b"
             ],
             [
              0.6666666666666666,
              "#ed7953"
             ],
             [
              0.7777777777777778,
              "#fb9f3a"
             ],
             [
              0.8888888888888888,
              "#fdca26"
             ],
             [
              1,
              "#f0f921"
             ]
            ],
            "type": "histogram2dcontour"
           }
          ],
          "mesh3d": [
           {
            "colorbar": {
             "outlinewidth": 0,
             "ticks": ""
            },
            "type": "mesh3d"
           }
          ],
          "parcoords": [
           {
            "line": {
             "colorbar": {
              "outlinewidth": 0,
              "ticks": ""
             }
            },
            "type": "parcoords"
           }
          ],
          "pie": [
           {
            "automargin": true,
            "type": "pie"
           }
          ],
          "scatter": [
           {
            "fillpattern": {
             "fillmode": "overlay",
             "size": 10,
             "solidity": 0.2
            },
            "type": "scatter"
           }
          ],
          "scatter3d": [
           {
            "line": {
             "colorbar": {
              "outlinewidth": 0,
              "ticks": ""
             }
            },
            "marker": {
             "colorbar": {
              "outlinewidth": 0,
              "ticks": ""
             }
            },
            "type": "scatter3d"
           }
          ],
          "scattercarpet": [
           {
            "marker": {
             "colorbar": {
              "outlinewidth": 0,
              "ticks": ""
             }
            },
            "type": "scattercarpet"
           }
          ],
          "scattergeo": [
           {
            "marker": {
             "colorbar": {
              "outlinewidth": 0,
              "ticks": ""
             }
            },
            "type": "scattergeo"
           }
          ],
          "scattergl": [
           {
            "marker": {
             "colorbar": {
              "outlinewidth": 0,
              "ticks": ""
             }
            },
            "type": "scattergl"
           }
          ],
          "scattermapbox": [
           {
            "marker": {
             "colorbar": {
              "outlinewidth": 0,
              "ticks": ""
             }
            },
            "type": "scattermapbox"
           }
          ],
          "scatterpolar": [
           {
            "marker": {
             "colorbar": {
              "outlinewidth": 0,
              "ticks": ""
             }
            },
            "type": "scatterpolar"
           }
          ],
          "scatterpolargl": [
           {
            "marker": {
             "colorbar": {
              "outlinewidth": 0,
              "ticks": ""
             }
            },
            "type": "scatterpolargl"
           }
          ],
          "scatterternary": [
           {
            "marker": {
             "colorbar": {
              "outlinewidth": 0,
              "ticks": ""
             }
            },
            "type": "scatterternary"
           }
          ],
          "surface": [
           {
            "colorbar": {
             "outlinewidth": 0,
             "ticks": ""
            },
            "colorscale": [
             [
              0,
              "#0d0887"
             ],
             [
              0.1111111111111111,
              "#46039f"
             ],
             [
              0.2222222222222222,
              "#7201a8"
             ],
             [
              0.3333333333333333,
              "#9c179e"
             ],
             [
              0.4444444444444444,
              "#bd3786"
             ],
             [
              0.5555555555555556,
              "#d8576b"
             ],
             [
              0.6666666666666666,
              "#ed7953"
             ],
             [
              0.7777777777777778,
              "#fb9f3a"
             ],
             [
              0.8888888888888888,
              "#fdca26"
             ],
             [
              1,
              "#f0f921"
             ]
            ],
            "type": "surface"
           }
          ],
          "table": [
           {
            "cells": {
             "fill": {
              "color": "#EBF0F8"
             },
             "line": {
              "color": "white"
             }
            },
            "header": {
             "fill": {
              "color": "#C8D4E3"
             },
             "line": {
              "color": "white"
             }
            },
            "type": "table"
           }
          ]
         },
         "layout": {
          "annotationdefaults": {
           "arrowcolor": "#2a3f5f",
           "arrowhead": 0,
           "arrowwidth": 1
          },
          "autotypenumbers": "strict",
          "coloraxis": {
           "colorbar": {
            "outlinewidth": 0,
            "ticks": ""
           }
          },
          "colorscale": {
           "diverging": [
            [
             0,
             "#8e0152"
            ],
            [
             0.1,
             "#c51b7d"
            ],
            [
             0.2,
             "#de77ae"
            ],
            [
             0.3,
             "#f1b6da"
            ],
            [
             0.4,
             "#fde0ef"
            ],
            [
             0.5,
             "#f7f7f7"
            ],
            [
             0.6,
             "#e6f5d0"
            ],
            [
             0.7,
             "#b8e186"
            ],
            [
             0.8,
             "#7fbc41"
            ],
            [
             0.9,
             "#4d9221"
            ],
            [
             1,
             "#276419"
            ]
           ],
           "sequential": [
            [
             0,
             "#0d0887"
            ],
            [
             0.1111111111111111,
             "#46039f"
            ],
            [
             0.2222222222222222,
             "#7201a8"
            ],
            [
             0.3333333333333333,
             "#9c179e"
            ],
            [
             0.4444444444444444,
             "#bd3786"
            ],
            [
             0.5555555555555556,
             "#d8576b"
            ],
            [
             0.6666666666666666,
             "#ed7953"
            ],
            [
             0.7777777777777778,
             "#fb9f3a"
            ],
            [
             0.8888888888888888,
             "#fdca26"
            ],
            [
             1,
             "#f0f921"
            ]
           ],
           "sequentialminus": [
            [
             0,
             "#0d0887"
            ],
            [
             0.1111111111111111,
             "#46039f"
            ],
            [
             0.2222222222222222,
             "#7201a8"
            ],
            [
             0.3333333333333333,
             "#9c179e"
            ],
            [
             0.4444444444444444,
             "#bd3786"
            ],
            [
             0.5555555555555556,
             "#d8576b"
            ],
            [
             0.6666666666666666,
             "#ed7953"
            ],
            [
             0.7777777777777778,
             "#fb9f3a"
            ],
            [
             0.8888888888888888,
             "#fdca26"
            ],
            [
             1,
             "#f0f921"
            ]
           ]
          },
          "colorway": [
           "#636efa",
           "#EF553B",
           "#00cc96",
           "#ab63fa",
           "#FFA15A",
           "#19d3f3",
           "#FF6692",
           "#B6E880",
           "#FF97FF",
           "#FECB52"
          ],
          "font": {
           "color": "#2a3f5f"
          },
          "geo": {
           "bgcolor": "white",
           "lakecolor": "white",
           "landcolor": "#E5ECF6",
           "showlakes": true,
           "showland": true,
           "subunitcolor": "white"
          },
          "hoverlabel": {
           "align": "left"
          },
          "hovermode": "closest",
          "mapbox": {
           "style": "light"
          },
          "paper_bgcolor": "white",
          "plot_bgcolor": "#E5ECF6",
          "polar": {
           "angularaxis": {
            "gridcolor": "white",
            "linecolor": "white",
            "ticks": ""
           },
           "bgcolor": "#E5ECF6",
           "radialaxis": {
            "gridcolor": "white",
            "linecolor": "white",
            "ticks": ""
           }
          },
          "scene": {
           "xaxis": {
            "backgroundcolor": "#E5ECF6",
            "gridcolor": "white",
            "gridwidth": 2,
            "linecolor": "white",
            "showbackground": true,
            "ticks": "",
            "zerolinecolor": "white"
           },
           "yaxis": {
            "backgroundcolor": "#E5ECF6",
            "gridcolor": "white",
            "gridwidth": 2,
            "linecolor": "white",
            "showbackground": true,
            "ticks": "",
            "zerolinecolor": "white"
           },
           "zaxis": {
            "backgroundcolor": "#E5ECF6",
            "gridcolor": "white",
            "gridwidth": 2,
            "linecolor": "white",
            "showbackground": true,
            "ticks": "",
            "zerolinecolor": "white"
           }
          },
          "shapedefaults": {
           "line": {
            "color": "#2a3f5f"
           }
          },
          "ternary": {
           "aaxis": {
            "gridcolor": "white",
            "linecolor": "white",
            "ticks": ""
           },
           "baxis": {
            "gridcolor": "white",
            "linecolor": "white",
            "ticks": ""
           },
           "bgcolor": "#E5ECF6",
           "caxis": {
            "gridcolor": "white",
            "linecolor": "white",
            "ticks": ""
           }
          },
          "title": {
           "x": 0.05
          },
          "xaxis": {
           "automargin": true,
           "gridcolor": "white",
           "linecolor": "white",
           "ticks": "",
           "title": {
            "standoff": 15
           },
           "zerolinecolor": "white",
           "zerolinewidth": 2
          },
          "yaxis": {
           "automargin": true,
           "gridcolor": "white",
           "linecolor": "white",
           "ticks": "",
           "title": {
            "standoff": 15
           },
           "zerolinecolor": "white",
           "zerolinewidth": 2
          }
         }
        },
        "title": {
         "font": {
          "color": "#4D5663"
         }
        },
        "xaxis": {
         "gridcolor": "#E1E5ED",
         "showgrid": true,
         "tickfont": {
          "color": "#4D5663"
         },
         "title": {
          "font": {
           "color": "#4D5663"
          },
          "text": ""
         },
         "zerolinecolor": "#E1E5ED"
        },
        "yaxis": {
         "gridcolor": "#E1E5ED",
         "showgrid": true,
         "tickfont": {
          "color": "#4D5663"
         },
         "title": {
          "font": {
           "color": "#4D5663"
          },
          "text": ""
         },
         "zerolinecolor": "#E1E5ED"
        }
       }
      },
      "text/html": [
       "<div>                            <div id=\"4532033a-20f6-46a3-8259-daca4e7390df\" class=\"plotly-graph-div\" style=\"height:525px; width:100%;\"></div>            <script type=\"text/javascript\">                require([\"plotly\"], function(Plotly) {                    window.PLOTLYENV=window.PLOTLYENV || {};\n",
       "                    window.PLOTLYENV.BASE_URL='https://plot.ly';                                    if (document.getElementById(\"4532033a-20f6-46a3-8259-daca4e7390df\")) {                    Plotly.newPlot(                        \"4532033a-20f6-46a3-8259-daca4e7390df\",                        [{\"colorscale\":[[0.0,\"rgb(165,0,38)\"],[0.1,\"rgb(215,48,39)\"],[0.2,\"rgb(244,109,67)\"],[0.3,\"rgb(253,174,97)\"],[0.4,\"rgb(254,224,144)\"],[0.5,\"rgb(255,255,191)\"],[0.6,\"rgb(224,243,248)\"],[0.7,\"rgb(171,217,233)\"],[0.8,\"rgb(116,173,209)\"],[0.9,\"rgb(69,117,180)\"],[1.0,\"rgb(49,54,149)\"]],\"x\":[0,1,2,3,4],\"y\":[\"x\",\"y\",\"z\"],\"z\":[[1,2,3,4,5],[10,20,30,20,10],[5,4,3,2,1]],\"type\":\"surface\"}],                        {\"legend\":{\"bgcolor\":\"#F5F6F9\",\"font\":{\"color\":\"#4D5663\"}},\"paper_bgcolor\":\"#F5F6F9\",\"plot_bgcolor\":\"#F5F6F9\",\"template\":{\"data\":{\"barpolar\":[{\"marker\":{\"line\":{\"color\":\"#E5ECF6\",\"width\":0.5},\"pattern\":{\"fillmode\":\"overlay\",\"size\":10,\"solidity\":0.2}},\"type\":\"barpolar\"}],\"bar\":[{\"error_x\":{\"color\":\"#2a3f5f\"},\"error_y\":{\"color\":\"#2a3f5f\"},\"marker\":{\"line\":{\"color\":\"#E5ECF6\",\"width\":0.5},\"pattern\":{\"fillmode\":\"overlay\",\"size\":10,\"solidity\":0.2}},\"type\":\"bar\"}],\"carpet\":[{\"aaxis\":{\"endlinecolor\":\"#2a3f5f\",\"gridcolor\":\"white\",\"linecolor\":\"white\",\"minorgridcolor\":\"white\",\"startlinecolor\":\"#2a3f5f\"},\"baxis\":{\"endlinecolor\":\"#2a3f5f\",\"gridcolor\":\"white\",\"linecolor\":\"white\",\"minorgridcolor\":\"white\",\"startlinecolor\":\"#2a3f5f\"},\"type\":\"carpet\"}],\"choropleth\":[{\"colorbar\":{\"outlinewidth\":0,\"ticks\":\"\"},\"type\":\"choropleth\"}],\"contourcarpet\":[{\"colorbar\":{\"outlinewidth\":0,\"ticks\":\"\"},\"type\":\"contourcarpet\"}],\"contour\":[{\"colorbar\":{\"outlinewidth\":0,\"ticks\":\"\"},\"colorscale\":[[0.0,\"#0d0887\"],[0.1111111111111111,\"#46039f\"],[0.2222222222222222,\"#7201a8\"],[0.3333333333333333,\"#9c179e\"],[0.4444444444444444,\"#bd3786\"],[0.5555555555555556,\"#d8576b\"],[0.6666666666666666,\"#ed7953\"],[0.7777777777777778,\"#fb9f3a\"],[0.8888888888888888,\"#fdca26\"],[1.0,\"#f0f921\"]],\"type\":\"contour\"}],\"heatmapgl\":[{\"colorbar\":{\"outlinewidth\":0,\"ticks\":\"\"},\"colorscale\":[[0.0,\"#0d0887\"],[0.1111111111111111,\"#46039f\"],[0.2222222222222222,\"#7201a8\"],[0.3333333333333333,\"#9c179e\"],[0.4444444444444444,\"#bd3786\"],[0.5555555555555556,\"#d8576b\"],[0.6666666666666666,\"#ed7953\"],[0.7777777777777778,\"#fb9f3a\"],[0.8888888888888888,\"#fdca26\"],[1.0,\"#f0f921\"]],\"type\":\"heatmapgl\"}],\"heatmap\":[{\"colorbar\":{\"outlinewidth\":0,\"ticks\":\"\"},\"colorscale\":[[0.0,\"#0d0887\"],[0.1111111111111111,\"#46039f\"],[0.2222222222222222,\"#7201a8\"],[0.3333333333333333,\"#9c179e\"],[0.4444444444444444,\"#bd3786\"],[0.5555555555555556,\"#d8576b\"],[0.6666666666666666,\"#ed7953\"],[0.7777777777777778,\"#fb9f3a\"],[0.8888888888888888,\"#fdca26\"],[1.0,\"#f0f921\"]],\"type\":\"heatmap\"}],\"histogram2dcontour\":[{\"colorbar\":{\"outlinewidth\":0,\"ticks\":\"\"},\"colorscale\":[[0.0,\"#0d0887\"],[0.1111111111111111,\"#46039f\"],[0.2222222222222222,\"#7201a8\"],[0.3333333333333333,\"#9c179e\"],[0.4444444444444444,\"#bd3786\"],[0.5555555555555556,\"#d8576b\"],[0.6666666666666666,\"#ed7953\"],[0.7777777777777778,\"#fb9f3a\"],[0.8888888888888888,\"#fdca26\"],[1.0,\"#f0f921\"]],\"type\":\"histogram2dcontour\"}],\"histogram2d\":[{\"colorbar\":{\"outlinewidth\":0,\"ticks\":\"\"},\"colorscale\":[[0.0,\"#0d0887\"],[0.1111111111111111,\"#46039f\"],[0.2222222222222222,\"#7201a8\"],[0.3333333333333333,\"#9c179e\"],[0.4444444444444444,\"#bd3786\"],[0.5555555555555556,\"#d8576b\"],[0.6666666666666666,\"#ed7953\"],[0.7777777777777778,\"#fb9f3a\"],[0.8888888888888888,\"#fdca26\"],[1.0,\"#f0f921\"]],\"type\":\"histogram2d\"}],\"histogram\":[{\"marker\":{\"pattern\":{\"fillmode\":\"overlay\",\"size\":10,\"solidity\":0.2}},\"type\":\"histogram\"}],\"mesh3d\":[{\"colorbar\":{\"outlinewidth\":0,\"ticks\":\"\"},\"type\":\"mesh3d\"}],\"parcoords\":[{\"line\":{\"colorbar\":{\"outlinewidth\":0,\"ticks\":\"\"}},\"type\":\"parcoords\"}],\"pie\":[{\"automargin\":true,\"type\":\"pie\"}],\"scatter3d\":[{\"line\":{\"colorbar\":{\"outlinewidth\":0,\"ticks\":\"\"}},\"marker\":{\"colorbar\":{\"outlinewidth\":0,\"ticks\":\"\"}},\"type\":\"scatter3d\"}],\"scattercarpet\":[{\"marker\":{\"colorbar\":{\"outlinewidth\":0,\"ticks\":\"\"}},\"type\":\"scattercarpet\"}],\"scattergeo\":[{\"marker\":{\"colorbar\":{\"outlinewidth\":0,\"ticks\":\"\"}},\"type\":\"scattergeo\"}],\"scattergl\":[{\"marker\":{\"colorbar\":{\"outlinewidth\":0,\"ticks\":\"\"}},\"type\":\"scattergl\"}],\"scattermapbox\":[{\"marker\":{\"colorbar\":{\"outlinewidth\":0,\"ticks\":\"\"}},\"type\":\"scattermapbox\"}],\"scatterpolargl\":[{\"marker\":{\"colorbar\":{\"outlinewidth\":0,\"ticks\":\"\"}},\"type\":\"scatterpolargl\"}],\"scatterpolar\":[{\"marker\":{\"colorbar\":{\"outlinewidth\":0,\"ticks\":\"\"}},\"type\":\"scatterpolar\"}],\"scatter\":[{\"fillpattern\":{\"fillmode\":\"overlay\",\"size\":10,\"solidity\":0.2},\"type\":\"scatter\"}],\"scatterternary\":[{\"marker\":{\"colorbar\":{\"outlinewidth\":0,\"ticks\":\"\"}},\"type\":\"scatterternary\"}],\"surface\":[{\"colorbar\":{\"outlinewidth\":0,\"ticks\":\"\"},\"colorscale\":[[0.0,\"#0d0887\"],[0.1111111111111111,\"#46039f\"],[0.2222222222222222,\"#7201a8\"],[0.3333333333333333,\"#9c179e\"],[0.4444444444444444,\"#bd3786\"],[0.5555555555555556,\"#d8576b\"],[0.6666666666666666,\"#ed7953\"],[0.7777777777777778,\"#fb9f3a\"],[0.8888888888888888,\"#fdca26\"],[1.0,\"#f0f921\"]],\"type\":\"surface\"}],\"table\":[{\"cells\":{\"fill\":{\"color\":\"#EBF0F8\"},\"line\":{\"color\":\"white\"}},\"header\":{\"fill\":{\"color\":\"#C8D4E3\"},\"line\":{\"color\":\"white\"}},\"type\":\"table\"}]},\"layout\":{\"annotationdefaults\":{\"arrowcolor\":\"#2a3f5f\",\"arrowhead\":0,\"arrowwidth\":1},\"autotypenumbers\":\"strict\",\"coloraxis\":{\"colorbar\":{\"outlinewidth\":0,\"ticks\":\"\"}},\"colorscale\":{\"diverging\":[[0,\"#8e0152\"],[0.1,\"#c51b7d\"],[0.2,\"#de77ae\"],[0.3,\"#f1b6da\"],[0.4,\"#fde0ef\"],[0.5,\"#f7f7f7\"],[0.6,\"#e6f5d0\"],[0.7,\"#b8e186\"],[0.8,\"#7fbc41\"],[0.9,\"#4d9221\"],[1,\"#276419\"]],\"sequential\":[[0.0,\"#0d0887\"],[0.1111111111111111,\"#46039f\"],[0.2222222222222222,\"#7201a8\"],[0.3333333333333333,\"#9c179e\"],[0.4444444444444444,\"#bd3786\"],[0.5555555555555556,\"#d8576b\"],[0.6666666666666666,\"#ed7953\"],[0.7777777777777778,\"#fb9f3a\"],[0.8888888888888888,\"#fdca26\"],[1.0,\"#f0f921\"]],\"sequentialminus\":[[0.0,\"#0d0887\"],[0.1111111111111111,\"#46039f\"],[0.2222222222222222,\"#7201a8\"],[0.3333333333333333,\"#9c179e\"],[0.4444444444444444,\"#bd3786\"],[0.5555555555555556,\"#d8576b\"],[0.6666666666666666,\"#ed7953\"],[0.7777777777777778,\"#fb9f3a\"],[0.8888888888888888,\"#fdca26\"],[1.0,\"#f0f921\"]]},\"colorway\":[\"#636efa\",\"#EF553B\",\"#00cc96\",\"#ab63fa\",\"#FFA15A\",\"#19d3f3\",\"#FF6692\",\"#B6E880\",\"#FF97FF\",\"#FECB52\"],\"font\":{\"color\":\"#2a3f5f\"},\"geo\":{\"bgcolor\":\"white\",\"lakecolor\":\"white\",\"landcolor\":\"#E5ECF6\",\"showlakes\":true,\"showland\":true,\"subunitcolor\":\"white\"},\"hoverlabel\":{\"align\":\"left\"},\"hovermode\":\"closest\",\"mapbox\":{\"style\":\"light\"},\"paper_bgcolor\":\"white\",\"plot_bgcolor\":\"#E5ECF6\",\"polar\":{\"angularaxis\":{\"gridcolor\":\"white\",\"linecolor\":\"white\",\"ticks\":\"\"},\"bgcolor\":\"#E5ECF6\",\"radialaxis\":{\"gridcolor\":\"white\",\"linecolor\":\"white\",\"ticks\":\"\"}},\"scene\":{\"xaxis\":{\"backgroundcolor\":\"#E5ECF6\",\"gridcolor\":\"white\",\"gridwidth\":2,\"linecolor\":\"white\",\"showbackground\":true,\"ticks\":\"\",\"zerolinecolor\":\"white\"},\"yaxis\":{\"backgroundcolor\":\"#E5ECF6\",\"gridcolor\":\"white\",\"gridwidth\":2,\"linecolor\":\"white\",\"showbackground\":true,\"ticks\":\"\",\"zerolinecolor\":\"white\"},\"zaxis\":{\"backgroundcolor\":\"#E5ECF6\",\"gridcolor\":\"white\",\"gridwidth\":2,\"linecolor\":\"white\",\"showbackground\":true,\"ticks\":\"\",\"zerolinecolor\":\"white\"}},\"shapedefaults\":{\"line\":{\"color\":\"#2a3f5f\"}},\"ternary\":{\"aaxis\":{\"gridcolor\":\"white\",\"linecolor\":\"white\",\"ticks\":\"\"},\"baxis\":{\"gridcolor\":\"white\",\"linecolor\":\"white\",\"ticks\":\"\"},\"bgcolor\":\"#E5ECF6\",\"caxis\":{\"gridcolor\":\"white\",\"linecolor\":\"white\",\"ticks\":\"\"}},\"title\":{\"x\":0.05},\"xaxis\":{\"automargin\":true,\"gridcolor\":\"white\",\"linecolor\":\"white\",\"ticks\":\"\",\"title\":{\"standoff\":15},\"zerolinecolor\":\"white\",\"zerolinewidth\":2},\"yaxis\":{\"automargin\":true,\"gridcolor\":\"white\",\"linecolor\":\"white\",\"ticks\":\"\",\"title\":{\"standoff\":15},\"zerolinecolor\":\"white\",\"zerolinewidth\":2}}},\"title\":{\"font\":{\"color\":\"#4D5663\"}},\"xaxis\":{\"gridcolor\":\"#E1E5ED\",\"showgrid\":true,\"tickfont\":{\"color\":\"#4D5663\"},\"title\":{\"font\":{\"color\":\"#4D5663\"},\"text\":\"\"},\"zerolinecolor\":\"#E1E5ED\"},\"yaxis\":{\"gridcolor\":\"#E1E5ED\",\"showgrid\":true,\"tickfont\":{\"color\":\"#4D5663\"},\"title\":{\"font\":{\"color\":\"#4D5663\"},\"text\":\"\"},\"zerolinecolor\":\"#E1E5ED\"}},                        {\"showLink\": true, \"linkText\": \"Export to plot.ly\", \"plotlyServerURL\": \"https://plot.ly\", \"responsive\": true}                    ).then(function(){\n",
       "                            \n",
       "var gd = document.getElementById('4532033a-20f6-46a3-8259-daca4e7390df');\n",
       "var x = new MutationObserver(function (mutations, observer) {{\n",
       "        var display = window.getComputedStyle(gd).display;\n",
       "        if (!display || display === 'none') {{\n",
       "            console.log([gd, 'removed!']);\n",
       "            Plotly.purge(gd);\n",
       "            observer.disconnect();\n",
       "        }}\n",
       "}});\n",
       "\n",
       "// Listen for the removal of the full notebook cells\n",
       "var notebookContainer = gd.closest('#notebook-container');\n",
       "if (notebookContainer) {{\n",
       "    x.observe(notebookContainer, {childList: true});\n",
       "}}\n",
       "\n",
       "// Listen for the clearing of the current output cell\n",
       "var outputEl = gd.closest('.output');\n",
       "if (outputEl) {{\n",
       "    x.observe(outputEl, {childList: true});\n",
       "}}\n",
       "\n",
       "                        })                };                });            </script>        </div>"
      ]
     },
     "metadata": {},
     "output_type": "display_data"
    }
   ],
   "source": [
    "df3 = pd.DataFrame({'x':[1,2,3,4,5],'y':[10,20,30,20,10],'z':[5,4,3,2,1]})\n",
    "df3.iplot(kind='surface',colorscale='rdylbu')"
   ]
  },
  {
   "cell_type": "markdown",
   "metadata": {},
   "source": [
    "## Spread"
   ]
  },
  {
   "cell_type": "code",
   "execution_count": 17,
   "metadata": {
    "scrolled": true
   },
   "outputs": [
    {
     "ename": "AttributeError",
     "evalue": "module 'pandas' has no attribute 'np'",
     "output_type": "error",
     "traceback": [
      "\u001b[0;31m---------------------------------------------------------------------------\u001b[0m",
      "\u001b[0;31mAttributeError\u001b[0m                            Traceback (most recent call last)",
      "Cell \u001b[0;32mIn[17], line 1\u001b[0m\n\u001b[0;32m----> 1\u001b[0m df[[\u001b[38;5;124m'\u001b[39m\u001b[38;5;124mA\u001b[39m\u001b[38;5;124m'\u001b[39m,\u001b[38;5;124m'\u001b[39m\u001b[38;5;124mB\u001b[39m\u001b[38;5;124m'\u001b[39m]]\u001b[38;5;241m.\u001b[39miplot(kind\u001b[38;5;241m=\u001b[39m\u001b[38;5;124m'\u001b[39m\u001b[38;5;124mspread\u001b[39m\u001b[38;5;124m'\u001b[39m)\n",
      "File \u001b[0;32m~/anaconda3/lib/python3.11/site-packages/cufflinks/plotlytools.py:849\u001b[0m, in \u001b[0;36m_iplot\u001b[0;34m(self, kind, data, layout, filename, sharing, title, xTitle, yTitle, zTitle, theme, colors, colorscale, fill, width, dash, mode, interpolation, symbol, size, barmode, sortbars, bargap, bargroupgap, bins, histnorm, histfunc, orientation, boxpoints, annotations, keys, bestfit, bestfit_colors, mean, mean_colors, categories, x, y, z, text, gridcolor, zerolinecolor, margin, labels, values, secondary_y, secondary_y_title, subplots, shape, error_x, error_y, error_type, locations, lon, lat, asFrame, asDates, asFigure, asImage, dimensions, asPlot, asUrl, online, **kwargs)\u001b[0m\n\u001b[1;32m    847\u001b[0m \u001b[38;5;28;01mif\u001b[39;00m kind\u001b[38;5;241m==\u001b[39m\u001b[38;5;124m'\u001b[39m\u001b[38;5;124mspread\u001b[39m\u001b[38;5;124m'\u001b[39m:\n\u001b[1;32m    848\u001b[0m \ttrace\u001b[38;5;241m=\u001b[39m\u001b[38;5;28mself\u001b[39m\u001b[38;5;241m.\u001b[39mapply(\u001b[38;5;28;01mlambda\u001b[39;00m x:x[\u001b[38;5;241m0\u001b[39m]\u001b[38;5;241m-\u001b[39mx[\u001b[38;5;241m1\u001b[39m],axis\u001b[38;5;241m=\u001b[39m\u001b[38;5;241m1\u001b[39m)\n\u001b[0;32m--> 849\u001b[0m \tpositive\u001b[38;5;241m=\u001b[39mtrace\u001b[38;5;241m.\u001b[39mapply(\u001b[38;5;28;01mlambda\u001b[39;00m x:x \u001b[38;5;28;01mif\u001b[39;00m x\u001b[38;5;241m>\u001b[39m\u001b[38;5;241m=\u001b[39m\u001b[38;5;241m0\u001b[39m \u001b[38;5;28;01melse\u001b[39;00m pd\u001b[38;5;241m.\u001b[39mnp\u001b[38;5;241m.\u001b[39mnan)\n\u001b[1;32m    850\u001b[0m \tnegative\u001b[38;5;241m=\u001b[39mtrace\u001b[38;5;241m.\u001b[39mapply(\u001b[38;5;28;01mlambda\u001b[39;00m x:x \u001b[38;5;28;01mif\u001b[39;00m x\u001b[38;5;241m<\u001b[39m\u001b[38;5;241m0\u001b[39m \u001b[38;5;28;01melse\u001b[39;00m pd\u001b[38;5;241m.\u001b[39mnp\u001b[38;5;241m.\u001b[39mnan)\n\u001b[1;32m    851\u001b[0m \ttrace\u001b[38;5;241m=\u001b[39mpd\u001b[38;5;241m.\u001b[39mDataFrame({\u001b[38;5;124m'\u001b[39m\u001b[38;5;124mpositive\u001b[39m\u001b[38;5;124m'\u001b[39m:positive,\u001b[38;5;124m'\u001b[39m\u001b[38;5;124mnegative\u001b[39m\u001b[38;5;124m'\u001b[39m:negative})\n",
      "File \u001b[0;32m~/anaconda3/lib/python3.11/site-packages/pandas/core/series.py:4630\u001b[0m, in \u001b[0;36mSeries.apply\u001b[0;34m(self, func, convert_dtype, args, **kwargs)\u001b[0m\n\u001b[1;32m   4520\u001b[0m \u001b[38;5;28;01mdef\u001b[39;00m \u001b[38;5;21mapply\u001b[39m(\n\u001b[1;32m   4521\u001b[0m     \u001b[38;5;28mself\u001b[39m,\n\u001b[1;32m   4522\u001b[0m     func: AggFuncType,\n\u001b[0;32m   (...)\u001b[0m\n\u001b[1;32m   4525\u001b[0m     \u001b[38;5;241m*\u001b[39m\u001b[38;5;241m*\u001b[39mkwargs,\n\u001b[1;32m   4526\u001b[0m ) \u001b[38;5;241m-\u001b[39m\u001b[38;5;241m>\u001b[39m DataFrame \u001b[38;5;241m|\u001b[39m Series:\n\u001b[1;32m   4527\u001b[0m \u001b[38;5;250m    \u001b[39m\u001b[38;5;124;03m\"\"\"\u001b[39;00m\n\u001b[1;32m   4528\u001b[0m \u001b[38;5;124;03m    Invoke function on values of Series.\u001b[39;00m\n\u001b[1;32m   4529\u001b[0m \n\u001b[0;32m   (...)\u001b[0m\n\u001b[1;32m   4628\u001b[0m \u001b[38;5;124;03m    dtype: float64\u001b[39;00m\n\u001b[1;32m   4629\u001b[0m \u001b[38;5;124;03m    \"\"\"\u001b[39;00m\n\u001b[0;32m-> 4630\u001b[0m     \u001b[38;5;28;01mreturn\u001b[39;00m SeriesApply(\u001b[38;5;28mself\u001b[39m, func, convert_dtype, args, kwargs)\u001b[38;5;241m.\u001b[39mapply()\n",
      "File \u001b[0;32m~/anaconda3/lib/python3.11/site-packages/pandas/core/apply.py:1025\u001b[0m, in \u001b[0;36mSeriesApply.apply\u001b[0;34m(self)\u001b[0m\n\u001b[1;32m   1022\u001b[0m     \u001b[38;5;28;01mreturn\u001b[39;00m \u001b[38;5;28mself\u001b[39m\u001b[38;5;241m.\u001b[39mapply_str()\n\u001b[1;32m   1024\u001b[0m \u001b[38;5;66;03m# self.f is Callable\u001b[39;00m\n\u001b[0;32m-> 1025\u001b[0m \u001b[38;5;28;01mreturn\u001b[39;00m \u001b[38;5;28mself\u001b[39m\u001b[38;5;241m.\u001b[39mapply_standard()\n",
      "File \u001b[0;32m~/anaconda3/lib/python3.11/site-packages/pandas/core/apply.py:1076\u001b[0m, in \u001b[0;36mSeriesApply.apply_standard\u001b[0;34m(self)\u001b[0m\n\u001b[1;32m   1074\u001b[0m     \u001b[38;5;28;01melse\u001b[39;00m:\n\u001b[1;32m   1075\u001b[0m         values \u001b[38;5;241m=\u001b[39m obj\u001b[38;5;241m.\u001b[39mastype(\u001b[38;5;28mobject\u001b[39m)\u001b[38;5;241m.\u001b[39m_values\n\u001b[0;32m-> 1076\u001b[0m         mapped \u001b[38;5;241m=\u001b[39m lib\u001b[38;5;241m.\u001b[39mmap_infer(\n\u001b[1;32m   1077\u001b[0m             values,\n\u001b[1;32m   1078\u001b[0m             f,\n\u001b[1;32m   1079\u001b[0m             convert\u001b[38;5;241m=\u001b[39m\u001b[38;5;28mself\u001b[39m\u001b[38;5;241m.\u001b[39mconvert_dtype,\n\u001b[1;32m   1080\u001b[0m         )\n\u001b[1;32m   1082\u001b[0m \u001b[38;5;28;01mif\u001b[39;00m \u001b[38;5;28mlen\u001b[39m(mapped) \u001b[38;5;129;01mand\u001b[39;00m \u001b[38;5;28misinstance\u001b[39m(mapped[\u001b[38;5;241m0\u001b[39m], ABCSeries):\n\u001b[1;32m   1083\u001b[0m     \u001b[38;5;66;03m# GH#43986 Need to do list(mapped) in order to get treated as nested\u001b[39;00m\n\u001b[1;32m   1084\u001b[0m     \u001b[38;5;66;03m#  See also GH#25959 regarding EA support\u001b[39;00m\n\u001b[1;32m   1085\u001b[0m     \u001b[38;5;28;01mreturn\u001b[39;00m obj\u001b[38;5;241m.\u001b[39m_constructor_expanddim(\u001b[38;5;28mlist\u001b[39m(mapped), index\u001b[38;5;241m=\u001b[39mobj\u001b[38;5;241m.\u001b[39mindex)\n",
      "File \u001b[0;32m~/anaconda3/lib/python3.11/site-packages/pandas/_libs/lib.pyx:2834\u001b[0m, in \u001b[0;36mpandas._libs.lib.map_infer\u001b[0;34m()\u001b[0m\n",
      "File \u001b[0;32m~/anaconda3/lib/python3.11/site-packages/cufflinks/plotlytools.py:849\u001b[0m, in \u001b[0;36m_iplot.<locals>.<lambda>\u001b[0;34m(x)\u001b[0m\n\u001b[1;32m    847\u001b[0m \u001b[38;5;28;01mif\u001b[39;00m kind\u001b[38;5;241m==\u001b[39m\u001b[38;5;124m'\u001b[39m\u001b[38;5;124mspread\u001b[39m\u001b[38;5;124m'\u001b[39m:\n\u001b[1;32m    848\u001b[0m \ttrace\u001b[38;5;241m=\u001b[39m\u001b[38;5;28mself\u001b[39m\u001b[38;5;241m.\u001b[39mapply(\u001b[38;5;28;01mlambda\u001b[39;00m x:x[\u001b[38;5;241m0\u001b[39m]\u001b[38;5;241m-\u001b[39mx[\u001b[38;5;241m1\u001b[39m],axis\u001b[38;5;241m=\u001b[39m\u001b[38;5;241m1\u001b[39m)\n\u001b[0;32m--> 849\u001b[0m \tpositive\u001b[38;5;241m=\u001b[39mtrace\u001b[38;5;241m.\u001b[39mapply(\u001b[38;5;28;01mlambda\u001b[39;00m x:x \u001b[38;5;28;01mif\u001b[39;00m x\u001b[38;5;241m>\u001b[39m\u001b[38;5;241m=\u001b[39m\u001b[38;5;241m0\u001b[39m \u001b[38;5;28;01melse\u001b[39;00m pd\u001b[38;5;241m.\u001b[39mnp\u001b[38;5;241m.\u001b[39mnan)\n\u001b[1;32m    850\u001b[0m \tnegative\u001b[38;5;241m=\u001b[39mtrace\u001b[38;5;241m.\u001b[39mapply(\u001b[38;5;28;01mlambda\u001b[39;00m x:x \u001b[38;5;28;01mif\u001b[39;00m x\u001b[38;5;241m<\u001b[39m\u001b[38;5;241m0\u001b[39m \u001b[38;5;28;01melse\u001b[39;00m pd\u001b[38;5;241m.\u001b[39mnp\u001b[38;5;241m.\u001b[39mnan)\n\u001b[1;32m    851\u001b[0m \ttrace\u001b[38;5;241m=\u001b[39mpd\u001b[38;5;241m.\u001b[39mDataFrame({\u001b[38;5;124m'\u001b[39m\u001b[38;5;124mpositive\u001b[39m\u001b[38;5;124m'\u001b[39m:positive,\u001b[38;5;124m'\u001b[39m\u001b[38;5;124mnegative\u001b[39m\u001b[38;5;124m'\u001b[39m:negative})\n",
      "\u001b[0;31mAttributeError\u001b[0m: module 'pandas' has no attribute 'np'"
     ]
    }
   ],
   "source": [
    "df[['A','B']].iplot(kind='spread')"
   ]
  },
  {
   "cell_type": "markdown",
   "metadata": {},
   "source": [
    "## histogram"
   ]
  },
  {
   "cell_type": "code",
   "execution_count": 18,
   "metadata": {},
   "outputs": [
    {
     "data": {
      "application/vnd.plotly.v1+json": {
       "config": {
        "linkText": "Export to plot.ly",
        "plotlyServerURL": "https://plot.ly",
        "showLink": true
       },
       "data": [
        {
         "histfunc": "count",
         "histnorm": "",
         "marker": {
          "color": "rgba(255, 153, 51, 1.0)",
          "line": {
           "color": "#4D5663",
           "width": 1.3
          }
         },
         "name": "A",
         "nbinsx": 25,
         "opacity": 0.8,
         "orientation": "v",
         "type": "histogram",
         "x": [
          0.46044745595994646,
          -0.6327809816156542,
          0.19554865241212666,
          -0.8166676322767404,
          -3.0480808845906178,
          -0.3323764051335626,
          -0.2148018805663531,
          1.232919450428307,
          0.6990755453765485,
          -0.07222450852302355,
          0.9399928794576881,
          -1.6463845664115169,
          0.03866486247030078,
          1.3364309820906208,
          -0.41773911095129385,
          -1.3024561407978907,
          -1.7286428623651386,
          0.3041091737654156,
          -0.21841640624264147,
          -1.7782872619905046,
          -0.40755357437244555,
          1.4958510483328458,
          0.8691336955209565,
          -0.18954864268340946,
          1.4519376760235432,
          2.0070003818130537,
          -1.2343080333782328,
          -0.10472198473220974,
          -0.7075791627199393,
          -1.1250934794890421,
          -0.13122135545318075,
          -0.13325973630464638,
          -0.5219214423795748,
          -0.9399178338858662,
          -1.09293858338073,
          0.49421085222862693,
          0.8587307775944033,
          -0.008637916423998566,
          -2.3821054800247006,
          -0.33844292997234127,
          -1.3309454621475598,
          -0.6635753199127982,
          -0.4976940119383044,
          -0.19188337325859992,
          0.20403415342732897,
          0.6259349350540958,
          0.6806382450638427,
          -0.8334799949518075,
          0.13330741871923463,
          -0.8861367944020956,
          0.2522280347219456,
          1.74673112983397,
          0.0454195700224562,
          0.42431725838635165,
          0.46313945287402886,
          -0.036393397401551376,
          1.3996176623363892,
          -0.13451776843046795,
          -0.4429820748677036,
          -0.12519287551839783,
          0.1575345124703861,
          -1.1105079278597803,
          -0.7058793221245989,
          -0.5012182934909218,
          -1.237071738798001,
          -1.0374989938657437,
          0.9155202837847133,
          -1.9428455687837543,
          -1.300046598231422,
          -0.5788116808049193,
          2.164153910466163,
          2.024587158637168,
          -1.007376053165701,
          -1.4239537916994478,
          -0.027442271397530714,
          1.226059571563095,
          -0.37859063265946036,
          0.4739827862947617,
          -0.29817015052032186,
          -0.022420299523822088,
          0.8820268232137013,
          -0.5971793574885587,
          -0.5817035390746108,
          2.5423745595273224,
          -1.2240180609353126,
          1.8389577502955554,
          0.3789039734403663,
          -0.48703539030345416,
          -0.16303158180059313,
          -0.10186237655352284,
          -0.2557481695898708,
          0.32933712978369617,
          0.5308260194258264,
          0.1945955717812178,
          -1.3784653517201384,
          -0.3744721210833509,
          -0.16685921033310522,
          0.28178221826104694,
          1.3029837125498993,
          0.5655780866709391
         ]
        }
       ],
       "layout": {
        "barmode": "overlay",
        "legend": {
         "bgcolor": "#F5F6F9",
         "font": {
          "color": "#4D5663"
         }
        },
        "paper_bgcolor": "#F5F6F9",
        "plot_bgcolor": "#F5F6F9",
        "template": {
         "data": {
          "bar": [
           {
            "error_x": {
             "color": "#2a3f5f"
            },
            "error_y": {
             "color": "#2a3f5f"
            },
            "marker": {
             "line": {
              "color": "#E5ECF6",
              "width": 0.5
             },
             "pattern": {
              "fillmode": "overlay",
              "size": 10,
              "solidity": 0.2
             }
            },
            "type": "bar"
           }
          ],
          "barpolar": [
           {
            "marker": {
             "line": {
              "color": "#E5ECF6",
              "width": 0.5
             },
             "pattern": {
              "fillmode": "overlay",
              "size": 10,
              "solidity": 0.2
             }
            },
            "type": "barpolar"
           }
          ],
          "carpet": [
           {
            "aaxis": {
             "endlinecolor": "#2a3f5f",
             "gridcolor": "white",
             "linecolor": "white",
             "minorgridcolor": "white",
             "startlinecolor": "#2a3f5f"
            },
            "baxis": {
             "endlinecolor": "#2a3f5f",
             "gridcolor": "white",
             "linecolor": "white",
             "minorgridcolor": "white",
             "startlinecolor": "#2a3f5f"
            },
            "type": "carpet"
           }
          ],
          "choropleth": [
           {
            "colorbar": {
             "outlinewidth": 0,
             "ticks": ""
            },
            "type": "choropleth"
           }
          ],
          "contour": [
           {
            "colorbar": {
             "outlinewidth": 0,
             "ticks": ""
            },
            "colorscale": [
             [
              0,
              "#0d0887"
             ],
             [
              0.1111111111111111,
              "#46039f"
             ],
             [
              0.2222222222222222,
              "#7201a8"
             ],
             [
              0.3333333333333333,
              "#9c179e"
             ],
             [
              0.4444444444444444,
              "#bd3786"
             ],
             [
              0.5555555555555556,
              "#d8576b"
             ],
             [
              0.6666666666666666,
              "#ed7953"
             ],
             [
              0.7777777777777778,
              "#fb9f3a"
             ],
             [
              0.8888888888888888,
              "#fdca26"
             ],
             [
              1,
              "#f0f921"
             ]
            ],
            "type": "contour"
           }
          ],
          "contourcarpet": [
           {
            "colorbar": {
             "outlinewidth": 0,
             "ticks": ""
            },
            "type": "contourcarpet"
           }
          ],
          "heatmap": [
           {
            "colorbar": {
             "outlinewidth": 0,
             "ticks": ""
            },
            "colorscale": [
             [
              0,
              "#0d0887"
             ],
             [
              0.1111111111111111,
              "#46039f"
             ],
             [
              0.2222222222222222,
              "#7201a8"
             ],
             [
              0.3333333333333333,
              "#9c179e"
             ],
             [
              0.4444444444444444,
              "#bd3786"
             ],
             [
              0.5555555555555556,
              "#d8576b"
             ],
             [
              0.6666666666666666,
              "#ed7953"
             ],
             [
              0.7777777777777778,
              "#fb9f3a"
             ],
             [
              0.8888888888888888,
              "#fdca26"
             ],
             [
              1,
              "#f0f921"
             ]
            ],
            "type": "heatmap"
           }
          ],
          "heatmapgl": [
           {
            "colorbar": {
             "outlinewidth": 0,
             "ticks": ""
            },
            "colorscale": [
             [
              0,
              "#0d0887"
             ],
             [
              0.1111111111111111,
              "#46039f"
             ],
             [
              0.2222222222222222,
              "#7201a8"
             ],
             [
              0.3333333333333333,
              "#9c179e"
             ],
             [
              0.4444444444444444,
              "#bd3786"
             ],
             [
              0.5555555555555556,
              "#d8576b"
             ],
             [
              0.6666666666666666,
              "#ed7953"
             ],
             [
              0.7777777777777778,
              "#fb9f3a"
             ],
             [
              0.8888888888888888,
              "#fdca26"
             ],
             [
              1,
              "#f0f921"
             ]
            ],
            "type": "heatmapgl"
           }
          ],
          "histogram": [
           {
            "marker": {
             "pattern": {
              "fillmode": "overlay",
              "size": 10,
              "solidity": 0.2
             }
            },
            "type": "histogram"
           }
          ],
          "histogram2d": [
           {
            "colorbar": {
             "outlinewidth": 0,
             "ticks": ""
            },
            "colorscale": [
             [
              0,
              "#0d0887"
             ],
             [
              0.1111111111111111,
              "#46039f"
             ],
             [
              0.2222222222222222,
              "#7201a8"
             ],
             [
              0.3333333333333333,
              "#9c179e"
             ],
             [
              0.4444444444444444,
              "#bd3786"
             ],
             [
              0.5555555555555556,
              "#d8576b"
             ],
             [
              0.6666666666666666,
              "#ed7953"
             ],
             [
              0.7777777777777778,
              "#fb9f3a"
             ],
             [
              0.8888888888888888,
              "#fdca26"
             ],
             [
              1,
              "#f0f921"
             ]
            ],
            "type": "histogram2d"
           }
          ],
          "histogram2dcontour": [
           {
            "colorbar": {
             "outlinewidth": 0,
             "ticks": ""
            },
            "colorscale": [
             [
              0,
              "#0d0887"
             ],
             [
              0.1111111111111111,
              "#46039f"
             ],
             [
              0.2222222222222222,
              "#7201a8"
             ],
             [
              0.3333333333333333,
              "#9c179e"
             ],
             [
              0.4444444444444444,
              "#bd3786"
             ],
             [
              0.5555555555555556,
              "#d8576b"
             ],
             [
              0.6666666666666666,
              "#ed7953"
             ],
             [
              0.7777777777777778,
              "#fb9f3a"
             ],
             [
              0.8888888888888888,
              "#fdca26"
             ],
             [
              1,
              "#f0f921"
             ]
            ],
            "type": "histogram2dcontour"
           }
          ],
          "mesh3d": [
           {
            "colorbar": {
             "outlinewidth": 0,
             "ticks": ""
            },
            "type": "mesh3d"
           }
          ],
          "parcoords": [
           {
            "line": {
             "colorbar": {
              "outlinewidth": 0,
              "ticks": ""
             }
            },
            "type": "parcoords"
           }
          ],
          "pie": [
           {
            "automargin": true,
            "type": "pie"
           }
          ],
          "scatter": [
           {
            "fillpattern": {
             "fillmode": "overlay",
             "size": 10,
             "solidity": 0.2
            },
            "type": "scatter"
           }
          ],
          "scatter3d": [
           {
            "line": {
             "colorbar": {
              "outlinewidth": 0,
              "ticks": ""
             }
            },
            "marker": {
             "colorbar": {
              "outlinewidth": 0,
              "ticks": ""
             }
            },
            "type": "scatter3d"
           }
          ],
          "scattercarpet": [
           {
            "marker": {
             "colorbar": {
              "outlinewidth": 0,
              "ticks": ""
             }
            },
            "type": "scattercarpet"
           }
          ],
          "scattergeo": [
           {
            "marker": {
             "colorbar": {
              "outlinewidth": 0,
              "ticks": ""
             }
            },
            "type": "scattergeo"
           }
          ],
          "scattergl": [
           {
            "marker": {
             "colorbar": {
              "outlinewidth": 0,
              "ticks": ""
             }
            },
            "type": "scattergl"
           }
          ],
          "scattermapbox": [
           {
            "marker": {
             "colorbar": {
              "outlinewidth": 0,
              "ticks": ""
             }
            },
            "type": "scattermapbox"
           }
          ],
          "scatterpolar": [
           {
            "marker": {
             "colorbar": {
              "outlinewidth": 0,
              "ticks": ""
             }
            },
            "type": "scatterpolar"
           }
          ],
          "scatterpolargl": [
           {
            "marker": {
             "colorbar": {
              "outlinewidth": 0,
              "ticks": ""
             }
            },
            "type": "scatterpolargl"
           }
          ],
          "scatterternary": [
           {
            "marker": {
             "colorbar": {
              "outlinewidth": 0,
              "ticks": ""
             }
            },
            "type": "scatterternary"
           }
          ],
          "surface": [
           {
            "colorbar": {
             "outlinewidth": 0,
             "ticks": ""
            },
            "colorscale": [
             [
              0,
              "#0d0887"
             ],
             [
              0.1111111111111111,
              "#46039f"
             ],
             [
              0.2222222222222222,
              "#7201a8"
             ],
             [
              0.3333333333333333,
              "#9c179e"
             ],
             [
              0.4444444444444444,
              "#bd3786"
             ],
             [
              0.5555555555555556,
              "#d8576b"
             ],
             [
              0.6666666666666666,
              "#ed7953"
             ],
             [
              0.7777777777777778,
              "#fb9f3a"
             ],
             [
              0.8888888888888888,
              "#fdca26"
             ],
             [
              1,
              "#f0f921"
             ]
            ],
            "type": "surface"
           }
          ],
          "table": [
           {
            "cells": {
             "fill": {
              "color": "#EBF0F8"
             },
             "line": {
              "color": "white"
             }
            },
            "header": {
             "fill": {
              "color": "#C8D4E3"
             },
             "line": {
              "color": "white"
             }
            },
            "type": "table"
           }
          ]
         },
         "layout": {
          "annotationdefaults": {
           "arrowcolor": "#2a3f5f",
           "arrowhead": 0,
           "arrowwidth": 1
          },
          "autotypenumbers": "strict",
          "coloraxis": {
           "colorbar": {
            "outlinewidth": 0,
            "ticks": ""
           }
          },
          "colorscale": {
           "diverging": [
            [
             0,
             "#8e0152"
            ],
            [
             0.1,
             "#c51b7d"
            ],
            [
             0.2,
             "#de77ae"
            ],
            [
             0.3,
             "#f1b6da"
            ],
            [
             0.4,
             "#fde0ef"
            ],
            [
             0.5,
             "#f7f7f7"
            ],
            [
             0.6,
             "#e6f5d0"
            ],
            [
             0.7,
             "#b8e186"
            ],
            [
             0.8,
             "#7fbc41"
            ],
            [
             0.9,
             "#4d9221"
            ],
            [
             1,
             "#276419"
            ]
           ],
           "sequential": [
            [
             0,
             "#0d0887"
            ],
            [
             0.1111111111111111,
             "#46039f"
            ],
            [
             0.2222222222222222,
             "#7201a8"
            ],
            [
             0.3333333333333333,
             "#9c179e"
            ],
            [
             0.4444444444444444,
             "#bd3786"
            ],
            [
             0.5555555555555556,
             "#d8576b"
            ],
            [
             0.6666666666666666,
             "#ed7953"
            ],
            [
             0.7777777777777778,
             "#fb9f3a"
            ],
            [
             0.8888888888888888,
             "#fdca26"
            ],
            [
             1,
             "#f0f921"
            ]
           ],
           "sequentialminus": [
            [
             0,
             "#0d0887"
            ],
            [
             0.1111111111111111,
             "#46039f"
            ],
            [
             0.2222222222222222,
             "#7201a8"
            ],
            [
             0.3333333333333333,
             "#9c179e"
            ],
            [
             0.4444444444444444,
             "#bd3786"
            ],
            [
             0.5555555555555556,
             "#d8576b"
            ],
            [
             0.6666666666666666,
             "#ed7953"
            ],
            [
             0.7777777777777778,
             "#fb9f3a"
            ],
            [
             0.8888888888888888,
             "#fdca26"
            ],
            [
             1,
             "#f0f921"
            ]
           ]
          },
          "colorway": [
           "#636efa",
           "#EF553B",
           "#00cc96",
           "#ab63fa",
           "#FFA15A",
           "#19d3f3",
           "#FF6692",
           "#B6E880",
           "#FF97FF",
           "#FECB52"
          ],
          "font": {
           "color": "#2a3f5f"
          },
          "geo": {
           "bgcolor": "white",
           "lakecolor": "white",
           "landcolor": "#E5ECF6",
           "showlakes": true,
           "showland": true,
           "subunitcolor": "white"
          },
          "hoverlabel": {
           "align": "left"
          },
          "hovermode": "closest",
          "mapbox": {
           "style": "light"
          },
          "paper_bgcolor": "white",
          "plot_bgcolor": "#E5ECF6",
          "polar": {
           "angularaxis": {
            "gridcolor": "white",
            "linecolor": "white",
            "ticks": ""
           },
           "bgcolor": "#E5ECF6",
           "radialaxis": {
            "gridcolor": "white",
            "linecolor": "white",
            "ticks": ""
           }
          },
          "scene": {
           "xaxis": {
            "backgroundcolor": "#E5ECF6",
            "gridcolor": "white",
            "gridwidth": 2,
            "linecolor": "white",
            "showbackground": true,
            "ticks": "",
            "zerolinecolor": "white"
           },
           "yaxis": {
            "backgroundcolor": "#E5ECF6",
            "gridcolor": "white",
            "gridwidth": 2,
            "linecolor": "white",
            "showbackground": true,
            "ticks": "",
            "zerolinecolor": "white"
           },
           "zaxis": {
            "backgroundcolor": "#E5ECF6",
            "gridcolor": "white",
            "gridwidth": 2,
            "linecolor": "white",
            "showbackground": true,
            "ticks": "",
            "zerolinecolor": "white"
           }
          },
          "shapedefaults": {
           "line": {
            "color": "#2a3f5f"
           }
          },
          "ternary": {
           "aaxis": {
            "gridcolor": "white",
            "linecolor": "white",
            "ticks": ""
           },
           "baxis": {
            "gridcolor": "white",
            "linecolor": "white",
            "ticks": ""
           },
           "bgcolor": "#E5ECF6",
           "caxis": {
            "gridcolor": "white",
            "linecolor": "white",
            "ticks": ""
           }
          },
          "title": {
           "x": 0.05
          },
          "xaxis": {
           "automargin": true,
           "gridcolor": "white",
           "linecolor": "white",
           "ticks": "",
           "title": {
            "standoff": 15
           },
           "zerolinecolor": "white",
           "zerolinewidth": 2
          },
          "yaxis": {
           "automargin": true,
           "gridcolor": "white",
           "linecolor": "white",
           "ticks": "",
           "title": {
            "standoff": 15
           },
           "zerolinecolor": "white",
           "zerolinewidth": 2
          }
         }
        },
        "title": {
         "font": {
          "color": "#4D5663"
         }
        },
        "xaxis": {
         "gridcolor": "#E1E5ED",
         "showgrid": true,
         "tickfont": {
          "color": "#4D5663"
         },
         "title": {
          "font": {
           "color": "#4D5663"
          },
          "text": ""
         },
         "zerolinecolor": "#E1E5ED"
        },
        "yaxis": {
         "gridcolor": "#E1E5ED",
         "showgrid": true,
         "tickfont": {
          "color": "#4D5663"
         },
         "title": {
          "font": {
           "color": "#4D5663"
          },
          "text": ""
         },
         "zerolinecolor": "#E1E5ED"
        }
       }
      },
      "text/html": [
       "<div>                            <div id=\"3aa661fe-e0f1-47ef-9c65-6b80877e8d22\" class=\"plotly-graph-div\" style=\"height:525px; width:100%;\"></div>            <script type=\"text/javascript\">                require([\"plotly\"], function(Plotly) {                    window.PLOTLYENV=window.PLOTLYENV || {};\n",
       "                    window.PLOTLYENV.BASE_URL='https://plot.ly';                                    if (document.getElementById(\"3aa661fe-e0f1-47ef-9c65-6b80877e8d22\")) {                    Plotly.newPlot(                        \"3aa661fe-e0f1-47ef-9c65-6b80877e8d22\",                        [{\"histfunc\":\"count\",\"histnorm\":\"\",\"marker\":{\"color\":\"rgba(255, 153, 51, 1.0)\",\"line\":{\"color\":\"#4D5663\",\"width\":1.3}},\"name\":\"A\",\"nbinsx\":25,\"opacity\":0.8,\"orientation\":\"v\",\"x\":[0.46044745595994646,-0.6327809816156542,0.19554865241212666,-0.8166676322767404,-3.0480808845906178,-0.3323764051335626,-0.2148018805663531,1.232919450428307,0.6990755453765485,-0.07222450852302355,0.9399928794576881,-1.6463845664115169,0.03866486247030078,1.3364309820906208,-0.41773911095129385,-1.3024561407978907,-1.7286428623651386,0.3041091737654156,-0.21841640624264147,-1.7782872619905046,-0.40755357437244555,1.4958510483328458,0.8691336955209565,-0.18954864268340946,1.4519376760235432,2.0070003818130537,-1.2343080333782328,-0.10472198473220974,-0.7075791627199393,-1.1250934794890421,-0.13122135545318075,-0.13325973630464638,-0.5219214423795748,-0.9399178338858662,-1.09293858338073,0.49421085222862693,0.8587307775944033,-0.008637916423998566,-2.3821054800247006,-0.33844292997234127,-1.3309454621475598,-0.6635753199127982,-0.4976940119383044,-0.19188337325859992,0.20403415342732897,0.6259349350540958,0.6806382450638427,-0.8334799949518075,0.13330741871923463,-0.8861367944020956,0.2522280347219456,1.74673112983397,0.0454195700224562,0.42431725838635165,0.46313945287402886,-0.036393397401551376,1.3996176623363892,-0.13451776843046795,-0.4429820748677036,-0.12519287551839783,0.1575345124703861,-1.1105079278597803,-0.7058793221245989,-0.5012182934909218,-1.237071738798001,-1.0374989938657437,0.9155202837847133,-1.9428455687837543,-1.300046598231422,-0.5788116808049193,2.164153910466163,2.024587158637168,-1.007376053165701,-1.4239537916994478,-0.027442271397530714,1.226059571563095,-0.37859063265946036,0.4739827862947617,-0.29817015052032186,-0.022420299523822088,0.8820268232137013,-0.5971793574885587,-0.5817035390746108,2.5423745595273224,-1.2240180609353126,1.8389577502955554,0.3789039734403663,-0.48703539030345416,-0.16303158180059313,-0.10186237655352284,-0.2557481695898708,0.32933712978369617,0.5308260194258264,0.1945955717812178,-1.3784653517201384,-0.3744721210833509,-0.16685921033310522,0.28178221826104694,1.3029837125498993,0.5655780866709391],\"type\":\"histogram\"}],                        {\"barmode\":\"overlay\",\"legend\":{\"bgcolor\":\"#F5F6F9\",\"font\":{\"color\":\"#4D5663\"}},\"paper_bgcolor\":\"#F5F6F9\",\"plot_bgcolor\":\"#F5F6F9\",\"template\":{\"data\":{\"barpolar\":[{\"marker\":{\"line\":{\"color\":\"#E5ECF6\",\"width\":0.5},\"pattern\":{\"fillmode\":\"overlay\",\"size\":10,\"solidity\":0.2}},\"type\":\"barpolar\"}],\"bar\":[{\"error_x\":{\"color\":\"#2a3f5f\"},\"error_y\":{\"color\":\"#2a3f5f\"},\"marker\":{\"line\":{\"color\":\"#E5ECF6\",\"width\":0.5},\"pattern\":{\"fillmode\":\"overlay\",\"size\":10,\"solidity\":0.2}},\"type\":\"bar\"}],\"carpet\":[{\"aaxis\":{\"endlinecolor\":\"#2a3f5f\",\"gridcolor\":\"white\",\"linecolor\":\"white\",\"minorgridcolor\":\"white\",\"startlinecolor\":\"#2a3f5f\"},\"baxis\":{\"endlinecolor\":\"#2a3f5f\",\"gridcolor\":\"white\",\"linecolor\":\"white\",\"minorgridcolor\":\"white\",\"startlinecolor\":\"#2a3f5f\"},\"type\":\"carpet\"}],\"choropleth\":[{\"colorbar\":{\"outlinewidth\":0,\"ticks\":\"\"},\"type\":\"choropleth\"}],\"contourcarpet\":[{\"colorbar\":{\"outlinewidth\":0,\"ticks\":\"\"},\"type\":\"contourcarpet\"}],\"contour\":[{\"colorbar\":{\"outlinewidth\":0,\"ticks\":\"\"},\"colorscale\":[[0.0,\"#0d0887\"],[0.1111111111111111,\"#46039f\"],[0.2222222222222222,\"#7201a8\"],[0.3333333333333333,\"#9c179e\"],[0.4444444444444444,\"#bd3786\"],[0.5555555555555556,\"#d8576b\"],[0.6666666666666666,\"#ed7953\"],[0.7777777777777778,\"#fb9f3a\"],[0.8888888888888888,\"#fdca26\"],[1.0,\"#f0f921\"]],\"type\":\"contour\"}],\"heatmapgl\":[{\"colorbar\":{\"outlinewidth\":0,\"ticks\":\"\"},\"colorscale\":[[0.0,\"#0d0887\"],[0.1111111111111111,\"#46039f\"],[0.2222222222222222,\"#7201a8\"],[0.3333333333333333,\"#9c179e\"],[0.4444444444444444,\"#bd3786\"],[0.5555555555555556,\"#d8576b\"],[0.6666666666666666,\"#ed7953\"],[0.7777777777777778,\"#fb9f3a\"],[0.8888888888888888,\"#fdca26\"],[1.0,\"#f0f921\"]],\"type\":\"heatmapgl\"}],\"heatmap\":[{\"colorbar\":{\"outlinewidth\":0,\"ticks\":\"\"},\"colorscale\":[[0.0,\"#0d0887\"],[0.1111111111111111,\"#46039f\"],[0.2222222222222222,\"#7201a8\"],[0.3333333333333333,\"#9c179e\"],[0.4444444444444444,\"#bd3786\"],[0.5555555555555556,\"#d8576b\"],[0.6666666666666666,\"#ed7953\"],[0.7777777777777778,\"#fb9f3a\"],[0.8888888888888888,\"#fdca26\"],[1.0,\"#f0f921\"]],\"type\":\"heatmap\"}],\"histogram2dcontour\":[{\"colorbar\":{\"outlinewidth\":0,\"ticks\":\"\"},\"colorscale\":[[0.0,\"#0d0887\"],[0.1111111111111111,\"#46039f\"],[0.2222222222222222,\"#7201a8\"],[0.3333333333333333,\"#9c179e\"],[0.4444444444444444,\"#bd3786\"],[0.5555555555555556,\"#d8576b\"],[0.6666666666666666,\"#ed7953\"],[0.7777777777777778,\"#fb9f3a\"],[0.8888888888888888,\"#fdca26\"],[1.0,\"#f0f921\"]],\"type\":\"histogram2dcontour\"}],\"histogram2d\":[{\"colorbar\":{\"outlinewidth\":0,\"ticks\":\"\"},\"colorscale\":[[0.0,\"#0d0887\"],[0.1111111111111111,\"#46039f\"],[0.2222222222222222,\"#7201a8\"],[0.3333333333333333,\"#9c179e\"],[0.4444444444444444,\"#bd3786\"],[0.5555555555555556,\"#d8576b\"],[0.6666666666666666,\"#ed7953\"],[0.7777777777777778,\"#fb9f3a\"],[0.8888888888888888,\"#fdca26\"],[1.0,\"#f0f921\"]],\"type\":\"histogram2d\"}],\"histogram\":[{\"marker\":{\"pattern\":{\"fillmode\":\"overlay\",\"size\":10,\"solidity\":0.2}},\"type\":\"histogram\"}],\"mesh3d\":[{\"colorbar\":{\"outlinewidth\":0,\"ticks\":\"\"},\"type\":\"mesh3d\"}],\"parcoords\":[{\"line\":{\"colorbar\":{\"outlinewidth\":0,\"ticks\":\"\"}},\"type\":\"parcoords\"}],\"pie\":[{\"automargin\":true,\"type\":\"pie\"}],\"scatter3d\":[{\"line\":{\"colorbar\":{\"outlinewidth\":0,\"ticks\":\"\"}},\"marker\":{\"colorbar\":{\"outlinewidth\":0,\"ticks\":\"\"}},\"type\":\"scatter3d\"}],\"scattercarpet\":[{\"marker\":{\"colorbar\":{\"outlinewidth\":0,\"ticks\":\"\"}},\"type\":\"scattercarpet\"}],\"scattergeo\":[{\"marker\":{\"colorbar\":{\"outlinewidth\":0,\"ticks\":\"\"}},\"type\":\"scattergeo\"}],\"scattergl\":[{\"marker\":{\"colorbar\":{\"outlinewidth\":0,\"ticks\":\"\"}},\"type\":\"scattergl\"}],\"scattermapbox\":[{\"marker\":{\"colorbar\":{\"outlinewidth\":0,\"ticks\":\"\"}},\"type\":\"scattermapbox\"}],\"scatterpolargl\":[{\"marker\":{\"colorbar\":{\"outlinewidth\":0,\"ticks\":\"\"}},\"type\":\"scatterpolargl\"}],\"scatterpolar\":[{\"marker\":{\"colorbar\":{\"outlinewidth\":0,\"ticks\":\"\"}},\"type\":\"scatterpolar\"}],\"scatter\":[{\"fillpattern\":{\"fillmode\":\"overlay\",\"size\":10,\"solidity\":0.2},\"type\":\"scatter\"}],\"scatterternary\":[{\"marker\":{\"colorbar\":{\"outlinewidth\":0,\"ticks\":\"\"}},\"type\":\"scatterternary\"}],\"surface\":[{\"colorbar\":{\"outlinewidth\":0,\"ticks\":\"\"},\"colorscale\":[[0.0,\"#0d0887\"],[0.1111111111111111,\"#46039f\"],[0.2222222222222222,\"#7201a8\"],[0.3333333333333333,\"#9c179e\"],[0.4444444444444444,\"#bd3786\"],[0.5555555555555556,\"#d8576b\"],[0.6666666666666666,\"#ed7953\"],[0.7777777777777778,\"#fb9f3a\"],[0.8888888888888888,\"#fdca26\"],[1.0,\"#f0f921\"]],\"type\":\"surface\"}],\"table\":[{\"cells\":{\"fill\":{\"color\":\"#EBF0F8\"},\"line\":{\"color\":\"white\"}},\"header\":{\"fill\":{\"color\":\"#C8D4E3\"},\"line\":{\"color\":\"white\"}},\"type\":\"table\"}]},\"layout\":{\"annotationdefaults\":{\"arrowcolor\":\"#2a3f5f\",\"arrowhead\":0,\"arrowwidth\":1},\"autotypenumbers\":\"strict\",\"coloraxis\":{\"colorbar\":{\"outlinewidth\":0,\"ticks\":\"\"}},\"colorscale\":{\"diverging\":[[0,\"#8e0152\"],[0.1,\"#c51b7d\"],[0.2,\"#de77ae\"],[0.3,\"#f1b6da\"],[0.4,\"#fde0ef\"],[0.5,\"#f7f7f7\"],[0.6,\"#e6f5d0\"],[0.7,\"#b8e186\"],[0.8,\"#7fbc41\"],[0.9,\"#4d9221\"],[1,\"#276419\"]],\"sequential\":[[0.0,\"#0d0887\"],[0.1111111111111111,\"#46039f\"],[0.2222222222222222,\"#7201a8\"],[0.3333333333333333,\"#9c179e\"],[0.4444444444444444,\"#bd3786\"],[0.5555555555555556,\"#d8576b\"],[0.6666666666666666,\"#ed7953\"],[0.7777777777777778,\"#fb9f3a\"],[0.8888888888888888,\"#fdca26\"],[1.0,\"#f0f921\"]],\"sequentialminus\":[[0.0,\"#0d0887\"],[0.1111111111111111,\"#46039f\"],[0.2222222222222222,\"#7201a8\"],[0.3333333333333333,\"#9c179e\"],[0.4444444444444444,\"#bd3786\"],[0.5555555555555556,\"#d8576b\"],[0.6666666666666666,\"#ed7953\"],[0.7777777777777778,\"#fb9f3a\"],[0.8888888888888888,\"#fdca26\"],[1.0,\"#f0f921\"]]},\"colorway\":[\"#636efa\",\"#EF553B\",\"#00cc96\",\"#ab63fa\",\"#FFA15A\",\"#19d3f3\",\"#FF6692\",\"#B6E880\",\"#FF97FF\",\"#FECB52\"],\"font\":{\"color\":\"#2a3f5f\"},\"geo\":{\"bgcolor\":\"white\",\"lakecolor\":\"white\",\"landcolor\":\"#E5ECF6\",\"showlakes\":true,\"showland\":true,\"subunitcolor\":\"white\"},\"hoverlabel\":{\"align\":\"left\"},\"hovermode\":\"closest\",\"mapbox\":{\"style\":\"light\"},\"paper_bgcolor\":\"white\",\"plot_bgcolor\":\"#E5ECF6\",\"polar\":{\"angularaxis\":{\"gridcolor\":\"white\",\"linecolor\":\"white\",\"ticks\":\"\"},\"bgcolor\":\"#E5ECF6\",\"radialaxis\":{\"gridcolor\":\"white\",\"linecolor\":\"white\",\"ticks\":\"\"}},\"scene\":{\"xaxis\":{\"backgroundcolor\":\"#E5ECF6\",\"gridcolor\":\"white\",\"gridwidth\":2,\"linecolor\":\"white\",\"showbackground\":true,\"ticks\":\"\",\"zerolinecolor\":\"white\"},\"yaxis\":{\"backgroundcolor\":\"#E5ECF6\",\"gridcolor\":\"white\",\"gridwidth\":2,\"linecolor\":\"white\",\"showbackground\":true,\"ticks\":\"\",\"zerolinecolor\":\"white\"},\"zaxis\":{\"backgroundcolor\":\"#E5ECF6\",\"gridcolor\":\"white\",\"gridwidth\":2,\"linecolor\":\"white\",\"showbackground\":true,\"ticks\":\"\",\"zerolinecolor\":\"white\"}},\"shapedefaults\":{\"line\":{\"color\":\"#2a3f5f\"}},\"ternary\":{\"aaxis\":{\"gridcolor\":\"white\",\"linecolor\":\"white\",\"ticks\":\"\"},\"baxis\":{\"gridcolor\":\"white\",\"linecolor\":\"white\",\"ticks\":\"\"},\"bgcolor\":\"#E5ECF6\",\"caxis\":{\"gridcolor\":\"white\",\"linecolor\":\"white\",\"ticks\":\"\"}},\"title\":{\"x\":0.05},\"xaxis\":{\"automargin\":true,\"gridcolor\":\"white\",\"linecolor\":\"white\",\"ticks\":\"\",\"title\":{\"standoff\":15},\"zerolinecolor\":\"white\",\"zerolinewidth\":2},\"yaxis\":{\"automargin\":true,\"gridcolor\":\"white\",\"linecolor\":\"white\",\"ticks\":\"\",\"title\":{\"standoff\":15},\"zerolinecolor\":\"white\",\"zerolinewidth\":2}}},\"title\":{\"font\":{\"color\":\"#4D5663\"}},\"xaxis\":{\"gridcolor\":\"#E1E5ED\",\"showgrid\":true,\"tickfont\":{\"color\":\"#4D5663\"},\"title\":{\"font\":{\"color\":\"#4D5663\"},\"text\":\"\"},\"zerolinecolor\":\"#E1E5ED\"},\"yaxis\":{\"gridcolor\":\"#E1E5ED\",\"showgrid\":true,\"tickfont\":{\"color\":\"#4D5663\"},\"title\":{\"font\":{\"color\":\"#4D5663\"},\"text\":\"\"},\"zerolinecolor\":\"#E1E5ED\"}},                        {\"showLink\": true, \"linkText\": \"Export to plot.ly\", \"plotlyServerURL\": \"https://plot.ly\", \"responsive\": true}                    ).then(function(){\n",
       "                            \n",
       "var gd = document.getElementById('3aa661fe-e0f1-47ef-9c65-6b80877e8d22');\n",
       "var x = new MutationObserver(function (mutations, observer) {{\n",
       "        var display = window.getComputedStyle(gd).display;\n",
       "        if (!display || display === 'none') {{\n",
       "            console.log([gd, 'removed!']);\n",
       "            Plotly.purge(gd);\n",
       "            observer.disconnect();\n",
       "        }}\n",
       "}});\n",
       "\n",
       "// Listen for the removal of the full notebook cells\n",
       "var notebookContainer = gd.closest('#notebook-container');\n",
       "if (notebookContainer) {{\n",
       "    x.observe(notebookContainer, {childList: true});\n",
       "}}\n",
       "\n",
       "// Listen for the clearing of the current output cell\n",
       "var outputEl = gd.closest('.output');\n",
       "if (outputEl) {{\n",
       "    x.observe(outputEl, {childList: true});\n",
       "}}\n",
       "\n",
       "                        })                };                });            </script>        </div>"
      ]
     },
     "metadata": {},
     "output_type": "display_data"
    }
   ],
   "source": [
    "df['A'].iplot(kind='hist',bins=25)"
   ]
  },
  {
   "cell_type": "code",
   "execution_count": 19,
   "metadata": {},
   "outputs": [
    {
     "data": {
      "application/vnd.plotly.v1+json": {
       "config": {
        "linkText": "Export to plot.ly",
        "plotlyServerURL": "https://plot.ly",
        "showLink": true
       },
       "data": [
        {
         "marker": {
          "color": [
           "rgb(255, 153, 51)",
           "rgb(55, 128, 191)",
           "rgb(50, 171, 96)",
           "rgb(128, 0, 128)",
           "rgb(219, 64, 82)",
           "rgb(0, 128, 128)",
           "rgb(255, 255, 51)",
           "rgb(128, 128, 0)",
           "rgb(251, 128, 114)",
           "rgb(128, 177, 211)"
          ],
          "line": {
           "width": 1.3
          },
          "size": [
           85,
           73,
           33,
           36,
           80,
           53,
           53,
           33,
           68,
           22,
           99,
           57,
           62,
           59,
           52,
           76,
           66,
           56,
           63,
           89,
           69,
           48,
           66,
           111,
           62,
           84,
           47,
           65,
           17,
           62,
           86,
           69,
           51,
           62,
           59,
           12,
           51,
           36,
           50,
           47,
           24,
           80,
           89,
           53,
           95,
           56,
           84,
           78,
           96,
           46,
           70,
           59,
           45,
           36,
           47,
           86,
           52,
           65,
           73,
           61,
           43,
           80,
           34,
           59,
           39,
           64,
           47,
           63,
           71,
           62,
           66,
           78,
           105,
           91,
           46,
           52,
           43,
           110,
           66,
           51,
           64,
           54,
           47,
           53,
           51,
           33,
           50,
           54,
           76,
           68,
           76,
           104,
           75,
           66,
           61,
           55,
           58,
           51,
           67,
           48
          ],
          "symbol": "circle"
         },
         "mode": "markers",
         "text": "",
         "type": "scatter",
         "x": [
          0.46044745595994646,
          -0.6327809816156542,
          0.19554865241212666,
          -0.8166676322767404,
          -3.0480808845906178,
          -0.3323764051335626,
          -0.2148018805663531,
          1.232919450428307,
          0.6990755453765485,
          -0.07222450852302355,
          0.9399928794576881,
          -1.6463845664115169,
          0.03866486247030078,
          1.3364309820906208,
          -0.41773911095129385,
          -1.3024561407978907,
          -1.7286428623651386,
          0.3041091737654156,
          -0.21841640624264147,
          -1.7782872619905046,
          -0.40755357437244555,
          1.4958510483328458,
          0.8691336955209565,
          -0.18954864268340946,
          1.4519376760235432,
          2.0070003818130537,
          -1.2343080333782328,
          -0.10472198473220974,
          -0.7075791627199393,
          -1.1250934794890421,
          -0.13122135545318075,
          -0.13325973630464638,
          -0.5219214423795748,
          -0.9399178338858662,
          -1.09293858338073,
          0.49421085222862693,
          0.8587307775944033,
          -0.008637916423998566,
          -2.3821054800247006,
          -0.33844292997234127,
          -1.3309454621475598,
          -0.6635753199127982,
          -0.4976940119383044,
          -0.19188337325859992,
          0.20403415342732897,
          0.6259349350540958,
          0.6806382450638427,
          -0.8334799949518075,
          0.13330741871923463,
          -0.8861367944020956,
          0.2522280347219456,
          1.74673112983397,
          0.0454195700224562,
          0.42431725838635165,
          0.46313945287402886,
          -0.036393397401551376,
          1.3996176623363892,
          -0.13451776843046795,
          -0.4429820748677036,
          -0.12519287551839783,
          0.1575345124703861,
          -1.1105079278597803,
          -0.7058793221245989,
          -0.5012182934909218,
          -1.237071738798001,
          -1.0374989938657437,
          0.9155202837847133,
          -1.9428455687837543,
          -1.300046598231422,
          -0.5788116808049193,
          2.164153910466163,
          2.024587158637168,
          -1.007376053165701,
          -1.4239537916994478,
          -0.027442271397530714,
          1.226059571563095,
          -0.37859063265946036,
          0.4739827862947617,
          -0.29817015052032186,
          -0.022420299523822088,
          0.8820268232137013,
          -0.5971793574885587,
          -0.5817035390746108,
          2.5423745595273224,
          -1.2240180609353126,
          1.8389577502955554,
          0.3789039734403663,
          -0.48703539030345416,
          -0.16303158180059313,
          -0.10186237655352284,
          -0.2557481695898708,
          0.32933712978369617,
          0.5308260194258264,
          0.1945955717812178,
          -1.3784653517201384,
          -0.3744721210833509,
          -0.16685921033310522,
          0.28178221826104694,
          1.3029837125498993,
          0.5655780866709391
         ],
         "y": [
          -2.0569014999715436,
          1.615413548570715,
          -0.4997096328929657,
          0.11044613459696011,
          2.14511071229813,
          0.12415558426069487,
          -0.18144855534171273,
          1.414504104188126,
          -1.0304690519553825,
          -0.11964407338170355,
          -1.872637047828862,
          0.3620192874855286,
          0.4024843260421167,
          -0.5086118655061668,
          -0.6241445406565573,
          1.360501842674482,
          -0.5383761007222295,
          0.11972608663364732,
          0.17908323460823522,
          0.18020973968654264,
          -1.3040735484199573,
          0.9035679353745257,
          0.5694677836183335,
          0.7789742531088888,
          -0.9761704827403509,
          0.2577788988640685,
          -0.9595820700521839,
          0.8913477599711915,
          -0.314622458164726,
          -0.42070577358846917,
          0.3003621489513765,
          -0.28361482796139226,
          0.20557205327331282,
          1.265296414392654,
          0.797172596483356,
          0.2406258030989973,
          1.4904085926260502,
          0.48821431095903245,
          0.14285530769432864,
          0.15707426612148362,
          -1.5170250115610526,
          0.7232292624556415,
          0.017602377806937356,
          0.3392998205962441,
          -1.981993932273325,
          -0.7311875792507156,
          1.0339581426574087,
          -0.8983981916176419,
          -0.21142894289193542,
          0.9860753694884673,
          1.6760993673766653,
          0.40445436681779856,
          0.228241752395754,
          0.21885947037232967,
          -0.2957949714078914,
          0.8029039858086703,
          -0.1258575515219575,
          -0.28462531300795485,
          -0.40711122540301453,
          1.1255480396449078,
          -0.04465283832238067,
          2.4606701071930766,
          1.2471229619009705,
          0.9684030255368693,
          -0.4967278612777565,
          1.1191519124145068,
          1.5393166944970227,
          0.3879656896286978,
          -0.23528168158661425,
          1.0570141419777914,
          -1.4192686252266147,
          -0.40495888179058614,
          -0.8053476811731931,
          -0.5956182729671423,
          0.15126692096238561,
          1.479938082547736,
          -0.07860579543133894,
          0.2884171368354939,
          -1.042282395744949,
          1.319871462771553,
          0.7666438421160171,
          -1.2599103779414045,
          -1.598279835414223,
          -0.761714368148162,
          -0.4197439992098943,
          0.8330065367647513,
          -0.3447653731659813,
          -1.6405242860622138,
          -0.24583445748044494,
          0.06867470537503659,
          -0.24309546675279925,
          -0.035768828097635506,
          -2.108777478604998,
          -0.17135169344361806,
          -0.3440568930717429,
          -0.4288781273324487,
          0.3615263101485928,
          0.215362306583839,
          -1.0880421818281014,
          -0.7441306187110783
         ]
        }
       ],
       "layout": {
        "legend": {
         "bgcolor": "#F5F6F9",
         "font": {
          "color": "#4D5663"
         }
        },
        "paper_bgcolor": "#F5F6F9",
        "plot_bgcolor": "#F5F6F9",
        "template": {
         "data": {
          "bar": [
           {
            "error_x": {
             "color": "#2a3f5f"
            },
            "error_y": {
             "color": "#2a3f5f"
            },
            "marker": {
             "line": {
              "color": "#E5ECF6",
              "width": 0.5
             },
             "pattern": {
              "fillmode": "overlay",
              "size": 10,
              "solidity": 0.2
             }
            },
            "type": "bar"
           }
          ],
          "barpolar": [
           {
            "marker": {
             "line": {
              "color": "#E5ECF6",
              "width": 0.5
             },
             "pattern": {
              "fillmode": "overlay",
              "size": 10,
              "solidity": 0.2
             }
            },
            "type": "barpolar"
           }
          ],
          "carpet": [
           {
            "aaxis": {
             "endlinecolor": "#2a3f5f",
             "gridcolor": "white",
             "linecolor": "white",
             "minorgridcolor": "white",
             "startlinecolor": "#2a3f5f"
            },
            "baxis": {
             "endlinecolor": "#2a3f5f",
             "gridcolor": "white",
             "linecolor": "white",
             "minorgridcolor": "white",
             "startlinecolor": "#2a3f5f"
            },
            "type": "carpet"
           }
          ],
          "choropleth": [
           {
            "colorbar": {
             "outlinewidth": 0,
             "ticks": ""
            },
            "type": "choropleth"
           }
          ],
          "contour": [
           {
            "colorbar": {
             "outlinewidth": 0,
             "ticks": ""
            },
            "colorscale": [
             [
              0,
              "#0d0887"
             ],
             [
              0.1111111111111111,
              "#46039f"
             ],
             [
              0.2222222222222222,
              "#7201a8"
             ],
             [
              0.3333333333333333,
              "#9c179e"
             ],
             [
              0.4444444444444444,
              "#bd3786"
             ],
             [
              0.5555555555555556,
              "#d8576b"
             ],
             [
              0.6666666666666666,
              "#ed7953"
             ],
             [
              0.7777777777777778,
              "#fb9f3a"
             ],
             [
              0.8888888888888888,
              "#fdca26"
             ],
             [
              1,
              "#f0f921"
             ]
            ],
            "type": "contour"
           }
          ],
          "contourcarpet": [
           {
            "colorbar": {
             "outlinewidth": 0,
             "ticks": ""
            },
            "type": "contourcarpet"
           }
          ],
          "heatmap": [
           {
            "colorbar": {
             "outlinewidth": 0,
             "ticks": ""
            },
            "colorscale": [
             [
              0,
              "#0d0887"
             ],
             [
              0.1111111111111111,
              "#46039f"
             ],
             [
              0.2222222222222222,
              "#7201a8"
             ],
             [
              0.3333333333333333,
              "#9c179e"
             ],
             [
              0.4444444444444444,
              "#bd3786"
             ],
             [
              0.5555555555555556,
              "#d8576b"
             ],
             [
              0.6666666666666666,
              "#ed7953"
             ],
             [
              0.7777777777777778,
              "#fb9f3a"
             ],
             [
              0.8888888888888888,
              "#fdca26"
             ],
             [
              1,
              "#f0f921"
             ]
            ],
            "type": "heatmap"
           }
          ],
          "heatmapgl": [
           {
            "colorbar": {
             "outlinewidth": 0,
             "ticks": ""
            },
            "colorscale": [
             [
              0,
              "#0d0887"
             ],
             [
              0.1111111111111111,
              "#46039f"
             ],
             [
              0.2222222222222222,
              "#7201a8"
             ],
             [
              0.3333333333333333,
              "#9c179e"
             ],
             [
              0.4444444444444444,
              "#bd3786"
             ],
             [
              0.5555555555555556,
              "#d8576b"
             ],
             [
              0.6666666666666666,
              "#ed7953"
             ],
             [
              0.7777777777777778,
              "#fb9f3a"
             ],
             [
              0.8888888888888888,
              "#fdca26"
             ],
             [
              1,
              "#f0f921"
             ]
            ],
            "type": "heatmapgl"
           }
          ],
          "histogram": [
           {
            "marker": {
             "pattern": {
              "fillmode": "overlay",
              "size": 10,
              "solidity": 0.2
             }
            },
            "type": "histogram"
           }
          ],
          "histogram2d": [
           {
            "colorbar": {
             "outlinewidth": 0,
             "ticks": ""
            },
            "colorscale": [
             [
              0,
              "#0d0887"
             ],
             [
              0.1111111111111111,
              "#46039f"
             ],
             [
              0.2222222222222222,
              "#7201a8"
             ],
             [
              0.3333333333333333,
              "#9c179e"
             ],
             [
              0.4444444444444444,
              "#bd3786"
             ],
             [
              0.5555555555555556,
              "#d8576b"
             ],
             [
              0.6666666666666666,
              "#ed7953"
             ],
             [
              0.7777777777777778,
              "#fb9f3a"
             ],
             [
              0.8888888888888888,
              "#fdca26"
             ],
             [
              1,
              "#f0f921"
             ]
            ],
            "type": "histogram2d"
           }
          ],
          "histogram2dcontour": [
           {
            "colorbar": {
             "outlinewidth": 0,
             "ticks": ""
            },
            "colorscale": [
             [
              0,
              "#0d0887"
             ],
             [
              0.1111111111111111,
              "#46039f"
             ],
             [
              0.2222222222222222,
              "#7201a8"
             ],
             [
              0.3333333333333333,
              "#9c179e"
             ],
             [
              0.4444444444444444,
              "#bd3786"
             ],
             [
              0.5555555555555556,
              "#d8576b"
             ],
             [
              0.6666666666666666,
              "#ed7953"
             ],
             [
              0.7777777777777778,
              "#fb9f3a"
             ],
             [
              0.8888888888888888,
              "#fdca26"
             ],
             [
              1,
              "#f0f921"
             ]
            ],
            "type": "histogram2dcontour"
           }
          ],
          "mesh3d": [
           {
            "colorbar": {
             "outlinewidth": 0,
             "ticks": ""
            },
            "type": "mesh3d"
           }
          ],
          "parcoords": [
           {
            "line": {
             "colorbar": {
              "outlinewidth": 0,
              "ticks": ""
             }
            },
            "type": "parcoords"
           }
          ],
          "pie": [
           {
            "automargin": true,
            "type": "pie"
           }
          ],
          "scatter": [
           {
            "fillpattern": {
             "fillmode": "overlay",
             "size": 10,
             "solidity": 0.2
            },
            "type": "scatter"
           }
          ],
          "scatter3d": [
           {
            "line": {
             "colorbar": {
              "outlinewidth": 0,
              "ticks": ""
             }
            },
            "marker": {
             "colorbar": {
              "outlinewidth": 0,
              "ticks": ""
             }
            },
            "type": "scatter3d"
           }
          ],
          "scattercarpet": [
           {
            "marker": {
             "colorbar": {
              "outlinewidth": 0,
              "ticks": ""
             }
            },
            "type": "scattercarpet"
           }
          ],
          "scattergeo": [
           {
            "marker": {
             "colorbar": {
              "outlinewidth": 0,
              "ticks": ""
             }
            },
            "type": "scattergeo"
           }
          ],
          "scattergl": [
           {
            "marker": {
             "colorbar": {
              "outlinewidth": 0,
              "ticks": ""
             }
            },
            "type": "scattergl"
           }
          ],
          "scattermapbox": [
           {
            "marker": {
             "colorbar": {
              "outlinewidth": 0,
              "ticks": ""
             }
            },
            "type": "scattermapbox"
           }
          ],
          "scatterpolar": [
           {
            "marker": {
             "colorbar": {
              "outlinewidth": 0,
              "ticks": ""
             }
            },
            "type": "scatterpolar"
           }
          ],
          "scatterpolargl": [
           {
            "marker": {
             "colorbar": {
              "outlinewidth": 0,
              "ticks": ""
             }
            },
            "type": "scatterpolargl"
           }
          ],
          "scatterternary": [
           {
            "marker": {
             "colorbar": {
              "outlinewidth": 0,
              "ticks": ""
             }
            },
            "type": "scatterternary"
           }
          ],
          "surface": [
           {
            "colorbar": {
             "outlinewidth": 0,
             "ticks": ""
            },
            "colorscale": [
             [
              0,
              "#0d0887"
             ],
             [
              0.1111111111111111,
              "#46039f"
             ],
             [
              0.2222222222222222,
              "#7201a8"
             ],
             [
              0.3333333333333333,
              "#9c179e"
             ],
             [
              0.4444444444444444,
              "#bd3786"
             ],
             [
              0.5555555555555556,
              "#d8576b"
             ],
             [
              0.6666666666666666,
              "#ed7953"
             ],
             [
              0.7777777777777778,
              "#fb9f3a"
             ],
             [
              0.8888888888888888,
              "#fdca26"
             ],
             [
              1,
              "#f0f921"
             ]
            ],
            "type": "surface"
           }
          ],
          "table": [
           {
            "cells": {
             "fill": {
              "color": "#EBF0F8"
             },
             "line": {
              "color": "white"
             }
            },
            "header": {
             "fill": {
              "color": "#C8D4E3"
             },
             "line": {
              "color": "white"
             }
            },
            "type": "table"
           }
          ]
         },
         "layout": {
          "annotationdefaults": {
           "arrowcolor": "#2a3f5f",
           "arrowhead": 0,
           "arrowwidth": 1
          },
          "autotypenumbers": "strict",
          "coloraxis": {
           "colorbar": {
            "outlinewidth": 0,
            "ticks": ""
           }
          },
          "colorscale": {
           "diverging": [
            [
             0,
             "#8e0152"
            ],
            [
             0.1,
             "#c51b7d"
            ],
            [
             0.2,
             "#de77ae"
            ],
            [
             0.3,
             "#f1b6da"
            ],
            [
             0.4,
             "#fde0ef"
            ],
            [
             0.5,
             "#f7f7f7"
            ],
            [
             0.6,
             "#e6f5d0"
            ],
            [
             0.7,
             "#b8e186"
            ],
            [
             0.8,
             "#7fbc41"
            ],
            [
             0.9,
             "#4d9221"
            ],
            [
             1,
             "#276419"
            ]
           ],
           "sequential": [
            [
             0,
             "#0d0887"
            ],
            [
             0.1111111111111111,
             "#46039f"
            ],
            [
             0.2222222222222222,
             "#7201a8"
            ],
            [
             0.3333333333333333,
             "#9c179e"
            ],
            [
             0.4444444444444444,
             "#bd3786"
            ],
            [
             0.5555555555555556,
             "#d8576b"
            ],
            [
             0.6666666666666666,
             "#ed7953"
            ],
            [
             0.7777777777777778,
             "#fb9f3a"
            ],
            [
             0.8888888888888888,
             "#fdca26"
            ],
            [
             1,
             "#f0f921"
            ]
           ],
           "sequentialminus": [
            [
             0,
             "#0d0887"
            ],
            [
             0.1111111111111111,
             "#46039f"
            ],
            [
             0.2222222222222222,
             "#7201a8"
            ],
            [
             0.3333333333333333,
             "#9c179e"
            ],
            [
             0.4444444444444444,
             "#bd3786"
            ],
            [
             0.5555555555555556,
             "#d8576b"
            ],
            [
             0.6666666666666666,
             "#ed7953"
            ],
            [
             0.7777777777777778,
             "#fb9f3a"
            ],
            [
             0.8888888888888888,
             "#fdca26"
            ],
            [
             1,
             "#f0f921"
            ]
           ]
          },
          "colorway": [
           "#636efa",
           "#EF553B",
           "#00cc96",
           "#ab63fa",
           "#FFA15A",
           "#19d3f3",
           "#FF6692",
           "#B6E880",
           "#FF97FF",
           "#FECB52"
          ],
          "font": {
           "color": "#2a3f5f"
          },
          "geo": {
           "bgcolor": "white",
           "lakecolor": "white",
           "landcolor": "#E5ECF6",
           "showlakes": true,
           "showland": true,
           "subunitcolor": "white"
          },
          "hoverlabel": {
           "align": "left"
          },
          "hovermode": "closest",
          "mapbox": {
           "style": "light"
          },
          "paper_bgcolor": "white",
          "plot_bgcolor": "#E5ECF6",
          "polar": {
           "angularaxis": {
            "gridcolor": "white",
            "linecolor": "white",
            "ticks": ""
           },
           "bgcolor": "#E5ECF6",
           "radialaxis": {
            "gridcolor": "white",
            "linecolor": "white",
            "ticks": ""
           }
          },
          "scene": {
           "xaxis": {
            "backgroundcolor": "#E5ECF6",
            "gridcolor": "white",
            "gridwidth": 2,
            "linecolor": "white",
            "showbackground": true,
            "ticks": "",
            "zerolinecolor": "white"
           },
           "yaxis": {
            "backgroundcolor": "#E5ECF6",
            "gridcolor": "white",
            "gridwidth": 2,
            "linecolor": "white",
            "showbackground": true,
            "ticks": "",
            "zerolinecolor": "white"
           },
           "zaxis": {
            "backgroundcolor": "#E5ECF6",
            "gridcolor": "white",
            "gridwidth": 2,
            "linecolor": "white",
            "showbackground": true,
            "ticks": "",
            "zerolinecolor": "white"
           }
          },
          "shapedefaults": {
           "line": {
            "color": "#2a3f5f"
           }
          },
          "ternary": {
           "aaxis": {
            "gridcolor": "white",
            "linecolor": "white",
            "ticks": ""
           },
           "baxis": {
            "gridcolor": "white",
            "linecolor": "white",
            "ticks": ""
           },
           "bgcolor": "#E5ECF6",
           "caxis": {
            "gridcolor": "white",
            "linecolor": "white",
            "ticks": ""
           }
          },
          "title": {
           "x": 0.05
          },
          "xaxis": {
           "automargin": true,
           "gridcolor": "white",
           "linecolor": "white",
           "ticks": "",
           "title": {
            "standoff": 15
           },
           "zerolinecolor": "white",
           "zerolinewidth": 2
          },
          "yaxis": {
           "automargin": true,
           "gridcolor": "white",
           "linecolor": "white",
           "ticks": "",
           "title": {
            "standoff": 15
           },
           "zerolinecolor": "white",
           "zerolinewidth": 2
          }
         }
        },
        "title": {
         "font": {
          "color": "#4D5663"
         }
        },
        "xaxis": {
         "gridcolor": "#E1E5ED",
         "showgrid": true,
         "tickfont": {
          "color": "#4D5663"
         },
         "title": {
          "font": {
           "color": "#4D5663"
          },
          "text": ""
         },
         "zerolinecolor": "#E1E5ED"
        },
        "yaxis": {
         "gridcolor": "#E1E5ED",
         "showgrid": true,
         "tickfont": {
          "color": "#4D5663"
         },
         "title": {
          "font": {
           "color": "#4D5663"
          },
          "text": ""
         },
         "zerolinecolor": "#E1E5ED"
        }
       }
      },
      "text/html": [
       "<div>                            <div id=\"6ce0f8c7-87bd-4237-b2e7-de68073d3b01\" class=\"plotly-graph-div\" style=\"height:525px; width:100%;\"></div>            <script type=\"text/javascript\">                require([\"plotly\"], function(Plotly) {                    window.PLOTLYENV=window.PLOTLYENV || {};\n",
       "                    window.PLOTLYENV.BASE_URL='https://plot.ly';                                    if (document.getElementById(\"6ce0f8c7-87bd-4237-b2e7-de68073d3b01\")) {                    Plotly.newPlot(                        \"6ce0f8c7-87bd-4237-b2e7-de68073d3b01\",                        [{\"marker\":{\"color\":[\"rgb(255, 153, 51)\",\"rgb(55, 128, 191)\",\"rgb(50, 171, 96)\",\"rgb(128, 0, 128)\",\"rgb(219, 64, 82)\",\"rgb(0, 128, 128)\",\"rgb(255, 255, 51)\",\"rgb(128, 128, 0)\",\"rgb(251, 128, 114)\",\"rgb(128, 177, 211)\"],\"line\":{\"width\":1.3},\"size\":[85,73,33,36,80,53,53,33,68,22,99,57,62,59,52,76,66,56,63,89,69,48,66,111,62,84,47,65,17,62,86,69,51,62,59,12,51,36,50,47,24,80,89,53,95,56,84,78,96,46,70,59,45,36,47,86,52,65,73,61,43,80,34,59,39,64,47,63,71,62,66,78,105,91,46,52,43,110,66,51,64,54,47,53,51,33,50,54,76,68,76,104,75,66,61,55,58,51,67,48],\"symbol\":\"circle\"},\"mode\":\"markers\",\"text\":\"\",\"x\":[0.46044745595994646,-0.6327809816156542,0.19554865241212666,-0.8166676322767404,-3.0480808845906178,-0.3323764051335626,-0.2148018805663531,1.232919450428307,0.6990755453765485,-0.07222450852302355,0.9399928794576881,-1.6463845664115169,0.03866486247030078,1.3364309820906208,-0.41773911095129385,-1.3024561407978907,-1.7286428623651386,0.3041091737654156,-0.21841640624264147,-1.7782872619905046,-0.40755357437244555,1.4958510483328458,0.8691336955209565,-0.18954864268340946,1.4519376760235432,2.0070003818130537,-1.2343080333782328,-0.10472198473220974,-0.7075791627199393,-1.1250934794890421,-0.13122135545318075,-0.13325973630464638,-0.5219214423795748,-0.9399178338858662,-1.09293858338073,0.49421085222862693,0.8587307775944033,-0.008637916423998566,-2.3821054800247006,-0.33844292997234127,-1.3309454621475598,-0.6635753199127982,-0.4976940119383044,-0.19188337325859992,0.20403415342732897,0.6259349350540958,0.6806382450638427,-0.8334799949518075,0.13330741871923463,-0.8861367944020956,0.2522280347219456,1.74673112983397,0.0454195700224562,0.42431725838635165,0.46313945287402886,-0.036393397401551376,1.3996176623363892,-0.13451776843046795,-0.4429820748677036,-0.12519287551839783,0.1575345124703861,-1.1105079278597803,-0.7058793221245989,-0.5012182934909218,-1.237071738798001,-1.0374989938657437,0.9155202837847133,-1.9428455687837543,-1.300046598231422,-0.5788116808049193,2.164153910466163,2.024587158637168,-1.007376053165701,-1.4239537916994478,-0.027442271397530714,1.226059571563095,-0.37859063265946036,0.4739827862947617,-0.29817015052032186,-0.022420299523822088,0.8820268232137013,-0.5971793574885587,-0.5817035390746108,2.5423745595273224,-1.2240180609353126,1.8389577502955554,0.3789039734403663,-0.48703539030345416,-0.16303158180059313,-0.10186237655352284,-0.2557481695898708,0.32933712978369617,0.5308260194258264,0.1945955717812178,-1.3784653517201384,-0.3744721210833509,-0.16685921033310522,0.28178221826104694,1.3029837125498993,0.5655780866709391],\"y\":[-2.0569014999715436,1.615413548570715,-0.4997096328929657,0.11044613459696011,2.14511071229813,0.12415558426069487,-0.18144855534171273,1.414504104188126,-1.0304690519553825,-0.11964407338170355,-1.872637047828862,0.3620192874855286,0.4024843260421167,-0.5086118655061668,-0.6241445406565573,1.360501842674482,-0.5383761007222295,0.11972608663364732,0.17908323460823522,0.18020973968654264,-1.3040735484199573,0.9035679353745257,0.5694677836183335,0.7789742531088888,-0.9761704827403509,0.2577788988640685,-0.9595820700521839,0.8913477599711915,-0.314622458164726,-0.42070577358846917,0.3003621489513765,-0.28361482796139226,0.20557205327331282,1.265296414392654,0.797172596483356,0.2406258030989973,1.4904085926260502,0.48821431095903245,0.14285530769432864,0.15707426612148362,-1.5170250115610526,0.7232292624556415,0.017602377806937356,0.3392998205962441,-1.981993932273325,-0.7311875792507156,1.0339581426574087,-0.8983981916176419,-0.21142894289193542,0.9860753694884673,1.6760993673766653,0.40445436681779856,0.228241752395754,0.21885947037232967,-0.2957949714078914,0.8029039858086703,-0.1258575515219575,-0.28462531300795485,-0.40711122540301453,1.1255480396449078,-0.04465283832238067,2.4606701071930766,1.2471229619009705,0.9684030255368693,-0.4967278612777565,1.1191519124145068,1.5393166944970227,0.3879656896286978,-0.23528168158661425,1.0570141419777914,-1.4192686252266147,-0.40495888179058614,-0.8053476811731931,-0.5956182729671423,0.15126692096238561,1.479938082547736,-0.07860579543133894,0.2884171368354939,-1.042282395744949,1.319871462771553,0.7666438421160171,-1.2599103779414045,-1.598279835414223,-0.761714368148162,-0.4197439992098943,0.8330065367647513,-0.3447653731659813,-1.6405242860622138,-0.24583445748044494,0.06867470537503659,-0.24309546675279925,-0.035768828097635506,-2.108777478604998,-0.17135169344361806,-0.3440568930717429,-0.4288781273324487,0.3615263101485928,0.215362306583839,-1.0880421818281014,-0.7441306187110783],\"type\":\"scatter\"}],                        {\"legend\":{\"bgcolor\":\"#F5F6F9\",\"font\":{\"color\":\"#4D5663\"}},\"paper_bgcolor\":\"#F5F6F9\",\"plot_bgcolor\":\"#F5F6F9\",\"template\":{\"data\":{\"barpolar\":[{\"marker\":{\"line\":{\"color\":\"#E5ECF6\",\"width\":0.5},\"pattern\":{\"fillmode\":\"overlay\",\"size\":10,\"solidity\":0.2}},\"type\":\"barpolar\"}],\"bar\":[{\"error_x\":{\"color\":\"#2a3f5f\"},\"error_y\":{\"color\":\"#2a3f5f\"},\"marker\":{\"line\":{\"color\":\"#E5ECF6\",\"width\":0.5},\"pattern\":{\"fillmode\":\"overlay\",\"size\":10,\"solidity\":0.2}},\"type\":\"bar\"}],\"carpet\":[{\"aaxis\":{\"endlinecolor\":\"#2a3f5f\",\"gridcolor\":\"white\",\"linecolor\":\"white\",\"minorgridcolor\":\"white\",\"startlinecolor\":\"#2a3f5f\"},\"baxis\":{\"endlinecolor\":\"#2a3f5f\",\"gridcolor\":\"white\",\"linecolor\":\"white\",\"minorgridcolor\":\"white\",\"startlinecolor\":\"#2a3f5f\"},\"type\":\"carpet\"}],\"choropleth\":[{\"colorbar\":{\"outlinewidth\":0,\"ticks\":\"\"},\"type\":\"choropleth\"}],\"contourcarpet\":[{\"colorbar\":{\"outlinewidth\":0,\"ticks\":\"\"},\"type\":\"contourcarpet\"}],\"contour\":[{\"colorbar\":{\"outlinewidth\":0,\"ticks\":\"\"},\"colorscale\":[[0.0,\"#0d0887\"],[0.1111111111111111,\"#46039f\"],[0.2222222222222222,\"#7201a8\"],[0.3333333333333333,\"#9c179e\"],[0.4444444444444444,\"#bd3786\"],[0.5555555555555556,\"#d8576b\"],[0.6666666666666666,\"#ed7953\"],[0.7777777777777778,\"#fb9f3a\"],[0.8888888888888888,\"#fdca26\"],[1.0,\"#f0f921\"]],\"type\":\"contour\"}],\"heatmapgl\":[{\"colorbar\":{\"outlinewidth\":0,\"ticks\":\"\"},\"colorscale\":[[0.0,\"#0d0887\"],[0.1111111111111111,\"#46039f\"],[0.2222222222222222,\"#7201a8\"],[0.3333333333333333,\"#9c179e\"],[0.4444444444444444,\"#bd3786\"],[0.5555555555555556,\"#d8576b\"],[0.6666666666666666,\"#ed7953\"],[0.7777777777777778,\"#fb9f3a\"],[0.8888888888888888,\"#fdca26\"],[1.0,\"#f0f921\"]],\"type\":\"heatmapgl\"}],\"heatmap\":[{\"colorbar\":{\"outlinewidth\":0,\"ticks\":\"\"},\"colorscale\":[[0.0,\"#0d0887\"],[0.1111111111111111,\"#46039f\"],[0.2222222222222222,\"#7201a8\"],[0.3333333333333333,\"#9c179e\"],[0.4444444444444444,\"#bd3786\"],[0.5555555555555556,\"#d8576b\"],[0.6666666666666666,\"#ed7953\"],[0.7777777777777778,\"#fb9f3a\"],[0.8888888888888888,\"#fdca26\"],[1.0,\"#f0f921\"]],\"type\":\"heatmap\"}],\"histogram2dcontour\":[{\"colorbar\":{\"outlinewidth\":0,\"ticks\":\"\"},\"colorscale\":[[0.0,\"#0d0887\"],[0.1111111111111111,\"#46039f\"],[0.2222222222222222,\"#7201a8\"],[0.3333333333333333,\"#9c179e\"],[0.4444444444444444,\"#bd3786\"],[0.5555555555555556,\"#d8576b\"],[0.6666666666666666,\"#ed7953\"],[0.7777777777777778,\"#fb9f3a\"],[0.8888888888888888,\"#fdca26\"],[1.0,\"#f0f921\"]],\"type\":\"histogram2dcontour\"}],\"histogram2d\":[{\"colorbar\":{\"outlinewidth\":0,\"ticks\":\"\"},\"colorscale\":[[0.0,\"#0d0887\"],[0.1111111111111111,\"#46039f\"],[0.2222222222222222,\"#7201a8\"],[0.3333333333333333,\"#9c179e\"],[0.4444444444444444,\"#bd3786\"],[0.5555555555555556,\"#d8576b\"],[0.6666666666666666,\"#ed7953\"],[0.7777777777777778,\"#fb9f3a\"],[0.8888888888888888,\"#fdca26\"],[1.0,\"#f0f921\"]],\"type\":\"histogram2d\"}],\"histogram\":[{\"marker\":{\"pattern\":{\"fillmode\":\"overlay\",\"size\":10,\"solidity\":0.2}},\"type\":\"histogram\"}],\"mesh3d\":[{\"colorbar\":{\"outlinewidth\":0,\"ticks\":\"\"},\"type\":\"mesh3d\"}],\"parcoords\":[{\"line\":{\"colorbar\":{\"outlinewidth\":0,\"ticks\":\"\"}},\"type\":\"parcoords\"}],\"pie\":[{\"automargin\":true,\"type\":\"pie\"}],\"scatter3d\":[{\"line\":{\"colorbar\":{\"outlinewidth\":0,\"ticks\":\"\"}},\"marker\":{\"colorbar\":{\"outlinewidth\":0,\"ticks\":\"\"}},\"type\":\"scatter3d\"}],\"scattercarpet\":[{\"marker\":{\"colorbar\":{\"outlinewidth\":0,\"ticks\":\"\"}},\"type\":\"scattercarpet\"}],\"scattergeo\":[{\"marker\":{\"colorbar\":{\"outlinewidth\":0,\"ticks\":\"\"}},\"type\":\"scattergeo\"}],\"scattergl\":[{\"marker\":{\"colorbar\":{\"outlinewidth\":0,\"ticks\":\"\"}},\"type\":\"scattergl\"}],\"scattermapbox\":[{\"marker\":{\"colorbar\":{\"outlinewidth\":0,\"ticks\":\"\"}},\"type\":\"scattermapbox\"}],\"scatterpolargl\":[{\"marker\":{\"colorbar\":{\"outlinewidth\":0,\"ticks\":\"\"}},\"type\":\"scatterpolargl\"}],\"scatterpolar\":[{\"marker\":{\"colorbar\":{\"outlinewidth\":0,\"ticks\":\"\"}},\"type\":\"scatterpolar\"}],\"scatter\":[{\"fillpattern\":{\"fillmode\":\"overlay\",\"size\":10,\"solidity\":0.2},\"type\":\"scatter\"}],\"scatterternary\":[{\"marker\":{\"colorbar\":{\"outlinewidth\":0,\"ticks\":\"\"}},\"type\":\"scatterternary\"}],\"surface\":[{\"colorbar\":{\"outlinewidth\":0,\"ticks\":\"\"},\"colorscale\":[[0.0,\"#0d0887\"],[0.1111111111111111,\"#46039f\"],[0.2222222222222222,\"#7201a8\"],[0.3333333333333333,\"#9c179e\"],[0.4444444444444444,\"#bd3786\"],[0.5555555555555556,\"#d8576b\"],[0.6666666666666666,\"#ed7953\"],[0.7777777777777778,\"#fb9f3a\"],[0.8888888888888888,\"#fdca26\"],[1.0,\"#f0f921\"]],\"type\":\"surface\"}],\"table\":[{\"cells\":{\"fill\":{\"color\":\"#EBF0F8\"},\"line\":{\"color\":\"white\"}},\"header\":{\"fill\":{\"color\":\"#C8D4E3\"},\"line\":{\"color\":\"white\"}},\"type\":\"table\"}]},\"layout\":{\"annotationdefaults\":{\"arrowcolor\":\"#2a3f5f\",\"arrowhead\":0,\"arrowwidth\":1},\"autotypenumbers\":\"strict\",\"coloraxis\":{\"colorbar\":{\"outlinewidth\":0,\"ticks\":\"\"}},\"colorscale\":{\"diverging\":[[0,\"#8e0152\"],[0.1,\"#c51b7d\"],[0.2,\"#de77ae\"],[0.3,\"#f1b6da\"],[0.4,\"#fde0ef\"],[0.5,\"#f7f7f7\"],[0.6,\"#e6f5d0\"],[0.7,\"#b8e186\"],[0.8,\"#7fbc41\"],[0.9,\"#4d9221\"],[1,\"#276419\"]],\"sequential\":[[0.0,\"#0d0887\"],[0.1111111111111111,\"#46039f\"],[0.2222222222222222,\"#7201a8\"],[0.3333333333333333,\"#9c179e\"],[0.4444444444444444,\"#bd3786\"],[0.5555555555555556,\"#d8576b\"],[0.6666666666666666,\"#ed7953\"],[0.7777777777777778,\"#fb9f3a\"],[0.8888888888888888,\"#fdca26\"],[1.0,\"#f0f921\"]],\"sequentialminus\":[[0.0,\"#0d0887\"],[0.1111111111111111,\"#46039f\"],[0.2222222222222222,\"#7201a8\"],[0.3333333333333333,\"#9c179e\"],[0.4444444444444444,\"#bd3786\"],[0.5555555555555556,\"#d8576b\"],[0.6666666666666666,\"#ed7953\"],[0.7777777777777778,\"#fb9f3a\"],[0.8888888888888888,\"#fdca26\"],[1.0,\"#f0f921\"]]},\"colorway\":[\"#636efa\",\"#EF553B\",\"#00cc96\",\"#ab63fa\",\"#FFA15A\",\"#19d3f3\",\"#FF6692\",\"#B6E880\",\"#FF97FF\",\"#FECB52\"],\"font\":{\"color\":\"#2a3f5f\"},\"geo\":{\"bgcolor\":\"white\",\"lakecolor\":\"white\",\"landcolor\":\"#E5ECF6\",\"showlakes\":true,\"showland\":true,\"subunitcolor\":\"white\"},\"hoverlabel\":{\"align\":\"left\"},\"hovermode\":\"closest\",\"mapbox\":{\"style\":\"light\"},\"paper_bgcolor\":\"white\",\"plot_bgcolor\":\"#E5ECF6\",\"polar\":{\"angularaxis\":{\"gridcolor\":\"white\",\"linecolor\":\"white\",\"ticks\":\"\"},\"bgcolor\":\"#E5ECF6\",\"radialaxis\":{\"gridcolor\":\"white\",\"linecolor\":\"white\",\"ticks\":\"\"}},\"scene\":{\"xaxis\":{\"backgroundcolor\":\"#E5ECF6\",\"gridcolor\":\"white\",\"gridwidth\":2,\"linecolor\":\"white\",\"showbackground\":true,\"ticks\":\"\",\"zerolinecolor\":\"white\"},\"yaxis\":{\"backgroundcolor\":\"#E5ECF6\",\"gridcolor\":\"white\",\"gridwidth\":2,\"linecolor\":\"white\",\"showbackground\":true,\"ticks\":\"\",\"zerolinecolor\":\"white\"},\"zaxis\":{\"backgroundcolor\":\"#E5ECF6\",\"gridcolor\":\"white\",\"gridwidth\":2,\"linecolor\":\"white\",\"showbackground\":true,\"ticks\":\"\",\"zerolinecolor\":\"white\"}},\"shapedefaults\":{\"line\":{\"color\":\"#2a3f5f\"}},\"ternary\":{\"aaxis\":{\"gridcolor\":\"white\",\"linecolor\":\"white\",\"ticks\":\"\"},\"baxis\":{\"gridcolor\":\"white\",\"linecolor\":\"white\",\"ticks\":\"\"},\"bgcolor\":\"#E5ECF6\",\"caxis\":{\"gridcolor\":\"white\",\"linecolor\":\"white\",\"ticks\":\"\"}},\"title\":{\"x\":0.05},\"xaxis\":{\"automargin\":true,\"gridcolor\":\"white\",\"linecolor\":\"white\",\"ticks\":\"\",\"title\":{\"standoff\":15},\"zerolinecolor\":\"white\",\"zerolinewidth\":2},\"yaxis\":{\"automargin\":true,\"gridcolor\":\"white\",\"linecolor\":\"white\",\"ticks\":\"\",\"title\":{\"standoff\":15},\"zerolinecolor\":\"white\",\"zerolinewidth\":2}}},\"title\":{\"font\":{\"color\":\"#4D5663\"}},\"xaxis\":{\"gridcolor\":\"#E1E5ED\",\"showgrid\":true,\"tickfont\":{\"color\":\"#4D5663\"},\"title\":{\"font\":{\"color\":\"#4D5663\"},\"text\":\"\"},\"zerolinecolor\":\"#E1E5ED\"},\"yaxis\":{\"gridcolor\":\"#E1E5ED\",\"showgrid\":true,\"tickfont\":{\"color\":\"#4D5663\"},\"title\":{\"font\":{\"color\":\"#4D5663\"},\"text\":\"\"},\"zerolinecolor\":\"#E1E5ED\"}},                        {\"showLink\": true, \"linkText\": \"Export to plot.ly\", \"plotlyServerURL\": \"https://plot.ly\", \"responsive\": true}                    ).then(function(){\n",
       "                            \n",
       "var gd = document.getElementById('6ce0f8c7-87bd-4237-b2e7-de68073d3b01');\n",
       "var x = new MutationObserver(function (mutations, observer) {{\n",
       "        var display = window.getComputedStyle(gd).display;\n",
       "        if (!display || display === 'none') {{\n",
       "            console.log([gd, 'removed!']);\n",
       "            Plotly.purge(gd);\n",
       "            observer.disconnect();\n",
       "        }}\n",
       "}});\n",
       "\n",
       "// Listen for the removal of the full notebook cells\n",
       "var notebookContainer = gd.closest('#notebook-container');\n",
       "if (notebookContainer) {{\n",
       "    x.observe(notebookContainer, {childList: true});\n",
       "}}\n",
       "\n",
       "// Listen for the clearing of the current output cell\n",
       "var outputEl = gd.closest('.output');\n",
       "if (outputEl) {{\n",
       "    x.observe(outputEl, {childList: true});\n",
       "}}\n",
       "\n",
       "                        })                };                });            </script>        </div>"
      ]
     },
     "metadata": {},
     "output_type": "display_data"
    }
   ],
   "source": [
    "df.iplot(kind='bubble',x='A',y='B',size='C')"
   ]
  },
  {
   "cell_type": "markdown",
   "metadata": {},
   "source": [
    "## scatter_matrix()\n",
    "\n",
    "Similar to sns.pairplot()"
   ]
  },
  {
   "cell_type": "code",
   "execution_count": 20,
   "metadata": {},
   "outputs": [
    {
     "data": {
      "application/vnd.plotly.v1+json": {
       "config": {
        "linkText": "Export to plot.ly",
        "plotlyServerURL": "https://plot.ly",
        "showLink": true
       },
       "data": [
        {
         "histfunc": "count",
         "histnorm": "",
         "marker": {
          "color": "rgba(255, 153, 51, 1.0)",
          "line": {
           "color": "#4D5663",
           "width": 1.3
          }
         },
         "name": "A",
         "nbinsx": 10,
         "opacity": 0.8,
         "orientation": "v",
         "type": "histogram",
         "x": [
          0.46044745595994646,
          -0.6327809816156542,
          0.19554865241212666,
          -0.8166676322767404,
          -3.0480808845906178,
          -0.3323764051335626,
          -0.2148018805663531,
          1.232919450428307,
          0.6990755453765485,
          -0.07222450852302355,
          0.9399928794576881,
          -1.6463845664115169,
          0.03866486247030078,
          1.3364309820906208,
          -0.41773911095129385,
          -1.3024561407978907,
          -1.7286428623651386,
          0.3041091737654156,
          -0.21841640624264147,
          -1.7782872619905046,
          -0.40755357437244555,
          1.4958510483328458,
          0.8691336955209565,
          -0.18954864268340946,
          1.4519376760235432,
          2.0070003818130537,
          -1.2343080333782328,
          -0.10472198473220974,
          -0.7075791627199393,
          -1.1250934794890421,
          -0.13122135545318075,
          -0.13325973630464638,
          -0.5219214423795748,
          -0.9399178338858662,
          -1.09293858338073,
          0.49421085222862693,
          0.8587307775944033,
          -0.008637916423998566,
          -2.3821054800247006,
          -0.33844292997234127,
          -1.3309454621475598,
          -0.6635753199127982,
          -0.4976940119383044,
          -0.19188337325859992,
          0.20403415342732897,
          0.6259349350540958,
          0.6806382450638427,
          -0.8334799949518075,
          0.13330741871923463,
          -0.8861367944020956,
          0.2522280347219456,
          1.74673112983397,
          0.0454195700224562,
          0.42431725838635165,
          0.46313945287402886,
          -0.036393397401551376,
          1.3996176623363892,
          -0.13451776843046795,
          -0.4429820748677036,
          -0.12519287551839783,
          0.1575345124703861,
          -1.1105079278597803,
          -0.7058793221245989,
          -0.5012182934909218,
          -1.237071738798001,
          -1.0374989938657437,
          0.9155202837847133,
          -1.9428455687837543,
          -1.300046598231422,
          -0.5788116808049193,
          2.164153910466163,
          2.024587158637168,
          -1.007376053165701,
          -1.4239537916994478,
          -0.027442271397530714,
          1.226059571563095,
          -0.37859063265946036,
          0.4739827862947617,
          -0.29817015052032186,
          -0.022420299523822088,
          0.8820268232137013,
          -0.5971793574885587,
          -0.5817035390746108,
          2.5423745595273224,
          -1.2240180609353126,
          1.8389577502955554,
          0.3789039734403663,
          -0.48703539030345416,
          -0.16303158180059313,
          -0.10186237655352284,
          -0.2557481695898708,
          0.32933712978369617,
          0.5308260194258264,
          0.1945955717812178,
          -1.3784653517201384,
          -0.3744721210833509,
          -0.16685921033310522,
          0.28178221826104694,
          1.3029837125498993,
          0.5655780866709391
         ],
         "xaxis": "x",
         "yaxis": "y"
        },
        {
         "line": {
          "color": "rgba(128, 128, 128, 1.0)",
          "dash": "solid",
          "shape": "linear",
          "width": 1.3
         },
         "marker": {
          "size": 2,
          "symbol": "circle"
         },
         "mode": "markers",
         "name": "A",
         "text": "",
         "type": "scatter",
         "x": [
          -2.0569014999715436,
          1.615413548570715,
          -0.4997096328929657,
          0.11044613459696011,
          2.14511071229813,
          0.12415558426069487,
          -0.18144855534171273,
          1.414504104188126,
          -1.0304690519553825,
          -0.11964407338170355,
          -1.872637047828862,
          0.3620192874855286,
          0.4024843260421167,
          -0.5086118655061668,
          -0.6241445406565573,
          1.360501842674482,
          -0.5383761007222295,
          0.11972608663364732,
          0.17908323460823522,
          0.18020973968654264,
          -1.3040735484199573,
          0.9035679353745257,
          0.5694677836183335,
          0.7789742531088888,
          -0.9761704827403509,
          0.2577788988640685,
          -0.9595820700521839,
          0.8913477599711915,
          -0.314622458164726,
          -0.42070577358846917,
          0.3003621489513765,
          -0.28361482796139226,
          0.20557205327331282,
          1.265296414392654,
          0.797172596483356,
          0.2406258030989973,
          1.4904085926260502,
          0.48821431095903245,
          0.14285530769432864,
          0.15707426612148362,
          -1.5170250115610526,
          0.7232292624556415,
          0.017602377806937356,
          0.3392998205962441,
          -1.981993932273325,
          -0.7311875792507156,
          1.0339581426574087,
          -0.8983981916176419,
          -0.21142894289193542,
          0.9860753694884673,
          1.6760993673766653,
          0.40445436681779856,
          0.228241752395754,
          0.21885947037232967,
          -0.2957949714078914,
          0.8029039858086703,
          -0.1258575515219575,
          -0.28462531300795485,
          -0.40711122540301453,
          1.1255480396449078,
          -0.04465283832238067,
          2.4606701071930766,
          1.2471229619009705,
          0.9684030255368693,
          -0.4967278612777565,
          1.1191519124145068,
          1.5393166944970227,
          0.3879656896286978,
          -0.23528168158661425,
          1.0570141419777914,
          -1.4192686252266147,
          -0.40495888179058614,
          -0.8053476811731931,
          -0.5956182729671423,
          0.15126692096238561,
          1.479938082547736,
          -0.07860579543133894,
          0.2884171368354939,
          -1.042282395744949,
          1.319871462771553,
          0.7666438421160171,
          -1.2599103779414045,
          -1.598279835414223,
          -0.761714368148162,
          -0.4197439992098943,
          0.8330065367647513,
          -0.3447653731659813,
          -1.6405242860622138,
          -0.24583445748044494,
          0.06867470537503659,
          -0.24309546675279925,
          -0.035768828097635506,
          -2.108777478604998,
          -0.17135169344361806,
          -0.3440568930717429,
          -0.4288781273324487,
          0.3615263101485928,
          0.215362306583839,
          -1.0880421818281014,
          -0.7441306187110783
         ],
         "xaxis": "x2",
         "y": [
          0.46044745595994646,
          -0.6327809816156542,
          0.19554865241212666,
          -0.8166676322767404,
          -3.0480808845906178,
          -0.3323764051335626,
          -0.2148018805663531,
          1.232919450428307,
          0.6990755453765485,
          -0.07222450852302355,
          0.9399928794576881,
          -1.6463845664115169,
          0.03866486247030078,
          1.3364309820906208,
          -0.41773911095129385,
          -1.3024561407978907,
          -1.7286428623651386,
          0.3041091737654156,
          -0.21841640624264147,
          -1.7782872619905046,
          -0.40755357437244555,
          1.4958510483328458,
          0.8691336955209565,
          -0.18954864268340946,
          1.4519376760235432,
          2.0070003818130537,
          -1.2343080333782328,
          -0.10472198473220974,
          -0.7075791627199393,
          -1.1250934794890421,
          -0.13122135545318075,
          -0.13325973630464638,
          -0.5219214423795748,
          -0.9399178338858662,
          -1.09293858338073,
          0.49421085222862693,
          0.8587307775944033,
          -0.008637916423998566,
          -2.3821054800247006,
          -0.33844292997234127,
          -1.3309454621475598,
          -0.6635753199127982,
          -0.4976940119383044,
          -0.19188337325859992,
          0.20403415342732897,
          0.6259349350540958,
          0.6806382450638427,
          -0.8334799949518075,
          0.13330741871923463,
          -0.8861367944020956,
          0.2522280347219456,
          1.74673112983397,
          0.0454195700224562,
          0.42431725838635165,
          0.46313945287402886,
          -0.036393397401551376,
          1.3996176623363892,
          -0.13451776843046795,
          -0.4429820748677036,
          -0.12519287551839783,
          0.1575345124703861,
          -1.1105079278597803,
          -0.7058793221245989,
          -0.5012182934909218,
          -1.237071738798001,
          -1.0374989938657437,
          0.9155202837847133,
          -1.9428455687837543,
          -1.300046598231422,
          -0.5788116808049193,
          2.164153910466163,
          2.024587158637168,
          -1.007376053165701,
          -1.4239537916994478,
          -0.027442271397530714,
          1.226059571563095,
          -0.37859063265946036,
          0.4739827862947617,
          -0.29817015052032186,
          -0.022420299523822088,
          0.8820268232137013,
          -0.5971793574885587,
          -0.5817035390746108,
          2.5423745595273224,
          -1.2240180609353126,
          1.8389577502955554,
          0.3789039734403663,
          -0.48703539030345416,
          -0.16303158180059313,
          -0.10186237655352284,
          -0.2557481695898708,
          0.32933712978369617,
          0.5308260194258264,
          0.1945955717812178,
          -1.3784653517201384,
          -0.3744721210833509,
          -0.16685921033310522,
          0.28178221826104694,
          1.3029837125498993,
          0.5655780866709391
         ],
         "yaxis": "y2"
        },
        {
         "line": {
          "color": "rgba(128, 128, 128, 1.0)",
          "dash": "solid",
          "shape": "linear",
          "width": 1.3
         },
         "marker": {
          "size": 2,
          "symbol": "circle"
         },
         "mode": "markers",
         "name": "A",
         "text": "",
         "type": "scatter",
         "x": [
          1.258367277130209,
          0.6250397795659117,
          -1.4949838602904135,
          -1.3397922820844121,
          0.9727879158186832,
          -0.4554213022489134,
          -0.42080481600229896,
          -1.4853056419661856,
          0.35014602970076164,
          -2.0875819598764154,
          1.9679497263424548,
          -0.2165470821065552,
          0.048313146154102024,
          -0.14348925798393644,
          -0.4831198203892947,
          0.7696246027372764,
          0.22303953790248174,
          -0.2836208113564564,
          0.06450005435836742,
          1.470099013136937,
          0.3989041891142819,
          -0.6812805165644358,
          0.2384043544619515,
          2.628992741503464,
          0.023217384164083695,
          1.2120927227206528,
          -0.7757413256402388,
          0.19635120517340784,
          -2.317188785184941,
          0.053768279270851906,
          1.288283754305875,
          0.42377926702237273,
          -0.5365014437573917,
          0.042972317087237304,
          -0.13493305230632946,
          -2.614756421734982,
          -0.5574380974609379,
          -1.3142614432062012,
          -0.6019810740761499,
          -0.7398390708008258,
          -1.9792167880440694,
          0.9855956275960852,
          1.4477935829011255,
          -0.4301483492582045,
          1.7644819321153604,
          -0.25695534161124267,
          1.1909349837698766,
          0.872362949410945,
          1.832257989667077,
          -0.8025470479510924,
          0.46021645650879456,
          -0.14318959801362832,
          -0.8556229610450181,
          -1.3501340259705716,
          -0.7296816940951176,
          1.2758271068986329,
          -0.5141029898148345,
          0.17006975609686314,
          0.6222875341376517,
          -0.04140218889555548,
          -0.9691873818702071,
          0.9976177146155699,
          -1.4103282599503064,
          -0.1486620261027917,
          -1.1715152337379773,
          0.14554756457952964,
          -0.7553310046446255,
          0.06603159298383995,
          0.4924127164414456,
          0.03175277330060168,
          0.21753462173966653,
          0.8743071806095163,
          2.3058517403156187,
          1.5515608391802713,
          -0.7972159046015269,
          -0.499436164297288,
          -0.9441469783699104,
          2.546512095592558,
          0.23223307761152515,
          -0.5298093345406708,
          0.12149402735716536,
          -0.38491023443504546,
          -0.750262225032363,
          -0.45640839544619716,
          -0.5259937757112418,
          -1.4772523816311194,
          -0.5932331674407063,
          -0.3879174298983722,
          0.7899007936721997,
          0.32335274403848085,
          0.7885005181279469,
          2.2434732307405834,
          0.7235521075755361,
          0.2527889251678213,
          -0.019007569973219403,
          -0.34415568827748244,
          -0.15941757602514936,
          -0.5415015757098923,
          0.28455927292361183,
          -0.7240936402643037
         ],
         "xaxis": "x3",
         "y": [
          0.46044745595994646,
          -0.6327809816156542,
          0.19554865241212666,
          -0.8166676322767404,
          -3.0480808845906178,
          -0.3323764051335626,
          -0.2148018805663531,
          1.232919450428307,
          0.6990755453765485,
          -0.07222450852302355,
          0.9399928794576881,
          -1.6463845664115169,
          0.03866486247030078,
          1.3364309820906208,
          -0.41773911095129385,
          -1.3024561407978907,
          -1.7286428623651386,
          0.3041091737654156,
          -0.21841640624264147,
          -1.7782872619905046,
          -0.40755357437244555,
          1.4958510483328458,
          0.8691336955209565,
          -0.18954864268340946,
          1.4519376760235432,
          2.0070003818130537,
          -1.2343080333782328,
          -0.10472198473220974,
          -0.7075791627199393,
          -1.1250934794890421,
          -0.13122135545318075,
          -0.13325973630464638,
          -0.5219214423795748,
          -0.9399178338858662,
          -1.09293858338073,
          0.49421085222862693,
          0.8587307775944033,
          -0.008637916423998566,
          -2.3821054800247006,
          -0.33844292997234127,
          -1.3309454621475598,
          -0.6635753199127982,
          -0.4976940119383044,
          -0.19188337325859992,
          0.20403415342732897,
          0.6259349350540958,
          0.6806382450638427,
          -0.8334799949518075,
          0.13330741871923463,
          -0.8861367944020956,
          0.2522280347219456,
          1.74673112983397,
          0.0454195700224562,
          0.42431725838635165,
          0.46313945287402886,
          -0.036393397401551376,
          1.3996176623363892,
          -0.13451776843046795,
          -0.4429820748677036,
          -0.12519287551839783,
          0.1575345124703861,
          -1.1105079278597803,
          -0.7058793221245989,
          -0.5012182934909218,
          -1.237071738798001,
          -1.0374989938657437,
          0.9155202837847133,
          -1.9428455687837543,
          -1.300046598231422,
          -0.5788116808049193,
          2.164153910466163,
          2.024587158637168,
          -1.007376053165701,
          -1.4239537916994478,
          -0.027442271397530714,
          1.226059571563095,
          -0.37859063265946036,
          0.4739827862947617,
          -0.29817015052032186,
          -0.022420299523822088,
          0.8820268232137013,
          -0.5971793574885587,
          -0.5817035390746108,
          2.5423745595273224,
          -1.2240180609353126,
          1.8389577502955554,
          0.3789039734403663,
          -0.48703539030345416,
          -0.16303158180059313,
          -0.10186237655352284,
          -0.2557481695898708,
          0.32933712978369617,
          0.5308260194258264,
          0.1945955717812178,
          -1.3784653517201384,
          -0.3744721210833509,
          -0.16685921033310522,
          0.28178221826104694,
          1.3029837125498993,
          0.5655780866709391
         ],
         "yaxis": "y3"
        },
        {
         "line": {
          "color": "rgba(128, 128, 128, 1.0)",
          "dash": "solid",
          "shape": "linear",
          "width": 1.3
         },
         "marker": {
          "size": 2,
          "symbol": "circle"
         },
         "mode": "markers",
         "name": "A",
         "text": "",
         "type": "scatter",
         "x": [
          0.3341668193955641,
          1.2346802398675587,
          -1.0002760877046792,
          -0.2787912566595758,
          0.010827301505861494,
          0.22799231708424078,
          -0.990501276257658,
          -0.752731522042225,
          0.5236130963855112,
          1.0275718125055953,
          0.8298946566053327,
          2.6844143369151356,
          1.6717798169748932,
          -1.081249723803137,
          0.9493770889517787,
          -0.5085101668286357,
          -0.26673231749828874,
          -0.8013869062575656,
          -0.7053198840310353,
          1.9188100067967713,
          1.4639158670641665,
          1.092906626404955,
          -0.49668243610573193,
          -0.5167234565532182,
          -0.08812919307166601,
          0.12192849513220796,
          0.4904923084918218,
          0.7311734555217336,
          -0.6690603581302017,
          2.4228558916794083,
          0.9750020252491011,
          -1.5154082771115112,
          0.6783664811253927,
          -0.6120402487612214,
          0.6209581099540071,
          1.1649184750535193,
          0.19375768977482102,
          0.7169971772718559,
          -0.11197463830869983,
          1.2257173821940857,
          0.8635300892296991,
          -2.2523746153879727,
          -0.22875254690231805,
          -0.74309287291503,
          0.020218822992205846,
          1.8583732221069171,
          -0.13900140504026426,
          -1.0383503893718338,
          -0.40925152332858206,
          -0.8518160257655871,
          -0.032616269743148484,
          -0.42271446760062636,
          1.1062096140267768,
          0.2809399600556132,
          0.05805140849617546,
          -0.9511009210338658,
          -0.5050697264089341,
          0.5825950306281149,
          1.9085819881972002,
          1.7422324673412783,
          -0.21374350904019213,
          0.5652825202130883,
          0.2054461559026082,
          0.41858489452371095,
          2.28021738613473,
          -0.17857004584255118,
          0.2001122106046136,
          -0.09054524788882383,
          0.2367883681788306,
          -1.8972603182189944,
          1.0007299479797491,
          -0.6705799683158304,
          0.3160740100806071,
          -0.5745992932121634,
          0.172927714063369,
          0.11707489213050855,
          0.8104401076244758,
          -0.5504553257425672,
          -0.3366861629048067,
          0.07936900812497623,
          0.4069868172393904,
          -1.2299867230125026,
          0.1567323196069663,
          0.4741532690489794,
          -0.34057527686698874,
          -0.5259374474667857,
          0.24546743786126834,
          0.03794835441857078,
          0.9462026071983898,
          1.0755349646288088,
          -1.5587482216839013,
          1.0940588169511027,
          -0.20586946100185324,
          -0.9087002207941971,
          0.8860882977651031,
          -1.7447423028152123,
          1.467690104133777,
          -0.01237543558596083,
          0.3540159707418616,
          0.5798846899921254
         ],
         "xaxis": "x4",
         "y": [
          0.46044745595994646,
          -0.6327809816156542,
          0.19554865241212666,
          -0.8166676322767404,
          -3.0480808845906178,
          -0.3323764051335626,
          -0.2148018805663531,
          1.232919450428307,
          0.6990755453765485,
          -0.07222450852302355,
          0.9399928794576881,
          -1.6463845664115169,
          0.03866486247030078,
          1.3364309820906208,
          -0.41773911095129385,
          -1.3024561407978907,
          -1.7286428623651386,
          0.3041091737654156,
          -0.21841640624264147,
          -1.7782872619905046,
          -0.40755357437244555,
          1.4958510483328458,
          0.8691336955209565,
          -0.18954864268340946,
          1.4519376760235432,
          2.0070003818130537,
          -1.2343080333782328,
          -0.10472198473220974,
          -0.7075791627199393,
          -1.1250934794890421,
          -0.13122135545318075,
          -0.13325973630464638,
          -0.5219214423795748,
          -0.9399178338858662,
          -1.09293858338073,
          0.49421085222862693,
          0.8587307775944033,
          -0.008637916423998566,
          -2.3821054800247006,
          -0.33844292997234127,
          -1.3309454621475598,
          -0.6635753199127982,
          -0.4976940119383044,
          -0.19188337325859992,
          0.20403415342732897,
          0.6259349350540958,
          0.6806382450638427,
          -0.8334799949518075,
          0.13330741871923463,
          -0.8861367944020956,
          0.2522280347219456,
          1.74673112983397,
          0.0454195700224562,
          0.42431725838635165,
          0.46313945287402886,
          -0.036393397401551376,
          1.3996176623363892,
          -0.13451776843046795,
          -0.4429820748677036,
          -0.12519287551839783,
          0.1575345124703861,
          -1.1105079278597803,
          -0.7058793221245989,
          -0.5012182934909218,
          -1.237071738798001,
          -1.0374989938657437,
          0.9155202837847133,
          -1.9428455687837543,
          -1.300046598231422,
          -0.5788116808049193,
          2.164153910466163,
          2.024587158637168,
          -1.007376053165701,
          -1.4239537916994478,
          -0.027442271397530714,
          1.226059571563095,
          -0.37859063265946036,
          0.4739827862947617,
          -0.29817015052032186,
          -0.022420299523822088,
          0.8820268232137013,
          -0.5971793574885587,
          -0.5817035390746108,
          2.5423745595273224,
          -1.2240180609353126,
          1.8389577502955554,
          0.3789039734403663,
          -0.48703539030345416,
          -0.16303158180059313,
          -0.10186237655352284,
          -0.2557481695898708,
          0.32933712978369617,
          0.5308260194258264,
          0.1945955717812178,
          -1.3784653517201384,
          -0.3744721210833509,
          -0.16685921033310522,
          0.28178221826104694,
          1.3029837125498993,
          0.5655780866709391
         ],
         "yaxis": "y4"
        },
        {
         "line": {
          "color": "rgba(128, 128, 128, 1.0)",
          "dash": "solid",
          "shape": "linear",
          "width": 1.3
         },
         "marker": {
          "size": 2,
          "symbol": "circle"
         },
         "mode": "markers",
         "name": "B",
         "text": "",
         "type": "scatter",
         "x": [
          0.46044745595994646,
          -0.6327809816156542,
          0.19554865241212666,
          -0.8166676322767404,
          -3.0480808845906178,
          -0.3323764051335626,
          -0.2148018805663531,
          1.232919450428307,
          0.6990755453765485,
          -0.07222450852302355,
          0.9399928794576881,
          -1.6463845664115169,
          0.03866486247030078,
          1.3364309820906208,
          -0.41773911095129385,
          -1.3024561407978907,
          -1.7286428623651386,
          0.3041091737654156,
          -0.21841640624264147,
          -1.7782872619905046,
          -0.40755357437244555,
          1.4958510483328458,
          0.8691336955209565,
          -0.18954864268340946,
          1.4519376760235432,
          2.0070003818130537,
          -1.2343080333782328,
          -0.10472198473220974,
          -0.7075791627199393,
          -1.1250934794890421,
          -0.13122135545318075,
          -0.13325973630464638,
          -0.5219214423795748,
          -0.9399178338858662,
          -1.09293858338073,
          0.49421085222862693,
          0.8587307775944033,
          -0.008637916423998566,
          -2.3821054800247006,
          -0.33844292997234127,
          -1.3309454621475598,
          -0.6635753199127982,
          -0.4976940119383044,
          -0.19188337325859992,
          0.20403415342732897,
          0.6259349350540958,
          0.6806382450638427,
          -0.8334799949518075,
          0.13330741871923463,
          -0.8861367944020956,
          0.2522280347219456,
          1.74673112983397,
          0.0454195700224562,
          0.42431725838635165,
          0.46313945287402886,
          -0.036393397401551376,
          1.3996176623363892,
          -0.13451776843046795,
          -0.4429820748677036,
          -0.12519287551839783,
          0.1575345124703861,
          -1.1105079278597803,
          -0.7058793221245989,
          -0.5012182934909218,
          -1.237071738798001,
          -1.0374989938657437,
          0.9155202837847133,
          -1.9428455687837543,
          -1.300046598231422,
          -0.5788116808049193,
          2.164153910466163,
          2.024587158637168,
          -1.007376053165701,
          -1.4239537916994478,
          -0.027442271397530714,
          1.226059571563095,
          -0.37859063265946036,
          0.4739827862947617,
          -0.29817015052032186,
          -0.022420299523822088,
          0.8820268232137013,
          -0.5971793574885587,
          -0.5817035390746108,
          2.5423745595273224,
          -1.2240180609353126,
          1.8389577502955554,
          0.3789039734403663,
          -0.48703539030345416,
          -0.16303158180059313,
          -0.10186237655352284,
          -0.2557481695898708,
          0.32933712978369617,
          0.5308260194258264,
          0.1945955717812178,
          -1.3784653517201384,
          -0.3744721210833509,
          -0.16685921033310522,
          0.28178221826104694,
          1.3029837125498993,
          0.5655780866709391
         ],
         "xaxis": "x5",
         "y": [
          -2.0569014999715436,
          1.615413548570715,
          -0.4997096328929657,
          0.11044613459696011,
          2.14511071229813,
          0.12415558426069487,
          -0.18144855534171273,
          1.414504104188126,
          -1.0304690519553825,
          -0.11964407338170355,
          -1.872637047828862,
          0.3620192874855286,
          0.4024843260421167,
          -0.5086118655061668,
          -0.6241445406565573,
          1.360501842674482,
          -0.5383761007222295,
          0.11972608663364732,
          0.17908323460823522,
          0.18020973968654264,
          -1.3040735484199573,
          0.9035679353745257,
          0.5694677836183335,
          0.7789742531088888,
          -0.9761704827403509,
          0.2577788988640685,
          -0.9595820700521839,
          0.8913477599711915,
          -0.314622458164726,
          -0.42070577358846917,
          0.3003621489513765,
          -0.28361482796139226,
          0.20557205327331282,
          1.265296414392654,
          0.797172596483356,
          0.2406258030989973,
          1.4904085926260502,
          0.48821431095903245,
          0.14285530769432864,
          0.15707426612148362,
          -1.5170250115610526,
          0.7232292624556415,
          0.017602377806937356,
          0.3392998205962441,
          -1.981993932273325,
          -0.7311875792507156,
          1.0339581426574087,
          -0.8983981916176419,
          -0.21142894289193542,
          0.9860753694884673,
          1.6760993673766653,
          0.40445436681779856,
          0.228241752395754,
          0.21885947037232967,
          -0.2957949714078914,
          0.8029039858086703,
          -0.1258575515219575,
          -0.28462531300795485,
          -0.40711122540301453,
          1.1255480396449078,
          -0.04465283832238067,
          2.4606701071930766,
          1.2471229619009705,
          0.9684030255368693,
          -0.4967278612777565,
          1.1191519124145068,
          1.5393166944970227,
          0.3879656896286978,
          -0.23528168158661425,
          1.0570141419777914,
          -1.4192686252266147,
          -0.40495888179058614,
          -0.8053476811731931,
          -0.5956182729671423,
          0.15126692096238561,
          1.479938082547736,
          -0.07860579543133894,
          0.2884171368354939,
          -1.042282395744949,
          1.319871462771553,
          0.7666438421160171,
          -1.2599103779414045,
          -1.598279835414223,
          -0.761714368148162,
          -0.4197439992098943,
          0.8330065367647513,
          -0.3447653731659813,
          -1.6405242860622138,
          -0.24583445748044494,
          0.06867470537503659,
          -0.24309546675279925,
          -0.035768828097635506,
          -2.108777478604998,
          -0.17135169344361806,
          -0.3440568930717429,
          -0.4288781273324487,
          0.3615263101485928,
          0.215362306583839,
          -1.0880421818281014,
          -0.7441306187110783
         ],
         "yaxis": "y5"
        },
        {
         "histfunc": "count",
         "histnorm": "",
         "marker": {
          "color": "rgba(55, 128, 191, 1.0)",
          "line": {
           "color": "#4D5663",
           "width": 1.3
          }
         },
         "name": "B",
         "nbinsx": 10,
         "opacity": 0.8,
         "orientation": "v",
         "type": "histogram",
         "x": [
          -2.0569014999715436,
          1.615413548570715,
          -0.4997096328929657,
          0.11044613459696011,
          2.14511071229813,
          0.12415558426069487,
          -0.18144855534171273,
          1.414504104188126,
          -1.0304690519553825,
          -0.11964407338170355,
          -1.872637047828862,
          0.3620192874855286,
          0.4024843260421167,
          -0.5086118655061668,
          -0.6241445406565573,
          1.360501842674482,
          -0.5383761007222295,
          0.11972608663364732,
          0.17908323460823522,
          0.18020973968654264,
          -1.3040735484199573,
          0.9035679353745257,
          0.5694677836183335,
          0.7789742531088888,
          -0.9761704827403509,
          0.2577788988640685,
          -0.9595820700521839,
          0.8913477599711915,
          -0.314622458164726,
          -0.42070577358846917,
          0.3003621489513765,
          -0.28361482796139226,
          0.20557205327331282,
          1.265296414392654,
          0.797172596483356,
          0.2406258030989973,
          1.4904085926260502,
          0.48821431095903245,
          0.14285530769432864,
          0.15707426612148362,
          -1.5170250115610526,
          0.7232292624556415,
          0.017602377806937356,
          0.3392998205962441,
          -1.981993932273325,
          -0.7311875792507156,
          1.0339581426574087,
          -0.8983981916176419,
          -0.21142894289193542,
          0.9860753694884673,
          1.6760993673766653,
          0.40445436681779856,
          0.228241752395754,
          0.21885947037232967,
          -0.2957949714078914,
          0.8029039858086703,
          -0.1258575515219575,
          -0.28462531300795485,
          -0.40711122540301453,
          1.1255480396449078,
          -0.04465283832238067,
          2.4606701071930766,
          1.2471229619009705,
          0.9684030255368693,
          -0.4967278612777565,
          1.1191519124145068,
          1.5393166944970227,
          0.3879656896286978,
          -0.23528168158661425,
          1.0570141419777914,
          -1.4192686252266147,
          -0.40495888179058614,
          -0.8053476811731931,
          -0.5956182729671423,
          0.15126692096238561,
          1.479938082547736,
          -0.07860579543133894,
          0.2884171368354939,
          -1.042282395744949,
          1.319871462771553,
          0.7666438421160171,
          -1.2599103779414045,
          -1.598279835414223,
          -0.761714368148162,
          -0.4197439992098943,
          0.8330065367647513,
          -0.3447653731659813,
          -1.6405242860622138,
          -0.24583445748044494,
          0.06867470537503659,
          -0.24309546675279925,
          -0.035768828097635506,
          -2.108777478604998,
          -0.17135169344361806,
          -0.3440568930717429,
          -0.4288781273324487,
          0.3615263101485928,
          0.215362306583839,
          -1.0880421818281014,
          -0.7441306187110783
         ],
         "xaxis": "x6",
         "yaxis": "y6"
        },
        {
         "line": {
          "color": "rgba(128, 128, 128, 1.0)",
          "dash": "solid",
          "shape": "linear",
          "width": 1.3
         },
         "marker": {
          "size": 2,
          "symbol": "circle"
         },
         "mode": "markers",
         "name": "B",
         "text": "",
         "type": "scatter",
         "x": [
          1.258367277130209,
          0.6250397795659117,
          -1.4949838602904135,
          -1.3397922820844121,
          0.9727879158186832,
          -0.4554213022489134,
          -0.42080481600229896,
          -1.4853056419661856,
          0.35014602970076164,
          -2.0875819598764154,
          1.9679497263424548,
          -0.2165470821065552,
          0.048313146154102024,
          -0.14348925798393644,
          -0.4831198203892947,
          0.7696246027372764,
          0.22303953790248174,
          -0.2836208113564564,
          0.06450005435836742,
          1.470099013136937,
          0.3989041891142819,
          -0.6812805165644358,
          0.2384043544619515,
          2.628992741503464,
          0.023217384164083695,
          1.2120927227206528,
          -0.7757413256402388,
          0.19635120517340784,
          -2.317188785184941,
          0.053768279270851906,
          1.288283754305875,
          0.42377926702237273,
          -0.5365014437573917,
          0.042972317087237304,
          -0.13493305230632946,
          -2.614756421734982,
          -0.5574380974609379,
          -1.3142614432062012,
          -0.6019810740761499,
          -0.7398390708008258,
          -1.9792167880440694,
          0.9855956275960852,
          1.4477935829011255,
          -0.4301483492582045,
          1.7644819321153604,
          -0.25695534161124267,
          1.1909349837698766,
          0.872362949410945,
          1.832257989667077,
          -0.8025470479510924,
          0.46021645650879456,
          -0.14318959801362832,
          -0.8556229610450181,
          -1.3501340259705716,
          -0.7296816940951176,
          1.2758271068986329,
          -0.5141029898148345,
          0.17006975609686314,
          0.6222875341376517,
          -0.04140218889555548,
          -0.9691873818702071,
          0.9976177146155699,
          -1.4103282599503064,
          -0.1486620261027917,
          -1.1715152337379773,
          0.14554756457952964,
          -0.7553310046446255,
          0.06603159298383995,
          0.4924127164414456,
          0.03175277330060168,
          0.21753462173966653,
          0.8743071806095163,
          2.3058517403156187,
          1.5515608391802713,
          -0.7972159046015269,
          -0.499436164297288,
          -0.9441469783699104,
          2.546512095592558,
          0.23223307761152515,
          -0.5298093345406708,
          0.12149402735716536,
          -0.38491023443504546,
          -0.750262225032363,
          -0.45640839544619716,
          -0.5259937757112418,
          -1.4772523816311194,
          -0.5932331674407063,
          -0.3879174298983722,
          0.7899007936721997,
          0.32335274403848085,
          0.7885005181279469,
          2.2434732307405834,
          0.7235521075755361,
          0.2527889251678213,
          -0.019007569973219403,
          -0.34415568827748244,
          -0.15941757602514936,
          -0.5415015757098923,
          0.28455927292361183,
          -0.7240936402643037
         ],
         "xaxis": "x7",
         "y": [
          -2.0569014999715436,
          1.615413548570715,
          -0.4997096328929657,
          0.11044613459696011,
          2.14511071229813,
          0.12415558426069487,
          -0.18144855534171273,
          1.414504104188126,
          -1.0304690519553825,
          -0.11964407338170355,
          -1.872637047828862,
          0.3620192874855286,
          0.4024843260421167,
          -0.5086118655061668,
          -0.6241445406565573,
          1.360501842674482,
          -0.5383761007222295,
          0.11972608663364732,
          0.17908323460823522,
          0.18020973968654264,
          -1.3040735484199573,
          0.9035679353745257,
          0.5694677836183335,
          0.7789742531088888,
          -0.9761704827403509,
          0.2577788988640685,
          -0.9595820700521839,
          0.8913477599711915,
          -0.314622458164726,
          -0.42070577358846917,
          0.3003621489513765,
          -0.28361482796139226,
          0.20557205327331282,
          1.265296414392654,
          0.797172596483356,
          0.2406258030989973,
          1.4904085926260502,
          0.48821431095903245,
          0.14285530769432864,
          0.15707426612148362,
          -1.5170250115610526,
          0.7232292624556415,
          0.017602377806937356,
          0.3392998205962441,
          -1.981993932273325,
          -0.7311875792507156,
          1.0339581426574087,
          -0.8983981916176419,
          -0.21142894289193542,
          0.9860753694884673,
          1.6760993673766653,
          0.40445436681779856,
          0.228241752395754,
          0.21885947037232967,
          -0.2957949714078914,
          0.8029039858086703,
          -0.1258575515219575,
          -0.28462531300795485,
          -0.40711122540301453,
          1.1255480396449078,
          -0.04465283832238067,
          2.4606701071930766,
          1.2471229619009705,
          0.9684030255368693,
          -0.4967278612777565,
          1.1191519124145068,
          1.5393166944970227,
          0.3879656896286978,
          -0.23528168158661425,
          1.0570141419777914,
          -1.4192686252266147,
          -0.40495888179058614,
          -0.8053476811731931,
          -0.5956182729671423,
          0.15126692096238561,
          1.479938082547736,
          -0.07860579543133894,
          0.2884171368354939,
          -1.042282395744949,
          1.319871462771553,
          0.7666438421160171,
          -1.2599103779414045,
          -1.598279835414223,
          -0.761714368148162,
          -0.4197439992098943,
          0.8330065367647513,
          -0.3447653731659813,
          -1.6405242860622138,
          -0.24583445748044494,
          0.06867470537503659,
          -0.24309546675279925,
          -0.035768828097635506,
          -2.108777478604998,
          -0.17135169344361806,
          -0.3440568930717429,
          -0.4288781273324487,
          0.3615263101485928,
          0.215362306583839,
          -1.0880421818281014,
          -0.7441306187110783
         ],
         "yaxis": "y7"
        },
        {
         "line": {
          "color": "rgba(128, 128, 128, 1.0)",
          "dash": "solid",
          "shape": "linear",
          "width": 1.3
         },
         "marker": {
          "size": 2,
          "symbol": "circle"
         },
         "mode": "markers",
         "name": "B",
         "text": "",
         "type": "scatter",
         "x": [
          0.3341668193955641,
          1.2346802398675587,
          -1.0002760877046792,
          -0.2787912566595758,
          0.010827301505861494,
          0.22799231708424078,
          -0.990501276257658,
          -0.752731522042225,
          0.5236130963855112,
          1.0275718125055953,
          0.8298946566053327,
          2.6844143369151356,
          1.6717798169748932,
          -1.081249723803137,
          0.9493770889517787,
          -0.5085101668286357,
          -0.26673231749828874,
          -0.8013869062575656,
          -0.7053198840310353,
          1.9188100067967713,
          1.4639158670641665,
          1.092906626404955,
          -0.49668243610573193,
          -0.5167234565532182,
          -0.08812919307166601,
          0.12192849513220796,
          0.4904923084918218,
          0.7311734555217336,
          -0.6690603581302017,
          2.4228558916794083,
          0.9750020252491011,
          -1.5154082771115112,
          0.6783664811253927,
          -0.6120402487612214,
          0.6209581099540071,
          1.1649184750535193,
          0.19375768977482102,
          0.7169971772718559,
          -0.11197463830869983,
          1.2257173821940857,
          0.8635300892296991,
          -2.2523746153879727,
          -0.22875254690231805,
          -0.74309287291503,
          0.020218822992205846,
          1.8583732221069171,
          -0.13900140504026426,
          -1.0383503893718338,
          -0.40925152332858206,
          -0.8518160257655871,
          -0.032616269743148484,
          -0.42271446760062636,
          1.1062096140267768,
          0.2809399600556132,
          0.05805140849617546,
          -0.9511009210338658,
          -0.5050697264089341,
          0.5825950306281149,
          1.9085819881972002,
          1.7422324673412783,
          -0.21374350904019213,
          0.5652825202130883,
          0.2054461559026082,
          0.41858489452371095,
          2.28021738613473,
          -0.17857004584255118,
          0.2001122106046136,
          -0.09054524788882383,
          0.2367883681788306,
          -1.8972603182189944,
          1.0007299479797491,
          -0.6705799683158304,
          0.3160740100806071,
          -0.5745992932121634,
          0.172927714063369,
          0.11707489213050855,
          0.8104401076244758,
          -0.5504553257425672,
          -0.3366861629048067,
          0.07936900812497623,
          0.4069868172393904,
          -1.2299867230125026,
          0.1567323196069663,
          0.4741532690489794,
          -0.34057527686698874,
          -0.5259374474667857,
          0.24546743786126834,
          0.03794835441857078,
          0.9462026071983898,
          1.0755349646288088,
          -1.5587482216839013,
          1.0940588169511027,
          -0.20586946100185324,
          -0.9087002207941971,
          0.8860882977651031,
          -1.7447423028152123,
          1.467690104133777,
          -0.01237543558596083,
          0.3540159707418616,
          0.5798846899921254
         ],
         "xaxis": "x8",
         "y": [
          -2.0569014999715436,
          1.615413548570715,
          -0.4997096328929657,
          0.11044613459696011,
          2.14511071229813,
          0.12415558426069487,
          -0.18144855534171273,
          1.414504104188126,
          -1.0304690519553825,
          -0.11964407338170355,
          -1.872637047828862,
          0.3620192874855286,
          0.4024843260421167,
          -0.5086118655061668,
          -0.6241445406565573,
          1.360501842674482,
          -0.5383761007222295,
          0.11972608663364732,
          0.17908323460823522,
          0.18020973968654264,
          -1.3040735484199573,
          0.9035679353745257,
          0.5694677836183335,
          0.7789742531088888,
          -0.9761704827403509,
          0.2577788988640685,
          -0.9595820700521839,
          0.8913477599711915,
          -0.314622458164726,
          -0.42070577358846917,
          0.3003621489513765,
          -0.28361482796139226,
          0.20557205327331282,
          1.265296414392654,
          0.797172596483356,
          0.2406258030989973,
          1.4904085926260502,
          0.48821431095903245,
          0.14285530769432864,
          0.15707426612148362,
          -1.5170250115610526,
          0.7232292624556415,
          0.017602377806937356,
          0.3392998205962441,
          -1.981993932273325,
          -0.7311875792507156,
          1.0339581426574087,
          -0.8983981916176419,
          -0.21142894289193542,
          0.9860753694884673,
          1.6760993673766653,
          0.40445436681779856,
          0.228241752395754,
          0.21885947037232967,
          -0.2957949714078914,
          0.8029039858086703,
          -0.1258575515219575,
          -0.28462531300795485,
          -0.40711122540301453,
          1.1255480396449078,
          -0.04465283832238067,
          2.4606701071930766,
          1.2471229619009705,
          0.9684030255368693,
          -0.4967278612777565,
          1.1191519124145068,
          1.5393166944970227,
          0.3879656896286978,
          -0.23528168158661425,
          1.0570141419777914,
          -1.4192686252266147,
          -0.40495888179058614,
          -0.8053476811731931,
          -0.5956182729671423,
          0.15126692096238561,
          1.479938082547736,
          -0.07860579543133894,
          0.2884171368354939,
          -1.042282395744949,
          1.319871462771553,
          0.7666438421160171,
          -1.2599103779414045,
          -1.598279835414223,
          -0.761714368148162,
          -0.4197439992098943,
          0.8330065367647513,
          -0.3447653731659813,
          -1.6405242860622138,
          -0.24583445748044494,
          0.06867470537503659,
          -0.24309546675279925,
          -0.035768828097635506,
          -2.108777478604998,
          -0.17135169344361806,
          -0.3440568930717429,
          -0.4288781273324487,
          0.3615263101485928,
          0.215362306583839,
          -1.0880421818281014,
          -0.7441306187110783
         ],
         "yaxis": "y8"
        },
        {
         "line": {
          "color": "rgba(128, 128, 128, 1.0)",
          "dash": "solid",
          "shape": "linear",
          "width": 1.3
         },
         "marker": {
          "size": 2,
          "symbol": "circle"
         },
         "mode": "markers",
         "name": "C",
         "text": "",
         "type": "scatter",
         "x": [
          0.46044745595994646,
          -0.6327809816156542,
          0.19554865241212666,
          -0.8166676322767404,
          -3.0480808845906178,
          -0.3323764051335626,
          -0.2148018805663531,
          1.232919450428307,
          0.6990755453765485,
          -0.07222450852302355,
          0.9399928794576881,
          -1.6463845664115169,
          0.03866486247030078,
          1.3364309820906208,
          -0.41773911095129385,
          -1.3024561407978907,
          -1.7286428623651386,
          0.3041091737654156,
          -0.21841640624264147,
          -1.7782872619905046,
          -0.40755357437244555,
          1.4958510483328458,
          0.8691336955209565,
          -0.18954864268340946,
          1.4519376760235432,
          2.0070003818130537,
          -1.2343080333782328,
          -0.10472198473220974,
          -0.7075791627199393,
          -1.1250934794890421,
          -0.13122135545318075,
          -0.13325973630464638,
          -0.5219214423795748,
          -0.9399178338858662,
          -1.09293858338073,
          0.49421085222862693,
          0.8587307775944033,
          -0.008637916423998566,
          -2.3821054800247006,
          -0.33844292997234127,
          -1.3309454621475598,
          -0.6635753199127982,
          -0.4976940119383044,
          -0.19188337325859992,
          0.20403415342732897,
          0.6259349350540958,
          0.6806382450638427,
          -0.8334799949518075,
          0.13330741871923463,
          -0.8861367944020956,
          0.2522280347219456,
          1.74673112983397,
          0.0454195700224562,
          0.42431725838635165,
          0.46313945287402886,
          -0.036393397401551376,
          1.3996176623363892,
          -0.13451776843046795,
          -0.4429820748677036,
          -0.12519287551839783,
          0.1575345124703861,
          -1.1105079278597803,
          -0.7058793221245989,
          -0.5012182934909218,
          -1.237071738798001,
          -1.0374989938657437,
          0.9155202837847133,
          -1.9428455687837543,
          -1.300046598231422,
          -0.5788116808049193,
          2.164153910466163,
          2.024587158637168,
          -1.007376053165701,
          -1.4239537916994478,
          -0.027442271397530714,
          1.226059571563095,
          -0.37859063265946036,
          0.4739827862947617,
          -0.29817015052032186,
          -0.022420299523822088,
          0.8820268232137013,
          -0.5971793574885587,
          -0.5817035390746108,
          2.5423745595273224,
          -1.2240180609353126,
          1.8389577502955554,
          0.3789039734403663,
          -0.48703539030345416,
          -0.16303158180059313,
          -0.10186237655352284,
          -0.2557481695898708,
          0.32933712978369617,
          0.5308260194258264,
          0.1945955717812178,
          -1.3784653517201384,
          -0.3744721210833509,
          -0.16685921033310522,
          0.28178221826104694,
          1.3029837125498993,
          0.5655780866709391
         ],
         "xaxis": "x9",
         "y": [
          1.258367277130209,
          0.6250397795659117,
          -1.4949838602904135,
          -1.3397922820844121,
          0.9727879158186832,
          -0.4554213022489134,
          -0.42080481600229896,
          -1.4853056419661856,
          0.35014602970076164,
          -2.0875819598764154,
          1.9679497263424548,
          -0.2165470821065552,
          0.048313146154102024,
          -0.14348925798393644,
          -0.4831198203892947,
          0.7696246027372764,
          0.22303953790248174,
          -0.2836208113564564,
          0.06450005435836742,
          1.470099013136937,
          0.3989041891142819,
          -0.6812805165644358,
          0.2384043544619515,
          2.628992741503464,
          0.023217384164083695,
          1.2120927227206528,
          -0.7757413256402388,
          0.19635120517340784,
          -2.317188785184941,
          0.053768279270851906,
          1.288283754305875,
          0.42377926702237273,
          -0.5365014437573917,
          0.042972317087237304,
          -0.13493305230632946,
          -2.614756421734982,
          -0.5574380974609379,
          -1.3142614432062012,
          -0.6019810740761499,
          -0.7398390708008258,
          -1.9792167880440694,
          0.9855956275960852,
          1.4477935829011255,
          -0.4301483492582045,
          1.7644819321153604,
          -0.25695534161124267,
          1.1909349837698766,
          0.872362949410945,
          1.832257989667077,
          -0.8025470479510924,
          0.46021645650879456,
          -0.14318959801362832,
          -0.8556229610450181,
          -1.3501340259705716,
          -0.7296816940951176,
          1.2758271068986329,
          -0.5141029898148345,
          0.17006975609686314,
          0.6222875341376517,
          -0.04140218889555548,
          -0.9691873818702071,
          0.9976177146155699,
          -1.4103282599503064,
          -0.1486620261027917,
          -1.1715152337379773,
          0.14554756457952964,
          -0.7553310046446255,
          0.06603159298383995,
          0.4924127164414456,
          0.03175277330060168,
          0.21753462173966653,
          0.8743071806095163,
          2.3058517403156187,
          1.5515608391802713,
          -0.7972159046015269,
          -0.499436164297288,
          -0.9441469783699104,
          2.546512095592558,
          0.23223307761152515,
          -0.5298093345406708,
          0.12149402735716536,
          -0.38491023443504546,
          -0.750262225032363,
          -0.45640839544619716,
          -0.5259937757112418,
          -1.4772523816311194,
          -0.5932331674407063,
          -0.3879174298983722,
          0.7899007936721997,
          0.32335274403848085,
          0.7885005181279469,
          2.2434732307405834,
          0.7235521075755361,
          0.2527889251678213,
          -0.019007569973219403,
          -0.34415568827748244,
          -0.15941757602514936,
          -0.5415015757098923,
          0.28455927292361183,
          -0.7240936402643037
         ],
         "yaxis": "y9"
        },
        {
         "line": {
          "color": "rgba(128, 128, 128, 1.0)",
          "dash": "solid",
          "shape": "linear",
          "width": 1.3
         },
         "marker": {
          "size": 2,
          "symbol": "circle"
         },
         "mode": "markers",
         "name": "C",
         "text": "",
         "type": "scatter",
         "x": [
          -2.0569014999715436,
          1.615413548570715,
          -0.4997096328929657,
          0.11044613459696011,
          2.14511071229813,
          0.12415558426069487,
          -0.18144855534171273,
          1.414504104188126,
          -1.0304690519553825,
          -0.11964407338170355,
          -1.872637047828862,
          0.3620192874855286,
          0.4024843260421167,
          -0.5086118655061668,
          -0.6241445406565573,
          1.360501842674482,
          -0.5383761007222295,
          0.11972608663364732,
          0.17908323460823522,
          0.18020973968654264,
          -1.3040735484199573,
          0.9035679353745257,
          0.5694677836183335,
          0.7789742531088888,
          -0.9761704827403509,
          0.2577788988640685,
          -0.9595820700521839,
          0.8913477599711915,
          -0.314622458164726,
          -0.42070577358846917,
          0.3003621489513765,
          -0.28361482796139226,
          0.20557205327331282,
          1.265296414392654,
          0.797172596483356,
          0.2406258030989973,
          1.4904085926260502,
          0.48821431095903245,
          0.14285530769432864,
          0.15707426612148362,
          -1.5170250115610526,
          0.7232292624556415,
          0.017602377806937356,
          0.3392998205962441,
          -1.981993932273325,
          -0.7311875792507156,
          1.0339581426574087,
          -0.8983981916176419,
          -0.21142894289193542,
          0.9860753694884673,
          1.6760993673766653,
          0.40445436681779856,
          0.228241752395754,
          0.21885947037232967,
          -0.2957949714078914,
          0.8029039858086703,
          -0.1258575515219575,
          -0.28462531300795485,
          -0.40711122540301453,
          1.1255480396449078,
          -0.04465283832238067,
          2.4606701071930766,
          1.2471229619009705,
          0.9684030255368693,
          -0.4967278612777565,
          1.1191519124145068,
          1.5393166944970227,
          0.3879656896286978,
          -0.23528168158661425,
          1.0570141419777914,
          -1.4192686252266147,
          -0.40495888179058614,
          -0.8053476811731931,
          -0.5956182729671423,
          0.15126692096238561,
          1.479938082547736,
          -0.07860579543133894,
          0.2884171368354939,
          -1.042282395744949,
          1.319871462771553,
          0.7666438421160171,
          -1.2599103779414045,
          -1.598279835414223,
          -0.761714368148162,
          -0.4197439992098943,
          0.8330065367647513,
          -0.3447653731659813,
          -1.6405242860622138,
          -0.24583445748044494,
          0.06867470537503659,
          -0.24309546675279925,
          -0.035768828097635506,
          -2.108777478604998,
          -0.17135169344361806,
          -0.3440568930717429,
          -0.4288781273324487,
          0.3615263101485928,
          0.215362306583839,
          -1.0880421818281014,
          -0.7441306187110783
         ],
         "xaxis": "x10",
         "y": [
          1.258367277130209,
          0.6250397795659117,
          -1.4949838602904135,
          -1.3397922820844121,
          0.9727879158186832,
          -0.4554213022489134,
          -0.42080481600229896,
          -1.4853056419661856,
          0.35014602970076164,
          -2.0875819598764154,
          1.9679497263424548,
          -0.2165470821065552,
          0.048313146154102024,
          -0.14348925798393644,
          -0.4831198203892947,
          0.7696246027372764,
          0.22303953790248174,
          -0.2836208113564564,
          0.06450005435836742,
          1.470099013136937,
          0.3989041891142819,
          -0.6812805165644358,
          0.2384043544619515,
          2.628992741503464,
          0.023217384164083695,
          1.2120927227206528,
          -0.7757413256402388,
          0.19635120517340784,
          -2.317188785184941,
          0.053768279270851906,
          1.288283754305875,
          0.42377926702237273,
          -0.5365014437573917,
          0.042972317087237304,
          -0.13493305230632946,
          -2.614756421734982,
          -0.5574380974609379,
          -1.3142614432062012,
          -0.6019810740761499,
          -0.7398390708008258,
          -1.9792167880440694,
          0.9855956275960852,
          1.4477935829011255,
          -0.4301483492582045,
          1.7644819321153604,
          -0.25695534161124267,
          1.1909349837698766,
          0.872362949410945,
          1.832257989667077,
          -0.8025470479510924,
          0.46021645650879456,
          -0.14318959801362832,
          -0.8556229610450181,
          -1.3501340259705716,
          -0.7296816940951176,
          1.2758271068986329,
          -0.5141029898148345,
          0.17006975609686314,
          0.6222875341376517,
          -0.04140218889555548,
          -0.9691873818702071,
          0.9976177146155699,
          -1.4103282599503064,
          -0.1486620261027917,
          -1.1715152337379773,
          0.14554756457952964,
          -0.7553310046446255,
          0.06603159298383995,
          0.4924127164414456,
          0.03175277330060168,
          0.21753462173966653,
          0.8743071806095163,
          2.3058517403156187,
          1.5515608391802713,
          -0.7972159046015269,
          -0.499436164297288,
          -0.9441469783699104,
          2.546512095592558,
          0.23223307761152515,
          -0.5298093345406708,
          0.12149402735716536,
          -0.38491023443504546,
          -0.750262225032363,
          -0.45640839544619716,
          -0.5259937757112418,
          -1.4772523816311194,
          -0.5932331674407063,
          -0.3879174298983722,
          0.7899007936721997,
          0.32335274403848085,
          0.7885005181279469,
          2.2434732307405834,
          0.7235521075755361,
          0.2527889251678213,
          -0.019007569973219403,
          -0.34415568827748244,
          -0.15941757602514936,
          -0.5415015757098923,
          0.28455927292361183,
          -0.7240936402643037
         ],
         "yaxis": "y10"
        },
        {
         "histfunc": "count",
         "histnorm": "",
         "marker": {
          "color": "rgba(50, 171, 96, 1.0)",
          "line": {
           "color": "#4D5663",
           "width": 1.3
          }
         },
         "name": "C",
         "nbinsx": 10,
         "opacity": 0.8,
         "orientation": "v",
         "type": "histogram",
         "x": [
          1.258367277130209,
          0.6250397795659117,
          -1.4949838602904135,
          -1.3397922820844121,
          0.9727879158186832,
          -0.4554213022489134,
          -0.42080481600229896,
          -1.4853056419661856,
          0.35014602970076164,
          -2.0875819598764154,
          1.9679497263424548,
          -0.2165470821065552,
          0.048313146154102024,
          -0.14348925798393644,
          -0.4831198203892947,
          0.7696246027372764,
          0.22303953790248174,
          -0.2836208113564564,
          0.06450005435836742,
          1.470099013136937,
          0.3989041891142819,
          -0.6812805165644358,
          0.2384043544619515,
          2.628992741503464,
          0.023217384164083695,
          1.2120927227206528,
          -0.7757413256402388,
          0.19635120517340784,
          -2.317188785184941,
          0.053768279270851906,
          1.288283754305875,
          0.42377926702237273,
          -0.5365014437573917,
          0.042972317087237304,
          -0.13493305230632946,
          -2.614756421734982,
          -0.5574380974609379,
          -1.3142614432062012,
          -0.6019810740761499,
          -0.7398390708008258,
          -1.9792167880440694,
          0.9855956275960852,
          1.4477935829011255,
          -0.4301483492582045,
          1.7644819321153604,
          -0.25695534161124267,
          1.1909349837698766,
          0.872362949410945,
          1.832257989667077,
          -0.8025470479510924,
          0.46021645650879456,
          -0.14318959801362832,
          -0.8556229610450181,
          -1.3501340259705716,
          -0.7296816940951176,
          1.2758271068986329,
          -0.5141029898148345,
          0.17006975609686314,
          0.6222875341376517,
          -0.04140218889555548,
          -0.9691873818702071,
          0.9976177146155699,
          -1.4103282599503064,
          -0.1486620261027917,
          -1.1715152337379773,
          0.14554756457952964,
          -0.7553310046446255,
          0.06603159298383995,
          0.4924127164414456,
          0.03175277330060168,
          0.21753462173966653,
          0.8743071806095163,
          2.3058517403156187,
          1.5515608391802713,
          -0.7972159046015269,
          -0.499436164297288,
          -0.9441469783699104,
          2.546512095592558,
          0.23223307761152515,
          -0.5298093345406708,
          0.12149402735716536,
          -0.38491023443504546,
          -0.750262225032363,
          -0.45640839544619716,
          -0.5259937757112418,
          -1.4772523816311194,
          -0.5932331674407063,
          -0.3879174298983722,
          0.7899007936721997,
          0.32335274403848085,
          0.7885005181279469,
          2.2434732307405834,
          0.7235521075755361,
          0.2527889251678213,
          -0.019007569973219403,
          -0.34415568827748244,
          -0.15941757602514936,
          -0.5415015757098923,
          0.28455927292361183,
          -0.7240936402643037
         ],
         "xaxis": "x11",
         "yaxis": "y11"
        },
        {
         "line": {
          "color": "rgba(128, 128, 128, 1.0)",
          "dash": "solid",
          "shape": "linear",
          "width": 1.3
         },
         "marker": {
          "size": 2,
          "symbol": "circle"
         },
         "mode": "markers",
         "name": "C",
         "text": "",
         "type": "scatter",
         "x": [
          0.3341668193955641,
          1.2346802398675587,
          -1.0002760877046792,
          -0.2787912566595758,
          0.010827301505861494,
          0.22799231708424078,
          -0.990501276257658,
          -0.752731522042225,
          0.5236130963855112,
          1.0275718125055953,
          0.8298946566053327,
          2.6844143369151356,
          1.6717798169748932,
          -1.081249723803137,
          0.9493770889517787,
          -0.5085101668286357,
          -0.26673231749828874,
          -0.8013869062575656,
          -0.7053198840310353,
          1.9188100067967713,
          1.4639158670641665,
          1.092906626404955,
          -0.49668243610573193,
          -0.5167234565532182,
          -0.08812919307166601,
          0.12192849513220796,
          0.4904923084918218,
          0.7311734555217336,
          -0.6690603581302017,
          2.4228558916794083,
          0.9750020252491011,
          -1.5154082771115112,
          0.6783664811253927,
          -0.6120402487612214,
          0.6209581099540071,
          1.1649184750535193,
          0.19375768977482102,
          0.7169971772718559,
          -0.11197463830869983,
          1.2257173821940857,
          0.8635300892296991,
          -2.2523746153879727,
          -0.22875254690231805,
          -0.74309287291503,
          0.020218822992205846,
          1.8583732221069171,
          -0.13900140504026426,
          -1.0383503893718338,
          -0.40925152332858206,
          -0.8518160257655871,
          -0.032616269743148484,
          -0.42271446760062636,
          1.1062096140267768,
          0.2809399600556132,
          0.05805140849617546,
          -0.9511009210338658,
          -0.5050697264089341,
          0.5825950306281149,
          1.9085819881972002,
          1.7422324673412783,
          -0.21374350904019213,
          0.5652825202130883,
          0.2054461559026082,
          0.41858489452371095,
          2.28021738613473,
          -0.17857004584255118,
          0.2001122106046136,
          -0.09054524788882383,
          0.2367883681788306,
          -1.8972603182189944,
          1.0007299479797491,
          -0.6705799683158304,
          0.3160740100806071,
          -0.5745992932121634,
          0.172927714063369,
          0.11707489213050855,
          0.8104401076244758,
          -0.5504553257425672,
          -0.3366861629048067,
          0.07936900812497623,
          0.4069868172393904,
          -1.2299867230125026,
          0.1567323196069663,
          0.4741532690489794,
          -0.34057527686698874,
          -0.5259374474667857,
          0.24546743786126834,
          0.03794835441857078,
          0.9462026071983898,
          1.0755349646288088,
          -1.5587482216839013,
          1.0940588169511027,
          -0.20586946100185324,
          -0.9087002207941971,
          0.8860882977651031,
          -1.7447423028152123,
          1.467690104133777,
          -0.01237543558596083,
          0.3540159707418616,
          0.5798846899921254
         ],
         "xaxis": "x12",
         "y": [
          1.258367277130209,
          0.6250397795659117,
          -1.4949838602904135,
          -1.3397922820844121,
          0.9727879158186832,
          -0.4554213022489134,
          -0.42080481600229896,
          -1.4853056419661856,
          0.35014602970076164,
          -2.0875819598764154,
          1.9679497263424548,
          -0.2165470821065552,
          0.048313146154102024,
          -0.14348925798393644,
          -0.4831198203892947,
          0.7696246027372764,
          0.22303953790248174,
          -0.2836208113564564,
          0.06450005435836742,
          1.470099013136937,
          0.3989041891142819,
          -0.6812805165644358,
          0.2384043544619515,
          2.628992741503464,
          0.023217384164083695,
          1.2120927227206528,
          -0.7757413256402388,
          0.19635120517340784,
          -2.317188785184941,
          0.053768279270851906,
          1.288283754305875,
          0.42377926702237273,
          -0.5365014437573917,
          0.042972317087237304,
          -0.13493305230632946,
          -2.614756421734982,
          -0.5574380974609379,
          -1.3142614432062012,
          -0.6019810740761499,
          -0.7398390708008258,
          -1.9792167880440694,
          0.9855956275960852,
          1.4477935829011255,
          -0.4301483492582045,
          1.7644819321153604,
          -0.25695534161124267,
          1.1909349837698766,
          0.872362949410945,
          1.832257989667077,
          -0.8025470479510924,
          0.46021645650879456,
          -0.14318959801362832,
          -0.8556229610450181,
          -1.3501340259705716,
          -0.7296816940951176,
          1.2758271068986329,
          -0.5141029898148345,
          0.17006975609686314,
          0.6222875341376517,
          -0.04140218889555548,
          -0.9691873818702071,
          0.9976177146155699,
          -1.4103282599503064,
          -0.1486620261027917,
          -1.1715152337379773,
          0.14554756457952964,
          -0.7553310046446255,
          0.06603159298383995,
          0.4924127164414456,
          0.03175277330060168,
          0.21753462173966653,
          0.8743071806095163,
          2.3058517403156187,
          1.5515608391802713,
          -0.7972159046015269,
          -0.499436164297288,
          -0.9441469783699104,
          2.546512095592558,
          0.23223307761152515,
          -0.5298093345406708,
          0.12149402735716536,
          -0.38491023443504546,
          -0.750262225032363,
          -0.45640839544619716,
          -0.5259937757112418,
          -1.4772523816311194,
          -0.5932331674407063,
          -0.3879174298983722,
          0.7899007936721997,
          0.32335274403848085,
          0.7885005181279469,
          2.2434732307405834,
          0.7235521075755361,
          0.2527889251678213,
          -0.019007569973219403,
          -0.34415568827748244,
          -0.15941757602514936,
          -0.5415015757098923,
          0.28455927292361183,
          -0.7240936402643037
         ],
         "yaxis": "y12"
        },
        {
         "line": {
          "color": "rgba(128, 128, 128, 1.0)",
          "dash": "solid",
          "shape": "linear",
          "width": 1.3
         },
         "marker": {
          "size": 2,
          "symbol": "circle"
         },
         "mode": "markers",
         "name": "D",
         "text": "",
         "type": "scatter",
         "x": [
          0.46044745595994646,
          -0.6327809816156542,
          0.19554865241212666,
          -0.8166676322767404,
          -3.0480808845906178,
          -0.3323764051335626,
          -0.2148018805663531,
          1.232919450428307,
          0.6990755453765485,
          -0.07222450852302355,
          0.9399928794576881,
          -1.6463845664115169,
          0.03866486247030078,
          1.3364309820906208,
          -0.41773911095129385,
          -1.3024561407978907,
          -1.7286428623651386,
          0.3041091737654156,
          -0.21841640624264147,
          -1.7782872619905046,
          -0.40755357437244555,
          1.4958510483328458,
          0.8691336955209565,
          -0.18954864268340946,
          1.4519376760235432,
          2.0070003818130537,
          -1.2343080333782328,
          -0.10472198473220974,
          -0.7075791627199393,
          -1.1250934794890421,
          -0.13122135545318075,
          -0.13325973630464638,
          -0.5219214423795748,
          -0.9399178338858662,
          -1.09293858338073,
          0.49421085222862693,
          0.8587307775944033,
          -0.008637916423998566,
          -2.3821054800247006,
          -0.33844292997234127,
          -1.3309454621475598,
          -0.6635753199127982,
          -0.4976940119383044,
          -0.19188337325859992,
          0.20403415342732897,
          0.6259349350540958,
          0.6806382450638427,
          -0.8334799949518075,
          0.13330741871923463,
          -0.8861367944020956,
          0.2522280347219456,
          1.74673112983397,
          0.0454195700224562,
          0.42431725838635165,
          0.46313945287402886,
          -0.036393397401551376,
          1.3996176623363892,
          -0.13451776843046795,
          -0.4429820748677036,
          -0.12519287551839783,
          0.1575345124703861,
          -1.1105079278597803,
          -0.7058793221245989,
          -0.5012182934909218,
          -1.237071738798001,
          -1.0374989938657437,
          0.9155202837847133,
          -1.9428455687837543,
          -1.300046598231422,
          -0.5788116808049193,
          2.164153910466163,
          2.024587158637168,
          -1.007376053165701,
          -1.4239537916994478,
          -0.027442271397530714,
          1.226059571563095,
          -0.37859063265946036,
          0.4739827862947617,
          -0.29817015052032186,
          -0.022420299523822088,
          0.8820268232137013,
          -0.5971793574885587,
          -0.5817035390746108,
          2.5423745595273224,
          -1.2240180609353126,
          1.8389577502955554,
          0.3789039734403663,
          -0.48703539030345416,
          -0.16303158180059313,
          -0.10186237655352284,
          -0.2557481695898708,
          0.32933712978369617,
          0.5308260194258264,
          0.1945955717812178,
          -1.3784653517201384,
          -0.3744721210833509,
          -0.16685921033310522,
          0.28178221826104694,
          1.3029837125498993,
          0.5655780866709391
         ],
         "xaxis": "x13",
         "y": [
          0.3341668193955641,
          1.2346802398675587,
          -1.0002760877046792,
          -0.2787912566595758,
          0.010827301505861494,
          0.22799231708424078,
          -0.990501276257658,
          -0.752731522042225,
          0.5236130963855112,
          1.0275718125055953,
          0.8298946566053327,
          2.6844143369151356,
          1.6717798169748932,
          -1.081249723803137,
          0.9493770889517787,
          -0.5085101668286357,
          -0.26673231749828874,
          -0.8013869062575656,
          -0.7053198840310353,
          1.9188100067967713,
          1.4639158670641665,
          1.092906626404955,
          -0.49668243610573193,
          -0.5167234565532182,
          -0.08812919307166601,
          0.12192849513220796,
          0.4904923084918218,
          0.7311734555217336,
          -0.6690603581302017,
          2.4228558916794083,
          0.9750020252491011,
          -1.5154082771115112,
          0.6783664811253927,
          -0.6120402487612214,
          0.6209581099540071,
          1.1649184750535193,
          0.19375768977482102,
          0.7169971772718559,
          -0.11197463830869983,
          1.2257173821940857,
          0.8635300892296991,
          -2.2523746153879727,
          -0.22875254690231805,
          -0.74309287291503,
          0.020218822992205846,
          1.8583732221069171,
          -0.13900140504026426,
          -1.0383503893718338,
          -0.40925152332858206,
          -0.8518160257655871,
          -0.032616269743148484,
          -0.42271446760062636,
          1.1062096140267768,
          0.2809399600556132,
          0.05805140849617546,
          -0.9511009210338658,
          -0.5050697264089341,
          0.5825950306281149,
          1.9085819881972002,
          1.7422324673412783,
          -0.21374350904019213,
          0.5652825202130883,
          0.2054461559026082,
          0.41858489452371095,
          2.28021738613473,
          -0.17857004584255118,
          0.2001122106046136,
          -0.09054524788882383,
          0.2367883681788306,
          -1.8972603182189944,
          1.0007299479797491,
          -0.6705799683158304,
          0.3160740100806071,
          -0.5745992932121634,
          0.172927714063369,
          0.11707489213050855,
          0.8104401076244758,
          -0.5504553257425672,
          -0.3366861629048067,
          0.07936900812497623,
          0.4069868172393904,
          -1.2299867230125026,
          0.1567323196069663,
          0.4741532690489794,
          -0.34057527686698874,
          -0.5259374474667857,
          0.24546743786126834,
          0.03794835441857078,
          0.9462026071983898,
          1.0755349646288088,
          -1.5587482216839013,
          1.0940588169511027,
          -0.20586946100185324,
          -0.9087002207941971,
          0.8860882977651031,
          -1.7447423028152123,
          1.467690104133777,
          -0.01237543558596083,
          0.3540159707418616,
          0.5798846899921254
         ],
         "yaxis": "y13"
        },
        {
         "line": {
          "color": "rgba(128, 128, 128, 1.0)",
          "dash": "solid",
          "shape": "linear",
          "width": 1.3
         },
         "marker": {
          "size": 2,
          "symbol": "circle"
         },
         "mode": "markers",
         "name": "D",
         "text": "",
         "type": "scatter",
         "x": [
          -2.0569014999715436,
          1.615413548570715,
          -0.4997096328929657,
          0.11044613459696011,
          2.14511071229813,
          0.12415558426069487,
          -0.18144855534171273,
          1.414504104188126,
          -1.0304690519553825,
          -0.11964407338170355,
          -1.872637047828862,
          0.3620192874855286,
          0.4024843260421167,
          -0.5086118655061668,
          -0.6241445406565573,
          1.360501842674482,
          -0.5383761007222295,
          0.11972608663364732,
          0.17908323460823522,
          0.18020973968654264,
          -1.3040735484199573,
          0.9035679353745257,
          0.5694677836183335,
          0.7789742531088888,
          -0.9761704827403509,
          0.2577788988640685,
          -0.9595820700521839,
          0.8913477599711915,
          -0.314622458164726,
          -0.42070577358846917,
          0.3003621489513765,
          -0.28361482796139226,
          0.20557205327331282,
          1.265296414392654,
          0.797172596483356,
          0.2406258030989973,
          1.4904085926260502,
          0.48821431095903245,
          0.14285530769432864,
          0.15707426612148362,
          -1.5170250115610526,
          0.7232292624556415,
          0.017602377806937356,
          0.3392998205962441,
          -1.981993932273325,
          -0.7311875792507156,
          1.0339581426574087,
          -0.8983981916176419,
          -0.21142894289193542,
          0.9860753694884673,
          1.6760993673766653,
          0.40445436681779856,
          0.228241752395754,
          0.21885947037232967,
          -0.2957949714078914,
          0.8029039858086703,
          -0.1258575515219575,
          -0.28462531300795485,
          -0.40711122540301453,
          1.1255480396449078,
          -0.04465283832238067,
          2.4606701071930766,
          1.2471229619009705,
          0.9684030255368693,
          -0.4967278612777565,
          1.1191519124145068,
          1.5393166944970227,
          0.3879656896286978,
          -0.23528168158661425,
          1.0570141419777914,
          -1.4192686252266147,
          -0.40495888179058614,
          -0.8053476811731931,
          -0.5956182729671423,
          0.15126692096238561,
          1.479938082547736,
          -0.07860579543133894,
          0.2884171368354939,
          -1.042282395744949,
          1.319871462771553,
          0.7666438421160171,
          -1.2599103779414045,
          -1.598279835414223,
          -0.761714368148162,
          -0.4197439992098943,
          0.8330065367647513,
          -0.3447653731659813,
          -1.6405242860622138,
          -0.24583445748044494,
          0.06867470537503659,
          -0.24309546675279925,
          -0.035768828097635506,
          -2.108777478604998,
          -0.17135169344361806,
          -0.3440568930717429,
          -0.4288781273324487,
          0.3615263101485928,
          0.215362306583839,
          -1.0880421818281014,
          -0.7441306187110783
         ],
         "xaxis": "x14",
         "y": [
          0.3341668193955641,
          1.2346802398675587,
          -1.0002760877046792,
          -0.2787912566595758,
          0.010827301505861494,
          0.22799231708424078,
          -0.990501276257658,
          -0.752731522042225,
          0.5236130963855112,
          1.0275718125055953,
          0.8298946566053327,
          2.6844143369151356,
          1.6717798169748932,
          -1.081249723803137,
          0.9493770889517787,
          -0.5085101668286357,
          -0.26673231749828874,
          -0.8013869062575656,
          -0.7053198840310353,
          1.9188100067967713,
          1.4639158670641665,
          1.092906626404955,
          -0.49668243610573193,
          -0.5167234565532182,
          -0.08812919307166601,
          0.12192849513220796,
          0.4904923084918218,
          0.7311734555217336,
          -0.6690603581302017,
          2.4228558916794083,
          0.9750020252491011,
          -1.5154082771115112,
          0.6783664811253927,
          -0.6120402487612214,
          0.6209581099540071,
          1.1649184750535193,
          0.19375768977482102,
          0.7169971772718559,
          -0.11197463830869983,
          1.2257173821940857,
          0.8635300892296991,
          -2.2523746153879727,
          -0.22875254690231805,
          -0.74309287291503,
          0.020218822992205846,
          1.8583732221069171,
          -0.13900140504026426,
          -1.0383503893718338,
          -0.40925152332858206,
          -0.8518160257655871,
          -0.032616269743148484,
          -0.42271446760062636,
          1.1062096140267768,
          0.2809399600556132,
          0.05805140849617546,
          -0.9511009210338658,
          -0.5050697264089341,
          0.5825950306281149,
          1.9085819881972002,
          1.7422324673412783,
          -0.21374350904019213,
          0.5652825202130883,
          0.2054461559026082,
          0.41858489452371095,
          2.28021738613473,
          -0.17857004584255118,
          0.2001122106046136,
          -0.09054524788882383,
          0.2367883681788306,
          -1.8972603182189944,
          1.0007299479797491,
          -0.6705799683158304,
          0.3160740100806071,
          -0.5745992932121634,
          0.172927714063369,
          0.11707489213050855,
          0.8104401076244758,
          -0.5504553257425672,
          -0.3366861629048067,
          0.07936900812497623,
          0.4069868172393904,
          -1.2299867230125026,
          0.1567323196069663,
          0.4741532690489794,
          -0.34057527686698874,
          -0.5259374474667857,
          0.24546743786126834,
          0.03794835441857078,
          0.9462026071983898,
          1.0755349646288088,
          -1.5587482216839013,
          1.0940588169511027,
          -0.20586946100185324,
          -0.9087002207941971,
          0.8860882977651031,
          -1.7447423028152123,
          1.467690104133777,
          -0.01237543558596083,
          0.3540159707418616,
          0.5798846899921254
         ],
         "yaxis": "y14"
        },
        {
         "line": {
          "color": "rgba(128, 128, 128, 1.0)",
          "dash": "solid",
          "shape": "linear",
          "width": 1.3
         },
         "marker": {
          "size": 2,
          "symbol": "circle"
         },
         "mode": "markers",
         "name": "D",
         "text": "",
         "type": "scatter",
         "x": [
          1.258367277130209,
          0.6250397795659117,
          -1.4949838602904135,
          -1.3397922820844121,
          0.9727879158186832,
          -0.4554213022489134,
          -0.42080481600229896,
          -1.4853056419661856,
          0.35014602970076164,
          -2.0875819598764154,
          1.9679497263424548,
          -0.2165470821065552,
          0.048313146154102024,
          -0.14348925798393644,
          -0.4831198203892947,
          0.7696246027372764,
          0.22303953790248174,
          -0.2836208113564564,
          0.06450005435836742,
          1.470099013136937,
          0.3989041891142819,
          -0.6812805165644358,
          0.2384043544619515,
          2.628992741503464,
          0.023217384164083695,
          1.2120927227206528,
          -0.7757413256402388,
          0.19635120517340784,
          -2.317188785184941,
          0.053768279270851906,
          1.288283754305875,
          0.42377926702237273,
          -0.5365014437573917,
          0.042972317087237304,
          -0.13493305230632946,
          -2.614756421734982,
          -0.5574380974609379,
          -1.3142614432062012,
          -0.6019810740761499,
          -0.7398390708008258,
          -1.9792167880440694,
          0.9855956275960852,
          1.4477935829011255,
          -0.4301483492582045,
          1.7644819321153604,
          -0.25695534161124267,
          1.1909349837698766,
          0.872362949410945,
          1.832257989667077,
          -0.8025470479510924,
          0.46021645650879456,
          -0.14318959801362832,
          -0.8556229610450181,
          -1.3501340259705716,
          -0.7296816940951176,
          1.2758271068986329,
          -0.5141029898148345,
          0.17006975609686314,
          0.6222875341376517,
          -0.04140218889555548,
          -0.9691873818702071,
          0.9976177146155699,
          -1.4103282599503064,
          -0.1486620261027917,
          -1.1715152337379773,
          0.14554756457952964,
          -0.7553310046446255,
          0.06603159298383995,
          0.4924127164414456,
          0.03175277330060168,
          0.21753462173966653,
          0.8743071806095163,
          2.3058517403156187,
          1.5515608391802713,
          -0.7972159046015269,
          -0.499436164297288,
          -0.9441469783699104,
          2.546512095592558,
          0.23223307761152515,
          -0.5298093345406708,
          0.12149402735716536,
          -0.38491023443504546,
          -0.750262225032363,
          -0.45640839544619716,
          -0.5259937757112418,
          -1.4772523816311194,
          -0.5932331674407063,
          -0.3879174298983722,
          0.7899007936721997,
          0.32335274403848085,
          0.7885005181279469,
          2.2434732307405834,
          0.7235521075755361,
          0.2527889251678213,
          -0.019007569973219403,
          -0.34415568827748244,
          -0.15941757602514936,
          -0.5415015757098923,
          0.28455927292361183,
          -0.7240936402643037
         ],
         "xaxis": "x15",
         "y": [
          0.3341668193955641,
          1.2346802398675587,
          -1.0002760877046792,
          -0.2787912566595758,
          0.010827301505861494,
          0.22799231708424078,
          -0.990501276257658,
          -0.752731522042225,
          0.5236130963855112,
          1.0275718125055953,
          0.8298946566053327,
          2.6844143369151356,
          1.6717798169748932,
          -1.081249723803137,
          0.9493770889517787,
          -0.5085101668286357,
          -0.26673231749828874,
          -0.8013869062575656,
          -0.7053198840310353,
          1.9188100067967713,
          1.4639158670641665,
          1.092906626404955,
          -0.49668243610573193,
          -0.5167234565532182,
          -0.08812919307166601,
          0.12192849513220796,
          0.4904923084918218,
          0.7311734555217336,
          -0.6690603581302017,
          2.4228558916794083,
          0.9750020252491011,
          -1.5154082771115112,
          0.6783664811253927,
          -0.6120402487612214,
          0.6209581099540071,
          1.1649184750535193,
          0.19375768977482102,
          0.7169971772718559,
          -0.11197463830869983,
          1.2257173821940857,
          0.8635300892296991,
          -2.2523746153879727,
          -0.22875254690231805,
          -0.74309287291503,
          0.020218822992205846,
          1.8583732221069171,
          -0.13900140504026426,
          -1.0383503893718338,
          -0.40925152332858206,
          -0.8518160257655871,
          -0.032616269743148484,
          -0.42271446760062636,
          1.1062096140267768,
          0.2809399600556132,
          0.05805140849617546,
          -0.9511009210338658,
          -0.5050697264089341,
          0.5825950306281149,
          1.9085819881972002,
          1.7422324673412783,
          -0.21374350904019213,
          0.5652825202130883,
          0.2054461559026082,
          0.41858489452371095,
          2.28021738613473,
          -0.17857004584255118,
          0.2001122106046136,
          -0.09054524788882383,
          0.2367883681788306,
          -1.8972603182189944,
          1.0007299479797491,
          -0.6705799683158304,
          0.3160740100806071,
          -0.5745992932121634,
          0.172927714063369,
          0.11707489213050855,
          0.8104401076244758,
          -0.5504553257425672,
          -0.3366861629048067,
          0.07936900812497623,
          0.4069868172393904,
          -1.2299867230125026,
          0.1567323196069663,
          0.4741532690489794,
          -0.34057527686698874,
          -0.5259374474667857,
          0.24546743786126834,
          0.03794835441857078,
          0.9462026071983898,
          1.0755349646288088,
          -1.5587482216839013,
          1.0940588169511027,
          -0.20586946100185324,
          -0.9087002207941971,
          0.8860882977651031,
          -1.7447423028152123,
          1.467690104133777,
          -0.01237543558596083,
          0.3540159707418616,
          0.5798846899921254
         ],
         "yaxis": "y15"
        },
        {
         "histfunc": "count",
         "histnorm": "",
         "marker": {
          "color": "rgba(128, 0, 128, 1.0)",
          "line": {
           "color": "#4D5663",
           "width": 1.3
          }
         },
         "name": "D",
         "nbinsx": 10,
         "opacity": 0.8,
         "orientation": "v",
         "type": "histogram",
         "x": [
          0.3341668193955641,
          1.2346802398675587,
          -1.0002760877046792,
          -0.2787912566595758,
          0.010827301505861494,
          0.22799231708424078,
          -0.990501276257658,
          -0.752731522042225,
          0.5236130963855112,
          1.0275718125055953,
          0.8298946566053327,
          2.6844143369151356,
          1.6717798169748932,
          -1.081249723803137,
          0.9493770889517787,
          -0.5085101668286357,
          -0.26673231749828874,
          -0.8013869062575656,
          -0.7053198840310353,
          1.9188100067967713,
          1.4639158670641665,
          1.092906626404955,
          -0.49668243610573193,
          -0.5167234565532182,
          -0.08812919307166601,
          0.12192849513220796,
          0.4904923084918218,
          0.7311734555217336,
          -0.6690603581302017,
          2.4228558916794083,
          0.9750020252491011,
          -1.5154082771115112,
          0.6783664811253927,
          -0.6120402487612214,
          0.6209581099540071,
          1.1649184750535193,
          0.19375768977482102,
          0.7169971772718559,
          -0.11197463830869983,
          1.2257173821940857,
          0.8635300892296991,
          -2.2523746153879727,
          -0.22875254690231805,
          -0.74309287291503,
          0.020218822992205846,
          1.8583732221069171,
          -0.13900140504026426,
          -1.0383503893718338,
          -0.40925152332858206,
          -0.8518160257655871,
          -0.032616269743148484,
          -0.42271446760062636,
          1.1062096140267768,
          0.2809399600556132,
          0.05805140849617546,
          -0.9511009210338658,
          -0.5050697264089341,
          0.5825950306281149,
          1.9085819881972002,
          1.7422324673412783,
          -0.21374350904019213,
          0.5652825202130883,
          0.2054461559026082,
          0.41858489452371095,
          2.28021738613473,
          -0.17857004584255118,
          0.2001122106046136,
          -0.09054524788882383,
          0.2367883681788306,
          -1.8972603182189944,
          1.0007299479797491,
          -0.6705799683158304,
          0.3160740100806071,
          -0.5745992932121634,
          0.172927714063369,
          0.11707489213050855,
          0.8104401076244758,
          -0.5504553257425672,
          -0.3366861629048067,
          0.07936900812497623,
          0.4069868172393904,
          -1.2299867230125026,
          0.1567323196069663,
          0.4741532690489794,
          -0.34057527686698874,
          -0.5259374474667857,
          0.24546743786126834,
          0.03794835441857078,
          0.9462026071983898,
          1.0755349646288088,
          -1.5587482216839013,
          1.0940588169511027,
          -0.20586946100185324,
          -0.9087002207941971,
          0.8860882977651031,
          -1.7447423028152123,
          1.467690104133777,
          -0.01237543558596083,
          0.3540159707418616,
          0.5798846899921254
         ],
         "xaxis": "x16",
         "yaxis": "y16"
        }
       ],
       "layout": {
        "bargap": 0.02,
        "legend": {
         "bgcolor": "#F5F6F9",
         "font": {
          "color": "#4D5663"
         }
        },
        "paper_bgcolor": "#F5F6F9",
        "plot_bgcolor": "#F5F6F9",
        "showlegend": false,
        "template": {
         "data": {
          "bar": [
           {
            "error_x": {
             "color": "#2a3f5f"
            },
            "error_y": {
             "color": "#2a3f5f"
            },
            "marker": {
             "line": {
              "color": "#E5ECF6",
              "width": 0.5
             },
             "pattern": {
              "fillmode": "overlay",
              "size": 10,
              "solidity": 0.2
             }
            },
            "type": "bar"
           }
          ],
          "barpolar": [
           {
            "marker": {
             "line": {
              "color": "#E5ECF6",
              "width": 0.5
             },
             "pattern": {
              "fillmode": "overlay",
              "size": 10,
              "solidity": 0.2
             }
            },
            "type": "barpolar"
           }
          ],
          "carpet": [
           {
            "aaxis": {
             "endlinecolor": "#2a3f5f",
             "gridcolor": "white",
             "linecolor": "white",
             "minorgridcolor": "white",
             "startlinecolor": "#2a3f5f"
            },
            "baxis": {
             "endlinecolor": "#2a3f5f",
             "gridcolor": "white",
             "linecolor": "white",
             "minorgridcolor": "white",
             "startlinecolor": "#2a3f5f"
            },
            "type": "carpet"
           }
          ],
          "choropleth": [
           {
            "colorbar": {
             "outlinewidth": 0,
             "ticks": ""
            },
            "type": "choropleth"
           }
          ],
          "contour": [
           {
            "colorbar": {
             "outlinewidth": 0,
             "ticks": ""
            },
            "colorscale": [
             [
              0,
              "#0d0887"
             ],
             [
              0.1111111111111111,
              "#46039f"
             ],
             [
              0.2222222222222222,
              "#7201a8"
             ],
             [
              0.3333333333333333,
              "#9c179e"
             ],
             [
              0.4444444444444444,
              "#bd3786"
             ],
             [
              0.5555555555555556,
              "#d8576b"
             ],
             [
              0.6666666666666666,
              "#ed7953"
             ],
             [
              0.7777777777777778,
              "#fb9f3a"
             ],
             [
              0.8888888888888888,
              "#fdca26"
             ],
             [
              1,
              "#f0f921"
             ]
            ],
            "type": "contour"
           }
          ],
          "contourcarpet": [
           {
            "colorbar": {
             "outlinewidth": 0,
             "ticks": ""
            },
            "type": "contourcarpet"
           }
          ],
          "heatmap": [
           {
            "colorbar": {
             "outlinewidth": 0,
             "ticks": ""
            },
            "colorscale": [
             [
              0,
              "#0d0887"
             ],
             [
              0.1111111111111111,
              "#46039f"
             ],
             [
              0.2222222222222222,
              "#7201a8"
             ],
             [
              0.3333333333333333,
              "#9c179e"
             ],
             [
              0.4444444444444444,
              "#bd3786"
             ],
             [
              0.5555555555555556,
              "#d8576b"
             ],
             [
              0.6666666666666666,
              "#ed7953"
             ],
             [
              0.7777777777777778,
              "#fb9f3a"
             ],
             [
              0.8888888888888888,
              "#fdca26"
             ],
             [
              1,
              "#f0f921"
             ]
            ],
            "type": "heatmap"
           }
          ],
          "heatmapgl": [
           {
            "colorbar": {
             "outlinewidth": 0,
             "ticks": ""
            },
            "colorscale": [
             [
              0,
              "#0d0887"
             ],
             [
              0.1111111111111111,
              "#46039f"
             ],
             [
              0.2222222222222222,
              "#7201a8"
             ],
             [
              0.3333333333333333,
              "#9c179e"
             ],
             [
              0.4444444444444444,
              "#bd3786"
             ],
             [
              0.5555555555555556,
              "#d8576b"
             ],
             [
              0.6666666666666666,
              "#ed7953"
             ],
             [
              0.7777777777777778,
              "#fb9f3a"
             ],
             [
              0.8888888888888888,
              "#fdca26"
             ],
             [
              1,
              "#f0f921"
             ]
            ],
            "type": "heatmapgl"
           }
          ],
          "histogram": [
           {
            "marker": {
             "pattern": {
              "fillmode": "overlay",
              "size": 10,
              "solidity": 0.2
             }
            },
            "type": "histogram"
           }
          ],
          "histogram2d": [
           {
            "colorbar": {
             "outlinewidth": 0,
             "ticks": ""
            },
            "colorscale": [
             [
              0,
              "#0d0887"
             ],
             [
              0.1111111111111111,
              "#46039f"
             ],
             [
              0.2222222222222222,
              "#7201a8"
             ],
             [
              0.3333333333333333,
              "#9c179e"
             ],
             [
              0.4444444444444444,
              "#bd3786"
             ],
             [
              0.5555555555555556,
              "#d8576b"
             ],
             [
              0.6666666666666666,
              "#ed7953"
             ],
             [
              0.7777777777777778,
              "#fb9f3a"
             ],
             [
              0.8888888888888888,
              "#fdca26"
             ],
             [
              1,
              "#f0f921"
             ]
            ],
            "type": "histogram2d"
           }
          ],
          "histogram2dcontour": [
           {
            "colorbar": {
             "outlinewidth": 0,
             "ticks": ""
            },
            "colorscale": [
             [
              0,
              "#0d0887"
             ],
             [
              0.1111111111111111,
              "#46039f"
             ],
             [
              0.2222222222222222,
              "#7201a8"
             ],
             [
              0.3333333333333333,
              "#9c179e"
             ],
             [
              0.4444444444444444,
              "#bd3786"
             ],
             [
              0.5555555555555556,
              "#d8576b"
             ],
             [
              0.6666666666666666,
              "#ed7953"
             ],
             [
              0.7777777777777778,
              "#fb9f3a"
             ],
             [
              0.8888888888888888,
              "#fdca26"
             ],
             [
              1,
              "#f0f921"
             ]
            ],
            "type": "histogram2dcontour"
           }
          ],
          "mesh3d": [
           {
            "colorbar": {
             "outlinewidth": 0,
             "ticks": ""
            },
            "type": "mesh3d"
           }
          ],
          "parcoords": [
           {
            "line": {
             "colorbar": {
              "outlinewidth": 0,
              "ticks": ""
             }
            },
            "type": "parcoords"
           }
          ],
          "pie": [
           {
            "automargin": true,
            "type": "pie"
           }
          ],
          "scatter": [
           {
            "fillpattern": {
             "fillmode": "overlay",
             "size": 10,
             "solidity": 0.2
            },
            "type": "scatter"
           }
          ],
          "scatter3d": [
           {
            "line": {
             "colorbar": {
              "outlinewidth": 0,
              "ticks": ""
             }
            },
            "marker": {
             "colorbar": {
              "outlinewidth": 0,
              "ticks": ""
             }
            },
            "type": "scatter3d"
           }
          ],
          "scattercarpet": [
           {
            "marker": {
             "colorbar": {
              "outlinewidth": 0,
              "ticks": ""
             }
            },
            "type": "scattercarpet"
           }
          ],
          "scattergeo": [
           {
            "marker": {
             "colorbar": {
              "outlinewidth": 0,
              "ticks": ""
             }
            },
            "type": "scattergeo"
           }
          ],
          "scattergl": [
           {
            "marker": {
             "colorbar": {
              "outlinewidth": 0,
              "ticks": ""
             }
            },
            "type": "scattergl"
           }
          ],
          "scattermapbox": [
           {
            "marker": {
             "colorbar": {
              "outlinewidth": 0,
              "ticks": ""
             }
            },
            "type": "scattermapbox"
           }
          ],
          "scatterpolar": [
           {
            "marker": {
             "colorbar": {
              "outlinewidth": 0,
              "ticks": ""
             }
            },
            "type": "scatterpolar"
           }
          ],
          "scatterpolargl": [
           {
            "marker": {
             "colorbar": {
              "outlinewidth": 0,
              "ticks": ""
             }
            },
            "type": "scatterpolargl"
           }
          ],
          "scatterternary": [
           {
            "marker": {
             "colorbar": {
              "outlinewidth": 0,
              "ticks": ""
             }
            },
            "type": "scatterternary"
           }
          ],
          "surface": [
           {
            "colorbar": {
             "outlinewidth": 0,
             "ticks": ""
            },
            "colorscale": [
             [
              0,
              "#0d0887"
             ],
             [
              0.1111111111111111,
              "#46039f"
             ],
             [
              0.2222222222222222,
              "#7201a8"
             ],
             [
              0.3333333333333333,
              "#9c179e"
             ],
             [
              0.4444444444444444,
              "#bd3786"
             ],
             [
              0.5555555555555556,
              "#d8576b"
             ],
             [
              0.6666666666666666,
              "#ed7953"
             ],
             [
              0.7777777777777778,
              "#fb9f3a"
             ],
             [
              0.8888888888888888,
              "#fdca26"
             ],
             [
              1,
              "#f0f921"
             ]
            ],
            "type": "surface"
           }
          ],
          "table": [
           {
            "cells": {
             "fill": {
              "color": "#EBF0F8"
             },
             "line": {
              "color": "white"
             }
            },
            "header": {
             "fill": {
              "color": "#C8D4E3"
             },
             "line": {
              "color": "white"
             }
            },
            "type": "table"
           }
          ]
         },
         "layout": {
          "annotationdefaults": {
           "arrowcolor": "#2a3f5f",
           "arrowhead": 0,
           "arrowwidth": 1
          },
          "autotypenumbers": "strict",
          "coloraxis": {
           "colorbar": {
            "outlinewidth": 0,
            "ticks": ""
           }
          },
          "colorscale": {
           "diverging": [
            [
             0,
             "#8e0152"
            ],
            [
             0.1,
             "#c51b7d"
            ],
            [
             0.2,
             "#de77ae"
            ],
            [
             0.3,
             "#f1b6da"
            ],
            [
             0.4,
             "#fde0ef"
            ],
            [
             0.5,
             "#f7f7f7"
            ],
            [
             0.6,
             "#e6f5d0"
            ],
            [
             0.7,
             "#b8e186"
            ],
            [
             0.8,
             "#7fbc41"
            ],
            [
             0.9,
             "#4d9221"
            ],
            [
             1,
             "#276419"
            ]
           ],
           "sequential": [
            [
             0,
             "#0d0887"
            ],
            [
             0.1111111111111111,
             "#46039f"
            ],
            [
             0.2222222222222222,
             "#7201a8"
            ],
            [
             0.3333333333333333,
             "#9c179e"
            ],
            [
             0.4444444444444444,
             "#bd3786"
            ],
            [
             0.5555555555555556,
             "#d8576b"
            ],
            [
             0.6666666666666666,
             "#ed7953"
            ],
            [
             0.7777777777777778,
             "#fb9f3a"
            ],
            [
             0.8888888888888888,
             "#fdca26"
            ],
            [
             1,
             "#f0f921"
            ]
           ],
           "sequentialminus": [
            [
             0,
             "#0d0887"
            ],
            [
             0.1111111111111111,
             "#46039f"
            ],
            [
             0.2222222222222222,
             "#7201a8"
            ],
            [
             0.3333333333333333,
             "#9c179e"
            ],
            [
             0.4444444444444444,
             "#bd3786"
            ],
            [
             0.5555555555555556,
             "#d8576b"
            ],
            [
             0.6666666666666666,
             "#ed7953"
            ],
            [
             0.7777777777777778,
             "#fb9f3a"
            ],
            [
             0.8888888888888888,
             "#fdca26"
            ],
            [
             1,
             "#f0f921"
            ]
           ]
          },
          "colorway": [
           "#636efa",
           "#EF553B",
           "#00cc96",
           "#ab63fa",
           "#FFA15A",
           "#19d3f3",
           "#FF6692",
           "#B6E880",
           "#FF97FF",
           "#FECB52"
          ],
          "font": {
           "color": "#2a3f5f"
          },
          "geo": {
           "bgcolor": "white",
           "lakecolor": "white",
           "landcolor": "#E5ECF6",
           "showlakes": true,
           "showland": true,
           "subunitcolor": "white"
          },
          "hoverlabel": {
           "align": "left"
          },
          "hovermode": "closest",
          "mapbox": {
           "style": "light"
          },
          "paper_bgcolor": "white",
          "plot_bgcolor": "#E5ECF6",
          "polar": {
           "angularaxis": {
            "gridcolor": "white",
            "linecolor": "white",
            "ticks": ""
           },
           "bgcolor": "#E5ECF6",
           "radialaxis": {
            "gridcolor": "white",
            "linecolor": "white",
            "ticks": ""
           }
          },
          "scene": {
           "xaxis": {
            "backgroundcolor": "#E5ECF6",
            "gridcolor": "white",
            "gridwidth": 2,
            "linecolor": "white",
            "showbackground": true,
            "ticks": "",
            "zerolinecolor": "white"
           },
           "yaxis": {
            "backgroundcolor": "#E5ECF6",
            "gridcolor": "white",
            "gridwidth": 2,
            "linecolor": "white",
            "showbackground": true,
            "ticks": "",
            "zerolinecolor": "white"
           },
           "zaxis": {
            "backgroundcolor": "#E5ECF6",
            "gridcolor": "white",
            "gridwidth": 2,
            "linecolor": "white",
            "showbackground": true,
            "ticks": "",
            "zerolinecolor": "white"
           }
          },
          "shapedefaults": {
           "line": {
            "color": "#2a3f5f"
           }
          },
          "ternary": {
           "aaxis": {
            "gridcolor": "white",
            "linecolor": "white",
            "ticks": ""
           },
           "baxis": {
            "gridcolor": "white",
            "linecolor": "white",
            "ticks": ""
           },
           "bgcolor": "#E5ECF6",
           "caxis": {
            "gridcolor": "white",
            "linecolor": "white",
            "ticks": ""
           }
          },
          "title": {
           "x": 0.05
          },
          "xaxis": {
           "automargin": true,
           "gridcolor": "white",
           "linecolor": "white",
           "ticks": "",
           "title": {
            "standoff": 15
           },
           "zerolinecolor": "white",
           "zerolinewidth": 2
          },
          "yaxis": {
           "automargin": true,
           "gridcolor": "white",
           "linecolor": "white",
           "ticks": "",
           "title": {
            "standoff": 15
           },
           "zerolinecolor": "white",
           "zerolinewidth": 2
          }
         }
        },
        "title": {
         "font": {
          "color": "#4D5663"
         }
        },
        "xaxis": {
         "anchor": "y",
         "domain": [
          0,
          0.2125
         ],
         "gridcolor": "#E1E5ED",
         "showgrid": false,
         "tickfont": {
          "color": "#4D5663"
         },
         "title": {
          "font": {
           "color": "#4D5663"
          },
          "text": ""
         },
         "zerolinecolor": "#E1E5ED"
        },
        "xaxis10": {
         "anchor": "y10",
         "domain": [
          0.2625,
          0.475
         ],
         "gridcolor": "#E1E5ED",
         "showgrid": false,
         "tickfont": {
          "color": "#4D5663"
         },
         "title": {
          "font": {
           "color": "#4D5663"
          },
          "text": ""
         },
         "zerolinecolor": "#E1E5ED"
        },
        "xaxis11": {
         "anchor": "y11",
         "domain": [
          0.525,
          0.7375
         ],
         "gridcolor": "#E1E5ED",
         "showgrid": false,
         "tickfont": {
          "color": "#4D5663"
         },
         "title": {
          "font": {
           "color": "#4D5663"
          },
          "text": ""
         },
         "zerolinecolor": "#E1E5ED"
        },
        "xaxis12": {
         "anchor": "y12",
         "domain": [
          0.7875,
          1
         ],
         "gridcolor": "#E1E5ED",
         "showgrid": false,
         "tickfont": {
          "color": "#4D5663"
         },
         "title": {
          "font": {
           "color": "#4D5663"
          },
          "text": ""
         },
         "zerolinecolor": "#E1E5ED"
        },
        "xaxis13": {
         "anchor": "y13",
         "domain": [
          0,
          0.2125
         ],
         "gridcolor": "#E1E5ED",
         "showgrid": false,
         "tickfont": {
          "color": "#4D5663"
         },
         "title": {
          "font": {
           "color": "#4D5663"
          },
          "text": ""
         },
         "zerolinecolor": "#E1E5ED"
        },
        "xaxis14": {
         "anchor": "y14",
         "domain": [
          0.2625,
          0.475
         ],
         "gridcolor": "#E1E5ED",
         "showgrid": false,
         "tickfont": {
          "color": "#4D5663"
         },
         "title": {
          "font": {
           "color": "#4D5663"
          },
          "text": ""
         },
         "zerolinecolor": "#E1E5ED"
        },
        "xaxis15": {
         "anchor": "y15",
         "domain": [
          0.525,
          0.7375
         ],
         "gridcolor": "#E1E5ED",
         "showgrid": false,
         "tickfont": {
          "color": "#4D5663"
         },
         "title": {
          "font": {
           "color": "#4D5663"
          },
          "text": ""
         },
         "zerolinecolor": "#E1E5ED"
        },
        "xaxis16": {
         "anchor": "y16",
         "domain": [
          0.7875,
          1
         ],
         "gridcolor": "#E1E5ED",
         "showgrid": false,
         "tickfont": {
          "color": "#4D5663"
         },
         "title": {
          "font": {
           "color": "#4D5663"
          },
          "text": ""
         },
         "zerolinecolor": "#E1E5ED"
        },
        "xaxis2": {
         "anchor": "y2",
         "domain": [
          0.2625,
          0.475
         ],
         "gridcolor": "#E1E5ED",
         "showgrid": false,
         "tickfont": {
          "color": "#4D5663"
         },
         "title": {
          "font": {
           "color": "#4D5663"
          },
          "text": ""
         },
         "zerolinecolor": "#E1E5ED"
        },
        "xaxis3": {
         "anchor": "y3",
         "domain": [
          0.525,
          0.7375
         ],
         "gridcolor": "#E1E5ED",
         "showgrid": false,
         "tickfont": {
          "color": "#4D5663"
         },
         "title": {
          "font": {
           "color": "#4D5663"
          },
          "text": ""
         },
         "zerolinecolor": "#E1E5ED"
        },
        "xaxis4": {
         "anchor": "y4",
         "domain": [
          0.7875,
          1
         ],
         "gridcolor": "#E1E5ED",
         "showgrid": false,
         "tickfont": {
          "color": "#4D5663"
         },
         "title": {
          "font": {
           "color": "#4D5663"
          },
          "text": ""
         },
         "zerolinecolor": "#E1E5ED"
        },
        "xaxis5": {
         "anchor": "y5",
         "domain": [
          0,
          0.2125
         ],
         "gridcolor": "#E1E5ED",
         "showgrid": false,
         "tickfont": {
          "color": "#4D5663"
         },
         "title": {
          "font": {
           "color": "#4D5663"
          },
          "text": ""
         },
         "zerolinecolor": "#E1E5ED"
        },
        "xaxis6": {
         "anchor": "y6",
         "domain": [
          0.2625,
          0.475
         ],
         "gridcolor": "#E1E5ED",
         "showgrid": false,
         "tickfont": {
          "color": "#4D5663"
         },
         "title": {
          "font": {
           "color": "#4D5663"
          },
          "text": ""
         },
         "zerolinecolor": "#E1E5ED"
        },
        "xaxis7": {
         "anchor": "y7",
         "domain": [
          0.525,
          0.7375
         ],
         "gridcolor": "#E1E5ED",
         "showgrid": false,
         "tickfont": {
          "color": "#4D5663"
         },
         "title": {
          "font": {
           "color": "#4D5663"
          },
          "text": ""
         },
         "zerolinecolor": "#E1E5ED"
        },
        "xaxis8": {
         "anchor": "y8",
         "domain": [
          0.7875,
          1
         ],
         "gridcolor": "#E1E5ED",
         "showgrid": false,
         "tickfont": {
          "color": "#4D5663"
         },
         "title": {
          "font": {
           "color": "#4D5663"
          },
          "text": ""
         },
         "zerolinecolor": "#E1E5ED"
        },
        "xaxis9": {
         "anchor": "y9",
         "domain": [
          0,
          0.2125
         ],
         "gridcolor": "#E1E5ED",
         "showgrid": false,
         "tickfont": {
          "color": "#4D5663"
         },
         "title": {
          "font": {
           "color": "#4D5663"
          },
          "text": ""
         },
         "zerolinecolor": "#E1E5ED"
        },
        "yaxis": {
         "anchor": "x",
         "domain": [
          0.8025,
          1
         ],
         "gridcolor": "#E1E5ED",
         "showgrid": false,
         "tickfont": {
          "color": "#4D5663"
         },
         "title": {
          "font": {
           "color": "#4D5663"
          },
          "text": ""
         },
         "zerolinecolor": "#E1E5ED"
        },
        "yaxis10": {
         "anchor": "x10",
         "domain": [
          0.2675,
          0.465
         ],
         "gridcolor": "#E1E5ED",
         "showgrid": false,
         "tickfont": {
          "color": "#4D5663"
         },
         "title": {
          "font": {
           "color": "#4D5663"
          },
          "text": ""
         },
         "zerolinecolor": "#E1E5ED"
        },
        "yaxis11": {
         "anchor": "x11",
         "domain": [
          0.2675,
          0.465
         ],
         "gridcolor": "#E1E5ED",
         "showgrid": false,
         "tickfont": {
          "color": "#4D5663"
         },
         "title": {
          "font": {
           "color": "#4D5663"
          },
          "text": ""
         },
         "zerolinecolor": "#E1E5ED"
        },
        "yaxis12": {
         "anchor": "x12",
         "domain": [
          0.2675,
          0.465
         ],
         "gridcolor": "#E1E5ED",
         "showgrid": false,
         "tickfont": {
          "color": "#4D5663"
         },
         "title": {
          "font": {
           "color": "#4D5663"
          },
          "text": ""
         },
         "zerolinecolor": "#E1E5ED"
        },
        "yaxis13": {
         "anchor": "x13",
         "domain": [
          0,
          0.1975
         ],
         "gridcolor": "#E1E5ED",
         "showgrid": false,
         "tickfont": {
          "color": "#4D5663"
         },
         "title": {
          "font": {
           "color": "#4D5663"
          },
          "text": ""
         },
         "zerolinecolor": "#E1E5ED"
        },
        "yaxis14": {
         "anchor": "x14",
         "domain": [
          0,
          0.1975
         ],
         "gridcolor": "#E1E5ED",
         "showgrid": false,
         "tickfont": {
          "color": "#4D5663"
         },
         "title": {
          "font": {
           "color": "#4D5663"
          },
          "text": ""
         },
         "zerolinecolor": "#E1E5ED"
        },
        "yaxis15": {
         "anchor": "x15",
         "domain": [
          0,
          0.1975
         ],
         "gridcolor": "#E1E5ED",
         "showgrid": false,
         "tickfont": {
          "color": "#4D5663"
         },
         "title": {
          "font": {
           "color": "#4D5663"
          },
          "text": ""
         },
         "zerolinecolor": "#E1E5ED"
        },
        "yaxis16": {
         "anchor": "x16",
         "domain": [
          0,
          0.1975
         ],
         "gridcolor": "#E1E5ED",
         "showgrid": false,
         "tickfont": {
          "color": "#4D5663"
         },
         "title": {
          "font": {
           "color": "#4D5663"
          },
          "text": ""
         },
         "zerolinecolor": "#E1E5ED"
        },
        "yaxis2": {
         "anchor": "x2",
         "domain": [
          0.8025,
          1
         ],
         "gridcolor": "#E1E5ED",
         "showgrid": false,
         "tickfont": {
          "color": "#4D5663"
         },
         "title": {
          "font": {
           "color": "#4D5663"
          },
          "text": ""
         },
         "zerolinecolor": "#E1E5ED"
        },
        "yaxis3": {
         "anchor": "x3",
         "domain": [
          0.8025,
          1
         ],
         "gridcolor": "#E1E5ED",
         "showgrid": false,
         "tickfont": {
          "color": "#4D5663"
         },
         "title": {
          "font": {
           "color": "#4D5663"
          },
          "text": ""
         },
         "zerolinecolor": "#E1E5ED"
        },
        "yaxis4": {
         "anchor": "x4",
         "domain": [
          0.8025,
          1
         ],
         "gridcolor": "#E1E5ED",
         "showgrid": false,
         "tickfont": {
          "color": "#4D5663"
         },
         "title": {
          "font": {
           "color": "#4D5663"
          },
          "text": ""
         },
         "zerolinecolor": "#E1E5ED"
        },
        "yaxis5": {
         "anchor": "x5",
         "domain": [
          0.535,
          0.7325
         ],
         "gridcolor": "#E1E5ED",
         "showgrid": false,
         "tickfont": {
          "color": "#4D5663"
         },
         "title": {
          "font": {
           "color": "#4D5663"
          },
          "text": ""
         },
         "zerolinecolor": "#E1E5ED"
        },
        "yaxis6": {
         "anchor": "x6",
         "domain": [
          0.535,
          0.7325
         ],
         "gridcolor": "#E1E5ED",
         "showgrid": false,
         "tickfont": {
          "color": "#4D5663"
         },
         "title": {
          "font": {
           "color": "#4D5663"
          },
          "text": ""
         },
         "zerolinecolor": "#E1E5ED"
        },
        "yaxis7": {
         "anchor": "x7",
         "domain": [
          0.535,
          0.7325
         ],
         "gridcolor": "#E1E5ED",
         "showgrid": false,
         "tickfont": {
          "color": "#4D5663"
         },
         "title": {
          "font": {
           "color": "#4D5663"
          },
          "text": ""
         },
         "zerolinecolor": "#E1E5ED"
        },
        "yaxis8": {
         "anchor": "x8",
         "domain": [
          0.535,
          0.7325
         ],
         "gridcolor": "#E1E5ED",
         "showgrid": false,
         "tickfont": {
          "color": "#4D5663"
         },
         "title": {
          "font": {
           "color": "#4D5663"
          },
          "text": ""
         },
         "zerolinecolor": "#E1E5ED"
        },
        "yaxis9": {
         "anchor": "x9",
         "domain": [
          0.2675,
          0.465
         ],
         "gridcolor": "#E1E5ED",
         "showgrid": false,
         "tickfont": {
          "color": "#4D5663"
         },
         "title": {
          "font": {
           "color": "#4D5663"
          },
          "text": ""
         },
         "zerolinecolor": "#E1E5ED"
        }
       }
      },
      "text/html": [
       "<div>                            <div id=\"1f5b8c33-1d60-4ee2-9bc0-e0cfac37c361\" class=\"plotly-graph-div\" style=\"height:525px; width:100%;\"></div>            <script type=\"text/javascript\">                require([\"plotly\"], function(Plotly) {                    window.PLOTLYENV=window.PLOTLYENV || {};\n",
       "                    window.PLOTLYENV.BASE_URL='https://plot.ly';                                    if (document.getElementById(\"1f5b8c33-1d60-4ee2-9bc0-e0cfac37c361\")) {                    Plotly.newPlot(                        \"1f5b8c33-1d60-4ee2-9bc0-e0cfac37c361\",                        [{\"histfunc\":\"count\",\"histnorm\":\"\",\"marker\":{\"color\":\"rgba(255, 153, 51, 1.0)\",\"line\":{\"color\":\"#4D5663\",\"width\":1.3}},\"name\":\"A\",\"nbinsx\":10,\"opacity\":0.8,\"orientation\":\"v\",\"x\":[0.46044745595994646,-0.6327809816156542,0.19554865241212666,-0.8166676322767404,-3.0480808845906178,-0.3323764051335626,-0.2148018805663531,1.232919450428307,0.6990755453765485,-0.07222450852302355,0.9399928794576881,-1.6463845664115169,0.03866486247030078,1.3364309820906208,-0.41773911095129385,-1.3024561407978907,-1.7286428623651386,0.3041091737654156,-0.21841640624264147,-1.7782872619905046,-0.40755357437244555,1.4958510483328458,0.8691336955209565,-0.18954864268340946,1.4519376760235432,2.0070003818130537,-1.2343080333782328,-0.10472198473220974,-0.7075791627199393,-1.1250934794890421,-0.13122135545318075,-0.13325973630464638,-0.5219214423795748,-0.9399178338858662,-1.09293858338073,0.49421085222862693,0.8587307775944033,-0.008637916423998566,-2.3821054800247006,-0.33844292997234127,-1.3309454621475598,-0.6635753199127982,-0.4976940119383044,-0.19188337325859992,0.20403415342732897,0.6259349350540958,0.6806382450638427,-0.8334799949518075,0.13330741871923463,-0.8861367944020956,0.2522280347219456,1.74673112983397,0.0454195700224562,0.42431725838635165,0.46313945287402886,-0.036393397401551376,1.3996176623363892,-0.13451776843046795,-0.4429820748677036,-0.12519287551839783,0.1575345124703861,-1.1105079278597803,-0.7058793221245989,-0.5012182934909218,-1.237071738798001,-1.0374989938657437,0.9155202837847133,-1.9428455687837543,-1.300046598231422,-0.5788116808049193,2.164153910466163,2.024587158637168,-1.007376053165701,-1.4239537916994478,-0.027442271397530714,1.226059571563095,-0.37859063265946036,0.4739827862947617,-0.29817015052032186,-0.022420299523822088,0.8820268232137013,-0.5971793574885587,-0.5817035390746108,2.5423745595273224,-1.2240180609353126,1.8389577502955554,0.3789039734403663,-0.48703539030345416,-0.16303158180059313,-0.10186237655352284,-0.2557481695898708,0.32933712978369617,0.5308260194258264,0.1945955717812178,-1.3784653517201384,-0.3744721210833509,-0.16685921033310522,0.28178221826104694,1.3029837125498993,0.5655780866709391],\"xaxis\":\"x\",\"yaxis\":\"y\",\"type\":\"histogram\"},{\"line\":{\"color\":\"rgba(128, 128, 128, 1.0)\",\"dash\":\"solid\",\"shape\":\"linear\",\"width\":1.3},\"marker\":{\"size\":2,\"symbol\":\"circle\"},\"mode\":\"markers\",\"name\":\"A\",\"text\":\"\",\"x\":[-2.0569014999715436,1.615413548570715,-0.4997096328929657,0.11044613459696011,2.14511071229813,0.12415558426069487,-0.18144855534171273,1.414504104188126,-1.0304690519553825,-0.11964407338170355,-1.872637047828862,0.3620192874855286,0.4024843260421167,-0.5086118655061668,-0.6241445406565573,1.360501842674482,-0.5383761007222295,0.11972608663364732,0.17908323460823522,0.18020973968654264,-1.3040735484199573,0.9035679353745257,0.5694677836183335,0.7789742531088888,-0.9761704827403509,0.2577788988640685,-0.9595820700521839,0.8913477599711915,-0.314622458164726,-0.42070577358846917,0.3003621489513765,-0.28361482796139226,0.20557205327331282,1.265296414392654,0.797172596483356,0.2406258030989973,1.4904085926260502,0.48821431095903245,0.14285530769432864,0.15707426612148362,-1.5170250115610526,0.7232292624556415,0.017602377806937356,0.3392998205962441,-1.981993932273325,-0.7311875792507156,1.0339581426574087,-0.8983981916176419,-0.21142894289193542,0.9860753694884673,1.6760993673766653,0.40445436681779856,0.228241752395754,0.21885947037232967,-0.2957949714078914,0.8029039858086703,-0.1258575515219575,-0.28462531300795485,-0.40711122540301453,1.1255480396449078,-0.04465283832238067,2.4606701071930766,1.2471229619009705,0.9684030255368693,-0.4967278612777565,1.1191519124145068,1.5393166944970227,0.3879656896286978,-0.23528168158661425,1.0570141419777914,-1.4192686252266147,-0.40495888179058614,-0.8053476811731931,-0.5956182729671423,0.15126692096238561,1.479938082547736,-0.07860579543133894,0.2884171368354939,-1.042282395744949,1.319871462771553,0.7666438421160171,-1.2599103779414045,-1.598279835414223,-0.761714368148162,-0.4197439992098943,0.8330065367647513,-0.3447653731659813,-1.6405242860622138,-0.24583445748044494,0.06867470537503659,-0.24309546675279925,-0.035768828097635506,-2.108777478604998,-0.17135169344361806,-0.3440568930717429,-0.4288781273324487,0.3615263101485928,0.215362306583839,-1.0880421818281014,-0.7441306187110783],\"xaxis\":\"x2\",\"y\":[0.46044745595994646,-0.6327809816156542,0.19554865241212666,-0.8166676322767404,-3.0480808845906178,-0.3323764051335626,-0.2148018805663531,1.232919450428307,0.6990755453765485,-0.07222450852302355,0.9399928794576881,-1.6463845664115169,0.03866486247030078,1.3364309820906208,-0.41773911095129385,-1.3024561407978907,-1.7286428623651386,0.3041091737654156,-0.21841640624264147,-1.7782872619905046,-0.40755357437244555,1.4958510483328458,0.8691336955209565,-0.18954864268340946,1.4519376760235432,2.0070003818130537,-1.2343080333782328,-0.10472198473220974,-0.7075791627199393,-1.1250934794890421,-0.13122135545318075,-0.13325973630464638,-0.5219214423795748,-0.9399178338858662,-1.09293858338073,0.49421085222862693,0.8587307775944033,-0.008637916423998566,-2.3821054800247006,-0.33844292997234127,-1.3309454621475598,-0.6635753199127982,-0.4976940119383044,-0.19188337325859992,0.20403415342732897,0.6259349350540958,0.6806382450638427,-0.8334799949518075,0.13330741871923463,-0.8861367944020956,0.2522280347219456,1.74673112983397,0.0454195700224562,0.42431725838635165,0.46313945287402886,-0.036393397401551376,1.3996176623363892,-0.13451776843046795,-0.4429820748677036,-0.12519287551839783,0.1575345124703861,-1.1105079278597803,-0.7058793221245989,-0.5012182934909218,-1.237071738798001,-1.0374989938657437,0.9155202837847133,-1.9428455687837543,-1.300046598231422,-0.5788116808049193,2.164153910466163,2.024587158637168,-1.007376053165701,-1.4239537916994478,-0.027442271397530714,1.226059571563095,-0.37859063265946036,0.4739827862947617,-0.29817015052032186,-0.022420299523822088,0.8820268232137013,-0.5971793574885587,-0.5817035390746108,2.5423745595273224,-1.2240180609353126,1.8389577502955554,0.3789039734403663,-0.48703539030345416,-0.16303158180059313,-0.10186237655352284,-0.2557481695898708,0.32933712978369617,0.5308260194258264,0.1945955717812178,-1.3784653517201384,-0.3744721210833509,-0.16685921033310522,0.28178221826104694,1.3029837125498993,0.5655780866709391],\"yaxis\":\"y2\",\"type\":\"scatter\"},{\"line\":{\"color\":\"rgba(128, 128, 128, 1.0)\",\"dash\":\"solid\",\"shape\":\"linear\",\"width\":1.3},\"marker\":{\"size\":2,\"symbol\":\"circle\"},\"mode\":\"markers\",\"name\":\"A\",\"text\":\"\",\"x\":[1.258367277130209,0.6250397795659117,-1.4949838602904135,-1.3397922820844121,0.9727879158186832,-0.4554213022489134,-0.42080481600229896,-1.4853056419661856,0.35014602970076164,-2.0875819598764154,1.9679497263424548,-0.2165470821065552,0.048313146154102024,-0.14348925798393644,-0.4831198203892947,0.7696246027372764,0.22303953790248174,-0.2836208113564564,0.06450005435836742,1.470099013136937,0.3989041891142819,-0.6812805165644358,0.2384043544619515,2.628992741503464,0.023217384164083695,1.2120927227206528,-0.7757413256402388,0.19635120517340784,-2.317188785184941,0.053768279270851906,1.288283754305875,0.42377926702237273,-0.5365014437573917,0.042972317087237304,-0.13493305230632946,-2.614756421734982,-0.5574380974609379,-1.3142614432062012,-0.6019810740761499,-0.7398390708008258,-1.9792167880440694,0.9855956275960852,1.4477935829011255,-0.4301483492582045,1.7644819321153604,-0.25695534161124267,1.1909349837698766,0.872362949410945,1.832257989667077,-0.8025470479510924,0.46021645650879456,-0.14318959801362832,-0.8556229610450181,-1.3501340259705716,-0.7296816940951176,1.2758271068986329,-0.5141029898148345,0.17006975609686314,0.6222875341376517,-0.04140218889555548,-0.9691873818702071,0.9976177146155699,-1.4103282599503064,-0.1486620261027917,-1.1715152337379773,0.14554756457952964,-0.7553310046446255,0.06603159298383995,0.4924127164414456,0.03175277330060168,0.21753462173966653,0.8743071806095163,2.3058517403156187,1.5515608391802713,-0.7972159046015269,-0.499436164297288,-0.9441469783699104,2.546512095592558,0.23223307761152515,-0.5298093345406708,0.12149402735716536,-0.38491023443504546,-0.750262225032363,-0.45640839544619716,-0.5259937757112418,-1.4772523816311194,-0.5932331674407063,-0.3879174298983722,0.7899007936721997,0.32335274403848085,0.7885005181279469,2.2434732307405834,0.7235521075755361,0.2527889251678213,-0.019007569973219403,-0.34415568827748244,-0.15941757602514936,-0.5415015757098923,0.28455927292361183,-0.7240936402643037],\"xaxis\":\"x3\",\"y\":[0.46044745595994646,-0.6327809816156542,0.19554865241212666,-0.8166676322767404,-3.0480808845906178,-0.3323764051335626,-0.2148018805663531,1.232919450428307,0.6990755453765485,-0.07222450852302355,0.9399928794576881,-1.6463845664115169,0.03866486247030078,1.3364309820906208,-0.41773911095129385,-1.3024561407978907,-1.7286428623651386,0.3041091737654156,-0.21841640624264147,-1.7782872619905046,-0.40755357437244555,1.4958510483328458,0.8691336955209565,-0.18954864268340946,1.4519376760235432,2.0070003818130537,-1.2343080333782328,-0.10472198473220974,-0.7075791627199393,-1.1250934794890421,-0.13122135545318075,-0.13325973630464638,-0.5219214423795748,-0.9399178338858662,-1.09293858338073,0.49421085222862693,0.8587307775944033,-0.008637916423998566,-2.3821054800247006,-0.33844292997234127,-1.3309454621475598,-0.6635753199127982,-0.4976940119383044,-0.19188337325859992,0.20403415342732897,0.6259349350540958,0.6806382450638427,-0.8334799949518075,0.13330741871923463,-0.8861367944020956,0.2522280347219456,1.74673112983397,0.0454195700224562,0.42431725838635165,0.46313945287402886,-0.036393397401551376,1.3996176623363892,-0.13451776843046795,-0.4429820748677036,-0.12519287551839783,0.1575345124703861,-1.1105079278597803,-0.7058793221245989,-0.5012182934909218,-1.237071738798001,-1.0374989938657437,0.9155202837847133,-1.9428455687837543,-1.300046598231422,-0.5788116808049193,2.164153910466163,2.024587158637168,-1.007376053165701,-1.4239537916994478,-0.027442271397530714,1.226059571563095,-0.37859063265946036,0.4739827862947617,-0.29817015052032186,-0.022420299523822088,0.8820268232137013,-0.5971793574885587,-0.5817035390746108,2.5423745595273224,-1.2240180609353126,1.8389577502955554,0.3789039734403663,-0.48703539030345416,-0.16303158180059313,-0.10186237655352284,-0.2557481695898708,0.32933712978369617,0.5308260194258264,0.1945955717812178,-1.3784653517201384,-0.3744721210833509,-0.16685921033310522,0.28178221826104694,1.3029837125498993,0.5655780866709391],\"yaxis\":\"y3\",\"type\":\"scatter\"},{\"line\":{\"color\":\"rgba(128, 128, 128, 1.0)\",\"dash\":\"solid\",\"shape\":\"linear\",\"width\":1.3},\"marker\":{\"size\":2,\"symbol\":\"circle\"},\"mode\":\"markers\",\"name\":\"A\",\"text\":\"\",\"x\":[0.3341668193955641,1.2346802398675587,-1.0002760877046792,-0.2787912566595758,0.010827301505861494,0.22799231708424078,-0.990501276257658,-0.752731522042225,0.5236130963855112,1.0275718125055953,0.8298946566053327,2.6844143369151356,1.6717798169748932,-1.081249723803137,0.9493770889517787,-0.5085101668286357,-0.26673231749828874,-0.8013869062575656,-0.7053198840310353,1.9188100067967713,1.4639158670641665,1.092906626404955,-0.49668243610573193,-0.5167234565532182,-0.08812919307166601,0.12192849513220796,0.4904923084918218,0.7311734555217336,-0.6690603581302017,2.4228558916794083,0.9750020252491011,-1.5154082771115112,0.6783664811253927,-0.6120402487612214,0.6209581099540071,1.1649184750535193,0.19375768977482102,0.7169971772718559,-0.11197463830869983,1.2257173821940857,0.8635300892296991,-2.2523746153879727,-0.22875254690231805,-0.74309287291503,0.020218822992205846,1.8583732221069171,-0.13900140504026426,-1.0383503893718338,-0.40925152332858206,-0.8518160257655871,-0.032616269743148484,-0.42271446760062636,1.1062096140267768,0.2809399600556132,0.05805140849617546,-0.9511009210338658,-0.5050697264089341,0.5825950306281149,1.9085819881972002,1.7422324673412783,-0.21374350904019213,0.5652825202130883,0.2054461559026082,0.41858489452371095,2.28021738613473,-0.17857004584255118,0.2001122106046136,-0.09054524788882383,0.2367883681788306,-1.8972603182189944,1.0007299479797491,-0.6705799683158304,0.3160740100806071,-0.5745992932121634,0.172927714063369,0.11707489213050855,0.8104401076244758,-0.5504553257425672,-0.3366861629048067,0.07936900812497623,0.4069868172393904,-1.2299867230125026,0.1567323196069663,0.4741532690489794,-0.34057527686698874,-0.5259374474667857,0.24546743786126834,0.03794835441857078,0.9462026071983898,1.0755349646288088,-1.5587482216839013,1.0940588169511027,-0.20586946100185324,-0.9087002207941971,0.8860882977651031,-1.7447423028152123,1.467690104133777,-0.01237543558596083,0.3540159707418616,0.5798846899921254],\"xaxis\":\"x4\",\"y\":[0.46044745595994646,-0.6327809816156542,0.19554865241212666,-0.8166676322767404,-3.0480808845906178,-0.3323764051335626,-0.2148018805663531,1.232919450428307,0.6990755453765485,-0.07222450852302355,0.9399928794576881,-1.6463845664115169,0.03866486247030078,1.3364309820906208,-0.41773911095129385,-1.3024561407978907,-1.7286428623651386,0.3041091737654156,-0.21841640624264147,-1.7782872619905046,-0.40755357437244555,1.4958510483328458,0.8691336955209565,-0.18954864268340946,1.4519376760235432,2.0070003818130537,-1.2343080333782328,-0.10472198473220974,-0.7075791627199393,-1.1250934794890421,-0.13122135545318075,-0.13325973630464638,-0.5219214423795748,-0.9399178338858662,-1.09293858338073,0.49421085222862693,0.8587307775944033,-0.008637916423998566,-2.3821054800247006,-0.33844292997234127,-1.3309454621475598,-0.6635753199127982,-0.4976940119383044,-0.19188337325859992,0.20403415342732897,0.6259349350540958,0.6806382450638427,-0.8334799949518075,0.13330741871923463,-0.8861367944020956,0.2522280347219456,1.74673112983397,0.0454195700224562,0.42431725838635165,0.46313945287402886,-0.036393397401551376,1.3996176623363892,-0.13451776843046795,-0.4429820748677036,-0.12519287551839783,0.1575345124703861,-1.1105079278597803,-0.7058793221245989,-0.5012182934909218,-1.237071738798001,-1.0374989938657437,0.9155202837847133,-1.9428455687837543,-1.300046598231422,-0.5788116808049193,2.164153910466163,2.024587158637168,-1.007376053165701,-1.4239537916994478,-0.027442271397530714,1.226059571563095,-0.37859063265946036,0.4739827862947617,-0.29817015052032186,-0.022420299523822088,0.8820268232137013,-0.5971793574885587,-0.5817035390746108,2.5423745595273224,-1.2240180609353126,1.8389577502955554,0.3789039734403663,-0.48703539030345416,-0.16303158180059313,-0.10186237655352284,-0.2557481695898708,0.32933712978369617,0.5308260194258264,0.1945955717812178,-1.3784653517201384,-0.3744721210833509,-0.16685921033310522,0.28178221826104694,1.3029837125498993,0.5655780866709391],\"yaxis\":\"y4\",\"type\":\"scatter\"},{\"line\":{\"color\":\"rgba(128, 128, 128, 1.0)\",\"dash\":\"solid\",\"shape\":\"linear\",\"width\":1.3},\"marker\":{\"size\":2,\"symbol\":\"circle\"},\"mode\":\"markers\",\"name\":\"B\",\"text\":\"\",\"x\":[0.46044745595994646,-0.6327809816156542,0.19554865241212666,-0.8166676322767404,-3.0480808845906178,-0.3323764051335626,-0.2148018805663531,1.232919450428307,0.6990755453765485,-0.07222450852302355,0.9399928794576881,-1.6463845664115169,0.03866486247030078,1.3364309820906208,-0.41773911095129385,-1.3024561407978907,-1.7286428623651386,0.3041091737654156,-0.21841640624264147,-1.7782872619905046,-0.40755357437244555,1.4958510483328458,0.8691336955209565,-0.18954864268340946,1.4519376760235432,2.0070003818130537,-1.2343080333782328,-0.10472198473220974,-0.7075791627199393,-1.1250934794890421,-0.13122135545318075,-0.13325973630464638,-0.5219214423795748,-0.9399178338858662,-1.09293858338073,0.49421085222862693,0.8587307775944033,-0.008637916423998566,-2.3821054800247006,-0.33844292997234127,-1.3309454621475598,-0.6635753199127982,-0.4976940119383044,-0.19188337325859992,0.20403415342732897,0.6259349350540958,0.6806382450638427,-0.8334799949518075,0.13330741871923463,-0.8861367944020956,0.2522280347219456,1.74673112983397,0.0454195700224562,0.42431725838635165,0.46313945287402886,-0.036393397401551376,1.3996176623363892,-0.13451776843046795,-0.4429820748677036,-0.12519287551839783,0.1575345124703861,-1.1105079278597803,-0.7058793221245989,-0.5012182934909218,-1.237071738798001,-1.0374989938657437,0.9155202837847133,-1.9428455687837543,-1.300046598231422,-0.5788116808049193,2.164153910466163,2.024587158637168,-1.007376053165701,-1.4239537916994478,-0.027442271397530714,1.226059571563095,-0.37859063265946036,0.4739827862947617,-0.29817015052032186,-0.022420299523822088,0.8820268232137013,-0.5971793574885587,-0.5817035390746108,2.5423745595273224,-1.2240180609353126,1.8389577502955554,0.3789039734403663,-0.48703539030345416,-0.16303158180059313,-0.10186237655352284,-0.2557481695898708,0.32933712978369617,0.5308260194258264,0.1945955717812178,-1.3784653517201384,-0.3744721210833509,-0.16685921033310522,0.28178221826104694,1.3029837125498993,0.5655780866709391],\"xaxis\":\"x5\",\"y\":[-2.0569014999715436,1.615413548570715,-0.4997096328929657,0.11044613459696011,2.14511071229813,0.12415558426069487,-0.18144855534171273,1.414504104188126,-1.0304690519553825,-0.11964407338170355,-1.872637047828862,0.3620192874855286,0.4024843260421167,-0.5086118655061668,-0.6241445406565573,1.360501842674482,-0.5383761007222295,0.11972608663364732,0.17908323460823522,0.18020973968654264,-1.3040735484199573,0.9035679353745257,0.5694677836183335,0.7789742531088888,-0.9761704827403509,0.2577788988640685,-0.9595820700521839,0.8913477599711915,-0.314622458164726,-0.42070577358846917,0.3003621489513765,-0.28361482796139226,0.20557205327331282,1.265296414392654,0.797172596483356,0.2406258030989973,1.4904085926260502,0.48821431095903245,0.14285530769432864,0.15707426612148362,-1.5170250115610526,0.7232292624556415,0.017602377806937356,0.3392998205962441,-1.981993932273325,-0.7311875792507156,1.0339581426574087,-0.8983981916176419,-0.21142894289193542,0.9860753694884673,1.6760993673766653,0.40445436681779856,0.228241752395754,0.21885947037232967,-0.2957949714078914,0.8029039858086703,-0.1258575515219575,-0.28462531300795485,-0.40711122540301453,1.1255480396449078,-0.04465283832238067,2.4606701071930766,1.2471229619009705,0.9684030255368693,-0.4967278612777565,1.1191519124145068,1.5393166944970227,0.3879656896286978,-0.23528168158661425,1.0570141419777914,-1.4192686252266147,-0.40495888179058614,-0.8053476811731931,-0.5956182729671423,0.15126692096238561,1.479938082547736,-0.07860579543133894,0.2884171368354939,-1.042282395744949,1.319871462771553,0.7666438421160171,-1.2599103779414045,-1.598279835414223,-0.761714368148162,-0.4197439992098943,0.8330065367647513,-0.3447653731659813,-1.6405242860622138,-0.24583445748044494,0.06867470537503659,-0.24309546675279925,-0.035768828097635506,-2.108777478604998,-0.17135169344361806,-0.3440568930717429,-0.4288781273324487,0.3615263101485928,0.215362306583839,-1.0880421818281014,-0.7441306187110783],\"yaxis\":\"y5\",\"type\":\"scatter\"},{\"histfunc\":\"count\",\"histnorm\":\"\",\"marker\":{\"color\":\"rgba(55, 128, 191, 1.0)\",\"line\":{\"color\":\"#4D5663\",\"width\":1.3}},\"name\":\"B\",\"nbinsx\":10,\"opacity\":0.8,\"orientation\":\"v\",\"x\":[-2.0569014999715436,1.615413548570715,-0.4997096328929657,0.11044613459696011,2.14511071229813,0.12415558426069487,-0.18144855534171273,1.414504104188126,-1.0304690519553825,-0.11964407338170355,-1.872637047828862,0.3620192874855286,0.4024843260421167,-0.5086118655061668,-0.6241445406565573,1.360501842674482,-0.5383761007222295,0.11972608663364732,0.17908323460823522,0.18020973968654264,-1.3040735484199573,0.9035679353745257,0.5694677836183335,0.7789742531088888,-0.9761704827403509,0.2577788988640685,-0.9595820700521839,0.8913477599711915,-0.314622458164726,-0.42070577358846917,0.3003621489513765,-0.28361482796139226,0.20557205327331282,1.265296414392654,0.797172596483356,0.2406258030989973,1.4904085926260502,0.48821431095903245,0.14285530769432864,0.15707426612148362,-1.5170250115610526,0.7232292624556415,0.017602377806937356,0.3392998205962441,-1.981993932273325,-0.7311875792507156,1.0339581426574087,-0.8983981916176419,-0.21142894289193542,0.9860753694884673,1.6760993673766653,0.40445436681779856,0.228241752395754,0.21885947037232967,-0.2957949714078914,0.8029039858086703,-0.1258575515219575,-0.28462531300795485,-0.40711122540301453,1.1255480396449078,-0.04465283832238067,2.4606701071930766,1.2471229619009705,0.9684030255368693,-0.4967278612777565,1.1191519124145068,1.5393166944970227,0.3879656896286978,-0.23528168158661425,1.0570141419777914,-1.4192686252266147,-0.40495888179058614,-0.8053476811731931,-0.5956182729671423,0.15126692096238561,1.479938082547736,-0.07860579543133894,0.2884171368354939,-1.042282395744949,1.319871462771553,0.7666438421160171,-1.2599103779414045,-1.598279835414223,-0.761714368148162,-0.4197439992098943,0.8330065367647513,-0.3447653731659813,-1.6405242860622138,-0.24583445748044494,0.06867470537503659,-0.24309546675279925,-0.035768828097635506,-2.108777478604998,-0.17135169344361806,-0.3440568930717429,-0.4288781273324487,0.3615263101485928,0.215362306583839,-1.0880421818281014,-0.7441306187110783],\"xaxis\":\"x6\",\"yaxis\":\"y6\",\"type\":\"histogram\"},{\"line\":{\"color\":\"rgba(128, 128, 128, 1.0)\",\"dash\":\"solid\",\"shape\":\"linear\",\"width\":1.3},\"marker\":{\"size\":2,\"symbol\":\"circle\"},\"mode\":\"markers\",\"name\":\"B\",\"text\":\"\",\"x\":[1.258367277130209,0.6250397795659117,-1.4949838602904135,-1.3397922820844121,0.9727879158186832,-0.4554213022489134,-0.42080481600229896,-1.4853056419661856,0.35014602970076164,-2.0875819598764154,1.9679497263424548,-0.2165470821065552,0.048313146154102024,-0.14348925798393644,-0.4831198203892947,0.7696246027372764,0.22303953790248174,-0.2836208113564564,0.06450005435836742,1.470099013136937,0.3989041891142819,-0.6812805165644358,0.2384043544619515,2.628992741503464,0.023217384164083695,1.2120927227206528,-0.7757413256402388,0.19635120517340784,-2.317188785184941,0.053768279270851906,1.288283754305875,0.42377926702237273,-0.5365014437573917,0.042972317087237304,-0.13493305230632946,-2.614756421734982,-0.5574380974609379,-1.3142614432062012,-0.6019810740761499,-0.7398390708008258,-1.9792167880440694,0.9855956275960852,1.4477935829011255,-0.4301483492582045,1.7644819321153604,-0.25695534161124267,1.1909349837698766,0.872362949410945,1.832257989667077,-0.8025470479510924,0.46021645650879456,-0.14318959801362832,-0.8556229610450181,-1.3501340259705716,-0.7296816940951176,1.2758271068986329,-0.5141029898148345,0.17006975609686314,0.6222875341376517,-0.04140218889555548,-0.9691873818702071,0.9976177146155699,-1.4103282599503064,-0.1486620261027917,-1.1715152337379773,0.14554756457952964,-0.7553310046446255,0.06603159298383995,0.4924127164414456,0.03175277330060168,0.21753462173966653,0.8743071806095163,2.3058517403156187,1.5515608391802713,-0.7972159046015269,-0.499436164297288,-0.9441469783699104,2.546512095592558,0.23223307761152515,-0.5298093345406708,0.12149402735716536,-0.38491023443504546,-0.750262225032363,-0.45640839544619716,-0.5259937757112418,-1.4772523816311194,-0.5932331674407063,-0.3879174298983722,0.7899007936721997,0.32335274403848085,0.7885005181279469,2.2434732307405834,0.7235521075755361,0.2527889251678213,-0.019007569973219403,-0.34415568827748244,-0.15941757602514936,-0.5415015757098923,0.28455927292361183,-0.7240936402643037],\"xaxis\":\"x7\",\"y\":[-2.0569014999715436,1.615413548570715,-0.4997096328929657,0.11044613459696011,2.14511071229813,0.12415558426069487,-0.18144855534171273,1.414504104188126,-1.0304690519553825,-0.11964407338170355,-1.872637047828862,0.3620192874855286,0.4024843260421167,-0.5086118655061668,-0.6241445406565573,1.360501842674482,-0.5383761007222295,0.11972608663364732,0.17908323460823522,0.18020973968654264,-1.3040735484199573,0.9035679353745257,0.5694677836183335,0.7789742531088888,-0.9761704827403509,0.2577788988640685,-0.9595820700521839,0.8913477599711915,-0.314622458164726,-0.42070577358846917,0.3003621489513765,-0.28361482796139226,0.20557205327331282,1.265296414392654,0.797172596483356,0.2406258030989973,1.4904085926260502,0.48821431095903245,0.14285530769432864,0.15707426612148362,-1.5170250115610526,0.7232292624556415,0.017602377806937356,0.3392998205962441,-1.981993932273325,-0.7311875792507156,1.0339581426574087,-0.8983981916176419,-0.21142894289193542,0.9860753694884673,1.6760993673766653,0.40445436681779856,0.228241752395754,0.21885947037232967,-0.2957949714078914,0.8029039858086703,-0.1258575515219575,-0.28462531300795485,-0.40711122540301453,1.1255480396449078,-0.04465283832238067,2.4606701071930766,1.2471229619009705,0.9684030255368693,-0.4967278612777565,1.1191519124145068,1.5393166944970227,0.3879656896286978,-0.23528168158661425,1.0570141419777914,-1.4192686252266147,-0.40495888179058614,-0.8053476811731931,-0.5956182729671423,0.15126692096238561,1.479938082547736,-0.07860579543133894,0.2884171368354939,-1.042282395744949,1.319871462771553,0.7666438421160171,-1.2599103779414045,-1.598279835414223,-0.761714368148162,-0.4197439992098943,0.8330065367647513,-0.3447653731659813,-1.6405242860622138,-0.24583445748044494,0.06867470537503659,-0.24309546675279925,-0.035768828097635506,-2.108777478604998,-0.17135169344361806,-0.3440568930717429,-0.4288781273324487,0.3615263101485928,0.215362306583839,-1.0880421818281014,-0.7441306187110783],\"yaxis\":\"y7\",\"type\":\"scatter\"},{\"line\":{\"color\":\"rgba(128, 128, 128, 1.0)\",\"dash\":\"solid\",\"shape\":\"linear\",\"width\":1.3},\"marker\":{\"size\":2,\"symbol\":\"circle\"},\"mode\":\"markers\",\"name\":\"B\",\"text\":\"\",\"x\":[0.3341668193955641,1.2346802398675587,-1.0002760877046792,-0.2787912566595758,0.010827301505861494,0.22799231708424078,-0.990501276257658,-0.752731522042225,0.5236130963855112,1.0275718125055953,0.8298946566053327,2.6844143369151356,1.6717798169748932,-1.081249723803137,0.9493770889517787,-0.5085101668286357,-0.26673231749828874,-0.8013869062575656,-0.7053198840310353,1.9188100067967713,1.4639158670641665,1.092906626404955,-0.49668243610573193,-0.5167234565532182,-0.08812919307166601,0.12192849513220796,0.4904923084918218,0.7311734555217336,-0.6690603581302017,2.4228558916794083,0.9750020252491011,-1.5154082771115112,0.6783664811253927,-0.6120402487612214,0.6209581099540071,1.1649184750535193,0.19375768977482102,0.7169971772718559,-0.11197463830869983,1.2257173821940857,0.8635300892296991,-2.2523746153879727,-0.22875254690231805,-0.74309287291503,0.020218822992205846,1.8583732221069171,-0.13900140504026426,-1.0383503893718338,-0.40925152332858206,-0.8518160257655871,-0.032616269743148484,-0.42271446760062636,1.1062096140267768,0.2809399600556132,0.05805140849617546,-0.9511009210338658,-0.5050697264089341,0.5825950306281149,1.9085819881972002,1.7422324673412783,-0.21374350904019213,0.5652825202130883,0.2054461559026082,0.41858489452371095,2.28021738613473,-0.17857004584255118,0.2001122106046136,-0.09054524788882383,0.2367883681788306,-1.8972603182189944,1.0007299479797491,-0.6705799683158304,0.3160740100806071,-0.5745992932121634,0.172927714063369,0.11707489213050855,0.8104401076244758,-0.5504553257425672,-0.3366861629048067,0.07936900812497623,0.4069868172393904,-1.2299867230125026,0.1567323196069663,0.4741532690489794,-0.34057527686698874,-0.5259374474667857,0.24546743786126834,0.03794835441857078,0.9462026071983898,1.0755349646288088,-1.5587482216839013,1.0940588169511027,-0.20586946100185324,-0.9087002207941971,0.8860882977651031,-1.7447423028152123,1.467690104133777,-0.01237543558596083,0.3540159707418616,0.5798846899921254],\"xaxis\":\"x8\",\"y\":[-2.0569014999715436,1.615413548570715,-0.4997096328929657,0.11044613459696011,2.14511071229813,0.12415558426069487,-0.18144855534171273,1.414504104188126,-1.0304690519553825,-0.11964407338170355,-1.872637047828862,0.3620192874855286,0.4024843260421167,-0.5086118655061668,-0.6241445406565573,1.360501842674482,-0.5383761007222295,0.11972608663364732,0.17908323460823522,0.18020973968654264,-1.3040735484199573,0.9035679353745257,0.5694677836183335,0.7789742531088888,-0.9761704827403509,0.2577788988640685,-0.9595820700521839,0.8913477599711915,-0.314622458164726,-0.42070577358846917,0.3003621489513765,-0.28361482796139226,0.20557205327331282,1.265296414392654,0.797172596483356,0.2406258030989973,1.4904085926260502,0.48821431095903245,0.14285530769432864,0.15707426612148362,-1.5170250115610526,0.7232292624556415,0.017602377806937356,0.3392998205962441,-1.981993932273325,-0.7311875792507156,1.0339581426574087,-0.8983981916176419,-0.21142894289193542,0.9860753694884673,1.6760993673766653,0.40445436681779856,0.228241752395754,0.21885947037232967,-0.2957949714078914,0.8029039858086703,-0.1258575515219575,-0.28462531300795485,-0.40711122540301453,1.1255480396449078,-0.04465283832238067,2.4606701071930766,1.2471229619009705,0.9684030255368693,-0.4967278612777565,1.1191519124145068,1.5393166944970227,0.3879656896286978,-0.23528168158661425,1.0570141419777914,-1.4192686252266147,-0.40495888179058614,-0.8053476811731931,-0.5956182729671423,0.15126692096238561,1.479938082547736,-0.07860579543133894,0.2884171368354939,-1.042282395744949,1.319871462771553,0.7666438421160171,-1.2599103779414045,-1.598279835414223,-0.761714368148162,-0.4197439992098943,0.8330065367647513,-0.3447653731659813,-1.6405242860622138,-0.24583445748044494,0.06867470537503659,-0.24309546675279925,-0.035768828097635506,-2.108777478604998,-0.17135169344361806,-0.3440568930717429,-0.4288781273324487,0.3615263101485928,0.215362306583839,-1.0880421818281014,-0.7441306187110783],\"yaxis\":\"y8\",\"type\":\"scatter\"},{\"line\":{\"color\":\"rgba(128, 128, 128, 1.0)\",\"dash\":\"solid\",\"shape\":\"linear\",\"width\":1.3},\"marker\":{\"size\":2,\"symbol\":\"circle\"},\"mode\":\"markers\",\"name\":\"C\",\"text\":\"\",\"x\":[0.46044745595994646,-0.6327809816156542,0.19554865241212666,-0.8166676322767404,-3.0480808845906178,-0.3323764051335626,-0.2148018805663531,1.232919450428307,0.6990755453765485,-0.07222450852302355,0.9399928794576881,-1.6463845664115169,0.03866486247030078,1.3364309820906208,-0.41773911095129385,-1.3024561407978907,-1.7286428623651386,0.3041091737654156,-0.21841640624264147,-1.7782872619905046,-0.40755357437244555,1.4958510483328458,0.8691336955209565,-0.18954864268340946,1.4519376760235432,2.0070003818130537,-1.2343080333782328,-0.10472198473220974,-0.7075791627199393,-1.1250934794890421,-0.13122135545318075,-0.13325973630464638,-0.5219214423795748,-0.9399178338858662,-1.09293858338073,0.49421085222862693,0.8587307775944033,-0.008637916423998566,-2.3821054800247006,-0.33844292997234127,-1.3309454621475598,-0.6635753199127982,-0.4976940119383044,-0.19188337325859992,0.20403415342732897,0.6259349350540958,0.6806382450638427,-0.8334799949518075,0.13330741871923463,-0.8861367944020956,0.2522280347219456,1.74673112983397,0.0454195700224562,0.42431725838635165,0.46313945287402886,-0.036393397401551376,1.3996176623363892,-0.13451776843046795,-0.4429820748677036,-0.12519287551839783,0.1575345124703861,-1.1105079278597803,-0.7058793221245989,-0.5012182934909218,-1.237071738798001,-1.0374989938657437,0.9155202837847133,-1.9428455687837543,-1.300046598231422,-0.5788116808049193,2.164153910466163,2.024587158637168,-1.007376053165701,-1.4239537916994478,-0.027442271397530714,1.226059571563095,-0.37859063265946036,0.4739827862947617,-0.29817015052032186,-0.022420299523822088,0.8820268232137013,-0.5971793574885587,-0.5817035390746108,2.5423745595273224,-1.2240180609353126,1.8389577502955554,0.3789039734403663,-0.48703539030345416,-0.16303158180059313,-0.10186237655352284,-0.2557481695898708,0.32933712978369617,0.5308260194258264,0.1945955717812178,-1.3784653517201384,-0.3744721210833509,-0.16685921033310522,0.28178221826104694,1.3029837125498993,0.5655780866709391],\"xaxis\":\"x9\",\"y\":[1.258367277130209,0.6250397795659117,-1.4949838602904135,-1.3397922820844121,0.9727879158186832,-0.4554213022489134,-0.42080481600229896,-1.4853056419661856,0.35014602970076164,-2.0875819598764154,1.9679497263424548,-0.2165470821065552,0.048313146154102024,-0.14348925798393644,-0.4831198203892947,0.7696246027372764,0.22303953790248174,-0.2836208113564564,0.06450005435836742,1.470099013136937,0.3989041891142819,-0.6812805165644358,0.2384043544619515,2.628992741503464,0.023217384164083695,1.2120927227206528,-0.7757413256402388,0.19635120517340784,-2.317188785184941,0.053768279270851906,1.288283754305875,0.42377926702237273,-0.5365014437573917,0.042972317087237304,-0.13493305230632946,-2.614756421734982,-0.5574380974609379,-1.3142614432062012,-0.6019810740761499,-0.7398390708008258,-1.9792167880440694,0.9855956275960852,1.4477935829011255,-0.4301483492582045,1.7644819321153604,-0.25695534161124267,1.1909349837698766,0.872362949410945,1.832257989667077,-0.8025470479510924,0.46021645650879456,-0.14318959801362832,-0.8556229610450181,-1.3501340259705716,-0.7296816940951176,1.2758271068986329,-0.5141029898148345,0.17006975609686314,0.6222875341376517,-0.04140218889555548,-0.9691873818702071,0.9976177146155699,-1.4103282599503064,-0.1486620261027917,-1.1715152337379773,0.14554756457952964,-0.7553310046446255,0.06603159298383995,0.4924127164414456,0.03175277330060168,0.21753462173966653,0.8743071806095163,2.3058517403156187,1.5515608391802713,-0.7972159046015269,-0.499436164297288,-0.9441469783699104,2.546512095592558,0.23223307761152515,-0.5298093345406708,0.12149402735716536,-0.38491023443504546,-0.750262225032363,-0.45640839544619716,-0.5259937757112418,-1.4772523816311194,-0.5932331674407063,-0.3879174298983722,0.7899007936721997,0.32335274403848085,0.7885005181279469,2.2434732307405834,0.7235521075755361,0.2527889251678213,-0.019007569973219403,-0.34415568827748244,-0.15941757602514936,-0.5415015757098923,0.28455927292361183,-0.7240936402643037],\"yaxis\":\"y9\",\"type\":\"scatter\"},{\"line\":{\"color\":\"rgba(128, 128, 128, 1.0)\",\"dash\":\"solid\",\"shape\":\"linear\",\"width\":1.3},\"marker\":{\"size\":2,\"symbol\":\"circle\"},\"mode\":\"markers\",\"name\":\"C\",\"text\":\"\",\"x\":[-2.0569014999715436,1.615413548570715,-0.4997096328929657,0.11044613459696011,2.14511071229813,0.12415558426069487,-0.18144855534171273,1.414504104188126,-1.0304690519553825,-0.11964407338170355,-1.872637047828862,0.3620192874855286,0.4024843260421167,-0.5086118655061668,-0.6241445406565573,1.360501842674482,-0.5383761007222295,0.11972608663364732,0.17908323460823522,0.18020973968654264,-1.3040735484199573,0.9035679353745257,0.5694677836183335,0.7789742531088888,-0.9761704827403509,0.2577788988640685,-0.9595820700521839,0.8913477599711915,-0.314622458164726,-0.42070577358846917,0.3003621489513765,-0.28361482796139226,0.20557205327331282,1.265296414392654,0.797172596483356,0.2406258030989973,1.4904085926260502,0.48821431095903245,0.14285530769432864,0.15707426612148362,-1.5170250115610526,0.7232292624556415,0.017602377806937356,0.3392998205962441,-1.981993932273325,-0.7311875792507156,1.0339581426574087,-0.8983981916176419,-0.21142894289193542,0.9860753694884673,1.6760993673766653,0.40445436681779856,0.228241752395754,0.21885947037232967,-0.2957949714078914,0.8029039858086703,-0.1258575515219575,-0.28462531300795485,-0.40711122540301453,1.1255480396449078,-0.04465283832238067,2.4606701071930766,1.2471229619009705,0.9684030255368693,-0.4967278612777565,1.1191519124145068,1.5393166944970227,0.3879656896286978,-0.23528168158661425,1.0570141419777914,-1.4192686252266147,-0.40495888179058614,-0.8053476811731931,-0.5956182729671423,0.15126692096238561,1.479938082547736,-0.07860579543133894,0.2884171368354939,-1.042282395744949,1.319871462771553,0.7666438421160171,-1.2599103779414045,-1.598279835414223,-0.761714368148162,-0.4197439992098943,0.8330065367647513,-0.3447653731659813,-1.6405242860622138,-0.24583445748044494,0.06867470537503659,-0.24309546675279925,-0.035768828097635506,-2.108777478604998,-0.17135169344361806,-0.3440568930717429,-0.4288781273324487,0.3615263101485928,0.215362306583839,-1.0880421818281014,-0.7441306187110783],\"xaxis\":\"x10\",\"y\":[1.258367277130209,0.6250397795659117,-1.4949838602904135,-1.3397922820844121,0.9727879158186832,-0.4554213022489134,-0.42080481600229896,-1.4853056419661856,0.35014602970076164,-2.0875819598764154,1.9679497263424548,-0.2165470821065552,0.048313146154102024,-0.14348925798393644,-0.4831198203892947,0.7696246027372764,0.22303953790248174,-0.2836208113564564,0.06450005435836742,1.470099013136937,0.3989041891142819,-0.6812805165644358,0.2384043544619515,2.628992741503464,0.023217384164083695,1.2120927227206528,-0.7757413256402388,0.19635120517340784,-2.317188785184941,0.053768279270851906,1.288283754305875,0.42377926702237273,-0.5365014437573917,0.042972317087237304,-0.13493305230632946,-2.614756421734982,-0.5574380974609379,-1.3142614432062012,-0.6019810740761499,-0.7398390708008258,-1.9792167880440694,0.9855956275960852,1.4477935829011255,-0.4301483492582045,1.7644819321153604,-0.25695534161124267,1.1909349837698766,0.872362949410945,1.832257989667077,-0.8025470479510924,0.46021645650879456,-0.14318959801362832,-0.8556229610450181,-1.3501340259705716,-0.7296816940951176,1.2758271068986329,-0.5141029898148345,0.17006975609686314,0.6222875341376517,-0.04140218889555548,-0.9691873818702071,0.9976177146155699,-1.4103282599503064,-0.1486620261027917,-1.1715152337379773,0.14554756457952964,-0.7553310046446255,0.06603159298383995,0.4924127164414456,0.03175277330060168,0.21753462173966653,0.8743071806095163,2.3058517403156187,1.5515608391802713,-0.7972159046015269,-0.499436164297288,-0.9441469783699104,2.546512095592558,0.23223307761152515,-0.5298093345406708,0.12149402735716536,-0.38491023443504546,-0.750262225032363,-0.45640839544619716,-0.5259937757112418,-1.4772523816311194,-0.5932331674407063,-0.3879174298983722,0.7899007936721997,0.32335274403848085,0.7885005181279469,2.2434732307405834,0.7235521075755361,0.2527889251678213,-0.019007569973219403,-0.34415568827748244,-0.15941757602514936,-0.5415015757098923,0.28455927292361183,-0.7240936402643037],\"yaxis\":\"y10\",\"type\":\"scatter\"},{\"histfunc\":\"count\",\"histnorm\":\"\",\"marker\":{\"color\":\"rgba(50, 171, 96, 1.0)\",\"line\":{\"color\":\"#4D5663\",\"width\":1.3}},\"name\":\"C\",\"nbinsx\":10,\"opacity\":0.8,\"orientation\":\"v\",\"x\":[1.258367277130209,0.6250397795659117,-1.4949838602904135,-1.3397922820844121,0.9727879158186832,-0.4554213022489134,-0.42080481600229896,-1.4853056419661856,0.35014602970076164,-2.0875819598764154,1.9679497263424548,-0.2165470821065552,0.048313146154102024,-0.14348925798393644,-0.4831198203892947,0.7696246027372764,0.22303953790248174,-0.2836208113564564,0.06450005435836742,1.470099013136937,0.3989041891142819,-0.6812805165644358,0.2384043544619515,2.628992741503464,0.023217384164083695,1.2120927227206528,-0.7757413256402388,0.19635120517340784,-2.317188785184941,0.053768279270851906,1.288283754305875,0.42377926702237273,-0.5365014437573917,0.042972317087237304,-0.13493305230632946,-2.614756421734982,-0.5574380974609379,-1.3142614432062012,-0.6019810740761499,-0.7398390708008258,-1.9792167880440694,0.9855956275960852,1.4477935829011255,-0.4301483492582045,1.7644819321153604,-0.25695534161124267,1.1909349837698766,0.872362949410945,1.832257989667077,-0.8025470479510924,0.46021645650879456,-0.14318959801362832,-0.8556229610450181,-1.3501340259705716,-0.7296816940951176,1.2758271068986329,-0.5141029898148345,0.17006975609686314,0.6222875341376517,-0.04140218889555548,-0.9691873818702071,0.9976177146155699,-1.4103282599503064,-0.1486620261027917,-1.1715152337379773,0.14554756457952964,-0.7553310046446255,0.06603159298383995,0.4924127164414456,0.03175277330060168,0.21753462173966653,0.8743071806095163,2.3058517403156187,1.5515608391802713,-0.7972159046015269,-0.499436164297288,-0.9441469783699104,2.546512095592558,0.23223307761152515,-0.5298093345406708,0.12149402735716536,-0.38491023443504546,-0.750262225032363,-0.45640839544619716,-0.5259937757112418,-1.4772523816311194,-0.5932331674407063,-0.3879174298983722,0.7899007936721997,0.32335274403848085,0.7885005181279469,2.2434732307405834,0.7235521075755361,0.2527889251678213,-0.019007569973219403,-0.34415568827748244,-0.15941757602514936,-0.5415015757098923,0.28455927292361183,-0.7240936402643037],\"xaxis\":\"x11\",\"yaxis\":\"y11\",\"type\":\"histogram\"},{\"line\":{\"color\":\"rgba(128, 128, 128, 1.0)\",\"dash\":\"solid\",\"shape\":\"linear\",\"width\":1.3},\"marker\":{\"size\":2,\"symbol\":\"circle\"},\"mode\":\"markers\",\"name\":\"C\",\"text\":\"\",\"x\":[0.3341668193955641,1.2346802398675587,-1.0002760877046792,-0.2787912566595758,0.010827301505861494,0.22799231708424078,-0.990501276257658,-0.752731522042225,0.5236130963855112,1.0275718125055953,0.8298946566053327,2.6844143369151356,1.6717798169748932,-1.081249723803137,0.9493770889517787,-0.5085101668286357,-0.26673231749828874,-0.8013869062575656,-0.7053198840310353,1.9188100067967713,1.4639158670641665,1.092906626404955,-0.49668243610573193,-0.5167234565532182,-0.08812919307166601,0.12192849513220796,0.4904923084918218,0.7311734555217336,-0.6690603581302017,2.4228558916794083,0.9750020252491011,-1.5154082771115112,0.6783664811253927,-0.6120402487612214,0.6209581099540071,1.1649184750535193,0.19375768977482102,0.7169971772718559,-0.11197463830869983,1.2257173821940857,0.8635300892296991,-2.2523746153879727,-0.22875254690231805,-0.74309287291503,0.020218822992205846,1.8583732221069171,-0.13900140504026426,-1.0383503893718338,-0.40925152332858206,-0.8518160257655871,-0.032616269743148484,-0.42271446760062636,1.1062096140267768,0.2809399600556132,0.05805140849617546,-0.9511009210338658,-0.5050697264089341,0.5825950306281149,1.9085819881972002,1.7422324673412783,-0.21374350904019213,0.5652825202130883,0.2054461559026082,0.41858489452371095,2.28021738613473,-0.17857004584255118,0.2001122106046136,-0.09054524788882383,0.2367883681788306,-1.8972603182189944,1.0007299479797491,-0.6705799683158304,0.3160740100806071,-0.5745992932121634,0.172927714063369,0.11707489213050855,0.8104401076244758,-0.5504553257425672,-0.3366861629048067,0.07936900812497623,0.4069868172393904,-1.2299867230125026,0.1567323196069663,0.4741532690489794,-0.34057527686698874,-0.5259374474667857,0.24546743786126834,0.03794835441857078,0.9462026071983898,1.0755349646288088,-1.5587482216839013,1.0940588169511027,-0.20586946100185324,-0.9087002207941971,0.8860882977651031,-1.7447423028152123,1.467690104133777,-0.01237543558596083,0.3540159707418616,0.5798846899921254],\"xaxis\":\"x12\",\"y\":[1.258367277130209,0.6250397795659117,-1.4949838602904135,-1.3397922820844121,0.9727879158186832,-0.4554213022489134,-0.42080481600229896,-1.4853056419661856,0.35014602970076164,-2.0875819598764154,1.9679497263424548,-0.2165470821065552,0.048313146154102024,-0.14348925798393644,-0.4831198203892947,0.7696246027372764,0.22303953790248174,-0.2836208113564564,0.06450005435836742,1.470099013136937,0.3989041891142819,-0.6812805165644358,0.2384043544619515,2.628992741503464,0.023217384164083695,1.2120927227206528,-0.7757413256402388,0.19635120517340784,-2.317188785184941,0.053768279270851906,1.288283754305875,0.42377926702237273,-0.5365014437573917,0.042972317087237304,-0.13493305230632946,-2.614756421734982,-0.5574380974609379,-1.3142614432062012,-0.6019810740761499,-0.7398390708008258,-1.9792167880440694,0.9855956275960852,1.4477935829011255,-0.4301483492582045,1.7644819321153604,-0.25695534161124267,1.1909349837698766,0.872362949410945,1.832257989667077,-0.8025470479510924,0.46021645650879456,-0.14318959801362832,-0.8556229610450181,-1.3501340259705716,-0.7296816940951176,1.2758271068986329,-0.5141029898148345,0.17006975609686314,0.6222875341376517,-0.04140218889555548,-0.9691873818702071,0.9976177146155699,-1.4103282599503064,-0.1486620261027917,-1.1715152337379773,0.14554756457952964,-0.7553310046446255,0.06603159298383995,0.4924127164414456,0.03175277330060168,0.21753462173966653,0.8743071806095163,2.3058517403156187,1.5515608391802713,-0.7972159046015269,-0.499436164297288,-0.9441469783699104,2.546512095592558,0.23223307761152515,-0.5298093345406708,0.12149402735716536,-0.38491023443504546,-0.750262225032363,-0.45640839544619716,-0.5259937757112418,-1.4772523816311194,-0.5932331674407063,-0.3879174298983722,0.7899007936721997,0.32335274403848085,0.7885005181279469,2.2434732307405834,0.7235521075755361,0.2527889251678213,-0.019007569973219403,-0.34415568827748244,-0.15941757602514936,-0.5415015757098923,0.28455927292361183,-0.7240936402643037],\"yaxis\":\"y12\",\"type\":\"scatter\"},{\"line\":{\"color\":\"rgba(128, 128, 128, 1.0)\",\"dash\":\"solid\",\"shape\":\"linear\",\"width\":1.3},\"marker\":{\"size\":2,\"symbol\":\"circle\"},\"mode\":\"markers\",\"name\":\"D\",\"text\":\"\",\"x\":[0.46044745595994646,-0.6327809816156542,0.19554865241212666,-0.8166676322767404,-3.0480808845906178,-0.3323764051335626,-0.2148018805663531,1.232919450428307,0.6990755453765485,-0.07222450852302355,0.9399928794576881,-1.6463845664115169,0.03866486247030078,1.3364309820906208,-0.41773911095129385,-1.3024561407978907,-1.7286428623651386,0.3041091737654156,-0.21841640624264147,-1.7782872619905046,-0.40755357437244555,1.4958510483328458,0.8691336955209565,-0.18954864268340946,1.4519376760235432,2.0070003818130537,-1.2343080333782328,-0.10472198473220974,-0.7075791627199393,-1.1250934794890421,-0.13122135545318075,-0.13325973630464638,-0.5219214423795748,-0.9399178338858662,-1.09293858338073,0.49421085222862693,0.8587307775944033,-0.008637916423998566,-2.3821054800247006,-0.33844292997234127,-1.3309454621475598,-0.6635753199127982,-0.4976940119383044,-0.19188337325859992,0.20403415342732897,0.6259349350540958,0.6806382450638427,-0.8334799949518075,0.13330741871923463,-0.8861367944020956,0.2522280347219456,1.74673112983397,0.0454195700224562,0.42431725838635165,0.46313945287402886,-0.036393397401551376,1.3996176623363892,-0.13451776843046795,-0.4429820748677036,-0.12519287551839783,0.1575345124703861,-1.1105079278597803,-0.7058793221245989,-0.5012182934909218,-1.237071738798001,-1.0374989938657437,0.9155202837847133,-1.9428455687837543,-1.300046598231422,-0.5788116808049193,2.164153910466163,2.024587158637168,-1.007376053165701,-1.4239537916994478,-0.027442271397530714,1.226059571563095,-0.37859063265946036,0.4739827862947617,-0.29817015052032186,-0.022420299523822088,0.8820268232137013,-0.5971793574885587,-0.5817035390746108,2.5423745595273224,-1.2240180609353126,1.8389577502955554,0.3789039734403663,-0.48703539030345416,-0.16303158180059313,-0.10186237655352284,-0.2557481695898708,0.32933712978369617,0.5308260194258264,0.1945955717812178,-1.3784653517201384,-0.3744721210833509,-0.16685921033310522,0.28178221826104694,1.3029837125498993,0.5655780866709391],\"xaxis\":\"x13\",\"y\":[0.3341668193955641,1.2346802398675587,-1.0002760877046792,-0.2787912566595758,0.010827301505861494,0.22799231708424078,-0.990501276257658,-0.752731522042225,0.5236130963855112,1.0275718125055953,0.8298946566053327,2.6844143369151356,1.6717798169748932,-1.081249723803137,0.9493770889517787,-0.5085101668286357,-0.26673231749828874,-0.8013869062575656,-0.7053198840310353,1.9188100067967713,1.4639158670641665,1.092906626404955,-0.49668243610573193,-0.5167234565532182,-0.08812919307166601,0.12192849513220796,0.4904923084918218,0.7311734555217336,-0.6690603581302017,2.4228558916794083,0.9750020252491011,-1.5154082771115112,0.6783664811253927,-0.6120402487612214,0.6209581099540071,1.1649184750535193,0.19375768977482102,0.7169971772718559,-0.11197463830869983,1.2257173821940857,0.8635300892296991,-2.2523746153879727,-0.22875254690231805,-0.74309287291503,0.020218822992205846,1.8583732221069171,-0.13900140504026426,-1.0383503893718338,-0.40925152332858206,-0.8518160257655871,-0.032616269743148484,-0.42271446760062636,1.1062096140267768,0.2809399600556132,0.05805140849617546,-0.9511009210338658,-0.5050697264089341,0.5825950306281149,1.9085819881972002,1.7422324673412783,-0.21374350904019213,0.5652825202130883,0.2054461559026082,0.41858489452371095,2.28021738613473,-0.17857004584255118,0.2001122106046136,-0.09054524788882383,0.2367883681788306,-1.8972603182189944,1.0007299479797491,-0.6705799683158304,0.3160740100806071,-0.5745992932121634,0.172927714063369,0.11707489213050855,0.8104401076244758,-0.5504553257425672,-0.3366861629048067,0.07936900812497623,0.4069868172393904,-1.2299867230125026,0.1567323196069663,0.4741532690489794,-0.34057527686698874,-0.5259374474667857,0.24546743786126834,0.03794835441857078,0.9462026071983898,1.0755349646288088,-1.5587482216839013,1.0940588169511027,-0.20586946100185324,-0.9087002207941971,0.8860882977651031,-1.7447423028152123,1.467690104133777,-0.01237543558596083,0.3540159707418616,0.5798846899921254],\"yaxis\":\"y13\",\"type\":\"scatter\"},{\"line\":{\"color\":\"rgba(128, 128, 128, 1.0)\",\"dash\":\"solid\",\"shape\":\"linear\",\"width\":1.3},\"marker\":{\"size\":2,\"symbol\":\"circle\"},\"mode\":\"markers\",\"name\":\"D\",\"text\":\"\",\"x\":[-2.0569014999715436,1.615413548570715,-0.4997096328929657,0.11044613459696011,2.14511071229813,0.12415558426069487,-0.18144855534171273,1.414504104188126,-1.0304690519553825,-0.11964407338170355,-1.872637047828862,0.3620192874855286,0.4024843260421167,-0.5086118655061668,-0.6241445406565573,1.360501842674482,-0.5383761007222295,0.11972608663364732,0.17908323460823522,0.18020973968654264,-1.3040735484199573,0.9035679353745257,0.5694677836183335,0.7789742531088888,-0.9761704827403509,0.2577788988640685,-0.9595820700521839,0.8913477599711915,-0.314622458164726,-0.42070577358846917,0.3003621489513765,-0.28361482796139226,0.20557205327331282,1.265296414392654,0.797172596483356,0.2406258030989973,1.4904085926260502,0.48821431095903245,0.14285530769432864,0.15707426612148362,-1.5170250115610526,0.7232292624556415,0.017602377806937356,0.3392998205962441,-1.981993932273325,-0.7311875792507156,1.0339581426574087,-0.8983981916176419,-0.21142894289193542,0.9860753694884673,1.6760993673766653,0.40445436681779856,0.228241752395754,0.21885947037232967,-0.2957949714078914,0.8029039858086703,-0.1258575515219575,-0.28462531300795485,-0.40711122540301453,1.1255480396449078,-0.04465283832238067,2.4606701071930766,1.2471229619009705,0.9684030255368693,-0.4967278612777565,1.1191519124145068,1.5393166944970227,0.3879656896286978,-0.23528168158661425,1.0570141419777914,-1.4192686252266147,-0.40495888179058614,-0.8053476811731931,-0.5956182729671423,0.15126692096238561,1.479938082547736,-0.07860579543133894,0.2884171368354939,-1.042282395744949,1.319871462771553,0.7666438421160171,-1.2599103779414045,-1.598279835414223,-0.761714368148162,-0.4197439992098943,0.8330065367647513,-0.3447653731659813,-1.6405242860622138,-0.24583445748044494,0.06867470537503659,-0.24309546675279925,-0.035768828097635506,-2.108777478604998,-0.17135169344361806,-0.3440568930717429,-0.4288781273324487,0.3615263101485928,0.215362306583839,-1.0880421818281014,-0.7441306187110783],\"xaxis\":\"x14\",\"y\":[0.3341668193955641,1.2346802398675587,-1.0002760877046792,-0.2787912566595758,0.010827301505861494,0.22799231708424078,-0.990501276257658,-0.752731522042225,0.5236130963855112,1.0275718125055953,0.8298946566053327,2.6844143369151356,1.6717798169748932,-1.081249723803137,0.9493770889517787,-0.5085101668286357,-0.26673231749828874,-0.8013869062575656,-0.7053198840310353,1.9188100067967713,1.4639158670641665,1.092906626404955,-0.49668243610573193,-0.5167234565532182,-0.08812919307166601,0.12192849513220796,0.4904923084918218,0.7311734555217336,-0.6690603581302017,2.4228558916794083,0.9750020252491011,-1.5154082771115112,0.6783664811253927,-0.6120402487612214,0.6209581099540071,1.1649184750535193,0.19375768977482102,0.7169971772718559,-0.11197463830869983,1.2257173821940857,0.8635300892296991,-2.2523746153879727,-0.22875254690231805,-0.74309287291503,0.020218822992205846,1.8583732221069171,-0.13900140504026426,-1.0383503893718338,-0.40925152332858206,-0.8518160257655871,-0.032616269743148484,-0.42271446760062636,1.1062096140267768,0.2809399600556132,0.05805140849617546,-0.9511009210338658,-0.5050697264089341,0.5825950306281149,1.9085819881972002,1.7422324673412783,-0.21374350904019213,0.5652825202130883,0.2054461559026082,0.41858489452371095,2.28021738613473,-0.17857004584255118,0.2001122106046136,-0.09054524788882383,0.2367883681788306,-1.8972603182189944,1.0007299479797491,-0.6705799683158304,0.3160740100806071,-0.5745992932121634,0.172927714063369,0.11707489213050855,0.8104401076244758,-0.5504553257425672,-0.3366861629048067,0.07936900812497623,0.4069868172393904,-1.2299867230125026,0.1567323196069663,0.4741532690489794,-0.34057527686698874,-0.5259374474667857,0.24546743786126834,0.03794835441857078,0.9462026071983898,1.0755349646288088,-1.5587482216839013,1.0940588169511027,-0.20586946100185324,-0.9087002207941971,0.8860882977651031,-1.7447423028152123,1.467690104133777,-0.01237543558596083,0.3540159707418616,0.5798846899921254],\"yaxis\":\"y14\",\"type\":\"scatter\"},{\"line\":{\"color\":\"rgba(128, 128, 128, 1.0)\",\"dash\":\"solid\",\"shape\":\"linear\",\"width\":1.3},\"marker\":{\"size\":2,\"symbol\":\"circle\"},\"mode\":\"markers\",\"name\":\"D\",\"text\":\"\",\"x\":[1.258367277130209,0.6250397795659117,-1.4949838602904135,-1.3397922820844121,0.9727879158186832,-0.4554213022489134,-0.42080481600229896,-1.4853056419661856,0.35014602970076164,-2.0875819598764154,1.9679497263424548,-0.2165470821065552,0.048313146154102024,-0.14348925798393644,-0.4831198203892947,0.7696246027372764,0.22303953790248174,-0.2836208113564564,0.06450005435836742,1.470099013136937,0.3989041891142819,-0.6812805165644358,0.2384043544619515,2.628992741503464,0.023217384164083695,1.2120927227206528,-0.7757413256402388,0.19635120517340784,-2.317188785184941,0.053768279270851906,1.288283754305875,0.42377926702237273,-0.5365014437573917,0.042972317087237304,-0.13493305230632946,-2.614756421734982,-0.5574380974609379,-1.3142614432062012,-0.6019810740761499,-0.7398390708008258,-1.9792167880440694,0.9855956275960852,1.4477935829011255,-0.4301483492582045,1.7644819321153604,-0.25695534161124267,1.1909349837698766,0.872362949410945,1.832257989667077,-0.8025470479510924,0.46021645650879456,-0.14318959801362832,-0.8556229610450181,-1.3501340259705716,-0.7296816940951176,1.2758271068986329,-0.5141029898148345,0.17006975609686314,0.6222875341376517,-0.04140218889555548,-0.9691873818702071,0.9976177146155699,-1.4103282599503064,-0.1486620261027917,-1.1715152337379773,0.14554756457952964,-0.7553310046446255,0.06603159298383995,0.4924127164414456,0.03175277330060168,0.21753462173966653,0.8743071806095163,2.3058517403156187,1.5515608391802713,-0.7972159046015269,-0.499436164297288,-0.9441469783699104,2.546512095592558,0.23223307761152515,-0.5298093345406708,0.12149402735716536,-0.38491023443504546,-0.750262225032363,-0.45640839544619716,-0.5259937757112418,-1.4772523816311194,-0.5932331674407063,-0.3879174298983722,0.7899007936721997,0.32335274403848085,0.7885005181279469,2.2434732307405834,0.7235521075755361,0.2527889251678213,-0.019007569973219403,-0.34415568827748244,-0.15941757602514936,-0.5415015757098923,0.28455927292361183,-0.7240936402643037],\"xaxis\":\"x15\",\"y\":[0.3341668193955641,1.2346802398675587,-1.0002760877046792,-0.2787912566595758,0.010827301505861494,0.22799231708424078,-0.990501276257658,-0.752731522042225,0.5236130963855112,1.0275718125055953,0.8298946566053327,2.6844143369151356,1.6717798169748932,-1.081249723803137,0.9493770889517787,-0.5085101668286357,-0.26673231749828874,-0.8013869062575656,-0.7053198840310353,1.9188100067967713,1.4639158670641665,1.092906626404955,-0.49668243610573193,-0.5167234565532182,-0.08812919307166601,0.12192849513220796,0.4904923084918218,0.7311734555217336,-0.6690603581302017,2.4228558916794083,0.9750020252491011,-1.5154082771115112,0.6783664811253927,-0.6120402487612214,0.6209581099540071,1.1649184750535193,0.19375768977482102,0.7169971772718559,-0.11197463830869983,1.2257173821940857,0.8635300892296991,-2.2523746153879727,-0.22875254690231805,-0.74309287291503,0.020218822992205846,1.8583732221069171,-0.13900140504026426,-1.0383503893718338,-0.40925152332858206,-0.8518160257655871,-0.032616269743148484,-0.42271446760062636,1.1062096140267768,0.2809399600556132,0.05805140849617546,-0.9511009210338658,-0.5050697264089341,0.5825950306281149,1.9085819881972002,1.7422324673412783,-0.21374350904019213,0.5652825202130883,0.2054461559026082,0.41858489452371095,2.28021738613473,-0.17857004584255118,0.2001122106046136,-0.09054524788882383,0.2367883681788306,-1.8972603182189944,1.0007299479797491,-0.6705799683158304,0.3160740100806071,-0.5745992932121634,0.172927714063369,0.11707489213050855,0.8104401076244758,-0.5504553257425672,-0.3366861629048067,0.07936900812497623,0.4069868172393904,-1.2299867230125026,0.1567323196069663,0.4741532690489794,-0.34057527686698874,-0.5259374474667857,0.24546743786126834,0.03794835441857078,0.9462026071983898,1.0755349646288088,-1.5587482216839013,1.0940588169511027,-0.20586946100185324,-0.9087002207941971,0.8860882977651031,-1.7447423028152123,1.467690104133777,-0.01237543558596083,0.3540159707418616,0.5798846899921254],\"yaxis\":\"y15\",\"type\":\"scatter\"},{\"histfunc\":\"count\",\"histnorm\":\"\",\"marker\":{\"color\":\"rgba(128, 0, 128, 1.0)\",\"line\":{\"color\":\"#4D5663\",\"width\":1.3}},\"name\":\"D\",\"nbinsx\":10,\"opacity\":0.8,\"orientation\":\"v\",\"x\":[0.3341668193955641,1.2346802398675587,-1.0002760877046792,-0.2787912566595758,0.010827301505861494,0.22799231708424078,-0.990501276257658,-0.752731522042225,0.5236130963855112,1.0275718125055953,0.8298946566053327,2.6844143369151356,1.6717798169748932,-1.081249723803137,0.9493770889517787,-0.5085101668286357,-0.26673231749828874,-0.8013869062575656,-0.7053198840310353,1.9188100067967713,1.4639158670641665,1.092906626404955,-0.49668243610573193,-0.5167234565532182,-0.08812919307166601,0.12192849513220796,0.4904923084918218,0.7311734555217336,-0.6690603581302017,2.4228558916794083,0.9750020252491011,-1.5154082771115112,0.6783664811253927,-0.6120402487612214,0.6209581099540071,1.1649184750535193,0.19375768977482102,0.7169971772718559,-0.11197463830869983,1.2257173821940857,0.8635300892296991,-2.2523746153879727,-0.22875254690231805,-0.74309287291503,0.020218822992205846,1.8583732221069171,-0.13900140504026426,-1.0383503893718338,-0.40925152332858206,-0.8518160257655871,-0.032616269743148484,-0.42271446760062636,1.1062096140267768,0.2809399600556132,0.05805140849617546,-0.9511009210338658,-0.5050697264089341,0.5825950306281149,1.9085819881972002,1.7422324673412783,-0.21374350904019213,0.5652825202130883,0.2054461559026082,0.41858489452371095,2.28021738613473,-0.17857004584255118,0.2001122106046136,-0.09054524788882383,0.2367883681788306,-1.8972603182189944,1.0007299479797491,-0.6705799683158304,0.3160740100806071,-0.5745992932121634,0.172927714063369,0.11707489213050855,0.8104401076244758,-0.5504553257425672,-0.3366861629048067,0.07936900812497623,0.4069868172393904,-1.2299867230125026,0.1567323196069663,0.4741532690489794,-0.34057527686698874,-0.5259374474667857,0.24546743786126834,0.03794835441857078,0.9462026071983898,1.0755349646288088,-1.5587482216839013,1.0940588169511027,-0.20586946100185324,-0.9087002207941971,0.8860882977651031,-1.7447423028152123,1.467690104133777,-0.01237543558596083,0.3540159707418616,0.5798846899921254],\"xaxis\":\"x16\",\"yaxis\":\"y16\",\"type\":\"histogram\"}],                        {\"bargap\":0.02,\"legend\":{\"bgcolor\":\"#F5F6F9\",\"font\":{\"color\":\"#4D5663\"}},\"paper_bgcolor\":\"#F5F6F9\",\"plot_bgcolor\":\"#F5F6F9\",\"showlegend\":false,\"template\":{\"data\":{\"barpolar\":[{\"marker\":{\"line\":{\"color\":\"#E5ECF6\",\"width\":0.5},\"pattern\":{\"fillmode\":\"overlay\",\"size\":10,\"solidity\":0.2}},\"type\":\"barpolar\"}],\"bar\":[{\"error_x\":{\"color\":\"#2a3f5f\"},\"error_y\":{\"color\":\"#2a3f5f\"},\"marker\":{\"line\":{\"color\":\"#E5ECF6\",\"width\":0.5},\"pattern\":{\"fillmode\":\"overlay\",\"size\":10,\"solidity\":0.2}},\"type\":\"bar\"}],\"carpet\":[{\"aaxis\":{\"endlinecolor\":\"#2a3f5f\",\"gridcolor\":\"white\",\"linecolor\":\"white\",\"minorgridcolor\":\"white\",\"startlinecolor\":\"#2a3f5f\"},\"baxis\":{\"endlinecolor\":\"#2a3f5f\",\"gridcolor\":\"white\",\"linecolor\":\"white\",\"minorgridcolor\":\"white\",\"startlinecolor\":\"#2a3f5f\"},\"type\":\"carpet\"}],\"choropleth\":[{\"colorbar\":{\"outlinewidth\":0,\"ticks\":\"\"},\"type\":\"choropleth\"}],\"contourcarpet\":[{\"colorbar\":{\"outlinewidth\":0,\"ticks\":\"\"},\"type\":\"contourcarpet\"}],\"contour\":[{\"colorbar\":{\"outlinewidth\":0,\"ticks\":\"\"},\"colorscale\":[[0.0,\"#0d0887\"],[0.1111111111111111,\"#46039f\"],[0.2222222222222222,\"#7201a8\"],[0.3333333333333333,\"#9c179e\"],[0.4444444444444444,\"#bd3786\"],[0.5555555555555556,\"#d8576b\"],[0.6666666666666666,\"#ed7953\"],[0.7777777777777778,\"#fb9f3a\"],[0.8888888888888888,\"#fdca26\"],[1.0,\"#f0f921\"]],\"type\":\"contour\"}],\"heatmapgl\":[{\"colorbar\":{\"outlinewidth\":0,\"ticks\":\"\"},\"colorscale\":[[0.0,\"#0d0887\"],[0.1111111111111111,\"#46039f\"],[0.2222222222222222,\"#7201a8\"],[0.3333333333333333,\"#9c179e\"],[0.4444444444444444,\"#bd3786\"],[0.5555555555555556,\"#d8576b\"],[0.6666666666666666,\"#ed7953\"],[0.7777777777777778,\"#fb9f3a\"],[0.8888888888888888,\"#fdca26\"],[1.0,\"#f0f921\"]],\"type\":\"heatmapgl\"}],\"heatmap\":[{\"colorbar\":{\"outlinewidth\":0,\"ticks\":\"\"},\"colorscale\":[[0.0,\"#0d0887\"],[0.1111111111111111,\"#46039f\"],[0.2222222222222222,\"#7201a8\"],[0.3333333333333333,\"#9c179e\"],[0.4444444444444444,\"#bd3786\"],[0.5555555555555556,\"#d8576b\"],[0.6666666666666666,\"#ed7953\"],[0.7777777777777778,\"#fb9f3a\"],[0.8888888888888888,\"#fdca26\"],[1.0,\"#f0f921\"]],\"type\":\"heatmap\"}],\"histogram2dcontour\":[{\"colorbar\":{\"outlinewidth\":0,\"ticks\":\"\"},\"colorscale\":[[0.0,\"#0d0887\"],[0.1111111111111111,\"#46039f\"],[0.2222222222222222,\"#7201a8\"],[0.3333333333333333,\"#9c179e\"],[0.4444444444444444,\"#bd3786\"],[0.5555555555555556,\"#d8576b\"],[0.6666666666666666,\"#ed7953\"],[0.7777777777777778,\"#fb9f3a\"],[0.8888888888888888,\"#fdca26\"],[1.0,\"#f0f921\"]],\"type\":\"histogram2dcontour\"}],\"histogram2d\":[{\"colorbar\":{\"outlinewidth\":0,\"ticks\":\"\"},\"colorscale\":[[0.0,\"#0d0887\"],[0.1111111111111111,\"#46039f\"],[0.2222222222222222,\"#7201a8\"],[0.3333333333333333,\"#9c179e\"],[0.4444444444444444,\"#bd3786\"],[0.5555555555555556,\"#d8576b\"],[0.6666666666666666,\"#ed7953\"],[0.7777777777777778,\"#fb9f3a\"],[0.8888888888888888,\"#fdca26\"],[1.0,\"#f0f921\"]],\"type\":\"histogram2d\"}],\"histogram\":[{\"marker\":{\"pattern\":{\"fillmode\":\"overlay\",\"size\":10,\"solidity\":0.2}},\"type\":\"histogram\"}],\"mesh3d\":[{\"colorbar\":{\"outlinewidth\":0,\"ticks\":\"\"},\"type\":\"mesh3d\"}],\"parcoords\":[{\"line\":{\"colorbar\":{\"outlinewidth\":0,\"ticks\":\"\"}},\"type\":\"parcoords\"}],\"pie\":[{\"automargin\":true,\"type\":\"pie\"}],\"scatter3d\":[{\"line\":{\"colorbar\":{\"outlinewidth\":0,\"ticks\":\"\"}},\"marker\":{\"colorbar\":{\"outlinewidth\":0,\"ticks\":\"\"}},\"type\":\"scatter3d\"}],\"scattercarpet\":[{\"marker\":{\"colorbar\":{\"outlinewidth\":0,\"ticks\":\"\"}},\"type\":\"scattercarpet\"}],\"scattergeo\":[{\"marker\":{\"colorbar\":{\"outlinewidth\":0,\"ticks\":\"\"}},\"type\":\"scattergeo\"}],\"scattergl\":[{\"marker\":{\"colorbar\":{\"outlinewidth\":0,\"ticks\":\"\"}},\"type\":\"scattergl\"}],\"scattermapbox\":[{\"marker\":{\"colorbar\":{\"outlinewidth\":0,\"ticks\":\"\"}},\"type\":\"scattermapbox\"}],\"scatterpolargl\":[{\"marker\":{\"colorbar\":{\"outlinewidth\":0,\"ticks\":\"\"}},\"type\":\"scatterpolargl\"}],\"scatterpolar\":[{\"marker\":{\"colorbar\":{\"outlinewidth\":0,\"ticks\":\"\"}},\"type\":\"scatterpolar\"}],\"scatter\":[{\"fillpattern\":{\"fillmode\":\"overlay\",\"size\":10,\"solidity\":0.2},\"type\":\"scatter\"}],\"scatterternary\":[{\"marker\":{\"colorbar\":{\"outlinewidth\":0,\"ticks\":\"\"}},\"type\":\"scatterternary\"}],\"surface\":[{\"colorbar\":{\"outlinewidth\":0,\"ticks\":\"\"},\"colorscale\":[[0.0,\"#0d0887\"],[0.1111111111111111,\"#46039f\"],[0.2222222222222222,\"#7201a8\"],[0.3333333333333333,\"#9c179e\"],[0.4444444444444444,\"#bd3786\"],[0.5555555555555556,\"#d8576b\"],[0.6666666666666666,\"#ed7953\"],[0.7777777777777778,\"#fb9f3a\"],[0.8888888888888888,\"#fdca26\"],[1.0,\"#f0f921\"]],\"type\":\"surface\"}],\"table\":[{\"cells\":{\"fill\":{\"color\":\"#EBF0F8\"},\"line\":{\"color\":\"white\"}},\"header\":{\"fill\":{\"color\":\"#C8D4E3\"},\"line\":{\"color\":\"white\"}},\"type\":\"table\"}]},\"layout\":{\"annotationdefaults\":{\"arrowcolor\":\"#2a3f5f\",\"arrowhead\":0,\"arrowwidth\":1},\"autotypenumbers\":\"strict\",\"coloraxis\":{\"colorbar\":{\"outlinewidth\":0,\"ticks\":\"\"}},\"colorscale\":{\"diverging\":[[0,\"#8e0152\"],[0.1,\"#c51b7d\"],[0.2,\"#de77ae\"],[0.3,\"#f1b6da\"],[0.4,\"#fde0ef\"],[0.5,\"#f7f7f7\"],[0.6,\"#e6f5d0\"],[0.7,\"#b8e186\"],[0.8,\"#7fbc41\"],[0.9,\"#4d9221\"],[1,\"#276419\"]],\"sequential\":[[0.0,\"#0d0887\"],[0.1111111111111111,\"#46039f\"],[0.2222222222222222,\"#7201a8\"],[0.3333333333333333,\"#9c179e\"],[0.4444444444444444,\"#bd3786\"],[0.5555555555555556,\"#d8576b\"],[0.6666666666666666,\"#ed7953\"],[0.7777777777777778,\"#fb9f3a\"],[0.8888888888888888,\"#fdca26\"],[1.0,\"#f0f921\"]],\"sequentialminus\":[[0.0,\"#0d0887\"],[0.1111111111111111,\"#46039f\"],[0.2222222222222222,\"#7201a8\"],[0.3333333333333333,\"#9c179e\"],[0.4444444444444444,\"#bd3786\"],[0.5555555555555556,\"#d8576b\"],[0.6666666666666666,\"#ed7953\"],[0.7777777777777778,\"#fb9f3a\"],[0.8888888888888888,\"#fdca26\"],[1.0,\"#f0f921\"]]},\"colorway\":[\"#636efa\",\"#EF553B\",\"#00cc96\",\"#ab63fa\",\"#FFA15A\",\"#19d3f3\",\"#FF6692\",\"#B6E880\",\"#FF97FF\",\"#FECB52\"],\"font\":{\"color\":\"#2a3f5f\"},\"geo\":{\"bgcolor\":\"white\",\"lakecolor\":\"white\",\"landcolor\":\"#E5ECF6\",\"showlakes\":true,\"showland\":true,\"subunitcolor\":\"white\"},\"hoverlabel\":{\"align\":\"left\"},\"hovermode\":\"closest\",\"mapbox\":{\"style\":\"light\"},\"paper_bgcolor\":\"white\",\"plot_bgcolor\":\"#E5ECF6\",\"polar\":{\"angularaxis\":{\"gridcolor\":\"white\",\"linecolor\":\"white\",\"ticks\":\"\"},\"bgcolor\":\"#E5ECF6\",\"radialaxis\":{\"gridcolor\":\"white\",\"linecolor\":\"white\",\"ticks\":\"\"}},\"scene\":{\"xaxis\":{\"backgroundcolor\":\"#E5ECF6\",\"gridcolor\":\"white\",\"gridwidth\":2,\"linecolor\":\"white\",\"showbackground\":true,\"ticks\":\"\",\"zerolinecolor\":\"white\"},\"yaxis\":{\"backgroundcolor\":\"#E5ECF6\",\"gridcolor\":\"white\",\"gridwidth\":2,\"linecolor\":\"white\",\"showbackground\":true,\"ticks\":\"\",\"zerolinecolor\":\"white\"},\"zaxis\":{\"backgroundcolor\":\"#E5ECF6\",\"gridcolor\":\"white\",\"gridwidth\":2,\"linecolor\":\"white\",\"showbackground\":true,\"ticks\":\"\",\"zerolinecolor\":\"white\"}},\"shapedefaults\":{\"line\":{\"color\":\"#2a3f5f\"}},\"ternary\":{\"aaxis\":{\"gridcolor\":\"white\",\"linecolor\":\"white\",\"ticks\":\"\"},\"baxis\":{\"gridcolor\":\"white\",\"linecolor\":\"white\",\"ticks\":\"\"},\"bgcolor\":\"#E5ECF6\",\"caxis\":{\"gridcolor\":\"white\",\"linecolor\":\"white\",\"ticks\":\"\"}},\"title\":{\"x\":0.05},\"xaxis\":{\"automargin\":true,\"gridcolor\":\"white\",\"linecolor\":\"white\",\"ticks\":\"\",\"title\":{\"standoff\":15},\"zerolinecolor\":\"white\",\"zerolinewidth\":2},\"yaxis\":{\"automargin\":true,\"gridcolor\":\"white\",\"linecolor\":\"white\",\"ticks\":\"\",\"title\":{\"standoff\":15},\"zerolinecolor\":\"white\",\"zerolinewidth\":2}}},\"title\":{\"font\":{\"color\":\"#4D5663\"}},\"xaxis\":{\"anchor\":\"y\",\"domain\":[0.0,0.2125],\"gridcolor\":\"#E1E5ED\",\"showgrid\":false,\"tickfont\":{\"color\":\"#4D5663\"},\"title\":{\"font\":{\"color\":\"#4D5663\"},\"text\":\"\"},\"zerolinecolor\":\"#E1E5ED\"},\"yaxis\":{\"anchor\":\"x\",\"domain\":[0.8025,1.0],\"gridcolor\":\"#E1E5ED\",\"showgrid\":false,\"tickfont\":{\"color\":\"#4D5663\"},\"title\":{\"font\":{\"color\":\"#4D5663\"},\"text\":\"\"},\"zerolinecolor\":\"#E1E5ED\"},\"xaxis2\":{\"anchor\":\"y2\",\"domain\":[0.2625,0.475],\"gridcolor\":\"#E1E5ED\",\"showgrid\":false,\"tickfont\":{\"color\":\"#4D5663\"},\"title\":{\"font\":{\"color\":\"#4D5663\"},\"text\":\"\"},\"zerolinecolor\":\"#E1E5ED\"},\"yaxis2\":{\"anchor\":\"x2\",\"domain\":[0.8025,1.0],\"gridcolor\":\"#E1E5ED\",\"showgrid\":false,\"tickfont\":{\"color\":\"#4D5663\"},\"title\":{\"font\":{\"color\":\"#4D5663\"},\"text\":\"\"},\"zerolinecolor\":\"#E1E5ED\"},\"xaxis3\":{\"anchor\":\"y3\",\"domain\":[0.525,0.7375],\"gridcolor\":\"#E1E5ED\",\"showgrid\":false,\"tickfont\":{\"color\":\"#4D5663\"},\"title\":{\"font\":{\"color\":\"#4D5663\"},\"text\":\"\"},\"zerolinecolor\":\"#E1E5ED\"},\"yaxis3\":{\"anchor\":\"x3\",\"domain\":[0.8025,1.0],\"gridcolor\":\"#E1E5ED\",\"showgrid\":false,\"tickfont\":{\"color\":\"#4D5663\"},\"title\":{\"font\":{\"color\":\"#4D5663\"},\"text\":\"\"},\"zerolinecolor\":\"#E1E5ED\"},\"xaxis4\":{\"anchor\":\"y4\",\"domain\":[0.7875,1.0],\"gridcolor\":\"#E1E5ED\",\"showgrid\":false,\"tickfont\":{\"color\":\"#4D5663\"},\"title\":{\"font\":{\"color\":\"#4D5663\"},\"text\":\"\"},\"zerolinecolor\":\"#E1E5ED\"},\"yaxis4\":{\"anchor\":\"x4\",\"domain\":[0.8025,1.0],\"gridcolor\":\"#E1E5ED\",\"showgrid\":false,\"tickfont\":{\"color\":\"#4D5663\"},\"title\":{\"font\":{\"color\":\"#4D5663\"},\"text\":\"\"},\"zerolinecolor\":\"#E1E5ED\"},\"xaxis5\":{\"anchor\":\"y5\",\"domain\":[0.0,0.2125],\"gridcolor\":\"#E1E5ED\",\"showgrid\":false,\"tickfont\":{\"color\":\"#4D5663\"},\"title\":{\"font\":{\"color\":\"#4D5663\"},\"text\":\"\"},\"zerolinecolor\":\"#E1E5ED\"},\"yaxis5\":{\"anchor\":\"x5\",\"domain\":[0.535,0.7325],\"gridcolor\":\"#E1E5ED\",\"showgrid\":false,\"tickfont\":{\"color\":\"#4D5663\"},\"title\":{\"font\":{\"color\":\"#4D5663\"},\"text\":\"\"},\"zerolinecolor\":\"#E1E5ED\"},\"xaxis6\":{\"anchor\":\"y6\",\"domain\":[0.2625,0.475],\"gridcolor\":\"#E1E5ED\",\"showgrid\":false,\"tickfont\":{\"color\":\"#4D5663\"},\"title\":{\"font\":{\"color\":\"#4D5663\"},\"text\":\"\"},\"zerolinecolor\":\"#E1E5ED\"},\"yaxis6\":{\"anchor\":\"x6\",\"domain\":[0.535,0.7325],\"gridcolor\":\"#E1E5ED\",\"showgrid\":false,\"tickfont\":{\"color\":\"#4D5663\"},\"title\":{\"font\":{\"color\":\"#4D5663\"},\"text\":\"\"},\"zerolinecolor\":\"#E1E5ED\"},\"xaxis7\":{\"anchor\":\"y7\",\"domain\":[0.525,0.7375],\"gridcolor\":\"#E1E5ED\",\"showgrid\":false,\"tickfont\":{\"color\":\"#4D5663\"},\"title\":{\"font\":{\"color\":\"#4D5663\"},\"text\":\"\"},\"zerolinecolor\":\"#E1E5ED\"},\"yaxis7\":{\"anchor\":\"x7\",\"domain\":[0.535,0.7325],\"gridcolor\":\"#E1E5ED\",\"showgrid\":false,\"tickfont\":{\"color\":\"#4D5663\"},\"title\":{\"font\":{\"color\":\"#4D5663\"},\"text\":\"\"},\"zerolinecolor\":\"#E1E5ED\"},\"xaxis8\":{\"anchor\":\"y8\",\"domain\":[0.7875,1.0],\"gridcolor\":\"#E1E5ED\",\"showgrid\":false,\"tickfont\":{\"color\":\"#4D5663\"},\"title\":{\"font\":{\"color\":\"#4D5663\"},\"text\":\"\"},\"zerolinecolor\":\"#E1E5ED\"},\"yaxis8\":{\"anchor\":\"x8\",\"domain\":[0.535,0.7325],\"gridcolor\":\"#E1E5ED\",\"showgrid\":false,\"tickfont\":{\"color\":\"#4D5663\"},\"title\":{\"font\":{\"color\":\"#4D5663\"},\"text\":\"\"},\"zerolinecolor\":\"#E1E5ED\"},\"xaxis9\":{\"anchor\":\"y9\",\"domain\":[0.0,0.2125],\"gridcolor\":\"#E1E5ED\",\"showgrid\":false,\"tickfont\":{\"color\":\"#4D5663\"},\"title\":{\"font\":{\"color\":\"#4D5663\"},\"text\":\"\"},\"zerolinecolor\":\"#E1E5ED\"},\"yaxis9\":{\"anchor\":\"x9\",\"domain\":[0.2675,0.465],\"gridcolor\":\"#E1E5ED\",\"showgrid\":false,\"tickfont\":{\"color\":\"#4D5663\"},\"title\":{\"font\":{\"color\":\"#4D5663\"},\"text\":\"\"},\"zerolinecolor\":\"#E1E5ED\"},\"xaxis10\":{\"anchor\":\"y10\",\"domain\":[0.2625,0.475],\"gridcolor\":\"#E1E5ED\",\"showgrid\":false,\"tickfont\":{\"color\":\"#4D5663\"},\"title\":{\"font\":{\"color\":\"#4D5663\"},\"text\":\"\"},\"zerolinecolor\":\"#E1E5ED\"},\"yaxis10\":{\"anchor\":\"x10\",\"domain\":[0.2675,0.465],\"gridcolor\":\"#E1E5ED\",\"showgrid\":false,\"tickfont\":{\"color\":\"#4D5663\"},\"title\":{\"font\":{\"color\":\"#4D5663\"},\"text\":\"\"},\"zerolinecolor\":\"#E1E5ED\"},\"xaxis11\":{\"anchor\":\"y11\",\"domain\":[0.525,0.7375],\"gridcolor\":\"#E1E5ED\",\"showgrid\":false,\"tickfont\":{\"color\":\"#4D5663\"},\"title\":{\"font\":{\"color\":\"#4D5663\"},\"text\":\"\"},\"zerolinecolor\":\"#E1E5ED\"},\"yaxis11\":{\"anchor\":\"x11\",\"domain\":[0.2675,0.465],\"gridcolor\":\"#E1E5ED\",\"showgrid\":false,\"tickfont\":{\"color\":\"#4D5663\"},\"title\":{\"font\":{\"color\":\"#4D5663\"},\"text\":\"\"},\"zerolinecolor\":\"#E1E5ED\"},\"xaxis12\":{\"anchor\":\"y12\",\"domain\":[0.7875,1.0],\"gridcolor\":\"#E1E5ED\",\"showgrid\":false,\"tickfont\":{\"color\":\"#4D5663\"},\"title\":{\"font\":{\"color\":\"#4D5663\"},\"text\":\"\"},\"zerolinecolor\":\"#E1E5ED\"},\"yaxis12\":{\"anchor\":\"x12\",\"domain\":[0.2675,0.465],\"gridcolor\":\"#E1E5ED\",\"showgrid\":false,\"tickfont\":{\"color\":\"#4D5663\"},\"title\":{\"font\":{\"color\":\"#4D5663\"},\"text\":\"\"},\"zerolinecolor\":\"#E1E5ED\"},\"xaxis13\":{\"anchor\":\"y13\",\"domain\":[0.0,0.2125],\"gridcolor\":\"#E1E5ED\",\"showgrid\":false,\"tickfont\":{\"color\":\"#4D5663\"},\"title\":{\"font\":{\"color\":\"#4D5663\"},\"text\":\"\"},\"zerolinecolor\":\"#E1E5ED\"},\"yaxis13\":{\"anchor\":\"x13\",\"domain\":[0.0,0.1975],\"gridcolor\":\"#E1E5ED\",\"showgrid\":false,\"tickfont\":{\"color\":\"#4D5663\"},\"title\":{\"font\":{\"color\":\"#4D5663\"},\"text\":\"\"},\"zerolinecolor\":\"#E1E5ED\"},\"xaxis14\":{\"anchor\":\"y14\",\"domain\":[0.2625,0.475],\"gridcolor\":\"#E1E5ED\",\"showgrid\":false,\"tickfont\":{\"color\":\"#4D5663\"},\"title\":{\"font\":{\"color\":\"#4D5663\"},\"text\":\"\"},\"zerolinecolor\":\"#E1E5ED\"},\"yaxis14\":{\"anchor\":\"x14\",\"domain\":[0.0,0.1975],\"gridcolor\":\"#E1E5ED\",\"showgrid\":false,\"tickfont\":{\"color\":\"#4D5663\"},\"title\":{\"font\":{\"color\":\"#4D5663\"},\"text\":\"\"},\"zerolinecolor\":\"#E1E5ED\"},\"xaxis15\":{\"anchor\":\"y15\",\"domain\":[0.525,0.7375],\"gridcolor\":\"#E1E5ED\",\"showgrid\":false,\"tickfont\":{\"color\":\"#4D5663\"},\"title\":{\"font\":{\"color\":\"#4D5663\"},\"text\":\"\"},\"zerolinecolor\":\"#E1E5ED\"},\"yaxis15\":{\"anchor\":\"x15\",\"domain\":[0.0,0.1975],\"gridcolor\":\"#E1E5ED\",\"showgrid\":false,\"tickfont\":{\"color\":\"#4D5663\"},\"title\":{\"font\":{\"color\":\"#4D5663\"},\"text\":\"\"},\"zerolinecolor\":\"#E1E5ED\"},\"xaxis16\":{\"anchor\":\"y16\",\"domain\":[0.7875,1.0],\"gridcolor\":\"#E1E5ED\",\"showgrid\":false,\"tickfont\":{\"color\":\"#4D5663\"},\"title\":{\"font\":{\"color\":\"#4D5663\"},\"text\":\"\"},\"zerolinecolor\":\"#E1E5ED\"},\"yaxis16\":{\"anchor\":\"x16\",\"domain\":[0.0,0.1975],\"gridcolor\":\"#E1E5ED\",\"showgrid\":false,\"tickfont\":{\"color\":\"#4D5663\"},\"title\":{\"font\":{\"color\":\"#4D5663\"},\"text\":\"\"},\"zerolinecolor\":\"#E1E5ED\"}},                        {\"showLink\": true, \"linkText\": \"Export to plot.ly\", \"plotlyServerURL\": \"https://plot.ly\", \"responsive\": true}                    ).then(function(){\n",
       "                            \n",
       "var gd = document.getElementById('1f5b8c33-1d60-4ee2-9bc0-e0cfac37c361');\n",
       "var x = new MutationObserver(function (mutations, observer) {{\n",
       "        var display = window.getComputedStyle(gd).display;\n",
       "        if (!display || display === 'none') {{\n",
       "            console.log([gd, 'removed!']);\n",
       "            Plotly.purge(gd);\n",
       "            observer.disconnect();\n",
       "        }}\n",
       "}});\n",
       "\n",
       "// Listen for the removal of the full notebook cells\n",
       "var notebookContainer = gd.closest('#notebook-container');\n",
       "if (notebookContainer) {{\n",
       "    x.observe(notebookContainer, {childList: true});\n",
       "}}\n",
       "\n",
       "// Listen for the clearing of the current output cell\n",
       "var outputEl = gd.closest('.output');\n",
       "if (outputEl) {{\n",
       "    x.observe(outputEl, {childList: true});\n",
       "}}\n",
       "\n",
       "                        })                };                });            </script>        </div>"
      ]
     },
     "metadata": {},
     "output_type": "display_data"
    }
   ],
   "source": [
    "df.scatter_matrix()"
   ]
  },
  {
   "cell_type": "markdown",
   "metadata": {
    "collapsed": true
   },
   "source": [
    "# Great Job!"
   ]
  }
 ],
 "metadata": {
  "kernelspec": {
   "display_name": "Python 3 (ipykernel)",
   "language": "python",
   "name": "python3"
  },
  "language_info": {
   "codemirror_mode": {
    "name": "ipython",
    "version": 3
   },
   "file_extension": ".py",
   "mimetype": "text/x-python",
   "name": "python",
   "nbconvert_exporter": "python",
   "pygments_lexer": "ipython3",
   "version": "3.11.5"
  }
 },
 "nbformat": 4,
 "nbformat_minor": 1
}
